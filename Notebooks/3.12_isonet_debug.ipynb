{
 "cells": [
  {
   "cell_type": "code",
   "execution_count": 1,
   "id": "f88f4d12-787a-40e7-a75b-d256d2c88b03",
   "metadata": {},
   "outputs": [
    {
     "name": "stderr",
     "output_type": "stream",
     "text": [
      "2022-03-26 13:34:45.918277: I tensorflow/stream_executor/platform/default/dso_loader.cc:49] Successfully opened dynamic library libcudart.so.11.0\n"
     ]
    }
   ],
   "source": [
    "import tensorflow as tf"
   ]
  },
  {
   "cell_type": "code",
   "execution_count": 2,
   "id": "25295e16-e9dd-413d-8c3a-172fc079fd33",
   "metadata": {},
   "outputs": [
    {
     "name": "stderr",
     "output_type": "stream",
     "text": [
      "2022-03-26 13:34:51.007527: I tensorflow/compiler/jit/xla_cpu_device.cc:41] Not creating XLA devices, tf_xla_enable_xla_devices not set\n",
      "2022-03-26 13:34:51.010046: I tensorflow/stream_executor/platform/default/dso_loader.cc:49] Successfully opened dynamic library libcuda.so.1\n",
      "2022-03-26 13:34:52.309350: I tensorflow/core/common_runtime/gpu/gpu_device.cc:1720] Found device 0 with properties: \n",
      "pciBusID: 0000:05:00.0 name: NVIDIA GeForce GTX TITAN X computeCapability: 5.2\n",
      "coreClock: 1.076GHz coreCount: 24 deviceMemorySize: 11.93GiB deviceMemoryBandwidth: 313.37GiB/s\n",
      "2022-03-26 13:34:52.310823: I tensorflow/core/common_runtime/gpu/gpu_device.cc:1720] Found device 1 with properties: \n",
      "pciBusID: 0000:09:00.0 name: NVIDIA GeForce GTX TITAN X computeCapability: 5.2\n",
      "coreClock: 1.076GHz coreCount: 24 deviceMemorySize: 11.93GiB deviceMemoryBandwidth: 313.37GiB/s\n",
      "2022-03-26 13:34:52.312283: I tensorflow/core/common_runtime/gpu/gpu_device.cc:1720] Found device 2 with properties: \n",
      "pciBusID: 0000:84:00.0 name: NVIDIA GeForce GTX TITAN X computeCapability: 5.2\n",
      "coreClock: 1.076GHz coreCount: 24 deviceMemorySize: 11.93GiB deviceMemoryBandwidth: 313.37GiB/s\n",
      "2022-03-26 13:34:52.312334: I tensorflow/stream_executor/platform/default/dso_loader.cc:49] Successfully opened dynamic library libcudart.so.11.0\n",
      "2022-03-26 13:34:52.319492: I tensorflow/stream_executor/platform/default/dso_loader.cc:49] Successfully opened dynamic library libcublas.so.11\n",
      "2022-03-26 13:34:52.319565: I tensorflow/stream_executor/platform/default/dso_loader.cc:49] Successfully opened dynamic library libcublasLt.so.11\n",
      "2022-03-26 13:34:52.323116: I tensorflow/stream_executor/platform/default/dso_loader.cc:49] Successfully opened dynamic library libcufft.so.10\n",
      "2022-03-26 13:34:52.324270: I tensorflow/stream_executor/platform/default/dso_loader.cc:49] Successfully opened dynamic library libcurand.so.10\n",
      "2022-03-26 13:34:52.330595: I tensorflow/stream_executor/platform/default/dso_loader.cc:49] Successfully opened dynamic library libcusolver.so.10\n",
      "2022-03-26 13:34:52.332587: I tensorflow/stream_executor/platform/default/dso_loader.cc:49] Successfully opened dynamic library libcusparse.so.11\n",
      "2022-03-26 13:34:52.333460: I tensorflow/stream_executor/platform/default/dso_loader.cc:49] Successfully opened dynamic library libcudnn.so.8\n",
      "2022-03-26 13:34:52.341893: I tensorflow/core/common_runtime/gpu/gpu_device.cc:1862] Adding visible gpu devices: 0, 1, 2\n"
     ]
    },
    {
     "data": {
      "text/plain": [
       "[PhysicalDevice(name='/physical_device:GPU:0', device_type='GPU'),\n",
       " PhysicalDevice(name='/physical_device:GPU:1', device_type='GPU'),\n",
       " PhysicalDevice(name='/physical_device:GPU:2', device_type='GPU')]"
      ]
     },
     "execution_count": 2,
     "metadata": {},
     "output_type": "execute_result"
    }
   ],
   "source": [
    "tf.config.list_physical_devices('GPU')"
   ]
  },
  {
   "cell_type": "code",
   "execution_count": 3,
   "id": "2b0742df-7ff0-49af-9023-15fd067d2ca7",
   "metadata": {},
   "outputs": [
    {
     "name": "stderr",
     "output_type": "stream",
     "text": [
      "2022-03-26 13:34:52.656355: I tensorflow/compiler/jit/xla_gpu_device.cc:99] Not creating XLA devices, tf_xla_enable_xla_devices not set\n",
      "2022-03-26 13:34:52.859018: I tensorflow/core/common_runtime/gpu/gpu_device.cc:1720] Found device 0 with properties: \n",
      "pciBusID: 0000:05:00.0 name: NVIDIA GeForce GTX TITAN X computeCapability: 5.2\n",
      "coreClock: 1.076GHz coreCount: 24 deviceMemorySize: 11.93GiB deviceMemoryBandwidth: 313.37GiB/s\n",
      "2022-03-26 13:34:52.860152: I tensorflow/core/common_runtime/gpu/gpu_device.cc:1720] Found device 1 with properties: \n",
      "pciBusID: 0000:09:00.0 name: NVIDIA GeForce GTX TITAN X computeCapability: 5.2\n",
      "coreClock: 1.076GHz coreCount: 24 deviceMemorySize: 11.93GiB deviceMemoryBandwidth: 313.37GiB/s\n",
      "2022-03-26 13:34:52.861256: I tensorflow/core/common_runtime/gpu/gpu_device.cc:1720] Found device 2 with properties: \n",
      "pciBusID: 0000:84:00.0 name: NVIDIA GeForce GTX TITAN X computeCapability: 5.2\n",
      "coreClock: 1.076GHz coreCount: 24 deviceMemorySize: 11.93GiB deviceMemoryBandwidth: 313.37GiB/s\n",
      "2022-03-26 13:34:52.861301: I tensorflow/stream_executor/platform/default/dso_loader.cc:49] Successfully opened dynamic library libcudart.so.11.0\n",
      "2022-03-26 13:34:52.861336: I tensorflow/stream_executor/platform/default/dso_loader.cc:49] Successfully opened dynamic library libcublas.so.11\n",
      "2022-03-26 13:34:52.861359: I tensorflow/stream_executor/platform/default/dso_loader.cc:49] Successfully opened dynamic library libcublasLt.so.11\n",
      "2022-03-26 13:34:52.861381: I tensorflow/stream_executor/platform/default/dso_loader.cc:49] Successfully opened dynamic library libcufft.so.10\n",
      "2022-03-26 13:34:52.861402: I tensorflow/stream_executor/platform/default/dso_loader.cc:49] Successfully opened dynamic library libcurand.so.10\n",
      "2022-03-26 13:34:52.861424: I tensorflow/stream_executor/platform/default/dso_loader.cc:49] Successfully opened dynamic library libcusolver.so.10\n",
      "2022-03-26 13:34:52.861445: I tensorflow/stream_executor/platform/default/dso_loader.cc:49] Successfully opened dynamic library libcusparse.so.11\n",
      "2022-03-26 13:34:52.861467: I tensorflow/stream_executor/platform/default/dso_loader.cc:49] Successfully opened dynamic library libcudnn.so.8\n",
      "2022-03-26 13:34:52.867928: I tensorflow/core/common_runtime/gpu/gpu_device.cc:1862] Adding visible gpu devices: 0, 1, 2\n",
      "2022-03-26 13:34:52.867977: I tensorflow/stream_executor/platform/default/dso_loader.cc:49] Successfully opened dynamic library libcudart.so.11.0\n",
      "2022-03-26 13:34:54.218713: I tensorflow/core/common_runtime/gpu/gpu_device.cc:1261] Device interconnect StreamExecutor with strength 1 edge matrix:\n",
      "2022-03-26 13:34:54.218766: I tensorflow/core/common_runtime/gpu/gpu_device.cc:1267]      0 1 2 \n",
      "2022-03-26 13:34:54.218776: I tensorflow/core/common_runtime/gpu/gpu_device.cc:1280] 0:   N Y N \n",
      "2022-03-26 13:34:54.218784: I tensorflow/core/common_runtime/gpu/gpu_device.cc:1280] 1:   Y N N \n",
      "2022-03-26 13:34:54.218790: I tensorflow/core/common_runtime/gpu/gpu_device.cc:1280] 2:   N N N \n",
      "2022-03-26 13:34:54.223378: I tensorflow/core/common_runtime/gpu/gpu_device.cc:1406] Created TensorFlow device (/job:localhost/replica:0/task:0/device:GPU:0 with 11279 MB memory) -> physical GPU (device: 0, name: NVIDIA GeForce GTX TITAN X, pci bus id: 0000:05:00.0, compute capability: 5.2)\n",
      "2022-03-26 13:34:54.225473: I tensorflow/core/common_runtime/gpu/gpu_device.cc:1406] Created TensorFlow device (/job:localhost/replica:0/task:0/device:GPU:1 with 11279 MB memory) -> physical GPU (device: 1, name: NVIDIA GeForce GTX TITAN X, pci bus id: 0000:09:00.0, compute capability: 5.2)\n",
      "2022-03-26 13:34:54.227882: I tensorflow/core/common_runtime/gpu/gpu_device.cc:1406] Created TensorFlow device (/job:localhost/replica:0/task:0/device:GPU:2 with 11279 MB memory) -> physical GPU (device: 2, name: NVIDIA GeForce GTX TITAN X, pci bus id: 0000:84:00.0, compute capability: 5.2)\n"
     ]
    }
   ],
   "source": [
    "filepath = '../data/isoNet/results/model_init.h5'\n",
    "\n",
    "model = tf.keras.models.load_model(\n",
    "    filepath, custom_objects=None, compile=True, options=None\n",
    ")"
   ]
  },
  {
   "cell_type": "code",
   "execution_count": 4,
   "id": "493b386d-6029-479b-a9d6-dff6415715e4",
   "metadata": {},
   "outputs": [],
   "source": [
    "from IsoNet.training.train import train_data, train3D_continue"
   ]
  },
  {
   "cell_type": "code",
   "execution_count": 5,
   "id": "94cf8f4c-7eeb-4fd8-9bdb-21cb1d2a5d44",
   "metadata": {},
   "outputs": [
    {
     "data": {
      "text/plain": [
       "'2.4.0'"
      ]
     },
     "execution_count": 5,
     "metadata": {},
     "output_type": "execute_result"
    }
   ],
   "source": [
    "tf.__version__"
   ]
  },
  {
   "cell_type": "code",
   "execution_count": null,
   "id": "3cedd10c-db9b-4335-9a74-2ccae21ba3dc",
   "metadata": {},
   "outputs": [
    {
     "name": "stderr",
     "output_type": "stream",
     "text": [
      "2022-03-26 13:36:06.215395: I tensorflow/compiler/mlir/mlir_graph_optimization_pass.cc:116] None of the MLIR optimization passes are enabled (registered 2)\n",
      "2022-03-26 13:36:06.216310: I tensorflow/core/platform/profile_utils/cpu_utils.cc:112] CPU Frequency: 2394335000 Hz\n"
     ]
    },
    {
     "name": "stdout",
     "output_type": "stream",
     "text": [
      "Epoch 1/40\n"
     ]
    },
    {
     "name": "stderr",
     "output_type": "stream",
     "text": [
      "2022-03-26 13:36:12.042720: I tensorflow/stream_executor/platform/default/dso_loader.cc:49] Successfully opened dynamic library libcudnn.so.8\n",
      "2022-03-26 13:36:13.419998: I tensorflow/stream_executor/platform/default/dso_loader.cc:49] Successfully opened dynamic library libcublas.so.11\n",
      "2022-03-26 13:36:13.688379: I tensorflow/stream_executor/platform/default/dso_loader.cc:49] Successfully opened dynamic library libcublasLt.so.11\n"
     ]
    },
    {
     "name": "stdout",
     "output_type": "stream",
     "text": [
      "12/12 [==============================] - ETA: 0s - loss: 0.1323 - mse: 0.0353 - mae: 0.1323"
     ]
    }
   ],
   "source": [
    "train3D_continue('test',filepath, data_dir = '../data/isoNet/results/data',\n",
    "                 result_folder='../data/isoNet/results/', batch_size=4, n_gpus=1, steps_per_epoch=12)"
   ]
  },
  {
   "cell_type": "code",
   "execution_count": 10,
   "id": "29ef2bab-b63e-4018-b09e-3f2f7962e223",
   "metadata": {},
   "outputs": [
    {
     "name": "stderr",
     "output_type": "stream",
     "text": [
      "2022-03-24 11:39:24.468280: W tensorflow/core/grappler/optimizers/data/auto_shard.cc:776] AUTO sharding policy will apply DATA sharding policy as it failed to apply FILE sharding policy because of the following reason: Did not find a shardable source, walked to a node which is not a dataset: name: \"FlatMapDataset/_2\"\n",
      "op: \"FlatMapDataset\"\n",
      "input: \"TensorDataset/_1\"\n",
      "attr {\n",
      "  key: \"Targuments\"\n",
      "  value {\n",
      "    list {\n",
      "    }\n",
      "  }\n",
      "}\n",
      "attr {\n",
      "  key: \"_cardinality\"\n",
      "  value {\n",
      "    i: -2\n",
      "  }\n",
      "}\n",
      "attr {\n",
      "  key: \"f\"\n",
      "  value {\n",
      "    func {\n",
      "      name: \"__inference_Dataset_flat_map_flat_map_fn_12086\"\n",
      "    }\n",
      "  }\n",
      "}\n",
      "attr {\n",
      "  key: \"metadata\"\n",
      "  value {\n",
      "    s: \"\\n\\020FlatMapDataset:1\"\n",
      "  }\n",
      "}\n",
      "attr {\n",
      "  key: \"output_shapes\"\n",
      "  value {\n",
      "    list {\n",
      "      shape {\n",
      "        unknown_rank: true\n",
      "      }\n",
      "      shape {\n",
      "        unknown_rank: true\n",
      "      }\n",
      "    }\n",
      "  }\n",
      "}\n",
      "attr {\n",
      "  key: \"output_types\"\n",
      "  value {\n",
      "    list {\n",
      "      type: DT_FLOAT\n",
      "      type: DT_FLOAT\n",
      "    }\n",
      "  }\n",
      "}\n",
      "experimental_type {\n",
      "  type_id: TFT_PRODUCT\n",
      "  args {\n",
      "    type_id: TFT_DATASET\n",
      "    args {\n",
      "      type_id: TFT_PRODUCT\n",
      "      args {\n",
      "        type_id: TFT_TENSOR\n",
      "        args {\n",
      "          type_id: TFT_FLOAT\n",
      "        }\n",
      "      }\n",
      "      args {\n",
      "        type_id: TFT_TENSOR\n",
      "        args {\n",
      "          type_id: TFT_FLOAT\n",
      "        }\n",
      "      }\n",
      "    }\n",
      "  }\n",
      "  args {\n",
      "    type_id: TFT_DATASET\n",
      "    args {\n",
      "      type_id: TFT_PRODUCT\n",
      "      args {\n",
      "        type_id: TFT_TENSOR\n",
      "        args {\n",
      "          type_id: TFT_FLOAT\n",
      "        }\n",
      "      }\n",
      "      args {\n",
      "        type_id: TFT_TENSOR\n",
      "        args {\n",
      "          type_id: TFT_FLOAT\n",
      "        }\n",
      "      }\n",
      "    }\n",
      "  }\n",
      "}\n",
      ". Consider either turning off auto-sharding or switching the auto_shard_policy to DATA to shard this dataset. You can do this by creating a new `tf.data.Options()` object then setting `options.experimental_distribute.auto_shard_policy = AutoShardPolicy.DATA` before applying the options object to the dataset via `dataset.with_options(options)`.\n"
     ]
    },
    {
     "name": "stdout",
     "output_type": "stream",
     "text": [
      "Epoch 1/40\n"
     ]
    },
    {
     "name": "stderr",
     "output_type": "stream",
     "text": [
      "2022-03-24 11:40:18.506321: E tensorflow/stream_executor/cuda/cuda_dnn.cc:361] Loaded runtime CuDNN library: 8.0.5 but source was compiled with: 8.1.0.  CuDNN library needs to have matching major version and equal or higher minor version. If using a binary install, upgrade your CuDNN library.  If building from sources, make sure the library loaded at runtime is compatible with the version specified during compile configuration.\n",
      "2022-03-24 11:40:18.547378: W tensorflow/core/framework/op_kernel.cc:1745] OP_REQUIRES failed at conv_ops_3d.cc:507 : UNIMPLEMENTED: DNN library is not found.\n",
      "2022-03-24 11:40:18.721065: E tensorflow/stream_executor/cuda/cuda_dnn.cc:361] Loaded runtime CuDNN library: 8.0.5 but source was compiled with: 8.1.0.  CuDNN library needs to have matching major version and equal or higher minor version. If using a binary install, upgrade your CuDNN library.  If building from sources, make sure the library loaded at runtime is compatible with the version specified during compile configuration.\n",
      "2022-03-24 11:40:18.744480: W tensorflow/core/framework/op_kernel.cc:1745] OP_REQUIRES failed at conv_ops_3d.cc:507 : UNIMPLEMENTED: DNN library is not found.\n",
      "2022-03-24 11:40:19.009572: E tensorflow/stream_executor/cuda/cuda_dnn.cc:361] Loaded runtime CuDNN library: 8.0.5 but source was compiled with: 8.1.0.  CuDNN library needs to have matching major version and equal or higher minor version. If using a binary install, upgrade your CuDNN library.  If building from sources, make sure the library loaded at runtime is compatible with the version specified during compile configuration.\n",
      "2022-03-24 11:40:19.011126: W tensorflow/core/framework/op_kernel.cc:1745] OP_REQUIRES failed at conv_ops_3d.cc:507 : UNIMPLEMENTED: DNN library is not found.\n"
     ]
    },
    {
     "ename": "UnimplementedError",
     "evalue": "Graph execution error:\n\nDetected at node 'replica_1/model/down_level_0_no_0/Conv3D' defined at (most recent call last):\n    File \"/home/haicu/jeronimo.carvajal/miniconda3/envs/isoNet/lib/python3.10/threading.py\", line 966, in _bootstrap\n      self._bootstrap_inner()\n    File \"/home/haicu/jeronimo.carvajal/miniconda3/envs/isoNet/lib/python3.10/threading.py\", line 1009, in _bootstrap_inner\n      self.run()\n    File \"/home/haicu/jeronimo.carvajal/miniconda3/envs/isoNet/lib/python3.10/site-packages/keras/engine/training.py\", line 1000, in run_step\n      outputs = model.train_step(data)\n    File \"/home/haicu/jeronimo.carvajal/miniconda3/envs/isoNet/lib/python3.10/site-packages/keras/engine/training.py\", line 859, in train_step\n      y_pred = self(x, training=True)\n    File \"/home/haicu/jeronimo.carvajal/miniconda3/envs/isoNet/lib/python3.10/site-packages/keras/utils/traceback_utils.py\", line 64, in error_handler\n      return fn(*args, **kwargs)\n    File \"/home/haicu/jeronimo.carvajal/miniconda3/envs/isoNet/lib/python3.10/site-packages/keras/engine/base_layer.py\", line 1096, in __call__\n      outputs = call_fn(inputs, *args, **kwargs)\n    File \"/home/haicu/jeronimo.carvajal/miniconda3/envs/isoNet/lib/python3.10/site-packages/keras/utils/traceback_utils.py\", line 92, in error_handler\n      return fn(*args, **kwargs)\n    File \"/home/haicu/jeronimo.carvajal/miniconda3/envs/isoNet/lib/python3.10/site-packages/keras/engine/functional.py\", line 451, in call\n      return self._run_internal_graph(\n    File \"/home/haicu/jeronimo.carvajal/miniconda3/envs/isoNet/lib/python3.10/site-packages/keras/engine/functional.py\", line 589, in _run_internal_graph\n      outputs = node.layer(*args, **kwargs)\n    File \"/home/haicu/jeronimo.carvajal/miniconda3/envs/isoNet/lib/python3.10/site-packages/keras/utils/traceback_utils.py\", line 64, in error_handler\n      return fn(*args, **kwargs)\n    File \"/home/haicu/jeronimo.carvajal/miniconda3/envs/isoNet/lib/python3.10/site-packages/keras/engine/base_layer.py\", line 1096, in __call__\n      outputs = call_fn(inputs, *args, **kwargs)\n    File \"/home/haicu/jeronimo.carvajal/miniconda3/envs/isoNet/lib/python3.10/site-packages/keras/utils/traceback_utils.py\", line 92, in error_handler\n      return fn(*args, **kwargs)\n    File \"/home/haicu/jeronimo.carvajal/miniconda3/envs/isoNet/lib/python3.10/site-packages/keras/layers/convolutional.py\", line 248, in call\n      outputs = self.convolution_op(inputs, self.kernel)\n    File \"/home/haicu/jeronimo.carvajal/miniconda3/envs/isoNet/lib/python3.10/site-packages/keras/layers/convolutional.py\", line 233, in convolution_op\n      return tf.nn.convolution(\nNode: 'replica_1/model/down_level_0_no_0/Conv3D'\nDetected at node 'replica_1/model/down_level_0_no_0/Conv3D' defined at (most recent call last):\n    File \"/home/haicu/jeronimo.carvajal/miniconda3/envs/isoNet/lib/python3.10/threading.py\", line 966, in _bootstrap\n      self._bootstrap_inner()\n    File \"/home/haicu/jeronimo.carvajal/miniconda3/envs/isoNet/lib/python3.10/threading.py\", line 1009, in _bootstrap_inner\n      self.run()\n    File \"/home/haicu/jeronimo.carvajal/miniconda3/envs/isoNet/lib/python3.10/site-packages/keras/engine/training.py\", line 1000, in run_step\n      outputs = model.train_step(data)\n    File \"/home/haicu/jeronimo.carvajal/miniconda3/envs/isoNet/lib/python3.10/site-packages/keras/engine/training.py\", line 859, in train_step\n      y_pred = self(x, training=True)\n    File \"/home/haicu/jeronimo.carvajal/miniconda3/envs/isoNet/lib/python3.10/site-packages/keras/utils/traceback_utils.py\", line 64, in error_handler\n      return fn(*args, **kwargs)\n    File \"/home/haicu/jeronimo.carvajal/miniconda3/envs/isoNet/lib/python3.10/site-packages/keras/engine/base_layer.py\", line 1096, in __call__\n      outputs = call_fn(inputs, *args, **kwargs)\n    File \"/home/haicu/jeronimo.carvajal/miniconda3/envs/isoNet/lib/python3.10/site-packages/keras/utils/traceback_utils.py\", line 92, in error_handler\n      return fn(*args, **kwargs)\n    File \"/home/haicu/jeronimo.carvajal/miniconda3/envs/isoNet/lib/python3.10/site-packages/keras/engine/functional.py\", line 451, in call\n      return self._run_internal_graph(\n    File \"/home/haicu/jeronimo.carvajal/miniconda3/envs/isoNet/lib/python3.10/site-packages/keras/engine/functional.py\", line 589, in _run_internal_graph\n      outputs = node.layer(*args, **kwargs)\n    File \"/home/haicu/jeronimo.carvajal/miniconda3/envs/isoNet/lib/python3.10/site-packages/keras/utils/traceback_utils.py\", line 64, in error_handler\n      return fn(*args, **kwargs)\n    File \"/home/haicu/jeronimo.carvajal/miniconda3/envs/isoNet/lib/python3.10/site-packages/keras/engine/base_layer.py\", line 1096, in __call__\n      outputs = call_fn(inputs, *args, **kwargs)\n    File \"/home/haicu/jeronimo.carvajal/miniconda3/envs/isoNet/lib/python3.10/site-packages/keras/utils/traceback_utils.py\", line 92, in error_handler\n      return fn(*args, **kwargs)\n    File \"/home/haicu/jeronimo.carvajal/miniconda3/envs/isoNet/lib/python3.10/site-packages/keras/layers/convolutional.py\", line 248, in call\n      outputs = self.convolution_op(inputs, self.kernel)\n    File \"/home/haicu/jeronimo.carvajal/miniconda3/envs/isoNet/lib/python3.10/site-packages/keras/layers/convolutional.py\", line 233, in convolution_op\n      return tf.nn.convolution(\nNode: 'replica_1/model/down_level_0_no_0/Conv3D'\nDetected at node 'replica_1/model/down_level_0_no_0/Conv3D' defined at (most recent call last):\n    File \"/home/haicu/jeronimo.carvajal/miniconda3/envs/isoNet/lib/python3.10/threading.py\", line 966, in _bootstrap\n      self._bootstrap_inner()\n    File \"/home/haicu/jeronimo.carvajal/miniconda3/envs/isoNet/lib/python3.10/threading.py\", line 1009, in _bootstrap_inner\n      self.run()\n    File \"/home/haicu/jeronimo.carvajal/miniconda3/envs/isoNet/lib/python3.10/site-packages/keras/engine/training.py\", line 1000, in run_step\n      outputs = model.train_step(data)\n    File \"/home/haicu/jeronimo.carvajal/miniconda3/envs/isoNet/lib/python3.10/site-packages/keras/engine/training.py\", line 859, in train_step\n      y_pred = self(x, training=True)\n    File \"/home/haicu/jeronimo.carvajal/miniconda3/envs/isoNet/lib/python3.10/site-packages/keras/utils/traceback_utils.py\", line 64, in error_handler\n      return fn(*args, **kwargs)\n    File \"/home/haicu/jeronimo.carvajal/miniconda3/envs/isoNet/lib/python3.10/site-packages/keras/engine/base_layer.py\", line 1096, in __call__\n      outputs = call_fn(inputs, *args, **kwargs)\n    File \"/home/haicu/jeronimo.carvajal/miniconda3/envs/isoNet/lib/python3.10/site-packages/keras/utils/traceback_utils.py\", line 92, in error_handler\n      return fn(*args, **kwargs)\n    File \"/home/haicu/jeronimo.carvajal/miniconda3/envs/isoNet/lib/python3.10/site-packages/keras/engine/functional.py\", line 451, in call\n      return self._run_internal_graph(\n    File \"/home/haicu/jeronimo.carvajal/miniconda3/envs/isoNet/lib/python3.10/site-packages/keras/engine/functional.py\", line 589, in _run_internal_graph\n      outputs = node.layer(*args, **kwargs)\n    File \"/home/haicu/jeronimo.carvajal/miniconda3/envs/isoNet/lib/python3.10/site-packages/keras/utils/traceback_utils.py\", line 64, in error_handler\n      return fn(*args, **kwargs)\n    File \"/home/haicu/jeronimo.carvajal/miniconda3/envs/isoNet/lib/python3.10/site-packages/keras/engine/base_layer.py\", line 1096, in __call__\n      outputs = call_fn(inputs, *args, **kwargs)\n    File \"/home/haicu/jeronimo.carvajal/miniconda3/envs/isoNet/lib/python3.10/site-packages/keras/utils/traceback_utils.py\", line 92, in error_handler\n      return fn(*args, **kwargs)\n    File \"/home/haicu/jeronimo.carvajal/miniconda3/envs/isoNet/lib/python3.10/site-packages/keras/layers/convolutional.py\", line 248, in call\n      outputs = self.convolution_op(inputs, self.kernel)\n    File \"/home/haicu/jeronimo.carvajal/miniconda3/envs/isoNet/lib/python3.10/site-packages/keras/layers/convolutional.py\", line 233, in convolution_op\n      return tf.nn.convolution(\nNode: 'replica_1/model/down_level_0_no_0/Conv3D'\nDetected at node 'replica_1/model/down_level_0_no_0/Conv3D' defined at (most recent call last):\n    File \"/home/haicu/jeronimo.carvajal/miniconda3/envs/isoNet/lib/python3.10/threading.py\", line 966, in _bootstrap\n      self._bootstrap_inner()\n    File \"/home/haicu/jeronimo.carvajal/miniconda3/envs/isoNet/lib/python3.10/threading.py\", line 1009, in _bootstrap_inner\n      self.run()\n    File \"/home/haicu/jeronimo.carvajal/miniconda3/envs/isoNet/lib/python3.10/site-packages/keras/engine/training.py\", line 1000, in run_step\n      outputs = model.train_step(data)\n    File \"/home/haicu/jeronimo.carvajal/miniconda3/envs/isoNet/lib/python3.10/site-packages/keras/engine/training.py\", line 859, in train_step\n      y_pred = self(x, training=True)\n    File \"/home/haicu/jeronimo.carvajal/miniconda3/envs/isoNet/lib/python3.10/site-packages/keras/utils/traceback_utils.py\", line 64, in error_handler\n      return fn(*args, **kwargs)\n    File \"/home/haicu/jeronimo.carvajal/miniconda3/envs/isoNet/lib/python3.10/site-packages/keras/engine/base_layer.py\", line 1096, in __call__\n      outputs = call_fn(inputs, *args, **kwargs)\n    File \"/home/haicu/jeronimo.carvajal/miniconda3/envs/isoNet/lib/python3.10/site-packages/keras/utils/traceback_utils.py\", line 92, in error_handler\n      return fn(*args, **kwargs)\n    File \"/home/haicu/jeronimo.carvajal/miniconda3/envs/isoNet/lib/python3.10/site-packages/keras/engine/functional.py\", line 451, in call\n      return self._run_internal_graph(\n    File \"/home/haicu/jeronimo.carvajal/miniconda3/envs/isoNet/lib/python3.10/site-packages/keras/engine/functional.py\", line 589, in _run_internal_graph\n      outputs = node.layer(*args, **kwargs)\n    File \"/home/haicu/jeronimo.carvajal/miniconda3/envs/isoNet/lib/python3.10/site-packages/keras/utils/traceback_utils.py\", line 64, in error_handler\n      return fn(*args, **kwargs)\n    File \"/home/haicu/jeronimo.carvajal/miniconda3/envs/isoNet/lib/python3.10/site-packages/keras/engine/base_layer.py\", line 1096, in __call__\n      outputs = call_fn(inputs, *args, **kwargs)\n    File \"/home/haicu/jeronimo.carvajal/miniconda3/envs/isoNet/lib/python3.10/site-packages/keras/utils/traceback_utils.py\", line 92, in error_handler\n      return fn(*args, **kwargs)\n    File \"/home/haicu/jeronimo.carvajal/miniconda3/envs/isoNet/lib/python3.10/site-packages/keras/layers/convolutional.py\", line 248, in call\n      outputs = self.convolution_op(inputs, self.kernel)\n    File \"/home/haicu/jeronimo.carvajal/miniconda3/envs/isoNet/lib/python3.10/site-packages/keras/layers/convolutional.py\", line 233, in convolution_op\n      return tf.nn.convolution(\nNode: 'replica_1/model/down_level_0_no_0/Conv3D'\n4 root error(s) found.\n  (0) UNIMPLEMENTED:  DNN library is not found.\n\t [[{{node replica_1/model/down_level_0_no_0/Conv3D}}]]\n\t [[replica_1/cond_1/then/_2133/replica_1/cond_1/cond/then/_5815/replica_1/cond_1/cond/remove_squeezable_dimensions/cond_1/pivot_f/_6468/_505]]\n  (1) UNIMPLEMENTED:  DNN library is not found.\n\t [[{{node replica_1/model/down_level_0_no_0/Conv3D}}]]\n\t [[div_no_nan_1/ReadVariableOp_4/_642]]\n  (2) UNIMPLEMENTED:  DNN library is not found.\n\t [[{{node replica_1/model/down_level_0_no_0/Conv3D}}]]\n\t [[Func/replica_2/cond/then/_2144/replica_2/cond/cond/else/_5842/input/_6258/_576]]\n  (3) UNIMPLEMENTED:  DNN library is not found.\n\t [[{{node replica_1/model/down_level_0_no_0/Conv3D}}]]\n0 successful operations.\n0 derived errors ignored. [Op:__inference_train_function_41022]",
     "output_type": "error",
     "traceback": [
      "\u001b[0;31m---------------------------------------------------------------------------\u001b[0m",
      "\u001b[0;31mUnimplementedError\u001b[0m                        Traceback (most recent call last)",
      "Input \u001b[0;32mIn [10]\u001b[0m, in \u001b[0;36m<module>\u001b[0;34m\u001b[0m\n\u001b[0;32m----> 1\u001b[0m \u001b[43mtrain3D_continue\u001b[49m\u001b[43m(\u001b[49m\u001b[38;5;124;43m'\u001b[39;49m\u001b[38;5;124;43mtest\u001b[39;49m\u001b[38;5;124;43m'\u001b[39;49m\u001b[43m,\u001b[49m\u001b[43mfilepath\u001b[49m\u001b[43m,\u001b[49m\u001b[43m \u001b[49m\u001b[43mdata_dir\u001b[49m\u001b[43m \u001b[49m\u001b[38;5;241;43m=\u001b[39;49m\u001b[43m \u001b[49m\u001b[38;5;124;43m'\u001b[39;49m\u001b[38;5;124;43m../data/isoNet/results/data\u001b[39;49m\u001b[38;5;124;43m'\u001b[39;49m\u001b[43m,\u001b[49m\n\u001b[1;32m      2\u001b[0m \u001b[43m                    \u001b[49m\u001b[43mresult_folder\u001b[49m\u001b[38;5;241;43m=\u001b[39;49m\u001b[38;5;124;43m'\u001b[39;49m\u001b[38;5;124;43m../data/isoNet/results/\u001b[39;49m\u001b[38;5;124;43m'\u001b[39;49m\u001b[43m)\u001b[49m\n",
      "File \u001b[0;32m~/Thesis/IsoNet/training/train.py:147\u001b[0m, in \u001b[0;36mtrain3D_continue\u001b[0;34m(outFile, model_file, data_dir, result_folder, epochs, lr, steps_per_epoch, batch_size, n_gpus)\u001b[0m\n\u001b[1;32m    145\u001b[0m train_data \u001b[38;5;241m=\u001b[39m tf\u001b[38;5;241m.\u001b[39mdata\u001b[38;5;241m.\u001b[39mDataset\u001b[38;5;241m.\u001b[39mfrom_generator(train_data,output_types\u001b[38;5;241m=\u001b[39m(tf\u001b[38;5;241m.\u001b[39mfloat32,tf\u001b[38;5;241m.\u001b[39mfloat32))\n\u001b[1;32m    146\u001b[0m test_data \u001b[38;5;241m=\u001b[39m tf\u001b[38;5;241m.\u001b[39mdata\u001b[38;5;241m.\u001b[39mDataset\u001b[38;5;241m.\u001b[39mfrom_generator(test_data,output_types\u001b[38;5;241m=\u001b[39m(tf\u001b[38;5;241m.\u001b[39mfloat32,tf\u001b[38;5;241m.\u001b[39mfloat32))\n\u001b[0;32m--> 147\u001b[0m history \u001b[38;5;241m=\u001b[39m \u001b[43mmodel\u001b[49m\u001b[38;5;241;43m.\u001b[39;49m\u001b[43mfit\u001b[49m\u001b[43m(\u001b[49m\u001b[43mtrain_data\u001b[49m\u001b[43m,\u001b[49m\u001b[43m \u001b[49m\u001b[43mvalidation_data\u001b[49m\u001b[38;5;241;43m=\u001b[39;49m\u001b[43mtest_data\u001b[49m\u001b[43m,\u001b[49m\n\u001b[1;32m    148\u001b[0m \u001b[43m                              \u001b[49m\u001b[43mepochs\u001b[49m\u001b[38;5;241;43m=\u001b[39;49m\u001b[43mepochs\u001b[49m\u001b[43m,\u001b[49m\u001b[43m \u001b[49m\u001b[43msteps_per_epoch\u001b[49m\u001b[38;5;241;43m=\u001b[39;49m\u001b[43msteps_per_epoch\u001b[49m\u001b[43m,\u001b[49m\u001b[43mvalidation_steps\u001b[49m\u001b[38;5;241;43m=\u001b[39;49m\u001b[43mnp\u001b[49m\u001b[38;5;241;43m.\u001b[39;49m\u001b[43mceil\u001b[49m\u001b[43m(\u001b[49m\u001b[38;5;241;43m0.1\u001b[39;49m\u001b[38;5;241;43m*\u001b[39;49m\u001b[43msteps_per_epoch\u001b[49m\u001b[43m)\u001b[49m\u001b[43m,\u001b[49m\n\u001b[1;32m    149\u001b[0m \u001b[43m                              \u001b[49m\u001b[43mverbose\u001b[49m\u001b[38;5;241;43m=\u001b[39;49m\u001b[38;5;241;43m1\u001b[39;49m\u001b[43m)\u001b[49m\n\u001b[1;32m    150\u001b[0m                             \u001b[38;5;66;03m#   callbacks=callback_list)\u001b[39;00m\n\u001b[1;32m    151\u001b[0m \u001b[38;5;66;03m# if n_gpus>1:\u001b[39;00m\n\u001b[1;32m    152\u001b[0m \u001b[38;5;66;03m#     model_from_multimodel = model.get_layer('model_1')   \u001b[39;00m\n\u001b[1;32m    153\u001b[0m \u001b[38;5;66;03m#     model_from_multimodel.compile(optimizer=optimizer, loss='mae', metrics=_metrics)\u001b[39;00m\n\u001b[1;32m    154\u001b[0m \u001b[38;5;66;03m#     model_from_multimodel.save(outFile)\u001b[39;00m\n\u001b[1;32m    155\u001b[0m \u001b[38;5;66;03m# else:\u001b[39;00m\n\u001b[1;32m    156\u001b[0m model\u001b[38;5;241m.\u001b[39msave(outFile)\n",
      "File \u001b[0;32m~/miniconda3/envs/isoNet/lib/python3.10/site-packages/keras/utils/traceback_utils.py:67\u001b[0m, in \u001b[0;36mfilter_traceback.<locals>.error_handler\u001b[0;34m(*args, **kwargs)\u001b[0m\n\u001b[1;32m     65\u001b[0m \u001b[38;5;28;01mexcept\u001b[39;00m \u001b[38;5;167;01mException\u001b[39;00m \u001b[38;5;28;01mas\u001b[39;00m e:  \u001b[38;5;66;03m# pylint: disable=broad-except\u001b[39;00m\n\u001b[1;32m     66\u001b[0m   filtered_tb \u001b[38;5;241m=\u001b[39m _process_traceback_frames(e\u001b[38;5;241m.\u001b[39m__traceback__)\n\u001b[0;32m---> 67\u001b[0m   \u001b[38;5;28;01mraise\u001b[39;00m e\u001b[38;5;241m.\u001b[39mwith_traceback(filtered_tb) \u001b[38;5;28;01mfrom\u001b[39;00m \u001b[38;5;28mNone\u001b[39m\n\u001b[1;32m     68\u001b[0m \u001b[38;5;28;01mfinally\u001b[39;00m:\n\u001b[1;32m     69\u001b[0m   \u001b[38;5;28;01mdel\u001b[39;00m filtered_tb\n",
      "File \u001b[0;32m~/miniconda3/envs/isoNet/lib/python3.10/site-packages/tensorflow/python/eager/execute.py:54\u001b[0m, in \u001b[0;36mquick_execute\u001b[0;34m(op_name, num_outputs, inputs, attrs, ctx, name)\u001b[0m\n\u001b[1;32m     52\u001b[0m \u001b[38;5;28;01mtry\u001b[39;00m:\n\u001b[1;32m     53\u001b[0m   ctx\u001b[38;5;241m.\u001b[39mensure_initialized()\n\u001b[0;32m---> 54\u001b[0m   tensors \u001b[38;5;241m=\u001b[39m pywrap_tfe\u001b[38;5;241m.\u001b[39mTFE_Py_Execute(ctx\u001b[38;5;241m.\u001b[39m_handle, device_name, op_name,\n\u001b[1;32m     55\u001b[0m                                       inputs, attrs, num_outputs)\n\u001b[1;32m     56\u001b[0m \u001b[38;5;28;01mexcept\u001b[39;00m core\u001b[38;5;241m.\u001b[39m_NotOkStatusException \u001b[38;5;28;01mas\u001b[39;00m e:\n\u001b[1;32m     57\u001b[0m   \u001b[38;5;28;01mif\u001b[39;00m name \u001b[38;5;129;01mis\u001b[39;00m \u001b[38;5;129;01mnot\u001b[39;00m \u001b[38;5;28;01mNone\u001b[39;00m:\n",
      "\u001b[0;31mUnimplementedError\u001b[0m: Graph execution error:\n\nDetected at node 'replica_1/model/down_level_0_no_0/Conv3D' defined at (most recent call last):\n    File \"/home/haicu/jeronimo.carvajal/miniconda3/envs/isoNet/lib/python3.10/threading.py\", line 966, in _bootstrap\n      self._bootstrap_inner()\n    File \"/home/haicu/jeronimo.carvajal/miniconda3/envs/isoNet/lib/python3.10/threading.py\", line 1009, in _bootstrap_inner\n      self.run()\n    File \"/home/haicu/jeronimo.carvajal/miniconda3/envs/isoNet/lib/python3.10/site-packages/keras/engine/training.py\", line 1000, in run_step\n      outputs = model.train_step(data)\n    File \"/home/haicu/jeronimo.carvajal/miniconda3/envs/isoNet/lib/python3.10/site-packages/keras/engine/training.py\", line 859, in train_step\n      y_pred = self(x, training=True)\n    File \"/home/haicu/jeronimo.carvajal/miniconda3/envs/isoNet/lib/python3.10/site-packages/keras/utils/traceback_utils.py\", line 64, in error_handler\n      return fn(*args, **kwargs)\n    File \"/home/haicu/jeronimo.carvajal/miniconda3/envs/isoNet/lib/python3.10/site-packages/keras/engine/base_layer.py\", line 1096, in __call__\n      outputs = call_fn(inputs, *args, **kwargs)\n    File \"/home/haicu/jeronimo.carvajal/miniconda3/envs/isoNet/lib/python3.10/site-packages/keras/utils/traceback_utils.py\", line 92, in error_handler\n      return fn(*args, **kwargs)\n    File \"/home/haicu/jeronimo.carvajal/miniconda3/envs/isoNet/lib/python3.10/site-packages/keras/engine/functional.py\", line 451, in call\n      return self._run_internal_graph(\n    File \"/home/haicu/jeronimo.carvajal/miniconda3/envs/isoNet/lib/python3.10/site-packages/keras/engine/functional.py\", line 589, in _run_internal_graph\n      outputs = node.layer(*args, **kwargs)\n    File \"/home/haicu/jeronimo.carvajal/miniconda3/envs/isoNet/lib/python3.10/site-packages/keras/utils/traceback_utils.py\", line 64, in error_handler\n      return fn(*args, **kwargs)\n    File \"/home/haicu/jeronimo.carvajal/miniconda3/envs/isoNet/lib/python3.10/site-packages/keras/engine/base_layer.py\", line 1096, in __call__\n      outputs = call_fn(inputs, *args, **kwargs)\n    File \"/home/haicu/jeronimo.carvajal/miniconda3/envs/isoNet/lib/python3.10/site-packages/keras/utils/traceback_utils.py\", line 92, in error_handler\n      return fn(*args, **kwargs)\n    File \"/home/haicu/jeronimo.carvajal/miniconda3/envs/isoNet/lib/python3.10/site-packages/keras/layers/convolutional.py\", line 248, in call\n      outputs = self.convolution_op(inputs, self.kernel)\n    File \"/home/haicu/jeronimo.carvajal/miniconda3/envs/isoNet/lib/python3.10/site-packages/keras/layers/convolutional.py\", line 233, in convolution_op\n      return tf.nn.convolution(\nNode: 'replica_1/model/down_level_0_no_0/Conv3D'\nDetected at node 'replica_1/model/down_level_0_no_0/Conv3D' defined at (most recent call last):\n    File \"/home/haicu/jeronimo.carvajal/miniconda3/envs/isoNet/lib/python3.10/threading.py\", line 966, in _bootstrap\n      self._bootstrap_inner()\n    File \"/home/haicu/jeronimo.carvajal/miniconda3/envs/isoNet/lib/python3.10/threading.py\", line 1009, in _bootstrap_inner\n      self.run()\n    File \"/home/haicu/jeronimo.carvajal/miniconda3/envs/isoNet/lib/python3.10/site-packages/keras/engine/training.py\", line 1000, in run_step\n      outputs = model.train_step(data)\n    File \"/home/haicu/jeronimo.carvajal/miniconda3/envs/isoNet/lib/python3.10/site-packages/keras/engine/training.py\", line 859, in train_step\n      y_pred = self(x, training=True)\n    File \"/home/haicu/jeronimo.carvajal/miniconda3/envs/isoNet/lib/python3.10/site-packages/keras/utils/traceback_utils.py\", line 64, in error_handler\n      return fn(*args, **kwargs)\n    File \"/home/haicu/jeronimo.carvajal/miniconda3/envs/isoNet/lib/python3.10/site-packages/keras/engine/base_layer.py\", line 1096, in __call__\n      outputs = call_fn(inputs, *args, **kwargs)\n    File \"/home/haicu/jeronimo.carvajal/miniconda3/envs/isoNet/lib/python3.10/site-packages/keras/utils/traceback_utils.py\", line 92, in error_handler\n      return fn(*args, **kwargs)\n    File \"/home/haicu/jeronimo.carvajal/miniconda3/envs/isoNet/lib/python3.10/site-packages/keras/engine/functional.py\", line 451, in call\n      return self._run_internal_graph(\n    File \"/home/haicu/jeronimo.carvajal/miniconda3/envs/isoNet/lib/python3.10/site-packages/keras/engine/functional.py\", line 589, in _run_internal_graph\n      outputs = node.layer(*args, **kwargs)\n    File \"/home/haicu/jeronimo.carvajal/miniconda3/envs/isoNet/lib/python3.10/site-packages/keras/utils/traceback_utils.py\", line 64, in error_handler\n      return fn(*args, **kwargs)\n    File \"/home/haicu/jeronimo.carvajal/miniconda3/envs/isoNet/lib/python3.10/site-packages/keras/engine/base_layer.py\", line 1096, in __call__\n      outputs = call_fn(inputs, *args, **kwargs)\n    File \"/home/haicu/jeronimo.carvajal/miniconda3/envs/isoNet/lib/python3.10/site-packages/keras/utils/traceback_utils.py\", line 92, in error_handler\n      return fn(*args, **kwargs)\n    File \"/home/haicu/jeronimo.carvajal/miniconda3/envs/isoNet/lib/python3.10/site-packages/keras/layers/convolutional.py\", line 248, in call\n      outputs = self.convolution_op(inputs, self.kernel)\n    File \"/home/haicu/jeronimo.carvajal/miniconda3/envs/isoNet/lib/python3.10/site-packages/keras/layers/convolutional.py\", line 233, in convolution_op\n      return tf.nn.convolution(\nNode: 'replica_1/model/down_level_0_no_0/Conv3D'\nDetected at node 'replica_1/model/down_level_0_no_0/Conv3D' defined at (most recent call last):\n    File \"/home/haicu/jeronimo.carvajal/miniconda3/envs/isoNet/lib/python3.10/threading.py\", line 966, in _bootstrap\n      self._bootstrap_inner()\n    File \"/home/haicu/jeronimo.carvajal/miniconda3/envs/isoNet/lib/python3.10/threading.py\", line 1009, in _bootstrap_inner\n      self.run()\n    File \"/home/haicu/jeronimo.carvajal/miniconda3/envs/isoNet/lib/python3.10/site-packages/keras/engine/training.py\", line 1000, in run_step\n      outputs = model.train_step(data)\n    File \"/home/haicu/jeronimo.carvajal/miniconda3/envs/isoNet/lib/python3.10/site-packages/keras/engine/training.py\", line 859, in train_step\n      y_pred = self(x, training=True)\n    File \"/home/haicu/jeronimo.carvajal/miniconda3/envs/isoNet/lib/python3.10/site-packages/keras/utils/traceback_utils.py\", line 64, in error_handler\n      return fn(*args, **kwargs)\n    File \"/home/haicu/jeronimo.carvajal/miniconda3/envs/isoNet/lib/python3.10/site-packages/keras/engine/base_layer.py\", line 1096, in __call__\n      outputs = call_fn(inputs, *args, **kwargs)\n    File \"/home/haicu/jeronimo.carvajal/miniconda3/envs/isoNet/lib/python3.10/site-packages/keras/utils/traceback_utils.py\", line 92, in error_handler\n      return fn(*args, **kwargs)\n    File \"/home/haicu/jeronimo.carvajal/miniconda3/envs/isoNet/lib/python3.10/site-packages/keras/engine/functional.py\", line 451, in call\n      return self._run_internal_graph(\n    File \"/home/haicu/jeronimo.carvajal/miniconda3/envs/isoNet/lib/python3.10/site-packages/keras/engine/functional.py\", line 589, in _run_internal_graph\n      outputs = node.layer(*args, **kwargs)\n    File \"/home/haicu/jeronimo.carvajal/miniconda3/envs/isoNet/lib/python3.10/site-packages/keras/utils/traceback_utils.py\", line 64, in error_handler\n      return fn(*args, **kwargs)\n    File \"/home/haicu/jeronimo.carvajal/miniconda3/envs/isoNet/lib/python3.10/site-packages/keras/engine/base_layer.py\", line 1096, in __call__\n      outputs = call_fn(inputs, *args, **kwargs)\n    File \"/home/haicu/jeronimo.carvajal/miniconda3/envs/isoNet/lib/python3.10/site-packages/keras/utils/traceback_utils.py\", line 92, in error_handler\n      return fn(*args, **kwargs)\n    File \"/home/haicu/jeronimo.carvajal/miniconda3/envs/isoNet/lib/python3.10/site-packages/keras/layers/convolutional.py\", line 248, in call\n      outputs = self.convolution_op(inputs, self.kernel)\n    File \"/home/haicu/jeronimo.carvajal/miniconda3/envs/isoNet/lib/python3.10/site-packages/keras/layers/convolutional.py\", line 233, in convolution_op\n      return tf.nn.convolution(\nNode: 'replica_1/model/down_level_0_no_0/Conv3D'\nDetected at node 'replica_1/model/down_level_0_no_0/Conv3D' defined at (most recent call last):\n    File \"/home/haicu/jeronimo.carvajal/miniconda3/envs/isoNet/lib/python3.10/threading.py\", line 966, in _bootstrap\n      self._bootstrap_inner()\n    File \"/home/haicu/jeronimo.carvajal/miniconda3/envs/isoNet/lib/python3.10/threading.py\", line 1009, in _bootstrap_inner\n      self.run()\n    File \"/home/haicu/jeronimo.carvajal/miniconda3/envs/isoNet/lib/python3.10/site-packages/keras/engine/training.py\", line 1000, in run_step\n      outputs = model.train_step(data)\n    File \"/home/haicu/jeronimo.carvajal/miniconda3/envs/isoNet/lib/python3.10/site-packages/keras/engine/training.py\", line 859, in train_step\n      y_pred = self(x, training=True)\n    File \"/home/haicu/jeronimo.carvajal/miniconda3/envs/isoNet/lib/python3.10/site-packages/keras/utils/traceback_utils.py\", line 64, in error_handler\n      return fn(*args, **kwargs)\n    File \"/home/haicu/jeronimo.carvajal/miniconda3/envs/isoNet/lib/python3.10/site-packages/keras/engine/base_layer.py\", line 1096, in __call__\n      outputs = call_fn(inputs, *args, **kwargs)\n    File \"/home/haicu/jeronimo.carvajal/miniconda3/envs/isoNet/lib/python3.10/site-packages/keras/utils/traceback_utils.py\", line 92, in error_handler\n      return fn(*args, **kwargs)\n    File \"/home/haicu/jeronimo.carvajal/miniconda3/envs/isoNet/lib/python3.10/site-packages/keras/engine/functional.py\", line 451, in call\n      return self._run_internal_graph(\n    File \"/home/haicu/jeronimo.carvajal/miniconda3/envs/isoNet/lib/python3.10/site-packages/keras/engine/functional.py\", line 589, in _run_internal_graph\n      outputs = node.layer(*args, **kwargs)\n    File \"/home/haicu/jeronimo.carvajal/miniconda3/envs/isoNet/lib/python3.10/site-packages/keras/utils/traceback_utils.py\", line 64, in error_handler\n      return fn(*args, **kwargs)\n    File \"/home/haicu/jeronimo.carvajal/miniconda3/envs/isoNet/lib/python3.10/site-packages/keras/engine/base_layer.py\", line 1096, in __call__\n      outputs = call_fn(inputs, *args, **kwargs)\n    File \"/home/haicu/jeronimo.carvajal/miniconda3/envs/isoNet/lib/python3.10/site-packages/keras/utils/traceback_utils.py\", line 92, in error_handler\n      return fn(*args, **kwargs)\n    File \"/home/haicu/jeronimo.carvajal/miniconda3/envs/isoNet/lib/python3.10/site-packages/keras/layers/convolutional.py\", line 248, in call\n      outputs = self.convolution_op(inputs, self.kernel)\n    File \"/home/haicu/jeronimo.carvajal/miniconda3/envs/isoNet/lib/python3.10/site-packages/keras/layers/convolutional.py\", line 233, in convolution_op\n      return tf.nn.convolution(\nNode: 'replica_1/model/down_level_0_no_0/Conv3D'\n4 root error(s) found.\n  (0) UNIMPLEMENTED:  DNN library is not found.\n\t [[{{node replica_1/model/down_level_0_no_0/Conv3D}}]]\n\t [[replica_1/cond_1/then/_2133/replica_1/cond_1/cond/then/_5815/replica_1/cond_1/cond/remove_squeezable_dimensions/cond_1/pivot_f/_6468/_505]]\n  (1) UNIMPLEMENTED:  DNN library is not found.\n\t [[{{node replica_1/model/down_level_0_no_0/Conv3D}}]]\n\t [[div_no_nan_1/ReadVariableOp_4/_642]]\n  (2) UNIMPLEMENTED:  DNN library is not found.\n\t [[{{node replica_1/model/down_level_0_no_0/Conv3D}}]]\n\t [[Func/replica_2/cond/then/_2144/replica_2/cond/cond/else/_5842/input/_6258/_576]]\n  (3) UNIMPLEMENTED:  DNN library is not found.\n\t [[{{node replica_1/model/down_level_0_no_0/Conv3D}}]]\n0 successful operations.\n0 derived errors ignored. [Op:__inference_train_function_41022]"
     ]
    }
   ],
   "source": [
    "train3D_continue('test',filepath, data_dir = '../data/isoNet/results/data',\n",
    "                 result_folder='../data/isoNet/results/')"
   ]
  },
  {
   "cell_type": "code",
   "execution_count": null,
   "id": "7b2f2afc-21b8-4a87-8086-1a48738a5ee8",
   "metadata": {},
   "outputs": [],
   "source": []
  }
 ],
 "metadata": {
  "kernelspec": {
   "display_name": "Python 3 (ipykernel)",
   "language": "python",
   "name": "python3"
  },
  "language_info": {
   "codemirror_mode": {
    "name": "ipython",
    "version": 3
   },
   "file_extension": ".py",
   "mimetype": "text/x-python",
   "name": "python",
   "nbconvert_exporter": "python",
   "pygments_lexer": "ipython3",
   "version": "3.9.10"
  }
 },
 "nbformat": 4,
 "nbformat_minor": 5
}
