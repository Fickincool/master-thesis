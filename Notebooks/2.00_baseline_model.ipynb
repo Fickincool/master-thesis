{
 "cells": [
  {
   "cell_type": "markdown",
   "id": "a405a2e8-8542-4538-b6e6-eccb04b1e22f",
   "metadata": {},
   "source": [
    "Get the DeepFinder baseline model using all center crops working"
   ]
  },
  {
   "cell_type": "code",
   "execution_count": 1,
   "id": "a52360c9-4620-4cc6-b327-0c54ef20e7e7",
   "metadata": {},
   "outputs": [
    {
     "name": "stdout",
     "output_type": "stream",
     "text": [
      "Pairs of tomo IDs to indices:\n",
      "[('tomo02', 0), ('tomo03', 1), ('tomo04', 2), ('tomo10', 3), ('tomo17', 4), ('tomo32', 5), ('tomo38', 6)]\n",
      "\n",
      "\n"
     ]
    }
   ],
   "source": [
    "from jeroHelper.setupUtils import append_deepfinder_path, get_tomo_indices, PARENT_PATH\n",
    "append_deepfinder_path()\n",
    "\n",
    "tomo_ids, tomo_idx = get_tomo_indices()\n",
    "print('\\n')\n",
    "\n",
    "from jeroHelper.coordGen import make_xml_objlist_from_crops\n",
    "from jeroHelper.trainHelper import make_trainer\n",
    "\n",
    "from deepfinder.training_pylit import TargetBuilder\n",
    "from deepfinder.dataloader_pylit import DeepFinder_dataset, to_categorical, transpose_to_channels_first\n",
    "from deepfinder.model_pylit import DeepFinder_model\n",
    "import deepfinder.utils.objl as ol\n",
    "\n",
    "import numpy as np\n",
    "import matplotlib.pyplot as plt\n",
    "import random\n",
    "\n",
    "%matplotlib inline\n",
    "%config Completer.use_jedi = False\n",
    "%load_ext autoreload\n",
    "%autoreload 2"
   ]
  },
  {
   "cell_type": "markdown",
   "id": "64f99326-ed4d-4685-aaf0-8683eb7348d8",
   "metadata": {
    "tags": []
   },
   "source": [
    "# CUDA Checks"
   ]
  },
  {
   "cell_type": "code",
   "execution_count": 2,
   "id": "3fd9a1e5-b9ab-4ccf-83aa-4e2182ab5b84",
   "metadata": {},
   "outputs": [
    {
     "data": {
      "text/plain": [
       "('NVIDIA GeForce GTX TITAN X', 3, True)"
      ]
     },
     "execution_count": 2,
     "metadata": {},
     "output_type": "execute_result"
    }
   ],
   "source": [
    "import torch\n",
    "# get the available devices\n",
    "torch.cuda.get_device_name(0), torch.cuda.device_count(), torch.cuda.is_available()"
   ]
  },
  {
   "cell_type": "code",
   "execution_count": 3,
   "id": "1dbcc2e7-fd75-47de-8b7c-f74db5ec4e23",
   "metadata": {
    "tags": []
   },
   "outputs": [
    {
     "data": {
      "text/plain": [
       "device(type='cpu')"
      ]
     },
     "execution_count": 3,
     "metadata": {},
     "output_type": "execute_result"
    }
   ],
   "source": [
    "# create some random tensor  \n",
    "test = torch.rand(4, 1, 4, 4, 4)\n",
    "test.device"
   ]
  },
  {
   "cell_type": "code",
   "execution_count": 4,
   "id": "9a30cf1f-725f-4ad4-b4ff-e1ac8665e0ff",
   "metadata": {},
   "outputs": [
    {
     "data": {
      "text/plain": [
       "device(type='cuda')"
      ]
     },
     "execution_count": 4,
     "metadata": {},
     "output_type": "execute_result"
    }
   ],
   "source": [
    "# Set the device\n",
    "device = torch.device(\"cuda\")\n",
    "device"
   ]
  },
  {
   "cell_type": "code",
   "execution_count": 5,
   "id": "a0cf885f-3f0a-47cc-addd-5c94954dc3b0",
   "metadata": {
    "tags": []
   },
   "outputs": [
    {
     "data": {
      "text/plain": [
       "device(type='cuda', index=0)"
      ]
     },
     "execution_count": 5,
     "metadata": {},
     "output_type": "execute_result"
    }
   ],
   "source": [
    "# send tensor to specified device (it hangs in there, for ages)\n",
    "test = test.to(\"cuda\")\n",
    "test.device"
   ]
  },
  {
   "cell_type": "code",
   "execution_count": 6,
   "id": "175a5fe1-2bd8-4693-a94a-ddcae189cbc5",
   "metadata": {
    "tags": []
   },
   "outputs": [
    {
     "data": {
      "text/plain": [
       "==========================================================================================\n",
       "Layer (type:depth-idx)                   Output Shape              Param #\n",
       "==========================================================================================\n",
       "DeepFinder_model                         --                        --\n",
       "├─Sequential: 1-1                        [32, 32, 32, 40, 28]      --\n",
       "│    └─Conv3d: 2-1                       [32, 32, 32, 40, 28]      896\n",
       "│    └─ReLU: 2-2                         [32, 32, 32, 40, 28]      --\n",
       "│    └─Conv3d: 2-3                       [32, 32, 32, 40, 28]      27,680\n",
       "│    └─ReLU: 2-4                         [32, 32, 32, 40, 28]      --\n",
       "├─Sequential: 1-2                        [32, 48, 16, 20, 14]      --\n",
       "│    └─MaxPool3d: 2-5                    [32, 32, 16, 20, 14]      --\n",
       "│    └─Conv3d: 2-6                       [32, 48, 16, 20, 14]      41,520\n",
       "│    └─ReLU: 2-7                         [32, 48, 16, 20, 14]      --\n",
       "│    └─Conv3d: 2-8                       [32, 48, 16, 20, 14]      62,256\n",
       "│    └─ReLU: 2-9                         [32, 48, 16, 20, 14]      --\n",
       "├─Sequential: 1-3                        [32, 64, 16, 20, 14]      --\n",
       "│    └─MaxPool3d: 2-10                   [32, 48, 8, 10, 7]        --\n",
       "│    └─Conv3d: 2-11                      [32, 64, 8, 10, 7]        83,008\n",
       "│    └─ReLU: 2-12                        [32, 64, 8, 10, 7]        --\n",
       "│    └─Conv3d: 2-13                      [32, 64, 8, 10, 7]        110,656\n",
       "│    └─ReLU: 2-14                        [32, 64, 8, 10, 7]        --\n",
       "│    └─Conv3d: 2-15                      [32, 64, 8, 10, 7]        110,656\n",
       "│    └─ReLU: 2-16                        [32, 64, 8, 10, 7]        --\n",
       "│    └─Conv3d: 2-17                      [32, 64, 8, 10, 7]        110,656\n",
       "│    └─ReLU: 2-18                        [32, 64, 8, 10, 7]        --\n",
       "│    └─ConvTranspose3d: 2-19             [32, 64, 16, 20, 14]      32,832\n",
       "│    └─Conv3d: 2-20                      [32, 64, 16, 20, 14]      110,656\n",
       "├─Sequential: 1-4                        [32, 48, 32, 40, 28]      --\n",
       "│    └─Conv3d: 2-21                      [32, 48, 16, 20, 14]      145,200\n",
       "│    └─ReLU: 2-22                        [32, 48, 16, 20, 14]      --\n",
       "│    └─Conv3d: 2-23                      [32, 48, 16, 20, 14]      62,256\n",
       "│    └─ReLU: 2-24                        [32, 48, 16, 20, 14]      --\n",
       "│    └─ConvTranspose3d: 2-25             [32, 48, 32, 40, 28]      18,480\n",
       "│    └─Conv3d: 2-26                      [32, 48, 32, 40, 28]      62,256\n",
       "├─Sequential: 1-5                        [32, 5, 32, 40, 28]       --\n",
       "│    └─Conv3d: 2-27                      [32, 32, 32, 40, 28]      69,152\n",
       "│    └─ReLU: 2-28                        [32, 32, 32, 40, 28]      --\n",
       "│    └─Conv3d: 2-29                      [32, 32, 32, 40, 28]      27,680\n",
       "│    └─ReLU: 2-30                        [32, 32, 32, 40, 28]      --\n",
       "│    └─Conv3d: 2-31                      [32, 5, 32, 40, 28]       165\n",
       "│    └─Softmax: 2-32                     [32, 5, 32, 40, 28]       --\n",
       "==========================================================================================\n",
       "Total params: 1,076,005\n",
       "Trainable params: 1,076,005\n",
       "Non-trainable params: 0\n",
       "Total mult-adds (G): 309.24\n",
       "==========================================================================================\n",
       "Input size (MB): 4.59\n",
       "Forward/backward pass size (MB): 2504.79\n",
       "Params size (MB): 4.30\n",
       "Estimated Total Size (MB): 2513.68\n",
       "=========================================================================================="
      ]
     },
     "execution_count": 6,
     "metadata": {},
     "output_type": "execute_result"
    }
   ],
   "source": [
    "from torchinfo import summary\n",
    "from deepfinder.model_pylit import DeepFinder_model\n",
    "from deepfinder.losses_pylit import Tversky_loss\n",
    "\n",
    "dim_in = 12 # patch size\n",
    "lr = 1e-4\n",
    "weight_decay = 0.0\n",
    "model = DeepFinder_model(5, Tversky_loss(), lr, weight_decay, None)\n",
    "\n",
    "batch_size = 32\n",
    "C_in = 1\n",
    "Z, Y, X = 32, 40, 28\n",
    "\n",
    "summary(model, (batch_size, C_in, Z, Y, X), device=\"cuda\")"
   ]
  },
  {
   "cell_type": "code",
   "execution_count": 7,
   "id": "5c19bc69-a41f-4ff1-b246-88fa26b7a72b",
   "metadata": {
    "tags": []
   },
   "outputs": [
    {
     "data": {
      "text/plain": [
       "DataParallel(\n",
       "  (module): DeepFinder_model(\n",
       "    (loss_fn): Tversky_loss()\n",
       "    (layer1): Sequential(\n",
       "      (0): Conv3d(1, 32, kernel_size=(3, 3, 3), stride=(1, 1, 1), padding=(1, 1, 1))\n",
       "      (1): ReLU()\n",
       "      (2): Conv3d(32, 32, kernel_size=(3, 3, 3), stride=(1, 1, 1), padding=(1, 1, 1))\n",
       "      (3): ReLU()\n",
       "    )\n",
       "    (layer2): Sequential(\n",
       "      (0): MaxPool3d(kernel_size=(2, 2, 2), stride=(2, 2, 2), padding=0, dilation=1, ceil_mode=False)\n",
       "      (1): Conv3d(32, 48, kernel_size=(3, 3, 3), stride=(1, 1, 1), padding=(1, 1, 1))\n",
       "      (2): ReLU()\n",
       "      (3): Conv3d(48, 48, kernel_size=(3, 3, 3), stride=(1, 1, 1), padding=(1, 1, 1))\n",
       "      (4): ReLU()\n",
       "    )\n",
       "    (layer3): Sequential(\n",
       "      (0): MaxPool3d(kernel_size=(2, 2, 2), stride=(2, 2, 2), padding=0, dilation=1, ceil_mode=False)\n",
       "      (1): Conv3d(48, 64, kernel_size=(3, 3, 3), stride=(1, 1, 1), padding=(1, 1, 1))\n",
       "      (2): ReLU()\n",
       "      (3): Conv3d(64, 64, kernel_size=(3, 3, 3), stride=(1, 1, 1), padding=(1, 1, 1))\n",
       "      (4): ReLU()\n",
       "      (5): Conv3d(64, 64, kernel_size=(3, 3, 3), stride=(1, 1, 1), padding=(1, 1, 1))\n",
       "      (6): ReLU()\n",
       "      (7): Conv3d(64, 64, kernel_size=(3, 3, 3), stride=(1, 1, 1), padding=(1, 1, 1))\n",
       "      (8): ReLU()\n",
       "      (9): ConvTranspose3d(64, 64, kernel_size=(2, 2, 2), stride=(2, 2, 2))\n",
       "      (10): Conv3d(64, 64, kernel_size=(3, 3, 3), stride=(1, 1, 1), padding=(1, 1, 1))\n",
       "    )\n",
       "    (layer4): Sequential(\n",
       "      (0): Conv3d(112, 48, kernel_size=(3, 3, 3), stride=(1, 1, 1), padding=(1, 1, 1))\n",
       "      (1): ReLU()\n",
       "      (2): Conv3d(48, 48, kernel_size=(3, 3, 3), stride=(1, 1, 1), padding=(1, 1, 1))\n",
       "      (3): ReLU()\n",
       "      (4): ConvTranspose3d(48, 48, kernel_size=(2, 2, 2), stride=(2, 2, 2))\n",
       "      (5): Conv3d(48, 48, kernel_size=(3, 3, 3), stride=(1, 1, 1), padding=(1, 1, 1))\n",
       "    )\n",
       "    (layer5): Sequential(\n",
       "      (0): Conv3d(80, 32, kernel_size=(3, 3, 3), stride=(1, 1, 1), padding=(1, 1, 1))\n",
       "      (1): ReLU()\n",
       "      (2): Conv3d(32, 32, kernel_size=(3, 3, 3), stride=(1, 1, 1), padding=(1, 1, 1))\n",
       "      (3): ReLU()\n",
       "      (4): Conv3d(32, 5, kernel_size=(1, 1, 1), stride=(1, 1, 1))\n",
       "      (5): Softmax(dim=1)\n",
       "    )\n",
       "  )\n",
       ")"
      ]
     },
     "execution_count": 7,
     "metadata": {},
     "output_type": "execute_result"
    }
   ],
   "source": [
    "from torchinfo import summary\n",
    "from deepfinder.model_pylit import DeepFinder_model\n",
    "from deepfinder.losses_pylit import Tversky_loss\n",
    "\n",
    "dim_in = 12 # patch size\n",
    "lr = 1e-4\n",
    "weight_decay = 0.0\n",
    "model = DeepFinder_model(5, Tversky_loss(), lr, weight_decay, None)\n",
    "\n",
    "gpu_model = torch.nn.DataParallel(model)\n",
    "gpu_model.cuda()"
   ]
  },
  {
   "cell_type": "code",
   "execution_count": 8,
   "id": "eb5093b6-38ec-4604-bd17-51ffede35ddf",
   "metadata": {
    "tags": []
   },
   "outputs": [
    {
     "data": {
      "text/plain": [
       "torch.Size([4, 5, 4, 4, 4])"
      ]
     },
     "execution_count": 8,
     "metadata": {},
     "output_type": "execute_result"
    }
   ],
   "source": [
    "gpu_model(test).shape"
   ]
  },
  {
   "cell_type": "markdown",
   "id": "74129a9b-b83a-40be-bbf8-b1a7b8e0fb27",
   "metadata": {},
   "source": [
    "# Baseline model"
   ]
  },
  {
   "cell_type": "code",
   "execution_count": 2,
   "id": "c4c42b4a-4b89-4524-892e-ef9bdf11dba2",
   "metadata": {},
   "outputs": [
    {
     "name": "stdout",
     "output_type": "stream",
     "text": [
      "######################## TRAIN TOMOGRAM ######################\n",
      "Generating object list for tomo02\n",
      "Tomogram shape:  (250, 309, 309)\n",
      "Total number of samples:  3001\n",
      "\n",
      "\n",
      "######################## TRAIN TOMOGRAM ######################\n",
      "Generating object list for tomo03\n",
      "Tomogram shape:  (250, 309, 309)\n",
      "Total number of samples:  3001\n",
      "\n",
      "\n",
      "######################## TRAIN TOMOGRAM ######################\n",
      "Generating object list for tomo04\n",
      "Tomogram shape:  (250, 309, 309)\n",
      "Total number of samples:  3002\n",
      "\n",
      "\n",
      "######################## VALIDATION TOMOGRAM ######################\n",
      "Generating object list for tomo10\n",
      "Tomogram shape:  (250, 309, 309)\n",
      "Total number of samples:  2001\n",
      "\n",
      "\n",
      "######################## TRAIN TOMOGRAM ######################\n",
      "Generating object list for tomo17\n",
      "Tomogram shape:  (250, 309, 309)\n",
      "Total number of samples:  3004\n",
      "\n",
      "\n",
      "######################## VALIDATION TOMOGRAM ######################\n",
      "Generating object list for tomo32\n",
      "Tomogram shape:  (250, 309, 309)\n",
      "Total number of samples:  2001\n",
      "\n",
      "\n",
      "\n",
      "Train object list created at: \n",
      "/home/haicu/jeronimo.carvajal/Thesis/data/processed0/deepFinder/object_lists/train_tomo02-03-04-17_309-618_309-618_100-350.xml\n",
      "\n",
      "Validation object list created at: \n",
      "/home/haicu/jeronimo.carvajal/Thesis/data/processed0/deepFinder/object_lists/validation_tomo10-32_309-618_309-618_100-350.xml\n"
     ]
    }
   ],
   "source": [
    "train_tomos = ['tomo02', 'tomo03', 'tomo04', 'tomo17']\n",
    "concat_train_ids = sorted([s.replace('tomo', '') for s in train_tomos])\n",
    "concat_train_ids = '-'.join(concat_train_ids)\n",
    "\n",
    "val_tomos = ['tomo32', 'tomo10']\n",
    "concat_val_ids = sorted([s.replace('tomo', '') for s in val_tomos])\n",
    "concat_val_ids = '-'.join(concat_val_ids)\n",
    "\n",
    "\n",
    "test_tomos = ['tomo38']\n",
    "\n",
    "crops_coords_str = '309-618_309-618_100-350'\n",
    "\n",
    "use_proxy_labels_for_train = False\n",
    "\n",
    "make_xml_objlist_from_crops(tomo_ids, tomo_idx, crops_coords_str, 3000, 2000, 0, use_proxy_labels_for_train,\n",
    "                            train_tomos, val_tomos, test_tomos)"
   ]
  },
  {
   "cell_type": "code",
   "execution_count": 3,
   "id": "69caf0ed-8fd0-45f6-8150-a2efdd4b6a84",
   "metadata": {},
   "outputs": [],
   "source": [
    "#### This only makes sense if ONE crop of each tomogram is used\n",
    "path_data = []\n",
    "path_target = []\n",
    "\n",
    "# For  baseline\n",
    "data_template_str = 'data/processed0/nnUnet/cET_cropped/%s_bin4_denoised_0000_%s.mrc'\n",
    "target_template_str = 'data/processed0/nnUnet/cET_cropped/%s_merged_thr02_lbl_%s.mrc'\n",
    "\n",
    "for tomo_id, deepFinder_idx in zip(tomo_ids, tomo_idx):\n",
    "\n",
    "    file_data = PARENT_PATH+data_template_str %(tomo_id, crops_coords_str)\n",
    "    file_target = PARENT_PATH+target_template_str %(tomo_id, crops_coords_str)\n",
    "    \n",
    "    path_data+=[file_data]\n",
    "    path_target+=[file_target]\n",
    "    \n",
    "path_objl_train = '../data/processed0/deepFinder/object_lists/train_tomo%s_%s.xml' %(concat_train_ids, crops_coords_str)\n",
    "path_objl_valid = '../data/processed0/deepFinder/object_lists/validation_tomo%s_%s.xml' %(concat_val_ids, crops_coords_str)\n",
    "\n",
    "# Load object lists:\n",
    "objl_train = ol.read_xml(path_objl_train)\n",
    "objl_valid = ol.read_xml(path_objl_valid)\n",
    "\n",
    "random.seed(1)\n",
    "\n",
    "rsample_train = random.sample(objl_train, 500)\n",
    "rsample_val = random.sample(objl_valid, 300)"
   ]
  },
  {
   "cell_type": "code",
   "execution_count": null,
   "id": "98d0667b-a1e2-42e5-8428-967a23eb73de",
   "metadata": {},
   "outputs": [
    {
     "name": "stderr",
     "output_type": "stream",
     "text": [
      "GPU available: True, used: True\n",
      "TPU available: False, using: 0 TPU cores\n",
      "LOCAL_RANK: 0 - CUDA_VISIBLE_DEVICES: [0,1,2]\n",
      "Set SLURM handle signals.\n",
      "\n",
      "  | Name    | Type         | Params\n",
      "-----------------------------------------\n",
      "0 | loss_fn | Tversky_loss | 0     \n",
      "1 | layer1  | Sequential   | 28.6 K\n",
      "2 | layer2  | Sequential   | 103 K \n",
      "3 | layer3  | Sequential   | 558 K \n",
      "4 | layer4  | Sequential   | 288 K \n",
      "5 | layer5  | Sequential   | 96.9 K\n",
      "-----------------------------------------\n",
      "1.1 M     Trainable params\n",
      "0         Non-trainable params\n",
      "1.1 M     Total params\n",
      "4.304     Total estimated model params size (MB)\n"
     ]
    },
    {
     "name": "stdout",
     "output_type": "stream",
     "text": [
      "\"Ncl\":           2\n",
      "\"loss_fn\":       Tversky_loss()\n",
      "\"lr\":            0.0001\n",
      "\"pretrain_type\": None\n",
      "\"weight_decay\":  0.0\n"
     ]
    }
   ],
   "source": [
    "tb_logdir = './logs/2.00_baselineModel/'\n",
    "\n",
    "trainer = make_trainer(dim_in=56, batch_size=32, lr=1e-4, epochs=600, tb_logdir=tb_logdir, model_name='2.00_baselineModel',\n",
    "                       reconstruction_trainer=False, pretrained_model=None)\n",
    "trainer.launch(path_data, path_target, rsample_train, rsample_val)"
   ]
  },
  {
   "cell_type": "markdown",
   "id": "3f42b343-0281-48bf-bf65-0f10997c9c8e",
   "metadata": {},
   "source": [
    "# Low Baseline model"
   ]
  },
  {
   "cell_type": "code",
   "execution_count": 9,
   "id": "82d21915-026e-484b-88eb-bd91e9afe067",
   "metadata": {},
   "outputs": [
    {
     "name": "stdout",
     "output_type": "stream",
     "text": [
      "######################## TRAIN TOMOGRAM ######################\n",
      "Generating object list for tomo02\n",
      "Tomogram shape:  (250, 309, 309)\n",
      "Total number of samples:  3001\n",
      "\n",
      "\n",
      "######################## VALIDATION TOMOGRAM ######################\n",
      "Generating object list for tomo10\n",
      "Tomogram shape:  (250, 309, 309)\n",
      "Total number of samples:  2001\n",
      "\n",
      "\n",
      "######################## VALIDATION TOMOGRAM ######################\n",
      "Generating object list for tomo32\n",
      "Tomogram shape:  (250, 309, 309)\n",
      "Total number of samples:  2001\n",
      "\n",
      "\n",
      "\n",
      "Train object list created at: \n",
      "/home/haicu/jeronimo.carvajal/Thesis/data/processed0/deepFinder/object_lists/train_tomo02_309-618_309-618_100-350.xml\n",
      "\n",
      "Validation object list created at: \n",
      "/home/haicu/jeronimo.carvajal/Thesis/data/processed0/deepFinder/object_lists/validation_tomo10-32_309-618_309-618_100-350.xml\n"
     ]
    }
   ],
   "source": [
    "train_tomos = ['tomo02']\n",
    "concat_train_ids = sorted([s.replace('tomo', '') for s in train_tomos])\n",
    "concat_train_ids = '-'.join(concat_train_ids)\n",
    "\n",
    "val_tomos = ['tomo32', 'tomo10']\n",
    "concat_val_ids = sorted([s.replace('tomo', '') for s in val_tomos])\n",
    "concat_val_ids = '-'.join(concat_val_ids)\n",
    "\n",
    "\n",
    "test_tomos = ['tomo38']\n",
    "\n",
    "crops_coords_str = '309-618_309-618_100-350'\n",
    "\n",
    "use_proxy_labels_for_train = False\n",
    "\n",
    "make_xml_objlist_from_crops(tomo_ids, tomo_idx, crops_coords_str, 3000, 2000, 0, use_proxy_labels_for_train,\n",
    "                            train_tomos, val_tomos, test_tomos)"
   ]
  },
  {
   "cell_type": "code",
   "execution_count": 10,
   "id": "fd09b33b-a0ba-45a2-b281-ab63463a22b9",
   "metadata": {},
   "outputs": [],
   "source": [
    "#### This only makes sense if ONE crop of each tomogram is used\n",
    "path_data = []\n",
    "path_target = []\n",
    "\n",
    "# For  baseline\n",
    "data_template_str = 'data/processed0/nnUnet/cET_cropped/%s_bin4_denoised_0000_%s.mrc'\n",
    "target_template_str = 'data/processed0/nnUnet/cET_cropped/%s_merged_thr02_lbl_%s.mrc'\n",
    "\n",
    "for tomo_id, deepFinder_idx in zip(tomo_ids, tomo_idx):\n",
    "\n",
    "    file_data = PARENT_PATH+data_template_str %(tomo_id, crops_coords_str)\n",
    "    file_target = PARENT_PATH+target_template_str %(tomo_id, crops_coords_str)\n",
    "    \n",
    "    path_data+=[file_data]\n",
    "    path_target+=[file_target]\n",
    "    \n",
    "path_objl_train = '../data/processed0/deepFinder/object_lists/train_tomo%s_%s.xml' %(concat_train_ids, crops_coords_str)\n",
    "path_objl_valid = '../data/processed0/deepFinder/object_lists/validation_tomo%s_%s.xml' %(concat_val_ids, crops_coords_str)\n",
    "\n",
    "# Load object lists:\n",
    "objl_train = ol.read_xml(path_objl_train)\n",
    "objl_valid = ol.read_xml(path_objl_valid)\n",
    "\n",
    "random.seed(1)\n",
    "\n",
    "rsample_train = random.sample(objl_train, 500)\n",
    "rsample_val = random.sample(objl_valid, 300)"
   ]
  },
  {
   "cell_type": "code",
   "execution_count": null,
   "id": "6973e2dc-1827-4c22-b9fc-26ad4a5ae4f8",
   "metadata": {
    "tags": []
   },
   "outputs": [
    {
     "name": "stderr",
     "output_type": "stream",
     "text": [
      "GPU available: True, used: True\n",
      "TPU available: False, using: 0 TPU cores\n",
      "LOCAL_RANK: 0 - CUDA_VISIBLE_DEVICES: [0,1,2]\n",
      "Set SLURM handle signals.\n",
      "\n",
      "  | Name    | Type         | Params\n",
      "-----------------------------------------\n",
      "0 | loss_fn | Tversky_loss | 0     \n",
      "1 | layer1  | Sequential   | 28.6 K\n",
      "2 | layer2  | Sequential   | 103 K \n",
      "3 | layer3  | Sequential   | 558 K \n",
      "4 | layer4  | Sequential   | 288 K \n",
      "5 | layer5  | Sequential   | 96.9 K\n",
      "-----------------------------------------\n",
      "1.1 M     Trainable params\n",
      "0         Non-trainable params\n",
      "1.1 M     Total params\n",
      "4.304     Total estimated model params size (MB)\n"
     ]
    },
    {
     "name": "stdout",
     "output_type": "stream",
     "text": [
      "\"Ncl\":           2\n",
      "\"loss_fn\":       Tversky_loss()\n",
      "\"lr\":            0.0001\n",
      "\"pretrain_type\": None\n",
      "\"weight_decay\":  0.0\n"
     ]
    }
   ],
   "source": [
    "tb_logdir = './logs/2.00_lowBaselineModel/'\n",
    "\n",
    "trainer = make_trainer(dim_in=56, batch_size=32, lr=1e-4, epochs=600, tb_logdir=tb_logdir, model_name='2.00_lowBaselineModel',\n",
    "                       reconstruction_trainer=False, pretrained_model=None)\n",
    "trainer.launch(path_data, path_target, rsample_train, rsample_val)"
   ]
  },
  {
   "cell_type": "code",
   "execution_count": null,
   "id": "d7dc2ca0-d553-42d7-8ae9-e67bc4446ee6",
   "metadata": {},
   "outputs": [],
   "source": []
  }
 ],
 "metadata": {
  "kernelspec": {
   "display_name": "Python 3",
   "language": "python",
   "name": "python3"
  },
  "language_info": {
   "codemirror_mode": {
    "name": "ipython",
    "version": 3
   },
   "file_extension": ".py",
   "mimetype": "text/x-python",
   "name": "python",
   "nbconvert_exporter": "python",
   "pygments_lexer": "ipython3",
   "version": "3.6.15"
  }
 },
 "nbformat": 4,
 "nbformat_minor": 5
}
