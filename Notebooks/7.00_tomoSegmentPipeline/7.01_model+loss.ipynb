{
 "cells": [
  {
   "cell_type": "code",
   "execution_count": 1,
   "id": "17796171-e08f-4e65-8ed5-cda095d2d5e9",
   "metadata": {},
   "outputs": [],
   "source": [
    "from tomoSegmentPipeline.utils.common import read_array, write_array\n",
    "from tomoSegmentPipeline.utils import setup\n",
    "from tomoSegmentPipeline.dataloader import tomoSegment_dataset\n",
    "from cryoS2Sdrop.analyze import plot_centralSlices\n",
    "from tomoSegmentPipeline.model import DeepFinder_model\n",
    "from tomoSegmentPipeline.losses import Tversky_loss, Tversky1_loss\n",
    "\n",
    "import numpy as np\n",
    "import matplotlib.pyplot as plt\n",
    "import torch\n",
    "import os\n",
    "from torch.utils.data import Dataset, DataLoader\n",
    "from torchinfo import summary\n",
    "\n",
    "PARENT_PATH = setup.PARENT_PATH\n",
    "\n",
    "%matplotlib inline\n",
    "%config Completer.use_jedi = False\n",
    "%load_ext autoreload\n",
    "%autoreload 2"
   ]
  },
  {
   "cell_type": "code",
   "execution_count": 2,
   "id": "8ca380e2-3a63-42b5-ba2a-1b9396cec0fa",
   "metadata": {},
   "outputs": [
    {
     "data": {
      "text/plain": [
       "152"
      ]
     },
     "execution_count": 2,
     "metadata": {},
     "output_type": "execute_result"
    }
   ],
   "source": [
    "path_data, path_target = setup.get_paths(['tomo02', 'tomo04'], 'rawCET')\n",
    "\n",
    "Ncl = 2\n",
    "dim_in = 84\n",
    "lr = 1e-4\n",
    "weight_decay = 0\n",
    "Lrnd = 0\n",
    "augment_data = False\n",
    "\n",
    "my_dataset = tomoSegment_dataset(path_data, path_target, dim_in, Ncl, Lrnd, augment_data)\n",
    "len(my_dataset)"
   ]
  },
  {
   "cell_type": "code",
   "execution_count": 3,
   "id": "0699fd8d-eafb-4ef0-b765-abb1a87ea0e4",
   "metadata": {},
   "outputs": [],
   "source": [
    "batch_size = 2\n",
    "dloader = DataLoader(my_dataset, batch_size=batch_size, shuffle=False, pin_memory=True)"
   ]
  },
  {
   "cell_type": "code",
   "execution_count": 4,
   "id": "7c47bc90-3ded-4714-bfdc-29a2cfdee5d8",
   "metadata": {},
   "outputs": [
    {
     "name": "stdout",
     "output_type": "stream",
     "text": [
      "torch.Size([2, 1, 84, 84, 84]) torch.Size([2, 3, 84, 84, 84])\n"
     ]
    }
   ],
   "source": [
    "for batch in dloader:\n",
    "    data, target = batch\n",
    "    print(data.shape, target.shape)\n",
    "    break"
   ]
  },
  {
   "cell_type": "markdown",
   "id": "ff267177-9c93-4c62-b2b8-1126becb2c04",
   "metadata": {},
   "source": [
    "# Model"
   ]
  },
  {
   "cell_type": "code",
   "execution_count": 5,
   "id": "91228ff7-6578-42a9-946b-fc35e2d355c0",
   "metadata": {},
   "outputs": [],
   "source": [
    "Ncl = 2\n",
    "dim_in = 84\n",
    "lr = 1e-4\n",
    "weight_decay = 0\n",
    "Lrnd = 18\n",
    "augment_data = True\n",
    "batch_size = 22\n",
    "pretrain_type = None\n",
    "loss_fn = Tversky_loss()\n",
    "\n",
    "model = DeepFinder_model(Ncl, loss_fn, lr, weight_decay, pretrain_type)"
   ]
  },
  {
   "cell_type": "code",
   "execution_count": 21,
   "id": "b50957ec-0087-4813-afeb-4afc7da50066",
   "metadata": {
    "tags": []
   },
   "outputs": [
    {
     "data": {
      "text/plain": [
       "torch.Size([2, 2, 84, 84, 84])"
      ]
     },
     "execution_count": 21,
     "metadata": {},
     "output_type": "execute_result"
    }
   ],
   "source": [
    "model(data).shape"
   ]
  },
  {
   "cell_type": "code",
   "execution_count": 22,
   "id": "d393d47c-5c4f-4e8a-820a-582c071ef732",
   "metadata": {},
   "outputs": [
    {
     "data": {
      "text/plain": [
       "==========================================================================================\n",
       "Layer (type:depth-idx)                   Output Shape              Param #\n",
       "==========================================================================================\n",
       "DeepFinder_model                         [22, 2, 84, 84, 84]       --\n",
       "├─Tversky_loss: 1-1                      --                        --\n",
       "├─Sequential: 1-2                        [22, 32, 84, 84, 84]      --\n",
       "│    └─Conv3d: 2-1                       [22, 32, 84, 84, 84]      896\n",
       "│    └─ReLU: 2-2                         [22, 32, 84, 84, 84]      --\n",
       "│    └─Conv3d: 2-3                       [22, 32, 84, 84, 84]      27,680\n",
       "│    └─ReLU: 2-4                         [22, 32, 84, 84, 84]      --\n",
       "├─Sequential: 1-3                        [22, 48, 42, 42, 42]      --\n",
       "│    └─MaxPool3d: 2-5                    [22, 32, 42, 42, 42]      --\n",
       "│    └─Conv3d: 2-6                       [22, 48, 42, 42, 42]      41,520\n",
       "│    └─ReLU: 2-7                         [22, 48, 42, 42, 42]      --\n",
       "│    └─Conv3d: 2-8                       [22, 48, 42, 42, 42]      62,256\n",
       "│    └─ReLU: 2-9                         [22, 48, 42, 42, 42]      --\n",
       "├─Sequential: 1-4                        [22, 64, 42, 42, 42]      --\n",
       "│    └─MaxPool3d: 2-10                   [22, 48, 21, 21, 21]      --\n",
       "│    └─Conv3d: 2-11                      [22, 64, 21, 21, 21]      83,008\n",
       "│    └─ReLU: 2-12                        [22, 64, 21, 21, 21]      --\n",
       "│    └─Conv3d: 2-13                      [22, 64, 21, 21, 21]      110,656\n",
       "│    └─ReLU: 2-14                        [22, 64, 21, 21, 21]      --\n",
       "│    └─Conv3d: 2-15                      [22, 64, 21, 21, 21]      110,656\n",
       "│    └─ReLU: 2-16                        [22, 64, 21, 21, 21]      --\n",
       "│    └─Conv3d: 2-17                      [22, 64, 21, 21, 21]      110,656\n",
       "│    └─ReLU: 2-18                        [22, 64, 21, 21, 21]      --\n",
       "│    └─ConvTranspose3d: 2-19             [22, 64, 42, 42, 42]      32,832\n",
       "├─Sequential: 1-5                        [22, 48, 84, 84, 84]      --\n",
       "│    └─Conv3d: 2-20                      [22, 48, 42, 42, 42]      145,200\n",
       "│    └─ReLU: 2-21                        [22, 48, 42, 42, 42]      --\n",
       "│    └─Conv3d: 2-22                      [22, 48, 42, 42, 42]      62,256\n",
       "│    └─ReLU: 2-23                        [22, 48, 42, 42, 42]      --\n",
       "│    └─ConvTranspose3d: 2-24             [22, 48, 84, 84, 84]      18,480\n",
       "├─Sequential: 1-6                        [22, 2, 84, 84, 84]       --\n",
       "│    └─Conv3d: 2-25                      [22, 32, 84, 84, 84]      69,152\n",
       "│    └─ReLU: 2-26                        [22, 32, 84, 84, 84]      --\n",
       "│    └─Conv3d: 2-27                      [22, 32, 84, 84, 84]      27,680\n",
       "│    └─ReLU: 2-28                        [22, 32, 84, 84, 84]      --\n",
       "│    └─Conv3d: 2-29                      [22, 2, 84, 84, 84]       66\n",
       "│    └─Softmax: 2-30                     [22, 2, 84, 84, 84]       --\n",
       "==========================================================================================\n",
       "Total params: 902,994\n",
       "Trainable params: 902,994\n",
       "Non-trainable params: 0\n",
       "Total mult-adds (T): 2.52\n",
       "==========================================================================================\n",
       "Input size (MB): 52.16\n",
       "Forward/backward pass size (MB): 22323.60\n",
       "Params size (MB): 3.61\n",
       "Estimated Total Size (MB): 22379.37\n",
       "=========================================================================================="
      ]
     },
     "execution_count": 22,
     "metadata": {},
     "output_type": "execute_result"
    }
   ],
   "source": [
    "summary(model, (batch_size, 1, dim_in, dim_in, dim_in), device='cpu')"
   ]
  },
  {
   "cell_type": "code",
   "execution_count": null,
   "id": "afca51e0-5607-4874-b3f0-07915643327f",
   "metadata": {},
   "outputs": [],
   "source": []
  },
  {
   "cell_type": "code",
   "execution_count": null,
   "id": "d3f1da94-5cf2-4c90-9911-9b7e6d9f45ae",
   "metadata": {},
   "outputs": [],
   "source": []
  },
  {
   "cell_type": "markdown",
   "id": "c30a7dca-d3e1-4ba1-95b7-64d4595fc66f",
   "metadata": {},
   "source": [
    "# Loss function"
   ]
  },
  {
   "cell_type": "code",
   "execution_count": 6,
   "id": "793e353f-4287-440c-9703-ef519a3e43d6",
   "metadata": {},
   "outputs": [],
   "source": [
    "loss = Tversky_loss()\n",
    "pred = model(data)"
   ]
  },
  {
   "cell_type": "code",
   "execution_count": 7,
   "id": "385d6981-75b4-4b7c-b3c1-d57249113ad1",
   "metadata": {},
   "outputs": [
    {
     "data": {
      "text/plain": [
       "tensor(1.1595, device='cuda:0', grad_fn=<RsubBackward1>)"
      ]
     },
     "execution_count": 7,
     "metadata": {},
     "output_type": "execute_result"
    }
   ],
   "source": [
    "loss(pred.cuda(), target.cuda())"
   ]
  },
  {
   "cell_type": "code",
   "execution_count": 8,
   "id": "9ae04bc9-b199-494c-9d03-ed2eaf3e8199",
   "metadata": {},
   "outputs": [
    {
     "data": {
      "text/plain": [
       "tensor(0., device='cuda:0')"
      ]
     },
     "execution_count": 8,
     "metadata": {},
     "output_type": "execute_result"
    }
   ],
   "source": [
    "loss(target.cuda(), target.cuda())"
   ]
  },
  {
   "cell_type": "code",
   "execution_count": 9,
   "id": "1b57e401-75d3-43d8-8709-382ea2a4aefc",
   "metadata": {},
   "outputs": [
    {
     "data": {
      "text/plain": [
       "tensor(0.7437, device='cuda:0', grad_fn=<RsubBackward1>)"
      ]
     },
     "execution_count": 9,
     "metadata": {},
     "output_type": "execute_result"
    }
   ],
   "source": [
    "loss = Tversky1_loss()\n",
    "loss(pred.cuda(), target.cuda())"
   ]
  },
  {
   "cell_type": "code",
   "execution_count": null,
   "id": "347ec0e2-29e8-4c21-a229-1704a048804a",
   "metadata": {},
   "outputs": [],
   "source": []
  }
 ],
 "metadata": {
  "kernelspec": {
   "display_name": "Python 3 (ipykernel)",
   "language": "python",
   "name": "python3"
  },
  "language_info": {
   "codemirror_mode": {
    "name": "ipython",
    "version": 3
   },
   "file_extension": ".py",
   "mimetype": "text/x-python",
   "name": "python",
   "nbconvert_exporter": "python",
   "pygments_lexer": "ipython3",
   "version": "3.9.12"
  }
 },
 "nbformat": 4,
 "nbformat_minor": 5
}
