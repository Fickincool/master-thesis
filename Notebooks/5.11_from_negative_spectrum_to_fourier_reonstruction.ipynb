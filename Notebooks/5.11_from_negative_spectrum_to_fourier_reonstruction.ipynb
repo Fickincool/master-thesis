{
 "cells": [
  {
   "cell_type": "code",
   "execution_count": 1,
   "id": "69dd354c-7034-4ffc-9102-db88b6959bbf",
   "metadata": {},
   "outputs": [],
   "source": [
    "from tomoSegmentPipeline.utils.common import read_array, write_array\n",
    "from tomoSegmentPipeline.utils import setup\n",
    "\n",
    "from mwReconstruction.dataloader import destripeDataSet\n",
    "from mwReconstruction.model import *\n",
    "\n",
    "import numpy as np\n",
    "import matplotlib.pyplot as plt\n",
    "import random\n",
    "import mrcfile\n",
    "import pandas as pd\n",
    "import torch\n",
    "from torch.utils.data import Dataset\n",
    "import os\n",
    "from glob import glob\n",
    "import scipy.io as io\n",
    "# from skimage.metrics import structural_similarity as ssim\n",
    "# from skimage.metrics import normalized_mutual_information as nmi\n",
    "from scipy import ndimage\n",
    "from joblib import Parallel, delayed\n",
    "\n",
    "from PIL import Image\n",
    "\n",
    "PARENT_PATH = setup.PARENT_PATH\n",
    "ISONET_PATH = os.path.join(PARENT_PATH, 'data/isoNet/')\n",
    "\n",
    "%matplotlib inline\n",
    "%config Completer.use_jedi = False\n",
    "%load_ext autoreload\n",
    "%autoreload 2"
   ]
  },
  {
   "cell_type": "code",
   "execution_count": 57,
   "id": "28da9a85-54b0-4fa8-aa00-7bea6761e4bc",
   "metadata": {},
   "outputs": [
    {
     "data": {
      "text/plain": [
       "<matplotlib.image.AxesImage at 0x7fd970d9c280>"
      ]
     },
     "execution_count": 57,
     "metadata": {},
     "output_type": "execute_result"
    },
    {
     "data": {
      "image/png": "[encoded data removed]",
      "text/plain": [
       "<Figure size 432x288 with 1 Axes>"
      ]
     },
     "metadata": {
      "needs_background": "light"
     },
     "output_type": "display_data"
    }
   ],
   "source": [
    "# X = np.array(Image.open(os.path.join(PARENT_PATH, 'data/sample_small_image.png')))[:,:,1]\n",
    "X = torch.rand(4, 4)\n",
    "fX = fft.fftshift(fft.fft2(X))\n",
    "m,n = X.shape\n",
    "\n",
    "dummy_symmatrix = make_symmatrix(n, m)\n",
    "dummy_symmask = torch.from_numpy(dummy_symmatrix).float()\n",
    "\n",
    "plt.imshow(X)"
   ]
  },
  {
   "cell_type": "code",
   "execution_count": 66,
   "id": "a30d8656-2be4-4371-bb38-3695bcf9f697",
   "metadata": {},
   "outputs": [
    {
     "data": {
      "text/plain": [
       "5"
      ]
     },
     "execution_count": 66,
     "metadata": {},
     "output_type": "execute_result"
    }
   ],
   "source": [
    "r = m+1 if m%2==0 else m\n",
    "r"
   ]
  },
  {
   "cell_type": "code",
   "execution_count": 58,
   "id": "c5cac60a-633a-4435-a754-fa7ab5c8d7b8",
   "metadata": {},
   "outputs": [],
   "source": [
    "def neg2full_spectrum(x_neg, m, n):\n",
    "    if m%2==0:\n",
    "        r = m+1\n",
    "    else:\n",
    "        r = m\n",
    "\n",
    "    if n%2==0:\n",
    "        s = n+1\n",
    "    else:\n",
    "        s = n\n",
    "\n",
    "    aux_symmatrix = make_symmatrix(s, r)\n",
    "    aux_symmask = torch.from_numpy(aux_symmatrix).float()\n",
    "    \n",
    "    x_neg = x_neg.repeat(2)[0:(aux_symmask==-1).sum()]\n",
    "\n",
    "    new_img = (aux_symmask).type(torch.complex128)\n",
    "    new_img[torch.where(aux_symmask==-1)] = x_neg.type(torch.complex128)\n",
    "\n",
    "    new_img = torch.flip(new_img, [0, 1])\n",
    "\n",
    "    new_img[torch.where(new_img==1)] = torch.conj(x_neg).type(torch.complex128)\n",
    "    new_img = torch.flip(new_img, [1, 0])\n",
    "\n",
    "    new_img[r//2, s//2] = X.sum()\n",
    "\n",
    "    return new_img[0:m, 0:n]"
   ]
  },
  {
   "cell_type": "code",
   "execution_count": 59,
   "id": "9209ac32-7be6-4dd9-b637-f4ac11fb47c0",
   "metadata": {},
   "outputs": [
    {
     "data": {
      "text/plain": [
       "tensor([-0.4467+0.0000j, -0.7431+0.1997j,  1.1546+0.0000j, -0.9834+0.2074j,\n",
       "         0.0886+1.9040j, -0.6223+1.5191j, -1.0584+0.0000j,  0.0029-0.9336j,\n",
       "        -0.9834-0.2074j,  0.3040+0.6584j])"
      ]
     },
     "execution_count": 59,
     "metadata": {},
     "output_type": "execute_result"
    }
   ],
   "source": [
    "x_neg = fX[dummy_symmask==-1]\n",
    "x_neg"
   ]
  },
  {
   "cell_type": "code",
   "execution_count": 65,
   "id": "aa07cea7-4038-42f3-b459-08bdebaa5ba3",
   "metadata": {},
   "outputs": [
    {
     "data": {
      "text/plain": [
       "<matplotlib.image.AxesImage at 0x7fd95ebbf160>"
      ]
     },
     "execution_count": 65,
     "metadata": {},
     "output_type": "execute_result"
    },
    {
     "data": {
      "image/png": "[encoded data removed]",
      "text/plain": [
       "<Figure size 432x288 with 2 Axes>"
      ]
     },
     "metadata": {
      "needs_background": "light"
     },
     "output_type": "display_data"
    }
   ],
   "source": [
    "new_img = neg2full_spectrum(x_neg, m, n)\n",
    "\n",
    "fig, (ax0, ax1) = plt.subplots(1, 2)\n",
    "ax0.imshow(torch.abs(fX))\n",
    "ax1.imshow(torch.abs(new_img))"
   ]
  },
  {
   "cell_type": "code",
   "execution_count": 62,
   "id": "3d3c548c-54e1-43a0-8275-ec80b7d5fa4a",
   "metadata": {},
   "outputs": [
    {
     "data": {
      "text/plain": [
       "<matplotlib.image.AxesImage at 0x7fd970dad7f0>"
      ]
     },
     "execution_count": 62,
     "metadata": {},
     "output_type": "execute_result"
    },
    {
     "data": {
      "image/png": "[encoded data removed]",
      "text/plain": [
       "<Figure size 432x288 with 2 Axes>"
      ]
     },
     "metadata": {
      "needs_background": "light"
     },
     "output_type": "display_data"
    }
   ],
   "source": [
    "fig, (ax0, ax1) = plt.subplots(1, 2)\n",
    "ax0.imshow(fft.ifft2(fft.ifftshift(fX)).real)\n",
    "ax1.imshow(fft.ifft2(fft.ifftshift(new_img)).real)"
   ]
  },
  {
   "cell_type": "code",
   "execution_count": null,
   "id": "1d31ab58-e3e6-4d18-a841-538b125ff423",
   "metadata": {},
   "outputs": [],
   "source": []
  }
 ],
 "metadata": {
  "kernelspec": {
   "display_name": "Python 3 (ipykernel)",
   "language": "python",
   "name": "python3"
  },
  "language_info": {
   "codemirror_mode": {
    "name": "ipython",
    "version": 3
   },
   "file_extension": ".py",
   "mimetype": "text/x-python",
   "name": "python",
   "nbconvert_exporter": "python",
   "pygments_lexer": "ipython3",
   "version": "3.9.12"
  }
 },
 "nbformat": 4,
 "nbformat_minor": 5
}
