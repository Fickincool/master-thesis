{
 "cells": [
  {
   "cell_type": "code",
   "execution_count": 1,
   "id": "c0715ea8-7027-4498-be79-1b8d6f50d78c",
   "metadata": {},
   "outputs": [],
   "source": [
    "from cryoS2Sdrop.analyze import *\n",
    "from cryoS2Sdrop.deconvolution import tom_deconv_tomo\n",
    "from skimage import exposure\n",
    "\n",
    "PARENT_PATH = setup.PARENT_PATH\n",
    "\n",
    "pd.options.display.float_format = \"{:,.6f}\".format\n",
    "pd.set_option('display.max_columns', 50)\n",
    "\n",
    "%matplotlib inline\n",
    "%config Completer.use_jedi = False\n",
    "%load_ext autoreload\n",
    "%autoreload 2\n",
    "\n",
    "def plot_centralSlices(tomo_data, set_axis_off, names=None):\n",
    "    shape = np.array(tomo_data.shape)\n",
    "    idx_central_slices = shape//2\n",
    "    ratios = shape/shape.max()\n",
    "    \n",
    "    fig, ax = plt.subplots(1, 3, figsize=(25, 10), gridspec_kw={'width_ratios': ratios})  \n",
    "    if set_axis_off:\n",
    "        list(map(lambda axi: axi.set_axis_off(), ax.ravel()))\n",
    "        \n",
    "    plt.tight_layout()\n",
    "    \n",
    "    if names is None:\n",
    "        names = ['Central XY plane', 'Central ZX plane', 'Central ZY plane']\n",
    "    \n",
    "    for i in range(3):\n",
    "        tomo_slice = np.take(tomo_data, idx_central_slices[i], axis=i)\n",
    "        ax[i].imshow(tomo_slice)\n",
    "        ax[i].set_title(names[i], fontsize=16)\n",
    "    \n",
    "    plt.show()\n",
    "    \n",
    "    return fig, ax\n",
    "\n",
    "def make_shell(inner_radius, outer_radius, tomo_shape):\n",
    "    \"\"\"\n",
    "    Creates a (3D) shell with given inner_radius and delta_r width centered at the middle of the array.\n",
    "\n",
    "    \"\"\"\n",
    "\n",
    "    length = min(tomo_shape)\n",
    "    if length % 2 == 1:\n",
    "        length = length - 1\n",
    "\n",
    "    mask_shape = len(tomo_shape) * [length]\n",
    "    _shell_mask = np.zeros(mask_shape)\n",
    "\n",
    "    # only do positive quadrant first\n",
    "    for z in range(0, outer_radius + 1):\n",
    "        for y in range(0, outer_radius + 1):\n",
    "            for x in range(0, outer_radius + 1):\n",
    "\n",
    "                r = np.linalg.norm([z, y, x])\n",
    "\n",
    "                if r >= inner_radius and r < outer_radius:\n",
    "                    zidx = z + length // 2\n",
    "                    yidx = y + length // 2\n",
    "                    xidx = x + length // 2\n",
    "\n",
    "                    _shell_mask[zidx, yidx, xidx] = 1\n",
    "\n",
    "    aux = (\n",
    "        np.rot90(_shell_mask, axes=(0, 1))\n",
    "        + np.rot90(_shell_mask, 2, axes=(0, 1))\n",
    "        + np.rot90(_shell_mask, 3, axes=(0, 1))\n",
    "    )\n",
    "\n",
    "    _shell_mask = _shell_mask + aux  # this is half the volume\n",
    "\n",
    "    aux = np.rot90(\n",
    "        _shell_mask, 2, axes=(1, 2)\n",
    "    )  # rotate again 180º to get full volume\n",
    "\n",
    "    aux2 = _shell_mask + aux\n",
    "\n",
    "    if inner_radius == 0:\n",
    "        vol = 4 / 3 * np.pi * outer_radius**3\n",
    "        pct_diff = (vol - aux2.sum()) / vol\n",
    "        if pct_diff > 0.1:\n",
    "            print(pct_diff)\n",
    "            raise ValueError(\"Sanity check for sphere volume not passed\")\n",
    "\n",
    "    # finally, fill the actual shape of the tomogram with the mask\n",
    "    shell_mask = np.zeros(tomo_shape)\n",
    "    shell_mask[\n",
    "        (tomo_shape[0] - length) // 2 : (tomo_shape[0] + length) // 2,\n",
    "        (tomo_shape[1] - length) // 2 : (tomo_shape[1] + length) // 2,\n",
    "        (tomo_shape[2] - length) // 2 : (tomo_shape[2] + length) // 2,\n",
    "    ] = aux2\n",
    "\n",
    "    return shell_mask\n",
    "\n",
    "def create_hiFreqMask(tomo_shape, fourier_tomo_shape):\n",
    "    \"Randomly mask high frequencies with a sphere\"\n",
    "    inner = 0\n",
    "    shape_vol = np.array(tomo_shape).prod()\n",
    "    low_r = (0.05 * 3/(4*np.pi) * shape_vol)**(1/3)\n",
    "    high_r = (0.1 * 3/(4*np.pi) * shape_vol)**(1/3)\n",
    "    outer = np.random.uniform(low_r, high_r)\n",
    "    outer = int(np.round(outer))\n",
    "    \n",
    "    shell_mask = make_shell(inner, outer, tomo_shape)\n",
    "    # up to this point we have a shell for the shifted (centered) full spectrum\n",
    "    shell_mask = torch.tensor(shell_mask)\n",
    "    # # make shell correspond to the unshifted spectrum\n",
    "    # shell_mask = torch.fft.ifftshift(shell_mask)\n",
    "    # # make it correspond to only real part of spectrum\n",
    "    # shell_mask = shell_mask[..., 0 : fourier_tomo_shape[-1]]\n",
    "\n",
    "    return shell_mask.float().numpy()"
   ]
  },
  {
   "cell_type": "code",
   "execution_count": 2,
   "id": "a1450b47-ccd5-4759-b4b0-7e52a01aa727",
   "metadata": {},
   "outputs": [
    {
     "data": {
      "image/png": "[encoded data removed]",
      "text/plain": [
       "<Figure size 1800x720 with 3 Axes>"
      ]
     },
     "metadata": {
      "needs_background": "light"
     },
     "output_type": "display_data"
    },
    {
     "data": {
      "text/plain": [
       "(<Figure size 1800x720 with 3 Axes>,\n",
       " array([<AxesSubplot:title={'center':'Central XY plane'}>,\n",
       "        <AxesSubplot:title={'center':'Central ZX plane'}>,\n",
       "        <AxesSubplot:title={'center':'Central ZY plane'}>], dtype=object))"
      ]
     },
     "execution_count": 2,
     "metadata": {},
     "output_type": "execute_result"
    }
   ],
   "source": [
    "tomo_shape = [500, 500, 500]\n",
    "shell = make_shell(0, 100, tomo_shape)\n",
    "\n",
    "plot_centralSlices(shell, False)"
   ]
  },
  {
   "cell_type": "code",
   "execution_count": 243,
   "id": "d0b12ff0-9224-4be3-a341-3a7bc2109780",
   "metadata": {},
   "outputs": [],
   "source": [
    "def _make_shell(inner_radius, outer_radius, tomo_shape):\n",
    "    \"\"\"\n",
    "    Creates a (3D) shell with given inner_radius and outer_radius centered at the middle of the array.\n",
    "\n",
    "    \"\"\"\n",
    "\n",
    "    length = min(tomo_shape)\n",
    "    if length % 2 == 1:\n",
    "        length = length - 1\n",
    "\n",
    "    mask_shape = len(tomo_shape) * [length]\n",
    "    _shell_mask = np.zeros(mask_shape)\n",
    "\n",
    "    # only do positive quadrant first\n",
    "    for z in range(0, outer_radius + 1):\n",
    "        for y in range(0, outer_radius + 1):\n",
    "            for x in range(0, outer_radius + 1):\n",
    "\n",
    "                r = np.linalg.norm([z, y, x])\n",
    "\n",
    "                if r >= inner_radius and r < outer_radius:\n",
    "                    zidx = z + length // 2\n",
    "                    yidx = y + length // 2\n",
    "                    xidx = x + length // 2\n",
    "\n",
    "                    _shell_mask[zidx, yidx, xidx] = 1\n",
    "\n",
    "    aux = (\n",
    "        np.rot90(_shell_mask, axes=(0, 1))\n",
    "        + np.rot90(_shell_mask, 2, axes=(0, 1))\n",
    "        + np.rot90(_shell_mask, 3, axes=(0, 1))\n",
    "    )\n",
    "\n",
    "    _shell_mask = _shell_mask + aux  # this is half the volume\n",
    "\n",
    "    aux = np.rot90(\n",
    "        _shell_mask, 2, axes=(1, 2)\n",
    "    )  # rotate again 180º to get full volume\n",
    "    \n",
    "    _shell_mask += aux\n",
    "    \n",
    "    return _shell_mask\n",
    "\n",
    "def make_shell2(inner_radius, outer_radius, tomo_shape, factor):\n",
    "    \"\"\"\n",
    "    Creates a (3D) shell with given inner_radius and delta_r width centered at the middle of the array.\n",
    "\n",
    "    \"\"\"\n",
    "    \n",
    "    length = min(tomo_shape)\n",
    "    if length % 2 == 1:\n",
    "        length = length - 1\n",
    "        \n",
    "    if 2*radius>length:\n",
    "        raise ValueErroreError('Cannot fit a bigger sphere than the smallest tomogram length.')\n",
    "    \n",
    "    if factor % 2 == 1:\n",
    "        raise ValueError('factor values must be divisible by 2')\n",
    "        \n",
    "    upsample = torch.nn.Upsample(scale_factor=factor)\n",
    "        \n",
    "    length_down = length//factor \n",
    "\n",
    "    mask_shape = len(tomo_shape) * [length_down]\n",
    "    \n",
    "    tomo_shape_down = np.array(tomo_shape)//factor\n",
    "    outer_radius_down = int(np.round(outer_radius/factor))\n",
    "    inner_radius_down = int(np.round(inner_radius/factor))\n",
    "\n",
    "    _shell_mask = _make_shell(inner_radius_down, outer_radius_down, tomo_shape_down)\n",
    "    \n",
    "    _shell_mask = torch.tensor(_shell_mask).unsqueeze(0).unsqueeze(0)\n",
    "    _shell_mask = upsample(_shell_mask).squeeze().numpy()\n",
    "\n",
    "    if inner_radius == 0:\n",
    "        vol = 4 / 3 * np.pi * outer_radius**3\n",
    "        pct_diff = (vol - _shell_mask.sum()) / vol\n",
    "        if pct_diff > 0.1:\n",
    "            print(pct_diff)\n",
    "            raise ValueError(\"Percentual difference between the created sphere and the actual volume of a sphere of the given radius is bigger than 0.1\")\n",
    "    \n",
    "    # finally, pad shape to correspond the original shape\n",
    "    shape_diff = np.array(tomo_shape) - np.array(_shell_mask.shape)\n",
    "    shape_diff = shape_diff//2 + 1\n",
    "    _shell_mask = np.pad(_shell_mask, [(shape_diff[0], ), (shape_diff[1], ), (shape_diff[2], )])\n",
    "\n",
    "    shell_mask =  _shell_mask[0:tomo_shape[0], 0:tomo_shape[1], 0:tomo_shape[2]]\n",
    "    \n",
    "    return shell_mask"
   ]
  },
  {
   "cell_type": "code",
   "execution_count": 246,
   "id": "029a986b-39e9-455f-bd6e-baed9d5cbbca",
   "metadata": {},
   "outputs": [
    {
     "name": "stdout",
     "output_type": "stream",
     "text": [
      "(464, 464, 464)\n"
     ]
    },
    {
     "data": {
      "image/png": "[encoded data removed]",
      "text/plain": [
       "<Figure size 1800x720 with 3 Axes>"
      ]
     },
     "metadata": {
      "needs_background": "light"
     },
     "output_type": "display_data"
    },
    {
     "data": {
      "text/plain": [
       "(<Figure size 1800x720 with 3 Axes>,\n",
       " array([<AxesSubplot:title={'center':'Central XY plane'}>,\n",
       "        <AxesSubplot:title={'center':'Central ZX plane'}>,\n",
       "        <AxesSubplot:title={'center':'Central ZY plane'}>], dtype=object))"
      ]
     },
     "execution_count": 246,
     "metadata": {},
     "output_type": "execute_result"
    }
   ],
   "source": [
    "tomo_shape = [464, 464, 464]\n",
    "\n",
    "shape_vol = np.array(tomo_shape).prod()\n",
    "low_r = (0.05 * 3/(4*np.pi) * shape_vol)**(1/3)\n",
    "high_r = (0.1 * 3/(4*np.pi) * shape_vol)**(1/3)\n",
    "radius = np.random.uniform(low_r, high_r)\n",
    "factor = 4\n",
    "\n",
    "shell2 = make_shell2(0, radius, tomo_shape, factor)\n",
    "\n",
    "\n",
    "print(shell2.shape)\n",
    "plot_centralSlices(shell2, False)"
   ]
  },
  {
   "cell_type": "code",
   "execution_count": 240,
   "id": "619b816b-9620-4c0e-9484-745b379fc620",
   "metadata": {},
   "outputs": [
    {
     "name": "stdout",
     "output_type": "stream",
     "text": [
      "53 s ± 1.65 s per loop (mean ± std. dev. of 7 runs, 1 loop each)\n"
     ]
    }
   ],
   "source": [
    "%%timeit \n",
    "make_shell2(0, radius, tomo_shape, factor=1)"
   ]
  },
  {
   "cell_type": "code",
   "execution_count": 229,
   "id": "a8cb3fe5-8218-4a69-a611-8c8d8faef29c",
   "metadata": {},
   "outputs": [
    {
     "name": "stdout",
     "output_type": "stream",
     "text": [
      "8.22 s ± 415 ms per loop (mean ± std. dev. of 7 runs, 1 loop each)\n"
     ]
    }
   ],
   "source": [
    "%%timeit \n",
    "make_shell2(0, radius, tomo_shape, factor=2)"
   ]
  },
  {
   "cell_type": "code",
   "execution_count": 230,
   "id": "fcaa512e-d0c9-4a8d-b709-3b42ef1c92dd",
   "metadata": {},
   "outputs": [
    {
     "name": "stdout",
     "output_type": "stream",
     "text": [
      "3.03 s ± 336 ms per loop (mean ± std. dev. of 7 runs, 1 loop each)\n"
     ]
    }
   ],
   "source": [
    "%%timeit\n",
    "make_shell2(0, radius, tomo_shape, factor=4)"
   ]
  },
  {
   "cell_type": "code",
   "execution_count": 221,
   "id": "7239f07c-2623-4b6b-8272-e1e9132d3069",
   "metadata": {},
   "outputs": [
    {
     "name": "stdout",
     "output_type": "stream",
     "text": [
      "43.2 s ± 966 ms per loop (mean ± std. dev. of 7 runs, 1 loop each)\n"
     ]
    }
   ],
   "source": [
    "%%timeit \n",
    "make_shell(0, int(radius), tomo_shape)"
   ]
  },
  {
   "cell_type": "code",
   "execution_count": 241,
   "id": "0e89d063-45ea-4848-a213-780b16c9007d",
   "metadata": {},
   "outputs": [],
   "source": [
    "def create_hiFreqMask2(tomo_shape, fourier_tomo_shape):\n",
    "    \"Randomly mask high frequencies with a sphere\"\n",
    "    inner = 0\n",
    "    shape_vol = np.array(tomo_shape).prod()\n",
    "    low_r = (0.05 * 3/(4*np.pi) * shape_vol)**(1/3)\n",
    "    high_r = (0.1 * 3/(4*np.pi) * shape_vol)**(1/3)\n",
    "    outer = np.random.uniform(low_r, high_r)\n",
    "    outer = int(np.round(outer))\n",
    "    \n",
    "    shell_mask = make_shell2(inner, outer, tomo_shape, 2)\n",
    "    # up to this point we have a shell for the shifted (centered) full spectrum\n",
    "    shell_mask = torch.tensor(shell_mask)\n",
    "    # # make shell correspond to the unshifted spectrum\n",
    "    # shell_mask = torch.fft.ifftshift(shell_mask)\n",
    "    # # make it correspond to only real part of spectrum\n",
    "    # shell_mask = shell_mask[..., 0 : fourier_tomo_shape[-1]]\n",
    "\n",
    "    return shell_mask.float().numpy()"
   ]
  },
  {
   "cell_type": "code",
   "execution_count": 242,
   "id": "a173571b-f5b7-49f2-9d43-2a757b3d2260",
   "metadata": {},
   "outputs": [
    {
     "data": {
      "text/plain": [
       "(464, 928, 928)"
      ]
     },
     "execution_count": 242,
     "metadata": {},
     "output_type": "execute_result"
    }
   ],
   "source": [
    "mask = create_hiFreqMask2(tomo_shape, tomo_shape)\n",
    "mask.shape"
   ]
  },
  {
   "cell_type": "code",
   "execution_count": null,
   "id": "d7afd2ff-bbf3-47d2-9c37-07eb12b2563b",
   "metadata": {},
   "outputs": [],
   "source": []
  },
  {
   "cell_type": "code",
   "execution_count": null,
   "id": "3e192850-9113-4473-b76e-713910faf5d3",
   "metadata": {},
   "outputs": [],
   "source": []
  },
  {
   "cell_type": "code",
   "execution_count": null,
   "id": "8a28b27b-523a-479d-906a-b4107531e1ca",
   "metadata": {},
   "outputs": [],
   "source": []
  },
  {
   "cell_type": "code",
   "execution_count": null,
   "id": "d5f26bb1-b314-430b-ae68-711c90f73215",
   "metadata": {},
   "outputs": [],
   "source": []
  },
  {
   "cell_type": "code",
   "execution_count": null,
   "id": "9a438594-2f23-43fa-b2da-1272ceb990cd",
   "metadata": {},
   "outputs": [],
   "source": []
  },
  {
   "cell_type": "code",
   "execution_count": null,
   "id": "6def0a88-07b8-458d-8409-39c5add588b7",
   "metadata": {},
   "outputs": [],
   "source": []
  },
  {
   "cell_type": "code",
   "execution_count": null,
   "id": "9f651812-2f67-478d-abae-1ccf212bbf84",
   "metadata": {},
   "outputs": [],
   "source": []
  },
  {
   "cell_type": "code",
   "execution_count": null,
   "id": "70610b3c-02ec-4e95-840e-781884db2ee9",
   "metadata": {},
   "outputs": [],
   "source": []
  },
  {
   "cell_type": "code",
   "execution_count": null,
   "id": "ca2b7c4b-6144-4f64-9230-a5e738698369",
   "metadata": {},
   "outputs": [],
   "source": []
  }
 ],
 "metadata": {
  "kernelspec": {
   "display_name": "jero",
   "language": "python",
   "name": "jero"
  },
  "language_info": {
   "codemirror_mode": {
    "name": "ipython",
    "version": 3
   },
   "file_extension": ".py",
   "mimetype": "text/x-python",
   "name": "python",
   "nbconvert_exporter": "python",
   "pygments_lexer": "ipython3",
   "version": "3.9.12"
  }
 },
 "nbformat": 4,
 "nbformat_minor": 5
}
