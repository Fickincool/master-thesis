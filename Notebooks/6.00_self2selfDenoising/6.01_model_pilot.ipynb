{
 "cells": [
  {
   "cell_type": "code",
   "execution_count": 1,
   "id": "0b90069e-fd5e-41a6-8043-ae18b31b9e74",
   "metadata": {},
   "outputs": [],
   "source": [
    "from tomoSegmentPipeline.utils.common import read_array, write_array\n",
    "from tomoSegmentPipeline.utils import setup\n",
    "from cryoS2Sdrop.dataloader import singleCET_dataset\n",
    "from cryoS2Sdrop.model import Denoising_UNet\n",
    "\n",
    "import numpy as np\n",
    "import matplotlib.pyplot as plt\n",
    "import torch\n",
    "from torch import nn\n",
    "from torchsummary import summary\n",
    "\n",
    "import os\n",
    "from torch.utils.data import Dataset, DataLoader\n",
    "\n",
    "PARENT_PATH = setup.PARENT_PATH\n",
    "ISONET_PATH = os.path.join(PARENT_PATH, 'data/isoNet/')\n",
    "\n",
    "%matplotlib inline\n",
    "%config Completer.use_jedi = False\n",
    "%load_ext autoreload\n",
    "%autoreload 2"
   ]
  },
  {
   "cell_type": "code",
   "execution_count": 2,
   "id": "b1aa33ef-31e7-426d-af2f-d6517ef3d476",
   "metadata": {},
   "outputs": [],
   "source": [
    "cet_path = os.path.join(PARENT_PATH, 'data/raw_cryo-ET/tomo02.mrc') \n",
    "p = 0.3\n",
    "n_samples = 5\n",
    "my_dataset = singleCET_dataset(cet_path, 128, p=p, n_samples=n_samples)"
   ]
  },
  {
   "cell_type": "code",
   "execution_count": 3,
   "id": "b24978d9-3c3c-4d3f-9abf-a57da1ef6212",
   "metadata": {},
   "outputs": [],
   "source": [
    "dloader = DataLoader(my_dataset, batch_size=1, shuffle=True, pin_memory=True)"
   ]
  },
  {
   "cell_type": "code",
   "execution_count": 4,
   "id": "2c2f636b-dc29-429b-a3b6-1bd98c19f541",
   "metadata": {},
   "outputs": [
    {
     "name": "stdout",
     "output_type": "stream",
     "text": [
      "torch.Size([1, 5, 128, 128, 128])\n"
     ]
    }
   ],
   "source": [
    "for batch in dloader:\n",
    "    subtomo, target, mask = batch\n",
    "    print(subtomo.shape)\n",
    "    break"
   ]
  },
  {
   "cell_type": "code",
   "execution_count": 12,
   "id": "e83baaca-aeeb-4b8a-bcf7-b44eebab3a79",
   "metadata": {},
   "outputs": [],
   "source": [
    "n_features = 48\n",
    "model = Denoising_UNet(None, 0, n_samples, n_features, p)"
   ]
  },
  {
   "cell_type": "code",
   "execution_count": 15,
   "id": "8fcf6568-3563-4482-873e-41dbe57a0b7d",
   "metadata": {},
   "outputs": [
    {
     "data": {
      "text/plain": [
       "torch.Size([1, 5, 128, 128, 128])"
      ]
     },
     "execution_count": 15,
     "metadata": {},
     "output_type": "execute_result"
    }
   ],
   "source": [
    "model(subtomo).shape"
   ]
  },
  {
   "cell_type": "code",
   "execution_count": 14,
   "id": "dd9c296f-3a39-4002-9641-d19e6cd09011",
   "metadata": {},
   "outputs": [
    {
     "name": "stdout",
     "output_type": "stream",
     "text": [
      "----------------------------------------------------------------\n",
      "        Layer (type)               Output Shape         Param #\n",
      "================================================================\n",
      "     PartialConv3d-1    [-1, 48, 128, 128, 128]           6,528\n",
      "     PartialConv3d-2    [-1, 48, 128, 128, 128]          62,256\n",
      "         LeakyReLU-3    [-1, 48, 128, 128, 128]               0\n",
      "         MaxPool3d-4       [-1, 48, 64, 64, 64]               0\n",
      "     PartialConv3d-5       [-1, 48, 64, 64, 64]          62,256\n",
      "         LeakyReLU-6       [-1, 48, 64, 64, 64]               0\n",
      "         MaxPool3d-7       [-1, 48, 32, 32, 32]               0\n",
      "     PartialConv3d-8       [-1, 48, 32, 32, 32]          62,256\n",
      "         LeakyReLU-9       [-1, 48, 32, 32, 32]               0\n",
      "        MaxPool3d-10       [-1, 48, 16, 16, 16]               0\n",
      "    PartialConv3d-11       [-1, 48, 16, 16, 16]          62,256\n",
      "        LeakyReLU-12       [-1, 48, 16, 16, 16]               0\n",
      "        MaxPool3d-13          [-1, 48, 8, 8, 8]               0\n",
      "    PartialConv3d-14          [-1, 48, 8, 8, 8]          62,256\n",
      "        LeakyReLU-15          [-1, 48, 8, 8, 8]               0\n",
      "        MaxPool3d-16          [-1, 48, 4, 4, 4]               0\n",
      "    PartialConv3d-17          [-1, 48, 4, 4, 4]          62,256\n",
      "        LeakyReLU-18          [-1, 48, 4, 4, 4]               0\n",
      "         Upsample-19          [-1, 48, 8, 8, 8]               0\n",
      "          Dropout-20          [-1, 96, 8, 8, 8]               0\n",
      "           Conv3d-21          [-1, 96, 8, 8, 8]         248,928\n",
      "        LeakyReLU-22          [-1, 96, 8, 8, 8]               0\n",
      "          Dropout-23          [-1, 96, 8, 8, 8]               0\n",
      "           Conv3d-24          [-1, 96, 8, 8, 8]         248,928\n",
      "        LeakyReLU-25          [-1, 96, 8, 8, 8]               0\n",
      "         Upsample-26       [-1, 96, 16, 16, 16]               0\n",
      "          Dropout-27      [-1, 144, 16, 16, 16]               0\n",
      "           Conv3d-28       [-1, 96, 16, 16, 16]         373,344\n",
      "        LeakyReLU-29       [-1, 96, 16, 16, 16]               0\n",
      "          Dropout-30       [-1, 96, 16, 16, 16]               0\n",
      "           Conv3d-31       [-1, 96, 16, 16, 16]         248,928\n",
      "        LeakyReLU-32       [-1, 96, 16, 16, 16]               0\n",
      "         Upsample-33       [-1, 96, 32, 32, 32]               0\n",
      "          Dropout-34      [-1, 144, 32, 32, 32]               0\n",
      "           Conv3d-35       [-1, 96, 32, 32, 32]         373,344\n",
      "        LeakyReLU-36       [-1, 96, 32, 32, 32]               0\n",
      "          Dropout-37       [-1, 96, 32, 32, 32]               0\n",
      "           Conv3d-38       [-1, 96, 32, 32, 32]         248,928\n",
      "        LeakyReLU-39       [-1, 96, 32, 32, 32]               0\n",
      "         Upsample-40       [-1, 96, 64, 64, 64]               0\n",
      "          Dropout-41      [-1, 144, 64, 64, 64]               0\n",
      "           Conv3d-42       [-1, 96, 64, 64, 64]         373,344\n",
      "        LeakyReLU-43       [-1, 96, 64, 64, 64]               0\n",
      "          Dropout-44       [-1, 96, 64, 64, 64]               0\n",
      "           Conv3d-45       [-1, 96, 64, 64, 64]         248,928\n",
      "        LeakyReLU-46       [-1, 96, 64, 64, 64]               0\n",
      "         Upsample-47    [-1, 96, 128, 128, 128]               0\n",
      "          Dropout-48   [-1, 101, 128, 128, 128]               0\n",
      "           Conv3d-49    [-1, 64, 128, 128, 128]         174,592\n",
      "        LeakyReLU-50    [-1, 64, 128, 128, 128]               0\n",
      "          Dropout-51    [-1, 64, 128, 128, 128]               0\n",
      "           Conv3d-52    [-1, 32, 128, 128, 128]          55,328\n",
      "        LeakyReLU-53    [-1, 32, 128, 128, 128]               0\n",
      "          Dropout-54    [-1, 32, 128, 128, 128]               0\n",
      "           Conv3d-55     [-1, 5, 128, 128, 128]           4,325\n",
      "        LeakyReLU-56     [-1, 5, 128, 128, 128]               0\n",
      "================================================================\n",
      "Total params: 2,978,981\n",
      "Trainable params: 2,978,981\n",
      "Non-trainable params: 0\n",
      "----------------------------------------------------------------\n",
      "Input size (MB): 40.00\n",
      "Forward/backward pass size (MB): 12198.07\n",
      "Params size (MB): 11.36\n",
      "Estimated Total Size (MB): 12249.43\n",
      "----------------------------------------------------------------\n"
     ]
    }
   ],
   "source": [
    "summary(model, (5, 128, 128, 128), device='cpu')"
   ]
  },
  {
   "cell_type": "code",
   "execution_count": null,
   "id": "6dd616f7-b4be-4dc1-af1e-3a653087ad9b",
   "metadata": {},
   "outputs": [],
   "source": []
  }
 ],
 "metadata": {
  "kernelspec": {
   "display_name": "Python 3 (ipykernel)",
   "language": "python",
   "name": "python3"
  },
  "language_info": {
   "codemirror_mode": {
    "name": "ipython",
    "version": 3
   },
   "file_extension": ".py",
   "mimetype": "text/x-python",
   "name": "python",
   "nbconvert_exporter": "python",
   "pygments_lexer": "ipython3",
   "version": "3.9.12"
  }
 },
 "nbformat": 4,
 "nbformat_minor": 5
}
