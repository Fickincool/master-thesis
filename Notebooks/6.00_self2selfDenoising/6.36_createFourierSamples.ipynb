{
 "cells": [
  {
   "cell_type": "code",
   "execution_count": 1,
   "id": "0c9b5fb3-4aab-4554-8a58-8785061051a7",
   "metadata": {},
   "outputs": [
    {
     "name": "stderr",
     "output_type": "stream",
     "text": [
      "/home/ubuntu/Thesis/miniconda3/envs/jero/lib/python3.9/site-packages/tqdm/auto.py:22: TqdmWarning: IProgress not found. Please update jupyter and ipywidgets. See https://ipywidgets.readthedocs.io/en/stable/user_install.html\n",
      "  from .autonotebook import tqdm as notebook_tqdm\n"
     ]
    }
   ],
   "source": [
    "from cryoS2Sdrop.dataloader import (singleCET_FourierDataset, tom_deconv_tomo, Parallel, delayed)\n",
    "from tomoSegmentPipeline.utils.common import read_array, write_array\n",
    "from tomoSegmentPipeline.utils import setup\n",
    "from cryoS2Sdrop.misc import parse_cet_paths\n",
    "import os\n",
    "from glob import glob\n",
    "from joblib import Parallel, delayed\n",
    "\n",
    "\n",
    "import torch\n",
    "\n",
    "PARENT_PATH = setup.PARENT_PATH\n",
    "\n",
    "%matplotlib inline\n",
    "%config Completer.use_jedi = False\n",
    "%load_ext autoreload\n",
    "%autoreload 2"
   ]
  },
  {
   "cell_type": "code",
   "execution_count": 5,
   "id": "896d1470-2935-48e1-ad00-1ba7c597d331",
   "metadata": {},
   "outputs": [
    {
     "data": {
      "text/plain": [
       "'/home/ubuntu/Thesis/data/S2SDenoising/model_logs/tomo04/raw_denoising/FourierSamples'"
      ]
     },
     "execution_count": 5,
     "metadata": {},
     "output_type": "execute_result"
    }
   ],
   "source": [
    "samples_path = os.path.join(\n",
    "    PARENT_PATH, \"data/S2SDenoising/model_logs/tomo04/raw_denoising/FourierSamples\"\n",
    ")\n",
    "samples_path"
   ]
  },
  {
   "cell_type": "code",
   "execution_count": 9,
   "id": "7b6b5237-e0a3-4880-8c57-c042b7a4b125",
   "metadata": {},
   "outputs": [
    {
     "data": {
      "text/plain": [
       "'/home/ubuntu/Thesis/data/S2SDenoising/model_logs/tomo04/raw_denoising/FourierSamples/singleCET_FourierDataset.samples'"
      ]
     },
     "execution_count": 9,
     "metadata": {},
     "output_type": "execute_result"
    }
   ],
   "source": [
    "samples_file = os.path.join(samples_path, \"singleCET_FourierDataset.samples\")\n",
    "samples_file"
   ]
  },
  {
   "cell_type": "code",
   "execution_count": 8,
   "id": "b61e329b-1a29-4b92-a12d-1fc5de41a22b",
   "metadata": {},
   "outputs": [
    {
     "data": {
      "text/plain": [
       "True"
      ]
     },
     "execution_count": 8,
     "metadata": {},
     "output_type": "execute_result"
    }
   ],
   "source": [
    "\n",
    "os.path.exists(samples_file)"
   ]
  },
  {
   "cell_type": "code",
   "execution_count": 4,
   "id": "e6c119f1-4fb3-4a41-88ae-6a64f681e64b",
   "metadata": {},
   "outputs": [
    {
     "data": {
      "text/plain": [
       "1"
      ]
     },
     "execution_count": 4,
     "metadata": {},
     "output_type": "execute_result"
    }
   ],
   "source": [
    "len(glob(\"/home/ubuntu/Thesis/data/S2SDenoising/model_logs/tomo04/raw_denoising_pilot/FourierSamples/*.samples\"))"
   ]
  },
  {
   "cell_type": "code",
   "execution_count": 5,
   "id": "e0ad812b-f868-4ce0-90eb-ac994b599020",
   "metadata": {},
   "outputs": [
    {
     "name": "stdout",
     "output_type": "stream",
     "text": [
      "CPU times: user 132 ms, sys: 39.2 s, total: 39.4 s\n",
      "Wall time: 16min 23s\n"
     ]
    }
   ],
   "source": [
    "%%time\n",
    "samples = torch.load(samples_file)"
   ]
  },
  {
   "cell_type": "code",
   "execution_count": 6,
   "id": "556a587c-7e27-4410-a7e4-002b23517452",
   "metadata": {},
   "outputs": [
    {
     "data": {
      "text/plain": [
       "torch.Size([20, 1, 464, 928, 928])"
      ]
     },
     "execution_count": 6,
     "metadata": {},
     "output_type": "execute_result"
    }
   ],
   "source": [
    "samples.shape"
   ]
  },
  {
   "cell_type": "code",
   "execution_count": 7,
   "id": "44c2133d-4051-40d1-af71-2988af032877",
   "metadata": {},
   "outputs": [
    {
     "data": {
      "text/plain": [
       "(2, torch.Size([10, 1, 464, 928, 928]))"
      ]
     },
     "execution_count": 7,
     "metadata": {},
     "output_type": "execute_result"
    }
   ],
   "source": [
    "samples_small = samples.split(len(samples)//2)\n",
    "len(samples_small), samples_small[-1].shape"
   ]
  },
  {
   "cell_type": "code",
   "execution_count": 8,
   "id": "4ec4e1bd-20a1-4b48-a352-563871a170dc",
   "metadata": {},
   "outputs": [],
   "source": [
    "del samples"
   ]
  },
  {
   "cell_type": "code",
   "execution_count": 9,
   "id": "a60937cd-9f0e-4301-9e83-bf510820df3a",
   "metadata": {},
   "outputs": [
    {
     "data": {
      "text/plain": [
       "14"
      ]
     },
     "execution_count": 9,
     "metadata": {},
     "output_type": "execute_result"
    }
   ],
   "source": [
    "import gc\n",
    "gc.collect()"
   ]
  },
  {
   "cell_type": "code",
   "execution_count": 10,
   "id": "5e89b55a-f967-402e-a4f2-c4e3fa1b6a66",
   "metadata": {},
   "outputs": [
    {
     "data": {
      "text/plain": [
       "'/home/ubuntu/Thesis/data/S2SDenoising/model_logs/tomo04/raw_denoising_pilot/FourierSamples/'"
      ]
     },
     "execution_count": 10,
     "metadata": {},
     "output_type": "execute_result"
    }
   ],
   "source": [
    "samples_path = os.path.join(\n",
    "    PARENT_PATH, \"data/S2SDenoising/model_logs/tomo04/raw_denoising_pilot/FourierSamples/\"\n",
    ")\n",
    "samples_path"
   ]
  },
  {
   "cell_type": "code",
   "execution_count": null,
   "id": "d45ad21f-83bb-4dff-9f27-471009b4a6e4",
   "metadata": {},
   "outputs": [
    {
     "name": "stderr",
     "output_type": "stream",
     "text": [
      "[Parallel(n_jobs=2)]: Using backend LokyBackend with 2 concurrent workers.\n"
     ]
    }
   ],
   "source": [
    "Parallel(n_jobs=2, verbose=10)(\n",
    "    delayed(torch.save)(sample, os.path.join(samples_path, \"singleCET_FourierDataset%i.samples\" %i)) for i, sample in enumerate(samples_small))"
   ]
  },
  {
   "cell_type": "code",
   "execution_count": 22,
   "id": "4610f334-1a7d-4e66-b94a-9c358ad016f4",
   "metadata": {},
   "outputs": [
    {
     "name": "stdout",
     "output_type": "stream",
     "text": [
      "0\n",
      "1\n",
      "2\n"
     ]
    }
   ],
   "source": [
    "for i, sample in enumerate(samples_small):\n",
    "    print(i)\n",
    "    %time torch.save(sample, os.path.join(samples_path, \"singleCET_FourierDataset%i.samples\" %i))"
   ]
  },
  {
   "cell_type": "code",
   "execution_count": 26,
   "id": "a875f85a-edab-42bc-b059-352c903f610f",
   "metadata": {},
   "outputs": [
    {
     "data": {
      "text/plain": [
       "'/home/ubuntu/Thesis/data/S2SDenoising/model_logs/tomo04/raw_denoising_pilot/FourierSamples/singleCET_FourierDataset2.samples'"
      ]
     },
     "execution_count": 26,
     "metadata": {},
     "output_type": "execute_result"
    }
   ],
   "source": [
    "aux = os.path.join(samples_path, \"singleCET_FourierDataset%i.samples\" %i)\n",
    "aux"
   ]
  },
  {
   "cell_type": "code",
   "execution_count": 27,
   "id": "2449499a-3197-43fe-9b39-cac86f3a75aa",
   "metadata": {},
   "outputs": [
    {
     "data": {
      "text/plain": [
       "torch.Size([1, 1, 464, 928, 928])"
      ]
     },
     "execution_count": 27,
     "metadata": {},
     "output_type": "execute_result"
    }
   ],
   "source": [
    "torch.load(aux).shape"
   ]
  },
  {
   "cell_type": "code",
   "execution_count": 31,
   "id": "598dbece-aa2e-4d48-90d9-be7e348a0cc6",
   "metadata": {},
   "outputs": [
    {
     "name": "stderr",
     "output_type": "stream",
     "text": [
      "[Parallel(n_jobs=3)]: Using backend LokyBackend with 3 concurrent workers.\n",
      "[Parallel(n_jobs=3)]: Done   3 out of   3 | elapsed:  1.9min remaining:    0.0s\n",
      "[Parallel(n_jobs=3)]: Done   3 out of   3 | elapsed:  1.9min finished\n"
     ]
    },
    {
     "ename": "RuntimeError",
     "evalue": "stack expects each tensor to be equal size, but got [2, 1, 464, 928, 928] at entry 0 and [1, 1, 464, 928, 928] at entry 2",
     "output_type": "error",
     "traceback": [
      "\u001b[0;31m---------------------------------------------------------------------------\u001b[0m",
      "\u001b[0;31mRuntimeError\u001b[0m                              Traceback (most recent call last)",
      "Input \u001b[0;32mIn [31]\u001b[0m, in \u001b[0;36m<cell line: 3>\u001b[0;34m()\u001b[0m\n\u001b[1;32m      1\u001b[0m my_samples \u001b[38;5;241m=\u001b[39m Parallel(n_jobs\u001b[38;5;241m=\u001b[39m\u001b[38;5;241m3\u001b[39m, verbose\u001b[38;5;241m=\u001b[39m\u001b[38;5;241m10\u001b[39m)(\n\u001b[1;32m      2\u001b[0m     delayed(torch\u001b[38;5;241m.\u001b[39mload)(os\u001b[38;5;241m.\u001b[39mpath\u001b[38;5;241m.\u001b[39mjoin(samples_path, \u001b[38;5;124m\"\u001b[39m\u001b[38;5;124msingleCET_FourierDataset\u001b[39m\u001b[38;5;132;01m%i\u001b[39;00m\u001b[38;5;124m.samples\u001b[39m\u001b[38;5;124m\"\u001b[39m \u001b[38;5;241m%\u001b[39mi)) \u001b[38;5;28;01mfor\u001b[39;00m i \u001b[38;5;129;01min\u001b[39;00m \u001b[38;5;28mrange\u001b[39m(\u001b[38;5;241m3\u001b[39m))\n\u001b[0;32m----> 3\u001b[0m my_samples \u001b[38;5;241m=\u001b[39m \u001b[43mtorch\u001b[49m\u001b[38;5;241;43m.\u001b[39;49m\u001b[43mstack\u001b[49m\u001b[43m(\u001b[49m\u001b[43mmy_samples\u001b[49m\u001b[43m)\u001b[49m\n\u001b[1;32m      4\u001b[0m my_samples\u001b[38;5;241m.\u001b[39mshape\n",
      "\u001b[0;31mRuntimeError\u001b[0m: stack expects each tensor to be equal size, but got [2, 1, 464, 928, 928] at entry 0 and [1, 1, 464, 928, 928] at entry 2"
     ]
    }
   ],
   "source": [
    "my_samples = Parallel(n_jobs=3, verbose=10)(\n",
    "    delayed(torch.load)(os.path.join(samples_path, \"singleCET_FourierDataset%i.samples\" %i)) for i in range(len(samples_small)))\n",
    "my_samples = torch.cat(my_samples)\n",
    "my_samples.shape"
   ]
  },
  {
   "cell_type": "code",
   "execution_count": 32,
   "id": "1eb671d3-6709-467e-85a3-aadd3a06baeb",
   "metadata": {},
   "outputs": [
    {
     "data": {
      "text/plain": [
       "torch.Size([5, 1, 464, 928, 928])"
      ]
     },
     "execution_count": 32,
     "metadata": {},
     "output_type": "execute_result"
    }
   ],
   "source": []
  }
 ],
 "metadata": {
  "kernelspec": {
   "display_name": "jero",
   "language": "python",
   "name": "jero"
  },
  "language_info": {
   "codemirror_mode": {
    "name": "ipython",
    "version": 3
   },
   "file_extension": ".py",
   "mimetype": "text/x-python",
   "name": "python",
   "nbconvert_exporter": "python",
   "pygments_lexer": "ipython3",
   "version": "3.9.12"
  }
 },
 "nbformat": 4,
 "nbformat_minor": 5
}
