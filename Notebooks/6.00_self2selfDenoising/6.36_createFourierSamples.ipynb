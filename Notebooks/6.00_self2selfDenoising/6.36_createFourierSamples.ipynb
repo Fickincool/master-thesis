{
 "cells": [
  {
   "cell_type": "code",
   "execution_count": 2,
   "id": "0c9b5fb3-4aab-4554-8a58-8785061051a7",
   "metadata": {},
   "outputs": [],
   "source": [
    "from cryoS2Sdrop.dataloader import (singleCET_FourierDataset, tom_deconv_tomo, Parallel, delayed)\n",
    "from tomoSegmentPipeline.utils.common import read_array, write_array\n",
    "from tomoSegmentPipeline.utils import setup\n",
    "\n",
    "import torch\n",
    "\n",
    "PARENT_PATH = setup.PARENT_PATH\n",
    "\n",
    "%matplotlib inline\n",
    "%config Completer.use_jedi = False\n",
    "%load_ext autoreload\n",
    "%autoreload 2"
   ]
  },
  {
   "cell_type": "code",
   "execution_count": null,
   "id": "896d1470-2935-48e1-ad00-1ba7c597d331",
   "metadata": {},
   "outputs": [],
   "source": []
  }
 ],
 "metadata": {
  "kernelspec": {
   "display_name": "jero",
   "language": "python",
   "name": "jero"
  },
  "language_info": {
   "codemirror_mode": {
    "name": "ipython",
    "version": 3
   },
   "file_extension": ".py",
   "mimetype": "text/x-python",
   "name": "python",
   "nbconvert_exporter": "python",
   "pygments_lexer": "ipython3",
   "version": "3.9.12"
  }
 },
 "nbformat": 4,
 "nbformat_minor": 5
}
