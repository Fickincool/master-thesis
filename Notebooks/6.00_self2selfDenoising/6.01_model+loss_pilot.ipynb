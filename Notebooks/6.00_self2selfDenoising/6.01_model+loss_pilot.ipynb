{
 "cells": [
  {
   "cell_type": "code",
   "execution_count": 1,
   "id": "0b90069e-fd5e-41a6-8043-ae18b31b9e74",
   "metadata": {},
   "outputs": [],
   "source": [
    "from tomoSegmentPipeline.utils.common import read_array, write_array\n",
    "from tomoSegmentPipeline.utils import setup\n",
    "from cryoS2Sdrop.dataloader import singleCET_dataset\n",
    "from cryoS2Sdrop.model import Denoising_UNet\n",
    "\n",
    "import numpy as np\n",
    "import matplotlib.pyplot as plt\n",
    "import torch\n",
    "from torch import nn\n",
    "from torchinfo import summary\n",
    "\n",
    "import os\n",
    "from torch.utils.data import Dataset, DataLoader\n",
    "\n",
    "PARENT_PATH = setup.PARENT_PATH\n",
    "\n",
    "%matplotlib inline\n",
    "%config Completer.use_jedi = False\n",
    "%load_ext autoreload\n",
    "%autoreload 2"
   ]
  },
  {
   "cell_type": "code",
   "execution_count": 2,
   "id": "b1aa33ef-31e7-426d-af2f-d6517ef3d476",
   "metadata": {},
   "outputs": [],
   "source": [
    "# cet_path = os.path.join(PARENT_PATH, 'data/raw_cryo-ET/tomo02.mrc') \n",
    "cet_path = os.path.join(PARENT_PATH, 'data/S2SDenoising/dummy_tomograms/tomo02_dummy.mrc')\n",
    "\n",
    "p = 0.3\n",
    "vol_scale_factor = 8\n",
    "subtomo_length = 96\n",
    "\n",
    "my_dataset = singleCET_dataset(cet_path, subtomo_length=subtomo_length, p=p, volumetric_scale_factor=vol_scale_factor)"
   ]
  },
  {
   "cell_type": "code",
   "execution_count": 3,
   "id": "b24978d9-3c3c-4d3f-9abf-a57da1ef6212",
   "metadata": {},
   "outputs": [],
   "source": [
    "batch_size = 2\n",
    "dloader = DataLoader(my_dataset, batch_size=batch_size, shuffle=True, pin_memory=True)"
   ]
  },
  {
   "cell_type": "markdown",
   "id": "93f366e7-36c4-4d75-96c2-4c4aed053de0",
   "metadata": {},
   "source": [
    "# Model"
   ]
  },
  {
   "cell_type": "code",
   "execution_count": 4,
   "id": "2c2f636b-dc29-429b-a3b6-1bd98c19f541",
   "metadata": {},
   "outputs": [
    {
     "name": "stdout",
     "output_type": "stream",
     "text": [
      "torch.Size([2, 1, 96, 96, 96])\n"
     ]
    }
   ],
   "source": [
    "for batch in dloader:\n",
    "    subtomo, target, mask = batch\n",
    "    print(subtomo.shape)\n",
    "    break"
   ]
  },
  {
   "cell_type": "code",
   "execution_count": 6,
   "id": "e83baaca-aeeb-4b8a-bcf7-b44eebab3a79",
   "metadata": {},
   "outputs": [],
   "source": [
    "n_features = 48\n",
    "model = Denoising_UNet(None, 0, n_features, p)"
   ]
  },
  {
   "cell_type": "code",
   "execution_count": 7,
   "id": "8fcf6568-3563-4482-873e-41dbe57a0b7d",
   "metadata": {},
   "outputs": [
    {
     "data": {
      "text/plain": [
       "torch.Size([2, 1, 96, 96, 96])"
      ]
     },
     "execution_count": 7,
     "metadata": {},
     "output_type": "execute_result"
    }
   ],
   "source": [
    "model(subtomo).shape"
   ]
  },
  {
   "cell_type": "code",
   "execution_count": 7,
   "id": "dd9c296f-3a39-4002-9641-d19e6cd09011",
   "metadata": {},
   "outputs": [
    {
     "data": {
      "text/plain": [
       "==========================================================================================\n",
       "Layer (type:depth-idx)                   Output Shape              Param #\n",
       "==========================================================================================\n",
       "Denoising_UNet                           [2, 1, 96, 96, 96]        --\n",
       "├─PartialConv3d: 1-1                     [2, 48, 96, 96, 96]       1,344\n",
       "├─Sequential: 1-2                        [2, 48, 48, 48, 48]       --\n",
       "│    └─PartialConv3d: 2-1                [2, 48, 96, 96, 96]       62,256\n",
       "│    └─LeakyReLU: 2-2                    [2, 48, 96, 96, 96]       --\n",
       "│    └─MaxPool3d: 2-3                    [2, 48, 48, 48, 48]       --\n",
       "├─Sequential: 1-3                        [2, 48, 24, 24, 24]       --\n",
       "│    └─PartialConv3d: 2-4                [2, 48, 48, 48, 48]       62,256\n",
       "│    └─LeakyReLU: 2-5                    [2, 48, 48, 48, 48]       --\n",
       "│    └─MaxPool3d: 2-6                    [2, 48, 24, 24, 24]       --\n",
       "├─Sequential: 1-4                        [2, 48, 12, 12, 12]       --\n",
       "│    └─PartialConv3d: 2-7                [2, 48, 24, 24, 24]       62,256\n",
       "│    └─LeakyReLU: 2-8                    [2, 48, 24, 24, 24]       --\n",
       "│    └─MaxPool3d: 2-9                    [2, 48, 12, 12, 12]       --\n",
       "├─Sequential: 1-5                        [2, 48, 6, 6, 6]          --\n",
       "│    └─PartialConv3d: 2-10               [2, 48, 12, 12, 12]       62,256\n",
       "│    └─LeakyReLU: 2-11                   [2, 48, 12, 12, 12]       --\n",
       "│    └─MaxPool3d: 2-12                   [2, 48, 6, 6, 6]          --\n",
       "├─Sequential: 1-6                        [2, 48, 3, 3, 3]          --\n",
       "│    └─PartialConv3d: 2-13               [2, 48, 6, 6, 6]          62,256\n",
       "│    └─LeakyReLU: 2-14                   [2, 48, 6, 6, 6]          --\n",
       "│    └─MaxPool3d: 2-15                   [2, 48, 3, 3, 3]          --\n",
       "├─Sequential: 1-7                        [2, 48, 3, 3, 3]          --\n",
       "│    └─PartialConv3d: 2-16               [2, 48, 3, 3, 3]          62,256\n",
       "│    └─LeakyReLU: 2-17                   [2, 48, 3, 3, 3]          --\n",
       "├─Upsample: 1-8                          [2, 48, 6, 6, 6]          --\n",
       "├─Sequential: 1-9                        [2, 96, 6, 6, 6]          --\n",
       "│    └─Dropout: 2-18                     [2, 96, 6, 6, 6]          --\n",
       "│    └─Conv3d: 2-19                      [2, 96, 6, 6, 6]          248,928\n",
       "│    └─LeakyReLU: 2-20                   [2, 96, 6, 6, 6]          --\n",
       "│    └─Dropout: 2-21                     [2, 96, 6, 6, 6]          --\n",
       "│    └─Conv3d: 2-22                      [2, 96, 6, 6, 6]          248,928\n",
       "│    └─LeakyReLU: 2-23                   [2, 96, 6, 6, 6]          --\n",
       "├─Upsample: 1-10                         [2, 96, 12, 12, 12]       --\n",
       "├─Sequential: 1-11                       [2, 96, 12, 12, 12]       --\n",
       "│    └─Dropout: 2-24                     [2, 144, 12, 12, 12]      --\n",
       "│    └─Conv3d: 2-25                      [2, 96, 12, 12, 12]       373,344\n",
       "│    └─LeakyReLU: 2-26                   [2, 96, 12, 12, 12]       --\n",
       "│    └─Dropout: 2-27                     [2, 96, 12, 12, 12]       --\n",
       "│    └─Conv3d: 2-28                      [2, 96, 12, 12, 12]       248,928\n",
       "│    └─LeakyReLU: 2-29                   [2, 96, 12, 12, 12]       --\n",
       "├─Upsample: 1-12                         [2, 96, 24, 24, 24]       --\n",
       "├─Sequential: 1-13                       [2, 96, 24, 24, 24]       --\n",
       "│    └─Dropout: 2-30                     [2, 144, 24, 24, 24]      --\n",
       "│    └─Conv3d: 2-31                      [2, 96, 24, 24, 24]       373,344\n",
       "│    └─LeakyReLU: 2-32                   [2, 96, 24, 24, 24]       --\n",
       "│    └─Dropout: 2-33                     [2, 96, 24, 24, 24]       --\n",
       "│    └─Conv3d: 2-34                      [2, 96, 24, 24, 24]       248,928\n",
       "│    └─LeakyReLU: 2-35                   [2, 96, 24, 24, 24]       --\n",
       "├─Upsample: 1-14                         [2, 96, 48, 48, 48]       --\n",
       "├─Sequential: 1-15                       [2, 96, 48, 48, 48]       --\n",
       "│    └─Dropout: 2-36                     [2, 144, 48, 48, 48]      --\n",
       "│    └─Conv3d: 2-37                      [2, 96, 48, 48, 48]       373,344\n",
       "│    └─LeakyReLU: 2-38                   [2, 96, 48, 48, 48]       --\n",
       "│    └─Dropout: 2-39                     [2, 96, 48, 48, 48]       --\n",
       "│    └─Conv3d: 2-40                      [2, 96, 48, 48, 48]       248,928\n",
       "│    └─LeakyReLU: 2-41                   [2, 96, 48, 48, 48]       --\n",
       "├─Upsample: 1-16                         [2, 96, 96, 96, 96]       --\n",
       "├─Sequential: 1-17                       [2, 1, 96, 96, 96]        --\n",
       "│    └─Dropout: 2-42                     [2, 97, 96, 96, 96]       --\n",
       "│    └─Conv3d: 2-43                      [2, 64, 96, 96, 96]       167,680\n",
       "│    └─LeakyReLU: 2-44                   [2, 64, 96, 96, 96]       --\n",
       "│    └─Dropout: 2-45                     [2, 64, 96, 96, 96]       --\n",
       "│    └─Conv3d: 2-46                      [2, 32, 96, 96, 96]       55,328\n",
       "│    └─LeakyReLU: 2-47                   [2, 32, 96, 96, 96]       --\n",
       "│    └─Dropout: 2-48                     [2, 32, 96, 96, 96]       --\n",
       "│    └─Conv3d: 2-49                      [2, 1, 96, 96, 96]        865\n",
       "│    └─LeakyReLU: 2-50                   [2, 1, 96, 96, 96]        --\n",
       "==========================================================================================\n",
       "Total params: 2,963,425\n",
       "Trainable params: 2,963,425\n",
       "Non-trainable params: 0\n",
       "Total mult-adds (G): 681.62\n",
       "==========================================================================================\n",
       "Input size (MB): 7.08\n",
       "Forward/backward pass size (MB): 3217.31\n",
       "Params size (MB): 11.85\n",
       "Estimated Total Size (MB): 3236.24\n",
       "=========================================================================================="
      ]
     },
     "execution_count": 7,
     "metadata": {},
     "output_type": "execute_result"
    }
   ],
   "source": [
    "summary(model, (batch_size, 1, subtomo_length, subtomo_length, subtomo_length), device='cpu')"
   ]
  },
  {
   "cell_type": "markdown",
   "id": "01e039fb-20ad-4fe1-b847-1a854b6d62e7",
   "metadata": {
    "tags": []
   },
   "source": [
    "# Loss function"
   ]
  },
  {
   "cell_type": "code",
   "execution_count": 9,
   "id": "2b5173dd-69f4-434e-8320-381017e8b5a4",
   "metadata": {},
   "outputs": [
    {
     "data": {
      "text/plain": [
       "torch.Size([2, 1, 96, 96, 96])"
      ]
     },
     "execution_count": 9,
     "metadata": {},
     "output_type": "execute_result"
    }
   ],
   "source": [
    "pred = (1-mask)*model(subtomo)\n",
    "pred.shape"
   ]
  },
  {
   "cell_type": "code",
   "execution_count": 8,
   "id": "728d18fd-4d07-496e-a3f4-bdc8b01c4cbe",
   "metadata": {},
   "outputs": [],
   "source": [
    "from cryoS2Sdrop.losses import self2self_L2Loss, TotalVariation\n",
    "# loss = self2self_L2Loss()\n",
    "loss = TotalVariation()"
   ]
  },
  {
   "cell_type": "code",
   "execution_count": 13,
   "id": "70668c90-cd33-4b78-82d5-1cd6c555a149",
   "metadata": {},
   "outputs": [
    {
     "data": {
      "text/plain": [
       "tensor(504.5622, grad_fn=<MeanBackward1>)"
      ]
     },
     "execution_count": 13,
     "metadata": {},
     "output_type": "execute_result"
    }
   ],
   "source": [
    "loss(pred, target)"
   ]
  },
  {
   "cell_type": "code",
   "execution_count": 20,
   "id": "c88951c1-4527-41f4-b49f-61d76bfecfa2",
   "metadata": {},
   "outputs": [
    {
     "data": {
      "text/plain": [
       "tensor([10325.2148, 26898.3711], grad_fn=<AddBackward0>)"
      ]
     },
     "execution_count": 20,
     "metadata": {},
     "output_type": "execute_result"
    }
   ],
   "source": [
    "loss(pred)"
   ]
  },
  {
   "cell_type": "code",
   "execution_count": null,
   "id": "33b3019b-c956-417d-b4ce-28a7a7229ac8",
   "metadata": {},
   "outputs": [],
   "source": []
  }
 ],
 "metadata": {
  "kernelspec": {
   "display_name": "Python 3 (ipykernel)",
   "language": "python",
   "name": "python3"
  },
  "language_info": {
   "codemirror_mode": {
    "name": "ipython",
    "version": 3
   },
   "file_extension": ".py",
   "mimetype": "text/x-python",
   "name": "python",
   "nbconvert_exporter": "python",
   "pygments_lexer": "ipython3",
   "version": "3.9.12"
  }
 },
 "nbformat": 4,
 "nbformat_minor": 5
}
