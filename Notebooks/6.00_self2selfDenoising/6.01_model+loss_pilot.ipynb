{
 "cells": [
  {
   "cell_type": "code",
   "execution_count": 1,
   "id": "0b90069e-fd5e-41a6-8043-ae18b31b9e74",
   "metadata": {},
   "outputs": [],
   "source": [
    "from tomoSegmentPipeline.utils.common import read_array, write_array\n",
    "from tomoSegmentPipeline.utils import setup\n",
    "from cryoS2Sdrop.dataloader import singleCET_dataset\n",
    "from cryoS2Sdrop.model import Denoising_UNet\n",
    "\n",
    "import numpy as np\n",
    "import matplotlib.pyplot as plt\n",
    "import torch\n",
    "from torch import nn\n",
    "from torchsummary import summary\n",
    "\n",
    "import os\n",
    "from torch.utils.data import Dataset, DataLoader\n",
    "\n",
    "PARENT_PATH = setup.PARENT_PATH\n",
    "ISONET_PATH = os.path.join(PARENT_PATH, 'data/isoNet/')\n",
    "\n",
    "%matplotlib inline\n",
    "%config Completer.use_jedi = False\n",
    "%load_ext autoreload\n",
    "%autoreload 2"
   ]
  },
  {
   "cell_type": "code",
   "execution_count": 28,
   "id": "b1aa33ef-31e7-426d-af2f-d6517ef3d476",
   "metadata": {},
   "outputs": [],
   "source": [
    "# cet_path = os.path.join(PARENT_PATH, 'data/raw_cryo-ET/tomo02.mrc') \n",
    "cet_path = os.path.join(PARENT_PATH, 'data/S2SDenoising/dummy_tomograms/tomo02_dummy.mrc')\n",
    "\n",
    "p = 0.3\n",
    "n_samples = 50\n",
    "vol_scale_factor = 8\n",
    "subtomo_length = 96\n",
    "\n",
    "my_dataset = singleCET_dataset(cet_path, subtomo_length=subtomo_length, p=p, n_samples=n_samples, volumetric_scale_factor=vol_scale_factor)"
   ]
  },
  {
   "cell_type": "code",
   "execution_count": 31,
   "id": "b24978d9-3c3c-4d3f-9abf-a57da1ef6212",
   "metadata": {},
   "outputs": [],
   "source": [
    "dloader = DataLoader(my_dataset, batch_size=2, shuffle=True, pin_memory=True)"
   ]
  },
  {
   "cell_type": "markdown",
   "id": "93f366e7-36c4-4d75-96c2-4c4aed053de0",
   "metadata": {},
   "source": [
    "# Model"
   ]
  },
  {
   "cell_type": "code",
   "execution_count": 32,
   "id": "2c2f636b-dc29-429b-a3b6-1bd98c19f541",
   "metadata": {},
   "outputs": [
    {
     "name": "stdout",
     "output_type": "stream",
     "text": [
      "torch.Size([2, 50, 96, 96, 96])\n"
     ]
    }
   ],
   "source": [
    "for batch in dloader:\n",
    "    subtomo, target, mask = batch\n",
    "    print(subtomo.shape)\n",
    "    break"
   ]
  },
  {
   "cell_type": "code",
   "execution_count": 33,
   "id": "e83baaca-aeeb-4b8a-bcf7-b44eebab3a79",
   "metadata": {},
   "outputs": [],
   "source": [
    "n_features = 48\n",
    "model = Denoising_UNet(None, 0, n_samples, n_features, p)"
   ]
  },
  {
   "cell_type": "code",
   "execution_count": 34,
   "id": "8fcf6568-3563-4482-873e-41dbe57a0b7d",
   "metadata": {},
   "outputs": [
    {
     "data": {
      "text/plain": [
       "torch.Size([2, 50, 96, 96, 96])"
      ]
     },
     "execution_count": 34,
     "metadata": {},
     "output_type": "execute_result"
    }
   ],
   "source": [
    "model(subtomo).shape"
   ]
  },
  {
   "cell_type": "code",
   "execution_count": 35,
   "id": "dd9c296f-3a39-4002-9641-d19e6cd09011",
   "metadata": {},
   "outputs": [
    {
     "name": "stdout",
     "output_type": "stream",
     "text": [
      "----------------------------------------------------------------\n",
      "        Layer (type)               Output Shape         Param #\n",
      "================================================================\n",
      "     PartialConv3d-1       [-1, 48, 96, 96, 96]          64,848\n",
      "     PartialConv3d-2       [-1, 48, 96, 96, 96]          62,256\n",
      "         LeakyReLU-3       [-1, 48, 96, 96, 96]               0\n",
      "         MaxPool3d-4       [-1, 48, 48, 48, 48]               0\n",
      "     PartialConv3d-5       [-1, 48, 48, 48, 48]          62,256\n",
      "         LeakyReLU-6       [-1, 48, 48, 48, 48]               0\n",
      "         MaxPool3d-7       [-1, 48, 24, 24, 24]               0\n",
      "     PartialConv3d-8       [-1, 48, 24, 24, 24]          62,256\n",
      "         LeakyReLU-9       [-1, 48, 24, 24, 24]               0\n",
      "        MaxPool3d-10       [-1, 48, 12, 12, 12]               0\n",
      "    PartialConv3d-11       [-1, 48, 12, 12, 12]          62,256\n",
      "        LeakyReLU-12       [-1, 48, 12, 12, 12]               0\n",
      "        MaxPool3d-13          [-1, 48, 6, 6, 6]               0\n",
      "    PartialConv3d-14          [-1, 48, 6, 6, 6]          62,256\n",
      "        LeakyReLU-15          [-1, 48, 6, 6, 6]               0\n",
      "        MaxPool3d-16          [-1, 48, 3, 3, 3]               0\n",
      "    PartialConv3d-17          [-1, 48, 3, 3, 3]          62,256\n",
      "        LeakyReLU-18          [-1, 48, 3, 3, 3]               0\n",
      "         Upsample-19          [-1, 48, 6, 6, 6]               0\n",
      "          Dropout-20          [-1, 96, 6, 6, 6]               0\n",
      "           Conv3d-21          [-1, 96, 6, 6, 6]         248,928\n",
      "        LeakyReLU-22          [-1, 96, 6, 6, 6]               0\n",
      "          Dropout-23          [-1, 96, 6, 6, 6]               0\n",
      "           Conv3d-24          [-1, 96, 6, 6, 6]         248,928\n",
      "        LeakyReLU-25          [-1, 96, 6, 6, 6]               0\n",
      "         Upsample-26       [-1, 96, 12, 12, 12]               0\n",
      "          Dropout-27      [-1, 144, 12, 12, 12]               0\n",
      "           Conv3d-28       [-1, 96, 12, 12, 12]         373,344\n",
      "        LeakyReLU-29       [-1, 96, 12, 12, 12]               0\n",
      "          Dropout-30       [-1, 96, 12, 12, 12]               0\n",
      "           Conv3d-31       [-1, 96, 12, 12, 12]         248,928\n",
      "        LeakyReLU-32       [-1, 96, 12, 12, 12]               0\n",
      "         Upsample-33       [-1, 96, 24, 24, 24]               0\n",
      "          Dropout-34      [-1, 144, 24, 24, 24]               0\n",
      "           Conv3d-35       [-1, 96, 24, 24, 24]         373,344\n",
      "        LeakyReLU-36       [-1, 96, 24, 24, 24]               0\n",
      "          Dropout-37       [-1, 96, 24, 24, 24]               0\n",
      "           Conv3d-38       [-1, 96, 24, 24, 24]         248,928\n",
      "        LeakyReLU-39       [-1, 96, 24, 24, 24]               0\n",
      "         Upsample-40       [-1, 96, 48, 48, 48]               0\n",
      "          Dropout-41      [-1, 144, 48, 48, 48]               0\n",
      "           Conv3d-42       [-1, 96, 48, 48, 48]         373,344\n",
      "        LeakyReLU-43       [-1, 96, 48, 48, 48]               0\n",
      "          Dropout-44       [-1, 96, 48, 48, 48]               0\n",
      "           Conv3d-45       [-1, 96, 48, 48, 48]         248,928\n",
      "        LeakyReLU-46       [-1, 96, 48, 48, 48]               0\n",
      "         Upsample-47       [-1, 96, 96, 96, 96]               0\n",
      "          Dropout-48      [-1, 146, 96, 96, 96]               0\n",
      "           Conv3d-49       [-1, 64, 96, 96, 96]         252,352\n",
      "        LeakyReLU-50       [-1, 64, 96, 96, 96]               0\n",
      "          Dropout-51       [-1, 64, 96, 96, 96]               0\n",
      "           Conv3d-52       [-1, 32, 96, 96, 96]          55,328\n",
      "        LeakyReLU-53       [-1, 32, 96, 96, 96]               0\n",
      "          Dropout-54       [-1, 32, 96, 96, 96]               0\n",
      "           Conv3d-55       [-1, 50, 96, 96, 96]          43,250\n",
      "        LeakyReLU-56       [-1, 50, 96, 96, 96]               0\n",
      "================================================================\n",
      "Total params: 3,153,986\n",
      "Trainable params: 3,153,986\n",
      "Non-trainable params: 0\n",
      "----------------------------------------------------------------\n",
      "Input size (MB): 168.75\n",
      "Forward/backward pass size (MB): 6057.31\n",
      "Params size (MB): 12.03\n",
      "Estimated Total Size (MB): 6238.09\n",
      "----------------------------------------------------------------\n"
     ]
    }
   ],
   "source": [
    "summary(model, (n_samples, subtomo_length, subtomo_length, subtomo_length), device='cpu')"
   ]
  },
  {
   "cell_type": "markdown",
   "id": "01e039fb-20ad-4fe1-b847-1a854b6d62e7",
   "metadata": {
    "tags": []
   },
   "source": [
    "# Loss function"
   ]
  },
  {
   "cell_type": "code",
   "execution_count": 14,
   "id": "464aa725-b888-452c-b710-bc55eb3aeb32",
   "metadata": {},
   "outputs": [
    {
     "data": {
      "text/plain": [
       "torch.Size([8, 35, 96, 96, 96])"
      ]
     },
     "execution_count": 14,
     "metadata": {},
     "output_type": "execute_result"
    }
   ],
   "source": [
    "y_wiggle = (1-mask)*model(subtomo)\n",
    "y_wiggle.shape"
   ]
  },
  {
   "cell_type": "code",
   "execution_count": 15,
   "id": "951fbb68-c995-4bfc-8ef3-73b4fad93b7c",
   "metadata": {},
   "outputs": [
    {
     "data": {
      "text/plain": [
       "torch.Size([8, 35, 96, 96, 96])"
      ]
     },
     "execution_count": 15,
     "metadata": {},
     "output_type": "execute_result"
    }
   ],
   "source": [
    "target.shape"
   ]
  },
  {
   "cell_type": "code",
   "execution_count": 8,
   "id": "40c09d77-5873-4c42-a632-f07d80df7856",
   "metadata": {},
   "outputs": [
    {
     "data": {
      "text/plain": [
       "tensor(11296888., grad_fn=<MseLossBackward0>)"
      ]
     },
     "execution_count": 8,
     "metadata": {},
     "output_type": "execute_result"
    }
   ],
   "source": [
    "loss = torch.nn.MSELoss(reduction='sum')\n",
    "loss(y_wiggle, target)"
   ]
  },
  {
   "cell_type": "code",
   "execution_count": 12,
   "id": "51705c33-f504-4c1d-8127-4e6a57aa95c3",
   "metadata": {},
   "outputs": [
    {
     "data": {
      "text/plain": [
       "torch.Size([5, 30, 262144])"
      ]
     },
     "execution_count": 12,
     "metadata": {},
     "output_type": "execute_result"
    }
   ],
   "source": [
    "y_wiggle_flat = y_wiggle.flatten(start_dim=2)\n",
    "target_flat = target.flatten(start_dim=2)\n",
    "\n",
    "pred_minus_target = y_wiggle_flat - target_flat\n",
    "pred_minus_target.shape"
   ]
  },
  {
   "cell_type": "code",
   "execution_count": 15,
   "id": "6dd616f7-b4be-4dc1-af1e-3a653087ad9b",
   "metadata": {},
   "outputs": [
    {
     "data": {
      "text/plain": [
       "tensor(41155.6641, grad_fn=<SumBackward0>)"
      ]
     },
     "execution_count": 15,
     "metadata": {},
     "output_type": "execute_result"
    }
   ],
   "source": [
    "torch.norm(pred_minus_target, p=2, dim=2).sum()"
   ]
  },
  {
   "cell_type": "code",
   "execution_count": 18,
   "id": "d469e7c3-bf48-4bcc-8629-47df02d3ba95",
   "metadata": {},
   "outputs": [
    {
     "data": {
      "text/plain": [
       "tensor(18095.8203, grad_fn=<MeanBackward0>)"
      ]
     },
     "execution_count": 18,
     "metadata": {},
     "output_type": "execute_result"
    }
   ],
   "source": [
    "torch.linalg.vector_norm(y_wiggle-target, ord=2, dim=(2, 3, 4)).sum(1).mean()"
   ]
  },
  {
   "cell_type": "code",
   "execution_count": 19,
   "id": "728d18fd-4d07-496e-a3f4-bdc8b01c4cbe",
   "metadata": {},
   "outputs": [],
   "source": [
    "from cryoS2Sdrop.losses import self2self_L2Loss\n",
    "loss = self2self_L2Loss()"
   ]
  },
  {
   "cell_type": "code",
   "execution_count": 20,
   "id": "70668c90-cd33-4b78-82d5-1cd6c555a149",
   "metadata": {},
   "outputs": [
    {
     "data": {
      "text/plain": [
       "tensor(18095.8203, grad_fn=<MeanBackward0>)"
      ]
     },
     "execution_count": 20,
     "metadata": {},
     "output_type": "execute_result"
    }
   ],
   "source": [
    "loss(y_wiggle, target)"
   ]
  },
  {
   "cell_type": "code",
   "execution_count": null,
   "id": "c88951c1-4527-41f4-b49f-61d76bfecfa2",
   "metadata": {},
   "outputs": [],
   "source": []
  }
 ],
 "metadata": {
  "kernelspec": {
   "display_name": "Python 3 (ipykernel)",
   "language": "python",
   "name": "python3"
  },
  "language_info": {
   "codemirror_mode": {
    "name": "ipython",
    "version": 3
   },
   "file_extension": ".py",
   "mimetype": "text/x-python",
   "name": "python",
   "nbconvert_exporter": "python",
   "pygments_lexer": "ipython3",
   "version": "3.9.12"
  }
 },
 "nbformat": 4,
 "nbformat_minor": 5
}
