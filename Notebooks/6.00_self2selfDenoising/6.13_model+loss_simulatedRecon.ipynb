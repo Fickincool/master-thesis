{
 "cells": [
  {
   "cell_type": "code",
   "execution_count": 1,
   "id": "0b90069e-fd5e-41a6-8043-ae18b31b9e74",
   "metadata": {},
   "outputs": [],
   "source": [
    "from tomoSegmentPipeline.utils.common import read_array, write_array\n",
    "from tomoSegmentPipeline.utils import setup\n",
    "from cryoS2Sdrop.dataloader import singleCET_dataset, singleCET_FourierDataset, singleCET_ProjectedDataset\n",
    "from cryoS2Sdrop.model import Denoising_3DUNet, Denoising_3DUNet_v2\n",
    "from cryoS2Sdrop.losses import self2selfLoss_noMask\n",
    "\n",
    "import numpy as np\n",
    "import matplotlib.pyplot as plt\n",
    "import torch\n",
    "from torch import nn\n",
    "from torchinfo import summary\n",
    "\n",
    "import os\n",
    "from torch.utils.data import Dataset, DataLoader\n",
    "\n",
    "PARENT_PATH = setup.PARENT_PATH\n",
    "\n",
    "%matplotlib inline\n",
    "%config Completer.use_jedi = False\n",
    "%load_ext autoreload\n",
    "%autoreload 2"
   ]
  },
  {
   "cell_type": "code",
   "execution_count": 2,
   "id": "b1aa33ef-31e7-426d-af2f-d6517ef3d476",
   "metadata": {},
   "outputs": [],
   "source": [
    "# cet_path = os.path.join(PARENT_PATH, 'data/raw_cryo-ET/tomo02.mrc') \n",
    "# cet_path = os.path.join(PARENT_PATH, 'data/S2SDenoising/dummy_tomograms/tomo02_dummy.mrc')\n",
    "# gt_cet_path = None\n",
    "\n",
    "simulated_model = 'model14'\n",
    "cet_path = os.path.join(\n",
    "    PARENT_PATH, \"data/S2SDenoising/dummy_tomograms/tomoPhantom_%s_Poisson5000+Gauss5+stripes.mrc\" %simulated_model\n",
    ")\n",
    "gt_cet_path = os.path.join(\n",
    "    PARENT_PATH, \"data/S2SDenoising/dummy_tomograms/tomoPhantom_%s.mrc\" %simulated_model\n",
    ")\n",
    "\n",
    "subtomo_length = 96\n",
    "\n",
    "my_dataset = singleCET_ProjectedDataset(cet_path, subtomo_length=subtomo_length, gt_tomo_path=gt_cet_path)"
   ]
  },
  {
   "cell_type": "code",
   "execution_count": 3,
   "id": "eeec691d-fda6-4786-8e3a-4820b084d86f",
   "metadata": {},
   "outputs": [],
   "source": [
    "# def collate_fn(batch):\n",
    "#     bernoulli_subtomo = torch.cat([b[0] for b in batch], axis=0)\n",
    "#     target = torch.cat([b[1] for b in batch], axis=0)\n",
    "    \n",
    "#     try:\n",
    "#         gt_subtomo = torch.cat([b[2] for b in batch], axis=0)\n",
    "#     except TypeError:\n",
    "#         gt_subtomo = None\n",
    "    \n",
    "#     return bernoulli_subtomo, target, gt_subtomo\n",
    "\n",
    "# def collate_fn(batch):\n",
    "#     \"Default pytorch collate_fn does not handle None\"\n",
    "#     subtomo, target, mask, gt_subtomo = batch\n",
    "#     return subtomo, target, mask, gt_subtomo\n",
    "\n",
    "def collate_fn(batch):\n",
    "    batch = [list(filter(lambda x: x is not None, b)) for b in batch]\n",
    "    return torch.utils.data.dataloader.default_collate(batch)"
   ]
  },
  {
   "cell_type": "code",
   "execution_count": 4,
   "id": "b24978d9-3c3c-4d3f-9abf-a57da1ef6212",
   "metadata": {},
   "outputs": [],
   "source": [
    "batch_size = 10\n",
    "dloader = DataLoader(my_dataset, batch_size=batch_size, shuffle=False, pin_memory=True, collate_fn=collate_fn)"
   ]
  },
  {
   "cell_type": "markdown",
   "id": "93f366e7-36c4-4d75-96c2-4c4aed053de0",
   "metadata": {},
   "source": [
    "# Model"
   ]
  },
  {
   "cell_type": "code",
   "execution_count": 5,
   "id": "2c2f636b-dc29-429b-a3b6-1bd98c19f541",
   "metadata": {},
   "outputs": [
    {
     "name": "stdout",
     "output_type": "stream",
     "text": [
      "torch.Size([10, 1, 96, 96, 96]) torch.Size([10, 1, 96, 96, 96])\n"
     ]
    }
   ],
   "source": [
    "for batch in dloader:\n",
    "    subtomo, target, gt_subtomo = batch\n",
    "    print(subtomo.shape, target.shape)\n",
    "    break"
   ]
  },
  {
   "cell_type": "code",
   "execution_count": 6,
   "id": "0f652d53-cf76-494f-876d-8b95d0b1e8fb",
   "metadata": {},
   "outputs": [
    {
     "data": {
      "text/plain": [
       "False"
      ]
     },
     "execution_count": 6,
     "metadata": {},
     "output_type": "execute_result"
    }
   ],
   "source": [
    "gt_subtomo is None"
   ]
  },
  {
   "cell_type": "code",
   "execution_count": 16,
   "id": "e83baaca-aeeb-4b8a-bcf7-b44eebab3a79",
   "metadata": {},
   "outputs": [],
   "source": [
    "n_features = 48\n",
    "p = 0.3\n",
    "model = Denoising_3DUNet_v2(self2selfLoss_noMask, 0, n_features, p, n_bernoulli_samples=1)"
   ]
  },
  {
   "cell_type": "code",
   "execution_count": 8,
   "id": "8fcf6568-3563-4482-873e-41dbe57a0b7d",
   "metadata": {},
   "outputs": [
    {
     "data": {
      "text/plain": [
       "torch.Size([10, 1, 96, 96, 96])"
      ]
     },
     "execution_count": 8,
     "metadata": {},
     "output_type": "execute_result"
    }
   ],
   "source": [
    "model(subtomo).shape"
   ]
  },
  {
   "cell_type": "code",
   "execution_count": 9,
   "id": "dd9c296f-3a39-4002-9641-d19e6cd09011",
   "metadata": {},
   "outputs": [
    {
     "data": {
      "text/plain": [
       "==========================================================================================\n",
       "Layer (type:depth-idx)                   Output Shape              Param #\n",
       "==========================================================================================\n",
       "Denoising_3DUNet_v2                      [10, 1, 96, 96, 96]       --\n",
       "├─PartialConv3d: 1-1                     [10, 48, 96, 96, 96]      1,344\n",
       "├─Sequential: 1-2                        [10, 48, 48, 48, 48]      --\n",
       "│    └─PartialConv3d: 2-1                [10, 48, 96, 96, 96]      62,256\n",
       "│    └─LeakyReLU: 2-2                    [10, 48, 96, 96, 96]      --\n",
       "│    └─MaxPool3d: 2-3                    [10, 48, 48, 48, 48]      --\n",
       "├─Sequential: 1-3                        [10, 48, 24, 24, 24]      --\n",
       "│    └─PartialConv3d: 2-4                [10, 48, 48, 48, 48]      62,256\n",
       "│    └─LeakyReLU: 2-5                    [10, 48, 48, 48, 48]      --\n",
       "│    └─MaxPool3d: 2-6                    [10, 48, 24, 24, 24]      --\n",
       "├─Sequential: 1-4                        [10, 48, 12, 12, 12]      --\n",
       "│    └─PartialConv3d: 2-7                [10, 48, 24, 24, 24]      62,256\n",
       "│    └─LeakyReLU: 2-8                    [10, 48, 24, 24, 24]      --\n",
       "│    └─MaxPool3d: 2-9                    [10, 48, 12, 12, 12]      --\n",
       "├─Sequential: 1-5                        [10, 48, 6, 6, 6]         --\n",
       "│    └─PartialConv3d: 2-10               [10, 48, 12, 12, 12]      62,256\n",
       "│    └─LeakyReLU: 2-11                   [10, 48, 12, 12, 12]      --\n",
       "│    └─MaxPool3d: 2-12                   [10, 48, 6, 6, 6]         --\n",
       "├─Sequential: 1-6                        [10, 48, 3, 3, 3]         --\n",
       "│    └─PartialConv3d: 2-13               [10, 48, 6, 6, 6]         62,256\n",
       "│    └─LeakyReLU: 2-14                   [10, 48, 6, 6, 6]         --\n",
       "│    └─MaxPool3d: 2-15                   [10, 48, 3, 3, 3]         --\n",
       "├─Sequential: 1-7                        [10, 48, 3, 3, 3]         --\n",
       "│    └─PartialConv3d: 2-16               [10, 48, 3, 3, 3]         62,256\n",
       "│    └─LeakyReLU: 2-17                   [10, 48, 3, 3, 3]         --\n",
       "├─Upsample: 1-8                          [10, 48, 6, 6, 6]         --\n",
       "├─Sequential: 1-9                        [10, 96, 6, 6, 6]         --\n",
       "│    └─Dropout: 2-18                     [10, 96, 6, 6, 6]         --\n",
       "│    └─Conv3d: 2-19                      [10, 96, 6, 6, 6]         248,928\n",
       "│    └─LeakyReLU: 2-20                   [10, 96, 6, 6, 6]         --\n",
       "│    └─Dropout: 2-21                     [10, 96, 6, 6, 6]         --\n",
       "│    └─Conv3d: 2-22                      [10, 96, 6, 6, 6]         248,928\n",
       "│    └─LeakyReLU: 2-23                   [10, 96, 6, 6, 6]         --\n",
       "├─Upsample: 1-10                         [10, 96, 12, 12, 12]      --\n",
       "├─Sequential: 1-11                       [10, 96, 12, 12, 12]      --\n",
       "│    └─Dropout: 2-24                     [10, 144, 12, 12, 12]     --\n",
       "│    └─Conv3d: 2-25                      [10, 96, 12, 12, 12]      373,344\n",
       "│    └─LeakyReLU: 2-26                   [10, 96, 12, 12, 12]      --\n",
       "│    └─Dropout: 2-27                     [10, 96, 12, 12, 12]      --\n",
       "│    └─Conv3d: 2-28                      [10, 96, 12, 12, 12]      248,928\n",
       "│    └─LeakyReLU: 2-29                   [10, 96, 12, 12, 12]      --\n",
       "├─Upsample: 1-12                         [10, 96, 24, 24, 24]      --\n",
       "├─Sequential: 1-13                       [10, 96, 24, 24, 24]      --\n",
       "│    └─Dropout: 2-30                     [10, 144, 24, 24, 24]     --\n",
       "│    └─Conv3d: 2-31                      [10, 96, 24, 24, 24]      373,344\n",
       "│    └─LeakyReLU: 2-32                   [10, 96, 24, 24, 24]      --\n",
       "│    └─Dropout: 2-33                     [10, 96, 24, 24, 24]      --\n",
       "│    └─Conv3d: 2-34                      [10, 96, 24, 24, 24]      248,928\n",
       "│    └─LeakyReLU: 2-35                   [10, 96, 24, 24, 24]      --\n",
       "├─Upsample: 1-14                         [10, 96, 48, 48, 48]      --\n",
       "├─Sequential: 1-15                       [10, 96, 48, 48, 48]      --\n",
       "│    └─Dropout: 2-36                     [10, 144, 48, 48, 48]     --\n",
       "│    └─Conv3d: 2-37                      [10, 96, 48, 48, 48]      373,344\n",
       "│    └─LeakyReLU: 2-38                   [10, 96, 48, 48, 48]      --\n",
       "│    └─Dropout: 2-39                     [10, 96, 48, 48, 48]      --\n",
       "│    └─Conv3d: 2-40                      [10, 96, 48, 48, 48]      248,928\n",
       "│    └─LeakyReLU: 2-41                   [10, 96, 48, 48, 48]      --\n",
       "├─Upsample: 1-16                         [10, 96, 96, 96, 96]      --\n",
       "├─Sequential: 1-17                       [10, 1, 96, 96, 96]       --\n",
       "│    └─Dropout: 2-42                     [10, 97, 96, 96, 96]      --\n",
       "│    └─Conv3d: 2-43                      [10, 64, 96, 96, 96]      167,680\n",
       "│    └─LeakyReLU: 2-44                   [10, 64, 96, 96, 96]      --\n",
       "│    └─Dropout: 2-45                     [10, 64, 96, 96, 96]      --\n",
       "│    └─Conv3d: 2-46                      [10, 32, 96, 96, 96]      55,328\n",
       "│    └─LeakyReLU: 2-47                   [10, 32, 96, 96, 96]      --\n",
       "│    └─Dropout: 2-48                     [10, 32, 96, 96, 96]      --\n",
       "│    └─Conv3d: 2-49                      [10, 1, 96, 96, 96]       865\n",
       "==========================================================================================\n",
       "Total params: 2,963,425\n",
       "Trainable params: 2,963,425\n",
       "Non-trainable params: 0\n",
       "Total mult-adds (T): 3.41\n",
       "==========================================================================================\n",
       "Input size (MB): 35.39\n",
       "Forward/backward pass size (MB): 16086.54\n",
       "Params size (MB): 11.85\n",
       "Estimated Total Size (MB): 16133.78\n",
       "=========================================================================================="
      ]
     },
     "execution_count": 9,
     "metadata": {},
     "output_type": "execute_result"
    }
   ],
   "source": [
    "summary(model, (batch_size, 1, subtomo_length, subtomo_length, subtomo_length), device='cpu')"
   ]
  },
  {
   "cell_type": "markdown",
   "id": "01e039fb-20ad-4fe1-b847-1a854b6d62e7",
   "metadata": {
    "tags": []
   },
   "source": [
    "# Loss function"
   ]
  },
  {
   "cell_type": "code",
   "execution_count": 10,
   "id": "2b5173dd-69f4-434e-8320-381017e8b5a4",
   "metadata": {},
   "outputs": [
    {
     "data": {
      "text/plain": [
       "torch.Size([10, 1, 96, 96, 96])"
      ]
     },
     "execution_count": 10,
     "metadata": {},
     "output_type": "execute_result"
    }
   ],
   "source": [
    "pred = model(subtomo)\n",
    "pred.shape"
   ]
  },
  {
   "cell_type": "code",
   "execution_count": 11,
   "id": "728d18fd-4d07-496e-a3f4-bdc8b01c4cbe",
   "metadata": {},
   "outputs": [],
   "source": [
    "from cryoS2Sdrop.losses import self2self_L2Loss, TotalVariation, self2selfLoss_noMask\n",
    "# loss = self2self_L2Loss()\n",
    "# TV = TotalVariation()\n",
    "loss = self2selfLoss_noMask(alpha=0.005)"
   ]
  },
  {
   "cell_type": "code",
   "execution_count": 12,
   "id": "70668c90-cd33-4b78-82d5-1cd6c555a149",
   "metadata": {},
   "outputs": [
    {
     "data": {
      "text/plain": [
       "tensor(6413469., grad_fn=<AddBackward0>)"
      ]
     },
     "execution_count": 12,
     "metadata": {},
     "output_type": "execute_result"
    }
   ],
   "source": [
    "loss(pred, target)"
   ]
  },
  {
   "cell_type": "markdown",
   "id": "69a1385b-f37f-4916-9817-c59a10ef461b",
   "metadata": {},
   "source": [
    "# Monitor function: SSIM and PSNR"
   ]
  },
  {
   "cell_type": "code",
   "execution_count": 6,
   "id": "769a2a96-03ae-4978-8b09-4278cb85a3d0",
   "metadata": {},
   "outputs": [],
   "source": [
    "from pytorch_msssim import ssim\n",
    "from torchmetrics.functional import peak_signal_noise_ratio, mean_squared_error"
   ]
  },
  {
   "cell_type": "code",
   "execution_count": 18,
   "id": "400b8c44-adc2-40f2-81a9-3736cd6a73e2",
   "metadata": {},
   "outputs": [
    {
     "name": "stdout",
     "output_type": "stream",
     "text": [
      "torch.Size([10, 1, 96, 96, 96]) torch.Size([10, 1, 96, 96, 96])\n",
      "torch.Size([1, 1, 96, 96, 96])\n"
     ]
    }
   ],
   "source": [
    "for batch in dloader:\n",
    "    subtomo, target, gt_subtomo = batch\n",
    "    pred = model(subtomo)\n",
    "    print(subtomo.shape, target.shape)\n",
    "    break\n",
    "    \n",
    "for i,j in zip(torch.split(pred, 1), torch.split(gt_subtomo, 1)):\n",
    "    i, j\n",
    "    print(i.shape)\n",
    "    break"
   ]
  },
  {
   "cell_type": "code",
   "execution_count": 8,
   "id": "8b003139-e2d0-4de0-8f3e-938d71b1fe3e",
   "metadata": {},
   "outputs": [
    {
     "data": {
      "text/plain": [
       "10"
      ]
     },
     "execution_count": 8,
     "metadata": {},
     "output_type": "execute_result"
    }
   ],
   "source": [
    "len(torch.split(subtomo, 1))"
   ]
  },
  {
   "cell_type": "code",
   "execution_count": 9,
   "id": "b8a7cb8e-9280-44fb-88b2-60aa2438efb8",
   "metadata": {},
   "outputs": [
    {
     "data": {
      "text/plain": [
       "10"
      ]
     },
     "execution_count": 9,
     "metadata": {},
     "output_type": "execute_result"
    }
   ],
   "source": [
    "data_range = 10\n",
    "data_range"
   ]
  },
  {
   "cell_type": "code",
   "execution_count": 19,
   "id": "5a76334b-3c8d-465b-b2fe-a838424412d9",
   "metadata": {},
   "outputs": [
    {
     "data": {
      "text/plain": [
       "tensor(0.3015)"
      ]
     },
     "execution_count": 19,
     "metadata": {},
     "output_type": "execute_result"
    }
   ],
   "source": [
    "j.abs().max()"
   ]
  },
  {
   "cell_type": "code",
   "execution_count": 22,
   "id": "b1556886-34ed-43bb-ae1a-2f1b59e21b81",
   "metadata": {},
   "outputs": [
    {
     "data": {
      "text/plain": [
       "(array([     0.,      0.,      0.,      0.,      0., 884736.,      0.,\n",
       "             0.,      0.,      0.]),\n",
       " array([-0.80153286, -0.70153284, -0.6015329 , -0.50153285, -0.40153286,\n",
       "        -0.30153286, -0.20153287, -0.10153286, -0.00153286,  0.09846713,\n",
       "         0.19846714], dtype=float32),\n",
       " <BarContainer object of 10 artists>)"
      ]
     },
     "execution_count": 22,
     "metadata": {},
     "output_type": "execute_result"
    },
    {
     "data": {
      "image/png": "[encoded data removed]",
      "text/plain": [
       "<Figure size 432x288 with 1 Axes>"
      ]
     },
     "metadata": {
      "needs_background": "light"
     },
     "output_type": "display_data"
    }
   ],
   "source": [
    "plt.hist(i.detach().numpy().flatten(), alpha=0.5)\n",
    "plt.hist(j.numpy().flatten(), alpha=0.5)"
   ]
  },
  {
   "cell_type": "code",
   "execution_count": 23,
   "id": "91ddb985-e28a-46d3-b639-0e1f3944c02d",
   "metadata": {},
   "outputs": [
    {
     "data": {
      "text/plain": [
       "(0.9826852679252625, 29.426454544067383)"
      ]
     },
     "execution_count": 23,
     "metadata": {},
     "output_type": "execute_result"
    }
   ],
   "source": [
    "float(ssim(i.mean((0)), j.mean((0)))), float(peak_signal_noise_ratio(i.mean((0)), j.mean((0)), data_range=data_range))"
   ]
  },
  {
   "cell_type": "code",
   "execution_count": 25,
   "id": "ffb6c461-9e50-422e-a2f8-96a3748297fa",
   "metadata": {},
   "outputs": [
    {
     "data": {
      "text/plain": [
       "<matplotlib.image.AxesImage at 0x7fa3fdaddcd0>"
      ]
     },
     "execution_count": 25,
     "metadata": {},
     "output_type": "execute_result"
    },
    {
     "data": {
      "image/png": "[encoded data removed]",
      "text/plain": [
       "<Figure size 1080x576 with 2 Axes>"
      ]
     },
     "metadata": {
      "needs_background": "light"
     },
     "output_type": "display_data"
    }
   ],
   "source": [
    "fig, (ax0, ax1) = plt.subplots(1, 2, figsize=(15, 8))\n",
    "zidx = 46\n",
    "ax0.imshow(i.detach().mean((0, 1))[zidx])\n",
    "ax1.imshow(j.mean((0, 1))[zidx])"
   ]
  },
  {
   "cell_type": "code",
   "execution_count": null,
   "id": "5ba48847-664a-425b-aa67-bc92aa5bcf06",
   "metadata": {},
   "outputs": [],
   "source": []
  },
  {
   "cell_type": "code",
   "execution_count": null,
   "id": "790351b0-348b-4686-bc38-505e24a39647",
   "metadata": {},
   "outputs": [],
   "source": []
  }
 ],
 "metadata": {
  "kernelspec": {
   "display_name": "Python 3 (ipykernel)",
   "language": "python",
   "name": "python3"
  },
  "language_info": {
   "codemirror_mode": {
    "name": "ipython",
    "version": 3
   },
   "file_extension": ".py",
   "mimetype": "text/x-python",
   "name": "python",
   "nbconvert_exporter": "python",
   "pygments_lexer": "ipython3",
   "version": "3.9.12"
  }
 },
 "nbformat": 4,
 "nbformat_minor": 5
}
