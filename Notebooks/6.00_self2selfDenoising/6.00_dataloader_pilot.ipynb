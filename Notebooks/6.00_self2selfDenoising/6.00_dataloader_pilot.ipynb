{
 "cells": [
  {
   "cell_type": "code",
   "execution_count": 1,
   "id": "a90293f9-ce3d-48c5-9c85-038b24f9afdf",
   "metadata": {},
   "outputs": [],
   "source": [
    "from tomoSegmentPipeline.utils.common import read_array, write_array\n",
    "from tomoSegmentPipeline.utils import setup\n",
    "from cryoS2Sdrop.dataloader import singleCET_dataset\n",
    "\n",
    "import numpy as np\n",
    "import matplotlib.pyplot as plt\n",
    "import torch\n",
    "import os\n",
    "from torch.utils.data import Dataset, DataLoader\n",
    "\n",
    "PARENT_PATH = setup.PARENT_PATH\n",
    "ISONET_PATH = os.path.join(PARENT_PATH, 'data/isoNet/')\n",
    "\n",
    "%matplotlib inline\n",
    "%config Completer.use_jedi = False\n",
    "%load_ext autoreload\n",
    "%autoreload 2"
   ]
  },
  {
   "cell_type": "code",
   "execution_count": 22,
   "id": "37392372-4837-41ac-b800-8bc41add9829",
   "metadata": {},
   "outputs": [],
   "source": [
    "cet_path = os.path.join(PARENT_PATH, 'data/raw_cryo-ET/tomo02.mrc') \n",
    "p=0.5\n",
    "my_dataset = singleCET_dataset(cet_path, 10, p=p, n_samples=5)"
   ]
  },
  {
   "cell_type": "code",
   "execution_count": 23,
   "id": "b50e0c8a-7906-40f4-a2c7-08f9f14bd741",
   "metadata": {},
   "outputs": [
    {
     "data": {
      "text/plain": [
       "torch.Size([5, 10, 10, 10])"
      ]
     },
     "execution_count": 23,
     "metadata": {},
     "output_type": "execute_result"
    }
   ],
   "source": [
    "subtomo, target, mask = my_dataset[0]\n",
    "subtomo.shape"
   ]
  },
  {
   "cell_type": "code",
   "execution_count": 25,
   "id": "df79a9e7-16ad-49da-89de-4297c6ff5827",
   "metadata": {},
   "outputs": [
    {
     "data": {
      "text/plain": [
       "<matplotlib.image.AxesImage at 0x7f4c8b766c70>"
      ]
     },
     "execution_count": 25,
     "metadata": {},
     "output_type": "execute_result"
    },
    {
     "data": {
      "image/png": "[encoded data removed]",
      "text/plain": [
       "<Figure size 432x288 with 2 Axes>"
      ]
     },
     "metadata": {
      "needs_background": "light"
     },
     "output_type": "display_data"
    }
   ],
   "source": [
    "fig, (ax0, ax1) = plt.subplots(1, 2)\n",
    "ax0.imshow(target[0][6] + subtomo[0][6])\n",
    "ax1.imshow(subtomo[0][6])"
   ]
  },
  {
   "cell_type": "code",
   "execution_count": 26,
   "id": "80e9a280-3c0a-405b-ace5-4a781a12f19d",
   "metadata": {},
   "outputs": [
    {
     "data": {
      "text/plain": [
       "(tensor(8.5244e-09), tensor(1.))"
      ]
     },
     "execution_count": 26,
     "metadata": {},
     "output_type": "execute_result"
    }
   ],
   "source": [
    "my_dataset.data.mean(), my_dataset.data.std()"
   ]
  },
  {
   "cell_type": "code",
   "execution_count": 27,
   "id": "13871eec-abf4-4b06-8940-ba0cd94d3acf",
   "metadata": {},
   "outputs": [
    {
     "data": {
      "text/plain": [
       "(array([4.70000000e+01, 8.78000000e+02, 6.74500000e+03, 1.75287000e+05,\n",
       "        1.48077754e+08, 2.50159652e+08, 1.16540400e+06, 3.17500000e+03,\n",
       "        4.01000000e+02, 3.30000000e+01]),\n",
       " array([-15.919886 , -12.799945 ,  -9.680004 ,  -6.560063 ,  -3.440122 ,\n",
       "         -0.3201809,   2.79976  ,   5.919701 ,   9.039642 ,  12.159583 ,\n",
       "         15.279524 ], dtype=float32),\n",
       " <BarContainer object of 10 artists>)"
      ]
     },
     "execution_count": 27,
     "metadata": {},
     "output_type": "execute_result"
    },
    {
     "data": {
      "image/png": "[encoded data removed]",
      "text/plain": [
       "<Figure size 432x288 with 1 Axes>"
      ]
     },
     "metadata": {
      "needs_background": "light"
     },
     "output_type": "display_data"
    }
   ],
   "source": [
    "plt.hist(my_dataset.data.flatten().numpy())"
   ]
  },
  {
   "cell_type": "code",
   "execution_count": null,
   "id": "a3161287-8c8a-481c-9f1d-9f0064abacd0",
   "metadata": {},
   "outputs": [],
   "source": []
  }
 ],
 "metadata": {
  "kernelspec": {
   "display_name": "Python 3 (ipykernel)",
   "language": "python",
   "name": "python3"
  },
  "language_info": {
   "codemirror_mode": {
    "name": "ipython",
    "version": 3
   },
   "file_extension": ".py",
   "mimetype": "text/x-python",
   "name": "python",
   "nbconvert_exporter": "python",
   "pygments_lexer": "ipython3",
   "version": "3.9.12"
  }
 },
 "nbformat": 4,
 "nbformat_minor": 5
}
