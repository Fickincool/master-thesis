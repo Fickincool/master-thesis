{
 "cells": [
  {
   "cell_type": "code",
   "execution_count": 1,
   "id": "a90293f9-ce3d-48c5-9c85-038b24f9afdf",
   "metadata": {},
   "outputs": [],
   "source": [
    "from tomoSegmentPipeline.utils.common import read_array, write_array\n",
    "from tomoSegmentPipeline.utils import setup\n",
    "from cryoS2Sdrop.dataloader import singleCET_dataset\n",
    "\n",
    "import numpy as np\n",
    "import matplotlib.pyplot as plt\n",
    "import torch\n",
    "import os\n",
    "from torch.utils.data import Dataset, DataLoader\n",
    "\n",
    "PARENT_PATH = setup.PARENT_PATH\n",
    "ISONET_PATH = os.path.join(PARENT_PATH, 'data/isoNet/')\n",
    "\n",
    "%matplotlib inline\n",
    "%config Completer.use_jedi = False\n",
    "%load_ext autoreload\n",
    "%autoreload 2"
   ]
  },
  {
   "cell_type": "markdown",
   "id": "20bc56fa-d651-47cd-a33a-c1e37bbe85ac",
   "metadata": {
    "jp-MarkdownHeadingCollapsed": true,
    "tags": []
   },
   "source": [
    "# Make grid method\n",
    "\n",
    "I want to create a set of overlapping intervals of size subtomo_length that cover the entire tomogram and that dont overlap too much to reduce the number of intervals that I need to cover the tomogram."
   ]
  },
  {
   "cell_type": "markdown",
   "id": "adeb855b-59a5-4642-9dfa-ec5f20018f18",
   "metadata": {
    "tags": []
   },
   "source": [
    "## Pilot in 1D"
   ]
  },
  {
   "cell_type": "code",
   "execution_count": 28,
   "id": "b976ec56-5fc6-4c8f-8f1b-294442c81bfc",
   "metadata": {},
   "outputs": [
    {
     "data": {
      "text/plain": [
       "14.5"
      ]
     },
     "execution_count": 28,
     "metadata": {},
     "output_type": "execute_result"
    }
   ],
   "source": [
    "L = 928\n",
    "s = 64\n",
    "\n",
    "n_intervals = L/s\n",
    "n_intervals # the decimal part means we have a surplus"
   ]
  },
  {
   "cell_type": "code",
   "execution_count": 29,
   "id": "e51f9dbb-5d06-42a3-9c49-713f0c53d028",
   "metadata": {},
   "outputs": [
    {
     "data": {
      "text/plain": [
       "32"
      ]
     },
     "execution_count": 29,
     "metadata": {},
     "output_type": "execute_result"
    }
   ],
   "source": [
    "surplus = L%s\n",
    "surplus"
   ]
  },
  {
   "cell_type": "markdown",
   "id": "8a98f98d-da54-46e0-81fc-b852ce75f5a9",
   "metadata": {},
   "source": [
    "So what should happen now is that this surplus should be distributed across L such that it is completely covered with little overlap.\n",
    "\n",
    "To achieve this, I can create one more interval across L, however I still need to fulfill some constraints:\n",
    "1. All of the intervals should have the same size s. \n",
    "2. The amount of overlapping might vary, but it needs to be small"
   ]
  },
  {
   "cell_type": "code",
   "execution_count": 30,
   "id": "74b1c01f-0801-4a13-8560-39a3fc3cf3eb",
   "metadata": {},
   "outputs": [
    {
     "data": {
      "text/plain": [
       "(array([ 4, 11, 19, 27, 34, 42, 50, 57, 65, 73, 80, 88, 96]),\n",
       " 61.714285714285715)"
      ]
     },
     "execution_count": 30,
     "metadata": {},
     "output_type": "execute_result"
    }
   ],
   "source": [
    "pcenters, step = np.linspace(s//2, L-s//2, int(np.ceil(n_intervals)), dtype=int, retstep=True)\n",
    "intervals, step"
   ]
  },
  {
   "cell_type": "code",
   "execution_count": 31,
   "id": "1e8ed7e6-6f8e-4af4-9a5a-63f627ded262",
   "metadata": {},
   "outputs": [
    {
     "data": {
      "text/plain": [
       "0.046875"
      ]
     },
     "execution_count": 31,
     "metadata": {},
     "output_type": "execute_result"
    }
   ],
   "source": [
    "startpoints, endpoints = pcenters-s//2, pcenters+s//2\n",
    "max(endpoints[:-1]-startpoints[1::])/s # overlap"
   ]
  },
  {
   "cell_type": "code",
   "execution_count": 32,
   "id": "31c1c91c-8c80-4e49-8453-5a4ab999483e",
   "metadata": {},
   "outputs": [
    {
     "data": {
      "text/plain": [
       "<matplotlib.collections.PathCollection at 0x7fbe54611fd0>"
      ]
     },
     "execution_count": 32,
     "metadata": {},
     "output_type": "execute_result"
    },
    {
     "data": {
      "image/png": "[encoded data removed]",
      "text/plain": [
       "<Figure size 1080x288 with 1 Axes>"
      ]
     },
     "metadata": {
      "needs_background": "light"
     },
     "output_type": "display_data"
    }
   ],
   "source": [
    "y0 = np.zeros_like(pcenters)\n",
    "\n",
    "plt.figure(figsize=(15, 4))\n",
    "plt.scatter(x=pcenters, y=y0, c='r', marker='.')\n",
    "plt.scatter(x=startpoints, y=y0, c='g')\n",
    "plt.scatter(x=endpoints, y=y0, c='b')"
   ]
  },
  {
   "cell_type": "code",
   "execution_count": null,
   "id": "56ca1237-d93e-4aba-9f3b-36816ab81562",
   "metadata": {},
   "outputs": [],
   "source": []
  },
  {
   "cell_type": "markdown",
   "id": "62e38c17-52b0-429c-b909-caa909264d30",
   "metadata": {},
   "source": [
    "## 3D tomogram"
   ]
  },
  {
   "cell_type": "code",
   "execution_count": 18,
   "id": "94e4b907-173e-4c0a-9e7b-9beaf7f1f4f9",
   "metadata": {},
   "outputs": [
    {
     "data": {
      "text/plain": [
       "(464, 928, 928)"
      ]
     },
     "execution_count": 18,
     "metadata": {},
     "output_type": "execute_result"
    }
   ],
   "source": [
    "cet_path = os.path.join(PARENT_PATH, 'data/raw_cryo-ET/tomo02.mrc') \n",
    "tomo_data = read_array(cet_path)\n",
    "\n",
    "subtomo_length = 128\n",
    "\n",
    "tomo_data.shape"
   ]
  },
  {
   "cell_type": "code",
   "execution_count": 19,
   "id": "0ff5d496-c305-4275-8b2b-694565093c9f",
   "metadata": {},
   "outputs": [
    {
     "data": {
      "text/plain": [
       "8"
      ]
     },
     "execution_count": 19,
     "metadata": {},
     "output_type": "execute_result"
    }
   ],
   "source": [
    "zyx = tomo_data.shape # tomogram dimensions\n",
    "max_length = max(zyx)\n",
    "dist_center = subtomo_length//2 # size from center\n",
    "\n",
    "n_centers = int(np.ceil(max_length/subtomo_length))\n",
    "n_centers"
   ]
  },
  {
   "cell_type": "code",
   "execution_count": 23,
   "id": "e43ac3b7-f0a0-4eb7-b56d-133b8d7da7e5",
   "metadata": {},
   "outputs": [
    {
     "name": "stdout",
     "output_type": "stream",
     "text": [
      "0.25\n",
      "0.21875\n",
      "0.21875\n"
     ]
    }
   ],
   "source": [
    "pcenters = []\n",
    "for i, coord in enumerate(zyx):\n",
    "\n",
    "    n_centers = int(np.ceil(coord/subtomo_length))\n",
    "    pcenter = np.linspace(dist_center, coord-dist_center, n_centers, dtype=int)\n",
    "    \n",
    "    startpoints, endpoints = pcenter-dist_center, pcenter+dist_center\n",
    "    overlap_ratio = max(endpoints[:-1]-startpoints[1::])/dist_center # overlap\n",
    "\n",
    "    pcenters.append(pcenter)\n",
    "    print(overlap_ratio)\n",
    "    \n",
    "    if overlap_ratio<0:\n",
    "        raise ValueError('The tomogram is not fully covered in dimension %i.' %i)\n",
    "        \n",
    "    if overlap_ratio>0.5:\n",
    "        raise ValueError('There is too much overlap between patches in dimension %i.' %i)\n",
    "\n",
    "z, y, x = zyx"
   ]
  },
  {
   "cell_type": "code",
   "execution_count": 22,
   "id": "00a9b227-d37c-4d27-86c4-d896c4f72aff",
   "metadata": {},
   "outputs": [
    {
     "data": {
      "text/plain": [
       "0.21875"
      ]
     },
     "execution_count": 22,
     "metadata": {},
     "output_type": "execute_result"
    }
   ],
   "source": [
    "overlap_ratio"
   ]
  },
  {
   "cell_type": "code",
   "execution_count": 13,
   "id": "a31394fe-32de-4be9-9888-0db71225f24b",
   "metadata": {},
   "outputs": [
    {
     "data": {
      "text/plain": [
       "1800"
      ]
     },
     "execution_count": 13,
     "metadata": {},
     "output_type": "execute_result"
    }
   ],
   "source": [
    "zs, ys, xs = np.meshgrid(*pcenters, indexing='ij')\n",
    "grid = list(zip(zs.flatten(), ys.flatten(), xs.flatten()))\n",
    "len(grid)"
   ]
  },
  {
   "cell_type": "markdown",
   "id": "570b6353-b792-426a-9830-5a76af8cc798",
   "metadata": {},
   "source": [
    "# Implementation on the Dataset"
   ]
  },
  {
   "cell_type": "code",
   "execution_count": 19,
   "id": "37392372-4837-41ac-b800-8bc41add9829",
   "metadata": {},
   "outputs": [
    {
     "name": "stdout",
     "output_type": "stream",
     "text": [
      "Size of dataset: 75, Steps per epoch: 4\n"
     ]
    }
   ],
   "source": [
    "# cet_path = os.path.join(PARENT_PATH, 'data/raw_cryo-ET/tomo02.mrc') \n",
    "cet_path = os.path.join(PARENT_PATH, 'data/S2SDenoising/dummy_tomograms/tomo02_dummy.mrc')\n",
    "gt_cet_path = None\n",
    "# simulated_model = 'model14'\n",
    "# cet_path = os.path.join(\n",
    "#     PARENT_PATH, \"data/S2SDenoising/dummy_tomograms/tomoPhantom_%s_Poisson5000+Gauss5+stripes.mrc\" %simulated_model\n",
    "# )\n",
    "# gt_cet_path = os.path.join(\n",
    "#     PARENT_PATH, \"data/S2SDenoising/dummy_tomograms/tomoPhantom_%s.mrc\" %simulated_model\n",
    "# )\n",
    "\n",
    "\n",
    "p=0.3\n",
    "batch_size = 8\n",
    "num_gpus = 2\n",
    "subtomo_length = 96\n",
    "\n",
    "my_dataset = singleCET_dataset(cet_path, subtomo_length, p=p, volumetric_scale_factor=8, gt_tomo_path=gt_cet_path)\n",
    "print('Size of dataset: %i, Steps per epoch: %i' %(len(my_dataset), len(my_dataset)/(batch_size*num_gpus)))"
   ]
  },
  {
   "cell_type": "code",
   "execution_count": 20,
   "id": "6da35655-a3e0-4a11-9152-2ad290dee790",
   "metadata": {},
   "outputs": [
    {
     "data": {
      "text/plain": [
       "<matplotlib.image.AxesImage at 0x7f445bfaac40>"
      ]
     },
     "execution_count": 20,
     "metadata": {},
     "output_type": "execute_result"
    },
    {
     "data": {
      "image/png": "[encoded data removed]",
      "text/plain": [
       "<Figure size 1080x576 with 3 Axes>"
      ]
     },
     "metadata": {
      "needs_background": "light"
     },
     "output_type": "display_data"
    }
   ],
   "source": [
    "mask = my_dataset.create_Vmask()[0]\n",
    "\n",
    "fig, (ax0, ax1, ax2) = plt.subplots(1, 3, figsize=(15, 8))\n",
    "\n",
    "aux_idx = subtomo_length//2\n",
    "ax0.imshow(mask[aux_idx])\n",
    "ax1.imshow(mask[:,aux_idx, :])\n",
    "ax2.imshow(mask[:, :,aux_idx])"
   ]
  },
  {
   "cell_type": "code",
   "execution_count": 21,
   "id": "81268118-52be-4738-86a7-54bb794995d5",
   "metadata": {},
   "outputs": [
    {
     "data": {
      "text/plain": [
       "<matplotlib.image.AxesImage at 0x7f445bec3cd0>"
      ]
     },
     "execution_count": 21,
     "metadata": {},
     "output_type": "execute_result"
    },
    {
     "data": {
      "image/png": "[encoded data removed]",
      "text/plain": [
       "<Figure size 432x288 with 1 Axes>"
      ]
     },
     "metadata": {
      "needs_background": "light"
     },
     "output_type": "display_data"
    }
   ],
   "source": [
    "# grid sanity check: grid cover the entire tomogram\n",
    "tomo_data = my_dataset.data\n",
    "\n",
    "dummy_tomo = torch.zeros_like(torch.tensor(tomo_data))\n",
    "\n",
    "for idx in range(len(my_dataset)):\n",
    "    \n",
    "    z0, y0, x0 = my_dataset.grid[idx]\n",
    "    zmin, zmax = z0-subtomo_length//2, z0+subtomo_length//2\n",
    "    ymin, ymax = y0-subtomo_length//2, y0+subtomo_length//2\n",
    "    xmin, xmax = x0-subtomo_length//2, x0+subtomo_length//2\n",
    "\n",
    "    dummy_tomo[zmin:zmax, ymin:ymax, xmin:xmax] = 1\n",
    "    \n",
    "plt.imshow(dummy_tomo[-1], vmin=0, vmax=1)"
   ]
  },
  {
   "cell_type": "code",
   "execution_count": 22,
   "id": "14eeabe2-1dc4-4ac3-b6db-05caf5e4d315",
   "metadata": {},
   "outputs": [],
   "source": [
    "# fig, (ax0, ax1) = plt.subplots(1, 2, figsize=(18, 8))\n",
    "# zidx = my_dataset.tomo_shape[0]//2\n",
    "# ax0.imshow(my_dataset.data[zidx])\n",
    "# ax1.imshow(my_dataset.bernoulli_mask[0][zidx])"
   ]
  },
  {
   "cell_type": "code",
   "execution_count": 23,
   "id": "51b0cf70-9741-48d3-8994-4a3a46769249",
   "metadata": {},
   "outputs": [
    {
     "data": {
      "text/plain": [
       "(torch.Size([232, 464, 464]), torch.Size([96, 464, 464]), 136, 232)"
      ]
     },
     "execution_count": 23,
     "metadata": {},
     "output_type": "execute_result"
    }
   ],
   "source": [
    "# check last set of dimensions across Z\n",
    "tomo_data.shape, dummy_tomo[zmin:zmax].shape, zmin, zmax"
   ]
  },
  {
   "cell_type": "code",
   "execution_count": 24,
   "id": "9d65f25d-182e-44a3-b9d5-8173639acff7",
   "metadata": {},
   "outputs": [
    {
     "data": {
      "text/plain": [
       "(464, 464)"
      ]
     },
     "execution_count": 24,
     "metadata": {},
     "output_type": "execute_result"
    }
   ],
   "source": [
    "ymax, xmax"
   ]
  },
  {
   "cell_type": "code",
   "execution_count": 27,
   "id": "b50e0c8a-7906-40f4-a2c7-08f9f14bd741",
   "metadata": {},
   "outputs": [
    {
     "data": {
      "text/plain": [
       "torch.Size([6, 1, 96, 96, 96])"
      ]
     },
     "execution_count": 27,
     "metadata": {},
     "output_type": "execute_result"
    }
   ],
   "source": [
    "idx = 10\n",
    "subtomo, target, mask, gt_subtomo = my_dataset[idx]\n",
    "subtomo.shape"
   ]
  },
  {
   "cell_type": "code",
   "execution_count": 28,
   "id": "ae7512f2-14ce-4b73-960d-b1e81724b0a1",
   "metadata": {},
   "outputs": [
    {
     "data": {
      "text/plain": [
       "(array([  26186.,   60250.,  139086.,  244995.,  322536., 4041666.,\n",
       "         246510.,  140001.,   60993.,   26193.]),\n",
       " array([-2.618816 , -2.0960007, -1.5731853, -1.05037  , -0.5275547,\n",
       "        -0.0047394,  0.5180759,  1.0408912,  1.5637065,  2.0865219,\n",
       "         2.609337 ], dtype=float32),\n",
       " <BarContainer object of 10 artists>)"
      ]
     },
     "execution_count": 28,
     "metadata": {},
     "output_type": "execute_result"
    },
    {
     "data": {
      "image/png": "[encoded data removed]",
      "text/plain": [
       "<Figure size 432x288 with 1 Axes>"
      ]
     },
     "metadata": {
      "needs_background": "light"
     },
     "output_type": "display_data"
    }
   ],
   "source": [
    "plt.hist(subtomo.squeeze().numpy().flatten(), alpha=0.5)\n",
    "plt.hist(target.squeeze().numpy().flatten(), alpha=0.5)"
   ]
  },
  {
   "cell_type": "code",
   "execution_count": 29,
   "id": "df79a9e7-16ad-49da-89de-4297c6ff5827",
   "metadata": {},
   "outputs": [
    {
     "data": {
      "image/png": "[encoded data removed]",
      "text/plain": [
       "<Figure size 1296x576 with 3 Axes>"
      ]
     },
     "metadata": {
      "needs_background": "light"
     },
     "output_type": "display_data"
    }
   ],
   "source": [
    "z0, y0, x0 = my_dataset.grid[idx]\n",
    "zmin, zmax = z0-subtomo_length//2, z0+subtomo_length//2\n",
    "ymin, ymax = y0-subtomo_length//2, y0+subtomo_length//2\n",
    "xmin, xmax = x0-subtomo_length//2, x0+subtomo_length//2\n",
    "\n",
    "aux_patch = tomo_data[zmin:zmax, ymin:ymax, xmin:xmax]\n",
    "\n",
    "if gt_subtomo is not None:\n",
    "    fig, (ax0, ax1, ax2, ax3) = plt.subplots(1, 4, figsize=(18, 8))\n",
    "    zidx = 43\n",
    "    ax0.imshow((target+subtomo)[0][0][zidx])\n",
    "    ax1.imshow(aux_patch[zidx])\n",
    "    ax2.imshow(subtomo[0][0][zidx])\n",
    "    ax3.imshow(gt_subtomo[0][0][zidx])\n",
    "else:\n",
    "    fig, (ax0, ax1, ax2) = plt.subplots(1, 3, figsize=(18, 8))\n",
    "    zidx = 43\n",
    "    ax0.imshow((target+subtomo)[0][0][zidx])\n",
    "    ax1.imshow(aux_patch[zidx])\n",
    "    ax2.imshow(subtomo[0][0][zidx])"
   ]
  },
  {
   "cell_type": "code",
   "execution_count": 11,
   "id": "796f6f58-a18a-4dc1-9b49-1697f707a498",
   "metadata": {},
   "outputs": [
    {
     "data": {
      "text/plain": [
       "tensor(0.2999)"
      ]
     },
     "execution_count": 11,
     "metadata": {},
     "output_type": "execute_result"
    }
   ],
   "source": [
    "(mask==0).sum()/torch.prod(torch.tensor(subtomo.shape))"
   ]
  },
  {
   "cell_type": "code",
   "execution_count": 16,
   "id": "80e9a280-3c0a-405b-ace5-4a781a12f19d",
   "metadata": {},
   "outputs": [
    {
     "data": {
      "text/plain": [
       "tensor(0.)"
      ]
     },
     "execution_count": 16,
     "metadata": {},
     "output_type": "execute_result"
    }
   ],
   "source": [
    "((target + subtomo).squeeze() - aux_patch).abs().max()"
   ]
  },
  {
   "cell_type": "code",
   "execution_count": 17,
   "id": "85c74345-8809-43a0-96b5-3d8b894afb23",
   "metadata": {},
   "outputs": [
    {
     "data": {
      "text/plain": [
       "(array([ 186522.,  455832., 1091052., 1951560., 2597244., 2606562.,\n",
       "        1952490., 1090152.,  461022.,  190476.]),\n",
       " array([-2.618816 , -2.0960007, -1.5731853, -1.05037  , -0.5275547,\n",
       "        -0.0047394,  0.5180759,  1.0408912,  1.5637065,  2.0865219,\n",
       "         2.609337 ], dtype=float32),\n",
       " <BarContainer object of 10 artists>)"
      ]
     },
     "execution_count": 17,
     "metadata": {},
     "output_type": "execute_result"
    },
    {
     "data": {
      "image/png": "[encoded data removed]",
      "text/plain": [
       "<Figure size 432x288 with 1 Axes>"
      ]
     },
     "metadata": {
      "needs_background": "light"
     },
     "output_type": "display_data"
    }
   ],
   "source": [
    "plt.hist(subtomo.squeeze().numpy().flatten(), alpha=0.5)\n",
    "plt.hist((target+subtomo).squeeze().numpy().flatten(), alpha=0.5)"
   ]
  },
  {
   "cell_type": "code",
   "execution_count": 15,
   "id": "13871eec-abf4-4b06-8940-ba0cd94d3acf",
   "metadata": {},
   "outputs": [
    {
     "data": {
      "text/plain": [
       "(array([ 957361., 2013888., 4447247., 7560822., 9885007., 9926292.,\n",
       "        7632401., 4506747., 2049110.,  969797.]),\n",
       " array([-2.618816 , -2.0960007, -1.5731853, -1.05037  , -0.5275547,\n",
       "        -0.0047394,  0.5180759,  1.0408912,  1.5637065,  2.0865219,\n",
       "         2.609337 ], dtype=float32),\n",
       " <BarContainer object of 10 artists>)"
      ]
     },
     "execution_count": 15,
     "metadata": {},
     "output_type": "execute_result"
    },
    {
     "data": {
      "image/png": "[encoded data removed]",
      "text/plain": [
       "<Figure size 432x288 with 1 Axes>"
      ]
     },
     "metadata": {
      "needs_background": "light"
     },
     "output_type": "display_data"
    }
   ],
   "source": [
    "plt.hist(my_dataset.data.flatten().numpy())"
   ]
  },
  {
   "cell_type": "code",
   "execution_count": null,
   "id": "a3161287-8c8a-481c-9f1d-9f0064abacd0",
   "metadata": {},
   "outputs": [],
   "source": []
  }
 ],
 "metadata": {
  "kernelspec": {
   "display_name": "Python 3 (ipykernel)",
   "language": "python",
   "name": "python3"
  },
  "language_info": {
   "codemirror_mode": {
    "name": "ipython",
    "version": 3
   },
   "file_extension": ".py",
   "mimetype": "text/x-python",
   "name": "python",
   "nbconvert_exporter": "python",
   "pygments_lexer": "ipython3",
   "version": "3.9.12"
  }
 },
 "nbformat": 4,
 "nbformat_minor": 5
}
