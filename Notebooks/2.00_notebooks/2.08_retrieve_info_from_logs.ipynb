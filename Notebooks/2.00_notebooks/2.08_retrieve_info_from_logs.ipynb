{
 "cells": [
  {
   "cell_type": "code",
   "execution_count": 1,
   "id": "00fabd81-3ae4-415b-a8f5-655c85d8b3c0",
   "metadata": {},
   "outputs": [],
   "source": [
    "from tomoSegmentPipeline.utils import setup\n",
    "from tomoSegmentPipeline.dataloader import to_categorical, transpose_to_channels_first, tomoSegment_dummyDataset, tomoSegment_dataset\n",
    "from tomoSegmentPipeline.training import Train\n",
    "\n",
    "import torch\n",
    "import pickle as pkl\n",
    "import numpy as np\n",
    "\n",
    "PARENT_PATH = setup.PARENT_PATH"
   ]
  },
  {
   "cell_type": "code",
   "execution_count": 2,
   "id": "4539f183-50da-4b47-9ba7-6923f61c40fc",
   "metadata": {
    "tags": []
   },
   "outputs": [],
   "source": [
    "model_ckpt = PARENT_PATH+'models/logs/BaselineModel/train02-03-17/version_7/checkpoints/epoch=4-step=24.ckpt'\n",
    "model = torch.load(model_ckpt)"
   ]
  },
  {
   "cell_type": "code",
   "execution_count": 3,
   "id": "b4288e3b-8243-4a81-8420-f5b7a48e1bb8",
   "metadata": {},
   "outputs": [
    {
     "data": {
      "text/plain": [
       "dict_keys(['epoch', 'global_step', 'pytorch-lightning_version', 'state_dict', 'callbacks', 'optimizer_states', 'lr_schedulers', 'hparams_name', 'hyper_parameters'])"
      ]
     },
     "execution_count": 3,
     "metadata": {},
     "output_type": "execute_result"
    }
   ],
   "source": [
    "model.keys()"
   ]
  },
  {
   "cell_type": "code",
   "execution_count": 4,
   "id": "50c90602-c6a0-4907-be4b-04f2e2420df1",
   "metadata": {},
   "outputs": [
    {
     "data": {
      "text/plain": [
       "25"
      ]
     },
     "execution_count": 4,
     "metadata": {},
     "output_type": "execute_result"
    }
   ],
   "source": [
    "model['global_step']"
   ]
  },
  {
   "cell_type": "code",
   "execution_count": 5,
   "id": "f46e3bab-f3a1-4c7b-988a-0888e92262e9",
   "metadata": {},
   "outputs": [
    {
     "data": {
      "text/plain": [
       "{'Ncl': 2,\n",
       " 'loss_fn': Tversky_loss(),\n",
       " 'lr': 1e-05,\n",
       " 'weight_decay': 0,\n",
       " 'pretrain_type': None}"
      ]
     },
     "execution_count": 5,
     "metadata": {},
     "output_type": "execute_result"
    }
   ],
   "source": [
    "model['hyper_parameters']"
   ]
  },
  {
   "cell_type": "code",
   "execution_count": 31,
   "id": "05fbf2f4-b179-4792-9ac9-ad6d6d487953",
   "metadata": {},
   "outputs": [
    {
     "data": {
      "text/plain": [
       "(1.1608309745788574,\n",
       " 1.1597447395324707,\n",
       " 1.1586596965789795,\n",
       " 1.1575058698654175,\n",
       " 1.1562151908874512)"
      ]
     },
     "execution_count": 31,
     "metadata": {},
     "output_type": "execute_result"
    }
   ],
   "source": [
    "from glob import glob\n",
    "import os\n",
    "logdir_path = PARENT_PATH+'models/logs/BaselineModel/train02-03-17/version_7/'\n",
    "\n",
    "events_path = glob(os.path.join(logdir_path, 'events.*'))[0]\n",
    "event_acc = EventAccumulator(events_path)\n",
    "event_acc.Reload()\n",
    "\n",
    "_, _, values_valLoss = zip(*event_acc.Scalars('hp/val_loss_epoch'))\n",
    "best_val_loss_epoch = np.min(values_valLoss)\n",
    "best_val_loss_epoch_idx = np.argmin(values_valLoss)\n",
    "\n",
    "values_valLoss"
   ]
  },
  {
   "cell_type": "code",
   "execution_count": 32,
   "id": "0de0be5b-9c4c-469c-884f-dc2500510608",
   "metadata": {},
   "outputs": [
    {
     "data": {
      "text/plain": [
       "(1.1562151908874512, 4)"
      ]
     },
     "execution_count": 32,
     "metadata": {},
     "output_type": "execute_result"
    }
   ],
   "source": [
    "best_val_loss_epoch, best_val_loss_epoch_idx"
   ]
  },
  {
   "cell_type": "code",
   "execution_count": 6,
   "id": "c8270221-c7f4-459d-bf7d-342647bcd415",
   "metadata": {},
   "outputs": [
    {
     "name": "stdout",
     "output_type": "stream",
     "text": [
      "{'images': [], 'audio': [], 'histograms': [], 'scalars': ['hp_metric', 'hp/train_loss', 'hp/train_acc', 'epoch', 'hp/val_loss', 'hp/val_acc', 'hp/val_dice', 'hp/val_loss_epoch', 'hp/val_acc_epoch', 'hp/val_dice_epoch', 'hp/train_loss_epoch', 'hp/train_acc_epoch'], 'distributions': [], 'tensors': ['summary/text_summary'], 'graph': False, 'meta_graph': False, 'run_metadata': []}\n"
     ]
    }
   ],
   "source": [
    "from tensorboard.backend.event_processing.event_accumulator import EventAccumulator\n",
    "my_summaryFolder = PARENT_PATH+'models/logs/BaselineModel/train02-03-17/version_7/events.out.tfevents.1646562446.supergpu02pxe.scidom.de.179126.0'\n",
    "\n",
    "event_acc = EventAccumulator(my_summaryFolder)\n",
    "event_acc.Reload()\n",
    "# Show all tags in the log file\n",
    "print(event_acc.Tags())"
   ]
  },
  {
   "cell_type": "code",
   "execution_count": 7,
   "id": "593698a3-bfb3-49d4-b6d2-4d42017aeda2",
   "metadata": {},
   "outputs": [
    {
     "data": {
      "text/plain": [
       "((4, 9, 14, 19, 24),\n",
       " (1.1608309745788574,\n",
       "  1.1597447395324707,\n",
       "  1.1586596965789795,\n",
       "  1.1575058698654175,\n",
       "  1.1562151908874512))"
      ]
     },
     "execution_count": 7,
     "metadata": {},
     "output_type": "execute_result"
    }
   ],
   "source": [
    "w_times, step_nums, values = zip(*event_acc.Scalars('hp/val_loss_epoch'))\n",
    "step_nums, values"
   ]
  },
  {
   "cell_type": "code",
   "execution_count": 8,
   "id": "b234fe7a-c79b-4f42-aaed-533a7fe18fb9",
   "metadata": {},
   "outputs": [
    {
     "data": {
      "text/plain": [
       "((4, 9, 14, 19, 24),\n",
       " (1.1567301750183105,\n",
       "  1.1556532382965088,\n",
       "  1.1545777320861816,\n",
       "  1.153434157371521,\n",
       "  1.1521539688110352))"
      ]
     },
     "execution_count": 8,
     "metadata": {},
     "output_type": "execute_result"
    }
   ],
   "source": [
    "w_times, step_nums, values = zip(*event_acc.Scalars('hp/val_loss'))\n",
    "step_nums, values"
   ]
  },
  {
   "cell_type": "code",
   "execution_count": 10,
   "id": "08e359ee-fca6-4901-9e30-682565a0e38d",
   "metadata": {},
   "outputs": [
    {
     "data": {
      "text/plain": [
       "((4, 9, 14, 19, 24),\n",
       " (1.1453965902328491,\n",
       "  1.141215443611145,\n",
       "  1.1423850059509277,\n",
       "  1.1364601850509644,\n",
       "  1.1410887241363525))"
      ]
     },
     "execution_count": 10,
     "metadata": {},
     "output_type": "execute_result"
    }
   ],
   "source": [
    "w_times, step_nums, values = zip(*event_acc.Scalars('hp/train_loss_epoch'))\n",
    "step_nums, values"
   ]
  },
  {
   "cell_type": "code",
   "execution_count": 11,
   "id": "3478aa4d-8d08-4733-b683-53906788f25e",
   "metadata": {},
   "outputs": [
    {
     "data": {
      "text/plain": [
       "1.1453965425491333"
      ]
     },
     "execution_count": 11,
     "metadata": {},
     "output_type": "execute_result"
    }
   ],
   "source": [
    "np.mean(np.array([1.1620503664016724,\n",
    "  1.1332340240478516,\n",
    "  1.1324167251586914,\n",
    "  1.1567692756652832,\n",
    "  1.142512321472168]))"
   ]
  },
  {
   "cell_type": "code",
   "execution_count": 9,
   "id": "77aca845-bb4e-4a43-9a0f-4b9e348fc8a3",
   "metadata": {},
   "outputs": [
    {
     "data": {
      "text/plain": [
       "((0,\n",
       "  1,\n",
       "  2,\n",
       "  3,\n",
       "  4,\n",
       "  5,\n",
       "  6,\n",
       "  7,\n",
       "  8,\n",
       "  9,\n",
       "  10,\n",
       "  11,\n",
       "  12,\n",
       "  13,\n",
       "  14,\n",
       "  15,\n",
       "  16,\n",
       "  17,\n",
       "  18,\n",
       "  19,\n",
       "  20,\n",
       "  21,\n",
       "  22,\n",
       "  23,\n",
       "  24),\n",
       " (1.1620503664016724,\n",
       "  1.1332340240478516,\n",
       "  1.1324167251586914,\n",
       "  1.1567692756652832,\n",
       "  1.142512321472168,\n",
       "  1.1377646923065186,\n",
       "  1.1408016681671143,\n",
       "  1.1475532054901123,\n",
       "  1.1240081787109375,\n",
       "  1.155949354171753,\n",
       "  1.145613431930542,\n",
       "  1.1382145881652832,\n",
       "  1.1319082975387573,\n",
       "  1.1737831830978394,\n",
       "  1.122405767440796,\n",
       "  1.1382964849472046,\n",
       "  1.156754493713379,\n",
       "  1.1349576711654663,\n",
       "  1.1463239192962646,\n",
       "  1.1059682369232178,\n",
       "  1.143682599067688,\n",
       "  1.1374711990356445,\n",
       "  1.1370981931686401,\n",
       "  1.138498306274414,\n",
       "  1.1486930847167969))"
      ]
     },
     "execution_count": 9,
     "metadata": {},
     "output_type": "execute_result"
    }
   ],
   "source": [
    "w_times, step_nums, values = zip(*event_acc.Scalars('hp/train_loss'))\n",
    "step_nums, values"
   ]
  },
  {
   "cell_type": "code",
   "execution_count": 25,
   "id": "284dbf01-6670-4dfa-8ec7-c3e9add673be",
   "metadata": {},
   "outputs": [
    {
     "data": {
      "text/plain": [
       "array([14, 29, 44, 59, 74])"
      ]
     },
     "execution_count": 25,
     "metadata": {},
     "output_type": "execute_result"
    }
   ],
   "source": [
    "((np.array(step_nums)+1)*3)-1"
   ]
  },
  {
   "cell_type": "code",
   "execution_count": 10,
   "id": "3da224fb-6bdb-4de7-9684-bb4f2009c7b1",
   "metadata": {},
   "outputs": [
    {
     "data": {
      "text/plain": [
       "(1.1608309745788574,\n",
       " 1.1597447395324707,\n",
       " 1.1586596965789795,\n",
       " 1.1575058698654175,\n",
       " 1.1562151908874512)"
      ]
     },
     "execution_count": 10,
     "metadata": {},
     "output_type": "execute_result"
    }
   ],
   "source": [
    "values"
   ]
  }
 ],
 "metadata": {
  "kernelspec": {
   "display_name": "Python 3 (ipykernel)",
   "language": "python",
   "name": "python3"
  },
  "language_info": {
   "codemirror_mode": {
    "name": "ipython",
    "version": 3
   },
   "file_extension": ".py",
   "mimetype": "text/x-python",
   "name": "python",
   "nbconvert_exporter": "python",
   "pygments_lexer": "ipython3",
   "version": "3.9.10"
  }
 },
 "nbformat": 4,
 "nbformat_minor": 5
}
