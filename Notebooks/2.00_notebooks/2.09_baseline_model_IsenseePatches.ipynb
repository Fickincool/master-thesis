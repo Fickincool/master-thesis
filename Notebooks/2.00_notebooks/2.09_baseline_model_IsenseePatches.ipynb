{
 "cells": [
  {
   "cell_type": "code",
   "execution_count": 1,
   "id": "7e645f40-4bf9-47c2-89d6-07e139c58985",
   "metadata": {},
   "outputs": [],
   "source": [
    "from jeroHelper.setupUtils import append_deepfinder_path, get_tomo_indices, PARENT_PATH\n",
    "append_deepfinder_path()\n",
    "\n",
    "from jeroHelper.trainHelper import make_trainer\n",
    "from jeroHelper.coordGen import OLMaker\n",
    "\n",
    "from deepfinder.utils.common import read_array\n",
    "import deepfinder.utils.objl as ol\n",
    "\n",
    "import numpy as np\n",
    "import matplotlib.pyplot as plt\n",
    "import random\n",
    "import mrcfile\n",
    "import pandas as pd\n",
    "\n",
    "%matplotlib inline\n",
    "%config Completer.use_jedi = False\n",
    "%load_ext autoreload\n",
    "%autoreload 2"
   ]
  },
  {
   "cell_type": "markdown",
   "id": "6ad5f0e1-cfa8-4303-8682-a8772259327d",
   "metadata": {
    "tags": []
   },
   "source": [
    "# Baseline model"
   ]
  },
  {
   "cell_type": "code",
   "execution_count": 2,
   "id": "3bc81612-05af-4a41-9412-deb2f0af06c7",
   "metadata": {
    "tags": []
   },
   "outputs": [
    {
     "name": "stdout",
     "output_type": "stream",
     "text": [
      "Pairs of tomo IDs to indices:\n",
      "[('tomo02_patch000', 0), ('tomo02_patch001', 1), ('tomo02_patch002', 2), ('tomo02_patch003', 3), ('tomo02_patch004', 4), ('tomo02_patch005', 5), ('tomo02_patch006', 6), ('tomo02_patch020', 7), ('tomo02_patch021', 8), ('tomo02_patch030', 9), ('tomo03_patch000', 10), ('tomo03_patch002', 11), ('tomo03_patch004', 12), ('tomo03_patch006', 13), ('tomo03_patch008', 14), ('tomo03_patch010', 15), ('tomo03_patch020', 16), ('tomo03_patch021', 17), ('tomo03_patch022', 18), ('tomo03_patch030', 19), ('tomo03_patch031', 20), ('tomo03_patch032', 21), ('tomo04_patch000', 22), ('tomo04_patch002', 23), ('tomo04_patch004', 24), ('tomo04_patch006', 25), ('tomo04_patch008', 26), ('tomo04_patch009', 27), ('tomo04_patch020', 28), ('tomo04_patch021', 29), ('tomo04_patch030', 30), ('tomo10_patch001', 31), ('tomo10_patch002', 32), ('tomo10_patch003', 33), ('tomo10_patch009', 34), ('tomo10_patch010', 35), ('tomo10_patch011', 36), ('tomo10_patch020', 37), ('tomo10_patch030', 38), ('tomo17_patch000', 39), ('tomo17_patch001', 40), ('tomo17_patch002', 41), ('tomo17_patch006', 42), ('tomo17_patch008', 43), ('tomo17_patch009', 44), ('tomo17_patch010', 45), ('tomo17_patch014', 46), ('tomo17_patch015', 47), ('tomo17_patch030', 48), ('tomo32_patch000', 49), ('tomo32_patch002', 50), ('tomo32_patch004', 51), ('tomo32_patch006', 52), ('tomo32_patch008', 53), ('tomo32_patch010', 54), ('tomo32_patch012', 55), ('tomo32_patch014', 56), ('tomo32_patch020', 57), ('tomo32_patch030', 58), ('tomo32_patch031', 59), ('tomo38_patch000', 60), ('tomo38_patch002', 61), ('tomo38_patch004', 62), ('tomo38_patch006', 63), ('tomo38_patch008', 64), ('tomo38_patch010', 65), ('tomo38_patch020', 66), ('tomo38_patch021', 67), ('tomo38_patch030', 68)]\n",
      "######################## TRAIN TOMOGRAM ######################\n",
      "train object list already exists in: \n",
      "/home/haicu/jeronimo.carvajal/Thesis/data/processed1/deepFinder/object_lists/random_patch_train_tomo02-03-04-17.xml\n",
      "Done! \n",
      "\n",
      "######################## VALIDATION TOMOGRAM ######################\n",
      "validation object list already exists in: \n",
      "/home/haicu/jeronimo.carvajal/Thesis/data/processed1/deepFinder/object_lists/random_patch_validation_tomo10-32.xml\n",
      "Done! \n",
      "\n",
      "######################## TEST TOMOGRAM ######################\n",
      "test object list already exists in: \n",
      "/home/haicu/jeronimo.carvajal/Thesis/data/processed1/deepFinder/object_lists/random_patch_test_tomo38.xml\n",
      "Done! \n",
      "\n"
     ]
    }
   ],
   "source": [
    "train_tomos = ['tomo02', 'tomo03', 'tomo04', 'tomo17']\n",
    "concat_train_ids = sorted([s.replace('tomo', '') for s in train_tomos])\n",
    "concat_train_ids = '-'.join(concat_train_ids)\n",
    "\n",
    "val_tomos = ['tomo32', 'tomo10']\n",
    "concat_val_ids = sorted([s.replace('tomo', '') for s in val_tomos])\n",
    "concat_val_ids = '-'.join(concat_val_ids)\n",
    "\n",
    "test_tomos = ['tomo38']\n",
    "\n",
    "objectList_maker = OLMaker(train_tomos, val_tomos, test_tomos, 12, 15, 20, None, None)\n",
    "\n",
    "objectList_maker.make_xml_objlists(overwrite=False)\n",
    "rsample_train, rsample_val = ol.read_xml(objectList_maker.train_objlist_path), ol.read_xml(objectList_maker.val_objlist_path)"
   ]
  },
  {
   "cell_type": "code",
   "execution_count": 3,
   "id": "d0c38386-b97c-4eb8-998c-667fed0f982e",
   "metadata": {},
   "outputs": [
    {
     "data": {
      "text/plain": [
       "(492, 269)"
      ]
     },
     "execution_count": 3,
     "metadata": {},
     "output_type": "execute_result"
    }
   ],
   "source": [
    "len(rsample_train), len(rsample_val)"
   ]
  },
  {
   "cell_type": "code",
   "execution_count": null,
   "id": "8b3c6075-5fe7-4fb2-87fa-c6af25016c63",
   "metadata": {},
   "outputs": [
    {
     "name": "stderr",
     "output_type": "stream",
     "text": [
      "GPU available: True, used: True\n",
      "TPU available: False, using: 0 TPU cores\n",
      "LOCAL_RANK: 0 - CUDA_VISIBLE_DEVICES: [0,1,2]\n",
      "Set SLURM handle signals.\n",
      "\n",
      "  | Name    | Type         | Params\n",
      "-----------------------------------------\n",
      "0 | loss_fn | Tversky_loss | 0     \n",
      "1 | layer1  | Sequential   | 28.6 K\n",
      "2 | layer2  | Sequential   | 103 K \n",
      "3 | layer3  | Sequential   | 558 K \n",
      "4 | layer4  | Sequential   | 288 K \n",
      "5 | layer5  | Sequential   | 96.9 K\n",
      "-----------------------------------------\n",
      "1.1 M     Trainable params\n",
      "0         Non-trainable params\n",
      "1.1 M     Total params\n",
      "4.304     Total estimated model params size (MB)\n"
     ]
    },
    {
     "name": "stdout",
     "output_type": "stream",
     "text": [
      "\"Ncl\":           3\n",
      "\"loss_fn\":       Tversky_loss()\n",
      "\"lr\":            0.0001\n",
      "\"pretrain_type\": None\n",
      "\"weight_decay\":  0.0\n"
     ]
    }
   ],
   "source": [
    "tb_logdir = './logs_IsenseePatches_main/2.09_baselineModel/'\n",
    "\n",
    "trainer = make_trainer(dim_in=56, batch_size=32, lr=1e-4, epochs=600, tb_logdir=tb_logdir, model_name='2.09_baselineModel',\n",
    "                       reconstruction_trainer=False, pretrained_model=None)\n",
    "trainer.launch(objectList_maker.path_data, objectList_maker.path_target, rsample_train, rsample_val)"
   ]
  },
  {
   "cell_type": "markdown",
   "id": "ba26901e-9fc5-4d7c-a394-20afc9fd2be7",
   "metadata": {},
   "source": [
    "# Low Baseline Model"
   ]
  },
  {
   "cell_type": "code",
   "execution_count": null,
   "id": "b0aaaba7-6567-4a5e-9b24-e59884878b5c",
   "metadata": {
    "tags": []
   },
   "outputs": [],
   "source": [
    "train_tomos = ['tomo02']\n",
    "concat_train_ids = sorted([s.replace('tomo', '') for s in train_tomos])\n",
    "concat_train_ids = '-'.join(concat_train_ids)\n",
    "\n",
    "val_tomos = ['tomo32', 'tomo10']\n",
    "concat_val_ids = sorted([s.replace('tomo', '') for s in val_tomos])\n",
    "concat_val_ids = '-'.join(concat_val_ids)\n",
    "\n",
    "test_tomos = ['tomo38']\n",
    "\n",
    "objectList_maker = OLMaker(train_tomos, val_tomos, test_tomos, 60, 15, 20, None, None)\n",
    "\n",
    "objectList_maker.make_xml_objlists(overwrite=True)\n",
    "rsample_train, rsample_val = ol.read_xml(objectList_maker.train_objlist_path), ol.read_xml(objectList_maker.val_objlist_path)\n",
    "\n",
    "random.shuffle(rsample_train)\n",
    "\n",
    "rsample_train = rsample_train[0:492]"
   ]
  },
  {
   "cell_type": "code",
   "execution_count": null,
   "id": "41e40f94-d8fd-48b1-9e66-07100284855f",
   "metadata": {},
   "outputs": [],
   "source": [
    "tb_logdir = './logs_IsenseePatches_main/2.09_lowBaselineModel/'\n",
    "\n",
    "trainer = make_trainer(dim_in=56, batch_size=32, lr=1e-4, epochs=600, tb_logdir=tb_logdir, model_name='2.09_lowBaselineModel',\n",
    "                       reconstruction_trainer=False, pretrained_model=None)\n",
    "trainer.launch(objectList_maker.path_data, objectList_maker.path_target, rsample_train, rsample_val)"
   ]
  },
  {
   "cell_type": "code",
   "execution_count": null,
   "id": "5570cb1d-9cf8-4f72-9912-5bebe6c03f7d",
   "metadata": {},
   "outputs": [],
   "source": []
  }
 ],
 "metadata": {
  "kernelspec": {
   "display_name": "Python 3",
   "language": "python",
   "name": "python3"
  },
  "language_info": {
   "codemirror_mode": {
    "name": "ipython",
    "version": 3
   },
   "file_extension": ".py",
   "mimetype": "text/x-python",
   "name": "python",
   "nbconvert_exporter": "python",
   "pygments_lexer": "ipython3",
   "version": "3.6.15"
  }
 },
 "nbformat": 4,
 "nbformat_minor": 5
}
