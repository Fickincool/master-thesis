{
 "cells": [
  {
   "cell_type": "code",
   "execution_count": 1,
   "id": "f1758658-4656-4c41-936a-a00982cc020c",
   "metadata": {},
   "outputs": [],
   "source": [
    "from jeroHelper.setupUtils import append_deepfinder_path, get_tomo_indices, PARENT_PATH\n",
    "append_deepfinder_path()\n",
    "\n",
    "from jeroHelper.trainHelper import make_trainer\n",
    "from jeroHelper.coordGen import OLMaker\n",
    "\n",
    "from deepfinder.utils.common import read_array\n",
    "import deepfinder.utils.objl as ol\n",
    "\n",
    "\n",
    "import numpy as np\n",
    "import matplotlib.pyplot as plt\n",
    "import random\n",
    "import mrcfile\n",
    "import pandas as pd\n",
    "\n",
    "%matplotlib inline\n",
    "%config Completer.use_jedi = False\n",
    "%load_ext autoreload\n",
    "%autoreload 2"
   ]
  },
  {
   "cell_type": "markdown",
   "id": "07f697e7-f9e5-4fb5-814f-cfa488442559",
   "metadata": {
    "tags": []
   },
   "source": [
    "# Reconstruction model"
   ]
  },
  {
   "cell_type": "code",
   "execution_count": 2,
   "id": "32569844-d8fe-4d75-b776-f2380ae3b2b7",
   "metadata": {
    "tags": []
   },
   "outputs": [
    {
     "name": "stdout",
     "output_type": "stream",
     "text": [
      "Pairs of tomo IDs to indices:\n",
      "[('tomo02_patch000', 0), ('tomo02_patch001', 1), ('tomo02_patch002', 2), ('tomo02_patch003', 3), ('tomo02_patch004', 4), ('tomo02_patch005', 5), ('tomo02_patch006', 6), ('tomo02_patch020', 7), ('tomo02_patch021', 8), ('tomo02_patch030', 9), ('tomo03_patch000', 10), ('tomo03_patch002', 11), ('tomo03_patch004', 12), ('tomo03_patch006', 13), ('tomo03_patch008', 14), ('tomo03_patch010', 15), ('tomo03_patch020', 16), ('tomo03_patch021', 17), ('tomo03_patch022', 18), ('tomo03_patch030', 19), ('tomo03_patch031', 20), ('tomo03_patch032', 21), ('tomo04_patch000', 22), ('tomo04_patch002', 23), ('tomo04_patch004', 24), ('tomo04_patch006', 25), ('tomo04_patch008', 26), ('tomo04_patch009', 27), ('tomo04_patch020', 28), ('tomo04_patch021', 29), ('tomo04_patch030', 30), ('tomo10_patch001', 31), ('tomo10_patch002', 32), ('tomo10_patch003', 33), ('tomo10_patch009', 34), ('tomo10_patch010', 35), ('tomo10_patch011', 36), ('tomo10_patch020', 37), ('tomo10_patch030', 38), ('tomo17_patch000', 39), ('tomo17_patch001', 40), ('tomo17_patch002', 41), ('tomo17_patch006', 42), ('tomo17_patch008', 43), ('tomo17_patch009', 44), ('tomo17_patch010', 45), ('tomo17_patch014', 46), ('tomo17_patch015', 47), ('tomo17_patch030', 48), ('tomo32_patch000', 49), ('tomo32_patch002', 50), ('tomo32_patch004', 51), ('tomo32_patch006', 52), ('tomo32_patch008', 53), ('tomo32_patch010', 54), ('tomo32_patch012', 55), ('tomo32_patch014', 56), ('tomo32_patch020', 57), ('tomo32_patch030', 58), ('tomo32_patch031', 59), ('tomo38_patch000', 60), ('tomo38_patch002', 61), ('tomo38_patch004', 62), ('tomo38_patch006', 63), ('tomo38_patch008', 64), ('tomo38_patch010', 65), ('tomo38_patch020', 66), ('tomo38_patch021', 67), ('tomo38_patch030', 68)]\n",
      "######################## TRAIN TOMOGRAM ######################\n",
      "train object list already exists in: \n",
      "/home/haicu/jeronimo.carvajal/Thesis/data/processed1/deepFinder/object_lists/random_patch_train_tomo02-03-04-17.xml\n",
      "Done! \n",
      "\n",
      "######################## VALIDATION TOMOGRAM ######################\n",
      "validation object list already exists in: \n",
      "/home/haicu/jeronimo.carvajal/Thesis/data/processed1/deepFinder/object_lists/random_patch_validation_tomo10-32.xml\n",
      "Done! \n",
      "\n",
      "######################## TEST TOMOGRAM ######################\n",
      "test object list already exists in: \n",
      "/home/haicu/jeronimo.carvajal/Thesis/data/processed1/deepFinder/object_lists/random_patch_test_tomo38.xml\n",
      "Done! \n",
      "\n"
     ]
    }
   ],
   "source": [
    "train_tomos = ['tomo02', 'tomo03', 'tomo04', 'tomo17']\n",
    "concat_train_ids = sorted([s.replace('tomo', '') for s in train_tomos])\n",
    "concat_train_ids = '-'.join(concat_train_ids)\n",
    "\n",
    "val_tomos = ['tomo32', 'tomo10']\n",
    "concat_val_ids = sorted([s.replace('tomo', '') for s in val_tomos])\n",
    "concat_val_ids = '-'.join(concat_val_ids)\n",
    "\n",
    "test_tomos = ['tomo38']\n",
    "\n",
    "objectList_maker = OLMaker(train_tomos, val_tomos, test_tomos, 12, 15, 20, None, None)\n",
    "\n",
    "objectList_maker.make_xml_objlists(overwrite=False)\n",
    "rsample_train, rsample_val = ol.read_xml(objectList_maker.train_objlist_path), ol.read_xml(objectList_maker.val_objlist_path)"
   ]
  },
  {
   "cell_type": "code",
   "execution_count": 3,
   "id": "5c46c523-24c0-4258-8204-a2447722b1b4",
   "metadata": {},
   "outputs": [
    {
     "data": {
      "text/plain": [
       "(['/home/haicu/jeronimo.carvajal/Thesis/data/nnUnet/Task143_cryoET7/imagesTr/tomo02_patch000_0000.nii.gz',\n",
       "  '/home/haicu/jeronimo.carvajal/Thesis/data/nnUnet/Task143_cryoET7/imagesTr/tomo02_patch001_0000.nii.gz',\n",
       "  '/home/haicu/jeronimo.carvajal/Thesis/data/nnUnet/Task143_cryoET7/imagesTr/tomo02_patch002_0000.nii.gz',\n",
       "  '/home/haicu/jeronimo.carvajal/Thesis/data/nnUnet/Task143_cryoET7/imagesTr/tomo02_patch003_0000.nii.gz',\n",
       "  '/home/haicu/jeronimo.carvajal/Thesis/data/nnUnet/Task143_cryoET7/imagesTr/tomo02_patch004_0000.nii.gz',\n",
       "  '/home/haicu/jeronimo.carvajal/Thesis/data/nnUnet/Task143_cryoET7/imagesTr/tomo02_patch005_0000.nii.gz',\n",
       "  '/home/haicu/jeronimo.carvajal/Thesis/data/nnUnet/Task143_cryoET7/imagesTr/tomo02_patch006_0000.nii.gz',\n",
       "  '/home/haicu/jeronimo.carvajal/Thesis/data/nnUnet/Task143_cryoET7/imagesTr/tomo02_patch020_0000.nii.gz',\n",
       "  '/home/haicu/jeronimo.carvajal/Thesis/data/nnUnet/Task143_cryoET7/imagesTr/tomo02_patch021_0000.nii.gz',\n",
       "  '/home/haicu/jeronimo.carvajal/Thesis/data/nnUnet/Task143_cryoET7/imagesTr/tomo02_patch030_0000.nii.gz',\n",
       "  '/home/haicu/jeronimo.carvajal/Thesis/data/nnUnet/Task143_cryoET7/imagesTr/tomo03_patch000_0000.nii.gz',\n",
       "  '/home/haicu/jeronimo.carvajal/Thesis/data/nnUnet/Task143_cryoET7/imagesTr/tomo03_patch002_0000.nii.gz',\n",
       "  '/home/haicu/jeronimo.carvajal/Thesis/data/nnUnet/Task143_cryoET7/imagesTr/tomo03_patch004_0000.nii.gz',\n",
       "  '/home/haicu/jeronimo.carvajal/Thesis/data/nnUnet/Task143_cryoET7/imagesTr/tomo03_patch006_0000.nii.gz',\n",
       "  '/home/haicu/jeronimo.carvajal/Thesis/data/nnUnet/Task143_cryoET7/imagesTr/tomo03_patch008_0000.nii.gz',\n",
       "  '/home/haicu/jeronimo.carvajal/Thesis/data/nnUnet/Task143_cryoET7/imagesTr/tomo03_patch010_0000.nii.gz',\n",
       "  '/home/haicu/jeronimo.carvajal/Thesis/data/nnUnet/Task143_cryoET7/imagesTr/tomo03_patch020_0000.nii.gz',\n",
       "  '/home/haicu/jeronimo.carvajal/Thesis/data/nnUnet/Task143_cryoET7/imagesTr/tomo03_patch021_0000.nii.gz',\n",
       "  '/home/haicu/jeronimo.carvajal/Thesis/data/nnUnet/Task143_cryoET7/imagesTr/tomo03_patch022_0000.nii.gz',\n",
       "  '/home/haicu/jeronimo.carvajal/Thesis/data/nnUnet/Task143_cryoET7/imagesTr/tomo03_patch030_0000.nii.gz',\n",
       "  '/home/haicu/jeronimo.carvajal/Thesis/data/nnUnet/Task143_cryoET7/imagesTr/tomo03_patch031_0000.nii.gz',\n",
       "  '/home/haicu/jeronimo.carvajal/Thesis/data/nnUnet/Task143_cryoET7/imagesTr/tomo03_patch032_0000.nii.gz',\n",
       "  '/home/haicu/jeronimo.carvajal/Thesis/data/nnUnet/Task143_cryoET7/imagesTr/tomo04_patch000_0000.nii.gz',\n",
       "  '/home/haicu/jeronimo.carvajal/Thesis/data/nnUnet/Task143_cryoET7/imagesTr/tomo04_patch002_0000.nii.gz',\n",
       "  '/home/haicu/jeronimo.carvajal/Thesis/data/nnUnet/Task143_cryoET7/imagesTr/tomo04_patch004_0000.nii.gz',\n",
       "  '/home/haicu/jeronimo.carvajal/Thesis/data/nnUnet/Task143_cryoET7/imagesTr/tomo04_patch006_0000.nii.gz',\n",
       "  '/home/haicu/jeronimo.carvajal/Thesis/data/nnUnet/Task143_cryoET7/imagesTr/tomo04_patch008_0000.nii.gz',\n",
       "  '/home/haicu/jeronimo.carvajal/Thesis/data/nnUnet/Task143_cryoET7/imagesTr/tomo04_patch009_0000.nii.gz',\n",
       "  '/home/haicu/jeronimo.carvajal/Thesis/data/nnUnet/Task143_cryoET7/imagesTr/tomo04_patch020_0000.nii.gz',\n",
       "  '/home/haicu/jeronimo.carvajal/Thesis/data/nnUnet/Task143_cryoET7/imagesTr/tomo04_patch021_0000.nii.gz',\n",
       "  '/home/haicu/jeronimo.carvajal/Thesis/data/nnUnet/Task143_cryoET7/imagesTr/tomo04_patch030_0000.nii.gz',\n",
       "  '/home/haicu/jeronimo.carvajal/Thesis/data/nnUnet/Task143_cryoET7/imagesTr/tomo10_patch001_0000.nii.gz',\n",
       "  '/home/haicu/jeronimo.carvajal/Thesis/data/nnUnet/Task143_cryoET7/imagesTr/tomo10_patch002_0000.nii.gz',\n",
       "  '/home/haicu/jeronimo.carvajal/Thesis/data/nnUnet/Task143_cryoET7/imagesTr/tomo10_patch003_0000.nii.gz',\n",
       "  '/home/haicu/jeronimo.carvajal/Thesis/data/nnUnet/Task143_cryoET7/imagesTr/tomo10_patch009_0000.nii.gz',\n",
       "  '/home/haicu/jeronimo.carvajal/Thesis/data/nnUnet/Task143_cryoET7/imagesTr/tomo10_patch010_0000.nii.gz',\n",
       "  '/home/haicu/jeronimo.carvajal/Thesis/data/nnUnet/Task143_cryoET7/imagesTr/tomo10_patch011_0000.nii.gz',\n",
       "  '/home/haicu/jeronimo.carvajal/Thesis/data/nnUnet/Task143_cryoET7/imagesTr/tomo10_patch020_0000.nii.gz',\n",
       "  '/home/haicu/jeronimo.carvajal/Thesis/data/nnUnet/Task143_cryoET7/imagesTr/tomo10_patch030_0000.nii.gz',\n",
       "  '/home/haicu/jeronimo.carvajal/Thesis/data/nnUnet/Task143_cryoET7/imagesTr/tomo17_patch000_0000.nii.gz',\n",
       "  '/home/haicu/jeronimo.carvajal/Thesis/data/nnUnet/Task143_cryoET7/imagesTr/tomo17_patch001_0000.nii.gz',\n",
       "  '/home/haicu/jeronimo.carvajal/Thesis/data/nnUnet/Task143_cryoET7/imagesTr/tomo17_patch002_0000.nii.gz',\n",
       "  '/home/haicu/jeronimo.carvajal/Thesis/data/nnUnet/Task143_cryoET7/imagesTr/tomo17_patch006_0000.nii.gz',\n",
       "  '/home/haicu/jeronimo.carvajal/Thesis/data/nnUnet/Task143_cryoET7/imagesTr/tomo17_patch008_0000.nii.gz',\n",
       "  '/home/haicu/jeronimo.carvajal/Thesis/data/nnUnet/Task143_cryoET7/imagesTr/tomo17_patch009_0000.nii.gz',\n",
       "  '/home/haicu/jeronimo.carvajal/Thesis/data/nnUnet/Task143_cryoET7/imagesTr/tomo17_patch010_0000.nii.gz',\n",
       "  '/home/haicu/jeronimo.carvajal/Thesis/data/nnUnet/Task143_cryoET7/imagesTr/tomo17_patch014_0000.nii.gz',\n",
       "  '/home/haicu/jeronimo.carvajal/Thesis/data/nnUnet/Task143_cryoET7/imagesTr/tomo17_patch015_0000.nii.gz',\n",
       "  '/home/haicu/jeronimo.carvajal/Thesis/data/nnUnet/Task143_cryoET7/imagesTr/tomo17_patch030_0000.nii.gz',\n",
       "  '/home/haicu/jeronimo.carvajal/Thesis/data/nnUnet/Task143_cryoET7/imagesTr/tomo32_patch000_0000.nii.gz',\n",
       "  '/home/haicu/jeronimo.carvajal/Thesis/data/nnUnet/Task143_cryoET7/imagesTr/tomo32_patch002_0000.nii.gz',\n",
       "  '/home/haicu/jeronimo.carvajal/Thesis/data/nnUnet/Task143_cryoET7/imagesTr/tomo32_patch004_0000.nii.gz',\n",
       "  '/home/haicu/jeronimo.carvajal/Thesis/data/nnUnet/Task143_cryoET7/imagesTr/tomo32_patch006_0000.nii.gz',\n",
       "  '/home/haicu/jeronimo.carvajal/Thesis/data/nnUnet/Task143_cryoET7/imagesTr/tomo32_patch008_0000.nii.gz',\n",
       "  '/home/haicu/jeronimo.carvajal/Thesis/data/nnUnet/Task143_cryoET7/imagesTr/tomo32_patch010_0000.nii.gz',\n",
       "  '/home/haicu/jeronimo.carvajal/Thesis/data/nnUnet/Task143_cryoET7/imagesTr/tomo32_patch012_0000.nii.gz',\n",
       "  '/home/haicu/jeronimo.carvajal/Thesis/data/nnUnet/Task143_cryoET7/imagesTr/tomo32_patch014_0000.nii.gz',\n",
       "  '/home/haicu/jeronimo.carvajal/Thesis/data/nnUnet/Task143_cryoET7/imagesTr/tomo32_patch020_0000.nii.gz',\n",
       "  '/home/haicu/jeronimo.carvajal/Thesis/data/nnUnet/Task143_cryoET7/imagesTr/tomo32_patch030_0000.nii.gz',\n",
       "  '/home/haicu/jeronimo.carvajal/Thesis/data/nnUnet/Task143_cryoET7/imagesTr/tomo32_patch031_0000.nii.gz',\n",
       "  '/home/haicu/jeronimo.carvajal/Thesis/data/nnUnet/Task143_cryoET7/imagesTr/tomo38_patch000_0000.nii.gz',\n",
       "  '/home/haicu/jeronimo.carvajal/Thesis/data/nnUnet/Task143_cryoET7/imagesTr/tomo38_patch002_0000.nii.gz',\n",
       "  '/home/haicu/jeronimo.carvajal/Thesis/data/nnUnet/Task143_cryoET7/imagesTr/tomo38_patch004_0000.nii.gz',\n",
       "  '/home/haicu/jeronimo.carvajal/Thesis/data/nnUnet/Task143_cryoET7/imagesTr/tomo38_patch006_0000.nii.gz',\n",
       "  '/home/haicu/jeronimo.carvajal/Thesis/data/nnUnet/Task143_cryoET7/imagesTr/tomo38_patch008_0000.nii.gz',\n",
       "  '/home/haicu/jeronimo.carvajal/Thesis/data/nnUnet/Task143_cryoET7/imagesTr/tomo38_patch010_0000.nii.gz',\n",
       "  '/home/haicu/jeronimo.carvajal/Thesis/data/nnUnet/Task143_cryoET7/imagesTr/tomo38_patch020_0000.nii.gz',\n",
       "  '/home/haicu/jeronimo.carvajal/Thesis/data/nnUnet/Task143_cryoET7/imagesTr/tomo38_patch021_0000.nii.gz',\n",
       "  '/home/haicu/jeronimo.carvajal/Thesis/data/nnUnet/Task143_cryoET7/imagesTr/tomo38_patch030_0000.nii.gz'],\n",
       " ['/home/haicu/jeronimo.carvajal/Thesis/data/nnUnet/Task143_cryoET7/labelsTr/tomo02_patch000.nii.gz',\n",
       "  '/home/haicu/jeronimo.carvajal/Thesis/data/nnUnet/Task143_cryoET7/labelsTr/tomo02_patch001.nii.gz',\n",
       "  '/home/haicu/jeronimo.carvajal/Thesis/data/nnUnet/Task143_cryoET7/labelsTr/tomo02_patch002.nii.gz',\n",
       "  '/home/haicu/jeronimo.carvajal/Thesis/data/nnUnet/Task143_cryoET7/labelsTr/tomo02_patch003.nii.gz',\n",
       "  '/home/haicu/jeronimo.carvajal/Thesis/data/nnUnet/Task143_cryoET7/labelsTr/tomo02_patch004.nii.gz',\n",
       "  '/home/haicu/jeronimo.carvajal/Thesis/data/nnUnet/Task143_cryoET7/labelsTr/tomo02_patch005.nii.gz',\n",
       "  '/home/haicu/jeronimo.carvajal/Thesis/data/nnUnet/Task143_cryoET7/labelsTr/tomo02_patch006.nii.gz',\n",
       "  '/home/haicu/jeronimo.carvajal/Thesis/data/nnUnet/Task143_cryoET7/labelsTr/tomo02_patch020.nii.gz',\n",
       "  '/home/haicu/jeronimo.carvajal/Thesis/data/nnUnet/Task143_cryoET7/labelsTr/tomo02_patch021.nii.gz',\n",
       "  '/home/haicu/jeronimo.carvajal/Thesis/data/nnUnet/Task143_cryoET7/labelsTr/tomo02_patch030.nii.gz',\n",
       "  '/home/haicu/jeronimo.carvajal/Thesis/data/nnUnet/Task143_cryoET7/labelsTr/tomo03_patch000.nii.gz',\n",
       "  '/home/haicu/jeronimo.carvajal/Thesis/data/nnUnet/Task143_cryoET7/labelsTr/tomo03_patch002.nii.gz',\n",
       "  '/home/haicu/jeronimo.carvajal/Thesis/data/nnUnet/Task143_cryoET7/labelsTr/tomo03_patch004.nii.gz',\n",
       "  '/home/haicu/jeronimo.carvajal/Thesis/data/nnUnet/Task143_cryoET7/labelsTr/tomo03_patch006.nii.gz',\n",
       "  '/home/haicu/jeronimo.carvajal/Thesis/data/nnUnet/Task143_cryoET7/labelsTr/tomo03_patch008.nii.gz',\n",
       "  '/home/haicu/jeronimo.carvajal/Thesis/data/nnUnet/Task143_cryoET7/labelsTr/tomo03_patch010.nii.gz',\n",
       "  '/home/haicu/jeronimo.carvajal/Thesis/data/nnUnet/Task143_cryoET7/labelsTr/tomo03_patch020.nii.gz',\n",
       "  '/home/haicu/jeronimo.carvajal/Thesis/data/nnUnet/Task143_cryoET7/labelsTr/tomo03_patch021.nii.gz',\n",
       "  '/home/haicu/jeronimo.carvajal/Thesis/data/nnUnet/Task143_cryoET7/labelsTr/tomo03_patch022.nii.gz',\n",
       "  '/home/haicu/jeronimo.carvajal/Thesis/data/nnUnet/Task143_cryoET7/labelsTr/tomo03_patch030.nii.gz',\n",
       "  '/home/haicu/jeronimo.carvajal/Thesis/data/nnUnet/Task143_cryoET7/labelsTr/tomo03_patch031.nii.gz',\n",
       "  '/home/haicu/jeronimo.carvajal/Thesis/data/nnUnet/Task143_cryoET7/labelsTr/tomo03_patch032.nii.gz',\n",
       "  '/home/haicu/jeronimo.carvajal/Thesis/data/nnUnet/Task143_cryoET7/labelsTr/tomo04_patch000.nii.gz',\n",
       "  '/home/haicu/jeronimo.carvajal/Thesis/data/nnUnet/Task143_cryoET7/labelsTr/tomo04_patch002.nii.gz',\n",
       "  '/home/haicu/jeronimo.carvajal/Thesis/data/nnUnet/Task143_cryoET7/labelsTr/tomo04_patch004.nii.gz',\n",
       "  '/home/haicu/jeronimo.carvajal/Thesis/data/nnUnet/Task143_cryoET7/labelsTr/tomo04_patch006.nii.gz',\n",
       "  '/home/haicu/jeronimo.carvajal/Thesis/data/nnUnet/Task143_cryoET7/labelsTr/tomo04_patch008.nii.gz',\n",
       "  '/home/haicu/jeronimo.carvajal/Thesis/data/nnUnet/Task143_cryoET7/labelsTr/tomo04_patch009.nii.gz',\n",
       "  '/home/haicu/jeronimo.carvajal/Thesis/data/nnUnet/Task143_cryoET7/labelsTr/tomo04_patch020.nii.gz',\n",
       "  '/home/haicu/jeronimo.carvajal/Thesis/data/nnUnet/Task143_cryoET7/labelsTr/tomo04_patch021.nii.gz',\n",
       "  '/home/haicu/jeronimo.carvajal/Thesis/data/nnUnet/Task143_cryoET7/labelsTr/tomo04_patch030.nii.gz',\n",
       "  '/home/haicu/jeronimo.carvajal/Thesis/data/nnUnet/Task143_cryoET7/labelsTr/tomo10_patch001.nii.gz',\n",
       "  '/home/haicu/jeronimo.carvajal/Thesis/data/nnUnet/Task143_cryoET7/labelsTr/tomo10_patch002.nii.gz',\n",
       "  '/home/haicu/jeronimo.carvajal/Thesis/data/nnUnet/Task143_cryoET7/labelsTr/tomo10_patch003.nii.gz',\n",
       "  '/home/haicu/jeronimo.carvajal/Thesis/data/nnUnet/Task143_cryoET7/labelsTr/tomo10_patch009.nii.gz',\n",
       "  '/home/haicu/jeronimo.carvajal/Thesis/data/nnUnet/Task143_cryoET7/labelsTr/tomo10_patch010.nii.gz',\n",
       "  '/home/haicu/jeronimo.carvajal/Thesis/data/nnUnet/Task143_cryoET7/labelsTr/tomo10_patch011.nii.gz',\n",
       "  '/home/haicu/jeronimo.carvajal/Thesis/data/nnUnet/Task143_cryoET7/labelsTr/tomo10_patch020.nii.gz',\n",
       "  '/home/haicu/jeronimo.carvajal/Thesis/data/nnUnet/Task143_cryoET7/labelsTr/tomo10_patch030.nii.gz',\n",
       "  '/home/haicu/jeronimo.carvajal/Thesis/data/nnUnet/Task143_cryoET7/labelsTr/tomo17_patch000.nii.gz',\n",
       "  '/home/haicu/jeronimo.carvajal/Thesis/data/nnUnet/Task143_cryoET7/labelsTr/tomo17_patch001.nii.gz',\n",
       "  '/home/haicu/jeronimo.carvajal/Thesis/data/nnUnet/Task143_cryoET7/labelsTr/tomo17_patch002.nii.gz',\n",
       "  '/home/haicu/jeronimo.carvajal/Thesis/data/nnUnet/Task143_cryoET7/labelsTr/tomo17_patch006.nii.gz',\n",
       "  '/home/haicu/jeronimo.carvajal/Thesis/data/nnUnet/Task143_cryoET7/labelsTr/tomo17_patch008.nii.gz',\n",
       "  '/home/haicu/jeronimo.carvajal/Thesis/data/nnUnet/Task143_cryoET7/labelsTr/tomo17_patch009.nii.gz',\n",
       "  '/home/haicu/jeronimo.carvajal/Thesis/data/nnUnet/Task143_cryoET7/labelsTr/tomo17_patch010.nii.gz',\n",
       "  '/home/haicu/jeronimo.carvajal/Thesis/data/nnUnet/Task143_cryoET7/labelsTr/tomo17_patch014.nii.gz',\n",
       "  '/home/haicu/jeronimo.carvajal/Thesis/data/nnUnet/Task143_cryoET7/labelsTr/tomo17_patch015.nii.gz',\n",
       "  '/home/haicu/jeronimo.carvajal/Thesis/data/nnUnet/Task143_cryoET7/labelsTr/tomo17_patch030.nii.gz',\n",
       "  '/home/haicu/jeronimo.carvajal/Thesis/data/nnUnet/Task143_cryoET7/labelsTr/tomo32_patch000.nii.gz',\n",
       "  '/home/haicu/jeronimo.carvajal/Thesis/data/nnUnet/Task143_cryoET7/labelsTr/tomo32_patch002.nii.gz',\n",
       "  '/home/haicu/jeronimo.carvajal/Thesis/data/nnUnet/Task143_cryoET7/labelsTr/tomo32_patch004.nii.gz',\n",
       "  '/home/haicu/jeronimo.carvajal/Thesis/data/nnUnet/Task143_cryoET7/labelsTr/tomo32_patch006.nii.gz',\n",
       "  '/home/haicu/jeronimo.carvajal/Thesis/data/nnUnet/Task143_cryoET7/labelsTr/tomo32_patch008.nii.gz',\n",
       "  '/home/haicu/jeronimo.carvajal/Thesis/data/nnUnet/Task143_cryoET7/labelsTr/tomo32_patch010.nii.gz',\n",
       "  '/home/haicu/jeronimo.carvajal/Thesis/data/nnUnet/Task143_cryoET7/labelsTr/tomo32_patch012.nii.gz',\n",
       "  '/home/haicu/jeronimo.carvajal/Thesis/data/nnUnet/Task143_cryoET7/labelsTr/tomo32_patch014.nii.gz',\n",
       "  '/home/haicu/jeronimo.carvajal/Thesis/data/nnUnet/Task143_cryoET7/labelsTr/tomo32_patch020.nii.gz',\n",
       "  '/home/haicu/jeronimo.carvajal/Thesis/data/nnUnet/Task143_cryoET7/labelsTr/tomo32_patch030.nii.gz',\n",
       "  '/home/haicu/jeronimo.carvajal/Thesis/data/nnUnet/Task143_cryoET7/labelsTr/tomo32_patch031.nii.gz',\n",
       "  '/home/haicu/jeronimo.carvajal/Thesis/data/nnUnet/Task143_cryoET7/labelsTr/tomo38_patch000.nii.gz',\n",
       "  '/home/haicu/jeronimo.carvajal/Thesis/data/nnUnet/Task143_cryoET7/labelsTr/tomo38_patch002.nii.gz',\n",
       "  '/home/haicu/jeronimo.carvajal/Thesis/data/nnUnet/Task143_cryoET7/labelsTr/tomo38_patch004.nii.gz',\n",
       "  '/home/haicu/jeronimo.carvajal/Thesis/data/nnUnet/Task143_cryoET7/labelsTr/tomo38_patch006.nii.gz',\n",
       "  '/home/haicu/jeronimo.carvajal/Thesis/data/nnUnet/Task143_cryoET7/labelsTr/tomo38_patch008.nii.gz',\n",
       "  '/home/haicu/jeronimo.carvajal/Thesis/data/nnUnet/Task143_cryoET7/labelsTr/tomo38_patch010.nii.gz',\n",
       "  '/home/haicu/jeronimo.carvajal/Thesis/data/nnUnet/Task143_cryoET7/labelsTr/tomo38_patch020.nii.gz',\n",
       "  '/home/haicu/jeronimo.carvajal/Thesis/data/nnUnet/Task143_cryoET7/labelsTr/tomo38_patch021.nii.gz',\n",
       "  '/home/haicu/jeronimo.carvajal/Thesis/data/nnUnet/Task143_cryoET7/labelsTr/tomo38_patch030.nii.gz'])"
      ]
     },
     "execution_count": 3,
     "metadata": {},
     "output_type": "execute_result"
    }
   ],
   "source": [
    "objectList_maker.path_data, objectList_maker.path_target"
   ]
  },
  {
   "cell_type": "code",
   "execution_count": 3,
   "id": "51ade222-3102-4858-9df6-26d6ec857cc6",
   "metadata": {},
   "outputs": [
    {
     "name": "stdout",
     "output_type": "stream",
     "text": [
      "Selecting trainer for reconstruction task... Ignoring pretrained_model value.\n"
     ]
    },
    {
     "name": "stderr",
     "output_type": "stream",
     "text": [
      "GPU available: True, used: True\n",
      "TPU available: False, using: 0 TPU cores\n",
      "LOCAL_RANK: 0 - CUDA_VISIBLE_DEVICES: [0,1,2]\n",
      "Set SLURM handle signals.\n",
      "\n",
      "  | Name    | Type       | Params\n",
      "---------------------------------------\n",
      "0 | loss_fn | MSELoss    | 0     \n",
      "1 | layer1  | Sequential | 28.6 K\n",
      "2 | layer2  | Sequential | 103 K \n",
      "3 | layer3  | Sequential | 558 K \n",
      "4 | layer4  | Sequential | 288 K \n",
      "5 | layer5  | Sequential | 96.9 K\n",
      "---------------------------------------\n",
      "1.1 M     Trainable params\n",
      "0         Non-trainable params\n",
      "1.1 M     Total params\n",
      "4.303     Total estimated model params size (MB)\n"
     ]
    },
    {
     "name": "stdout",
     "output_type": "stream",
     "text": [
      "\"loss_fn\":      MSELoss()\n",
      "\"lr\":           5e-05\n",
      "\"weight_decay\": 0.0\n",
      "Saving model at:  /home/haicu/jeronimo.carvajal/Thesis/models/2.10_reconstructionModel_ep100_in56_lr0.000050_v2.model\n",
      "\n",
      "Writing to modelSummary...\n",
      "Opening ModelSummary file...\n",
      "ModelSummary file exists, appending current model data...\n"
     ]
    }
   ],
   "source": [
    "tb_logdir = './logs_IsenseePatches_main/2.10_reconstructionModel/'\n",
    "\n",
    "trainer = make_trainer(dim_in=56, batch_size=32, lr=5e-5, epochs=100, tb_logdir=tb_logdir, model_name='2.10_reconstructionModel',\n",
    "                       reconstruction_trainer=True, pretrained_model=None)\n",
    "trainer.launch(objectList_maker.path_data, objectList_maker.path_target, rsample_train, rsample_val)"
   ]
  },
  {
   "cell_type": "markdown",
   "id": "ea2927d4-88da-47d1-b512-164b9805d398",
   "metadata": {},
   "source": [
    "# Pretrained model with reconstruction task model"
   ]
  },
  {
   "cell_type": "code",
   "execution_count": 4,
   "id": "d0b42af8-26d6-431a-92e3-5e303a9bf6bd",
   "metadata": {},
   "outputs": [
    {
     "name": "stdout",
     "output_type": "stream",
     "text": [
      "Pairs of tomo IDs to indices:\n",
      "[('tomo02_patch000', 0), ('tomo02_patch001', 1), ('tomo02_patch002', 2), ('tomo02_patch003', 3), ('tomo02_patch004', 4), ('tomo02_patch005', 5), ('tomo02_patch006', 6), ('tomo02_patch020', 7), ('tomo02_patch021', 8), ('tomo02_patch030', 9), ('tomo03_patch000', 10), ('tomo03_patch002', 11), ('tomo03_patch004', 12), ('tomo03_patch006', 13), ('tomo03_patch008', 14), ('tomo03_patch010', 15), ('tomo03_patch020', 16), ('tomo03_patch021', 17), ('tomo03_patch022', 18), ('tomo03_patch030', 19), ('tomo03_patch031', 20), ('tomo03_patch032', 21), ('tomo04_patch000', 22), ('tomo04_patch002', 23), ('tomo04_patch004', 24), ('tomo04_patch006', 25), ('tomo04_patch008', 26), ('tomo04_patch009', 27), ('tomo04_patch020', 28), ('tomo04_patch021', 29), ('tomo04_patch030', 30), ('tomo10_patch001', 31), ('tomo10_patch002', 32), ('tomo10_patch003', 33), ('tomo10_patch009', 34), ('tomo10_patch010', 35), ('tomo10_patch011', 36), ('tomo10_patch020', 37), ('tomo10_patch030', 38), ('tomo17_patch000', 39), ('tomo17_patch001', 40), ('tomo17_patch002', 41), ('tomo17_patch006', 42), ('tomo17_patch008', 43), ('tomo17_patch009', 44), ('tomo17_patch010', 45), ('tomo17_patch014', 46), ('tomo17_patch015', 47), ('tomo17_patch030', 48), ('tomo32_patch000', 49), ('tomo32_patch002', 50), ('tomo32_patch004', 51), ('tomo32_patch006', 52), ('tomo32_patch008', 53), ('tomo32_patch010', 54), ('tomo32_patch012', 55), ('tomo32_patch014', 56), ('tomo32_patch020', 57), ('tomo32_patch030', 58), ('tomo32_patch031', 59), ('tomo38_patch000', 60), ('tomo38_patch002', 61), ('tomo38_patch004', 62), ('tomo38_patch006', 63), ('tomo38_patch008', 64), ('tomo38_patch010', 65), ('tomo38_patch020', 66), ('tomo38_patch021', 67), ('tomo38_patch030', 68)]\n",
      "######################## TRAIN TOMOGRAM ######################\n",
      "train object list already exists in: \n",
      "/home/haicu/jeronimo.carvajal/Thesis/data/processed1/deepFinder/object_lists/random_patch_train_tomo02.xml\n",
      "Done! \n",
      "\n",
      "######################## VALIDATION TOMOGRAM ######################\n",
      "validation object list already exists in: \n",
      "/home/haicu/jeronimo.carvajal/Thesis/data/processed1/deepFinder/object_lists/random_patch_validation_tomo10-32.xml\n",
      "Done! \n",
      "\n",
      "######################## TEST TOMOGRAM ######################\n",
      "test object list already exists in: \n",
      "/home/haicu/jeronimo.carvajal/Thesis/data/processed1/deepFinder/object_lists/random_patch_test_tomo38.xml\n",
      "Done! \n",
      "\n"
     ]
    }
   ],
   "source": [
    "train_tomos = ['tomo02']\n",
    "concat_train_ids = sorted([s.replace('tomo', '') for s in train_tomos])\n",
    "concat_train_ids = '-'.join(concat_train_ids)\n",
    "\n",
    "val_tomos = ['tomo32', 'tomo10']\n",
    "concat_val_ids = sorted([s.replace('tomo', '') for s in val_tomos])\n",
    "concat_val_ids = '-'.join(concat_val_ids)\n",
    "\n",
    "test_tomos = ['tomo38']\n",
    "\n",
    "objectList_maker = OLMaker(train_tomos, val_tomos, test_tomos, 60, 15, 20, None, None)\n",
    "\n",
    "objectList_maker.make_xml_objlists(overwrite=False)\n",
    "rsample_train, rsample_val = ol.read_xml(objectList_maker.train_objlist_path), ol.read_xml(objectList_maker.val_objlist_path)\n",
    "\n",
    "random.shuffle(rsample_train)\n",
    "\n",
    "rsample_train = rsample_train[0:492]"
   ]
  },
  {
   "cell_type": "code",
   "execution_count": null,
   "id": "707a22e0-d3cf-47f1-88a1-08e357f0a20a",
   "metadata": {},
   "outputs": [
    {
     "name": "stderr",
     "output_type": "stream",
     "text": [
      "GPU available: True, used: True\n",
      "TPU available: False, using: 0 TPU cores\n",
      "LOCAL_RANK: 0 - CUDA_VISIBLE_DEVICES: [0,1,2]\n",
      "Set SLURM handle signals.\n",
      "\n",
      "  | Name    | Type         | Params\n",
      "-----------------------------------------\n",
      "0 | loss_fn | Tversky_loss | 0     \n",
      "1 | layer1  | Sequential   | 28.6 K\n",
      "2 | layer2  | Sequential   | 103 K \n",
      "3 | layer3  | Sequential   | 558 K \n",
      "4 | layer4  | Sequential   | 288 K \n",
      "5 | layer5  | Sequential   | 96.9 K\n",
      "-----------------------------------------\n",
      "1.1 M     Trainable params\n",
      "0         Non-trainable params\n",
      "1.1 M     Total params\n",
      "4.304     Total estimated model params size (MB)\n"
     ]
    },
    {
     "name": "stdout",
     "output_type": "stream",
     "text": [
      "\"Ncl\":           3\n",
      "\"loss_fn\":       Tversky_loss()\n",
      "\"lr\":            0.0001\n",
      "\"pretrain_type\": reconstructionTask\n",
      "\"weight_decay\":  0.0\n"
     ]
    }
   ],
   "source": [
    "tb_logdir = './logs_IsenseePatches_main/2.10_preTrainedReconstructionTaskModel/'\n",
    "\n",
    "trainer = make_trainer(dim_in=56, batch_size=32, lr=1e-4, epochs=700, tb_logdir=tb_logdir,\n",
    "                       model_name='2.10_preTrainedReconstructionTaskModel',\n",
    "                       reconstruction_trainer=False, \n",
    "                       pretrained_model=PARENT_PATH+'models/2.10_reconstructionModel_ep100_in56_lr0.000050_v2.model')\n",
    "\n",
    "trainer.launch(objectList_maker.path_data, objectList_maker.path_target, rsample_train, rsample_val)"
   ]
  },
  {
   "cell_type": "code",
   "execution_count": null,
   "id": "6dae1c55-2ed0-49ec-81f1-a0baac7b458a",
   "metadata": {},
   "outputs": [],
   "source": []
  }
 ],
 "metadata": {
  "kernelspec": {
   "display_name": "Python 3",
   "language": "python",
   "name": "python3"
  },
  "language_info": {
   "codemirror_mode": {
    "name": "ipython",
    "version": 3
   },
   "file_extension": ".py",
   "mimetype": "text/x-python",
   "name": "python",
   "nbconvert_exporter": "python",
   "pygments_lexer": "ipython3",
   "version": "3.6.15"
  }
 },
 "nbformat": 4,
 "nbformat_minor": 5
}
