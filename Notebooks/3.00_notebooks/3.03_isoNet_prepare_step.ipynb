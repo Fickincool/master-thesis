{
 "cells": [
  {
   "cell_type": "code",
   "execution_count": 4,
   "id": "d2f840ad-237c-4a66-ae64-b95294da92a7",
   "metadata": {},
   "outputs": [],
   "source": [
    "from tomoSegmentPipeline.utils.common import read_array\n",
    "import mrcfile\n",
    "import glob\n",
    "import os\n",
    "import numpy as np"
   ]
  },
  {
   "cell_type": "markdown",
   "id": "4d3c7672-7562-4218-bce7-f33208746295",
   "metadata": {},
   "source": [
    "# CryoCARE tomoset"
   ]
  },
  {
   "cell_type": "code",
   "execution_count": 6,
   "id": "ddbf88e3-21c0-4ce2-836d-f31e3eb36453",
   "metadata": {},
   "outputs": [],
   "source": [
    "image_folder = '/home/haicu/jeronimo.carvajal/Thesis/data/nnUnet/nifti_files'\n",
    "nifti_files = glob.glob(image_folder+'/*_denoised*')\n",
    "\n",
    "isonet_folder = '/home/haicu/jeronimo.carvajal/Thesis/data/isoNet/cryoCARE_completeTomoset'\n",
    "\n",
    "for f in nifti_files:\n",
    "    tomo_name = f.split('/')[-1].replace('.nii.gz', '')\n",
    "    out = os.path.join(isonet_folder, tomo_name+'.mrc')\n",
    "    \n",
    "    tomo_data = read_array(f)\n",
    "    \n",
    "    # with mrcfile.new(out, overwrite=True) as mrc:\n",
    "    #     # mrc.set_data(tomo_data)\n",
    "    #     print(mrc.voxel_size)\n",
    "    break"
   ]
  },
  {
   "cell_type": "code",
   "execution_count": 7,
   "id": "2eb30ba6-c766-40e0-898a-fb543ea80986",
   "metadata": {},
   "outputs": [
    {
     "data": {
      "text/plain": [
       "(9.605847e-09, 0.99999964)"
      ]
     },
     "execution_count": 7,
     "metadata": {},
     "output_type": "execute_result"
    }
   ],
   "source": [
    "np.mean(tomo_data), np.std(tomo_data)"
   ]
  },
  {
   "cell_type": "markdown",
   "id": "fe60c46e-f270-4aeb-8166-93a7a783563a",
   "metadata": {},
   "source": [
    "# Raw tomoset"
   ]
  },
  {
   "cell_type": "code",
   "execution_count": 10,
   "id": "c91bddc0-6c98-42d4-83f1-0db623041999",
   "metadata": {},
   "outputs": [
    {
     "name": "stdout",
     "output_type": "stream",
     "text": [
      "tomo17.mrc \n",
      "\n",
      "(0., 0., 0.)\n",
      "tomo32.mrc \n",
      "\n",
      "(0., 0., 0.)\n",
      "tomo38.mrc \n",
      "\n",
      "(0., 0., 0.)\n",
      "tomo02.mrc \n",
      "\n",
      "(0., 0., 0.)\n",
      "tomo10.mrc \n",
      "\n",
      "(0., 0., 0.)\n",
      "tomo03.mrc \n",
      "\n",
      "(0., 0., 0.)\n",
      "tomo04.mrc \n",
      "\n",
      "(0., 0., 0.)\n"
     ]
    }
   ],
   "source": [
    "image_folder = '/home/haicu/jeronimo.carvajal/Thesis/data/raw_cryo-ET'\n",
    "mrc_files = glob.glob(image_folder+'/*.mrc')\n",
    "\n",
    "isonet_allTomos_folder = '/home/haicu/jeronimo.carvajal/Thesis/data/isoNet/RAW_completeTomoset'\n",
    "isonet_tomoset_folder = '/home/haicu/jeronimo.carvajal/Thesis/data/isoNet/RAW_tomoset'\n",
    "\n",
    "isonet_training_tomos = ['tomo10.mrc', 'tomo04.mrc', 'tomo32.mrc', 'tomo38.mrc']\n",
    "\n",
    "for f in mrc_files:\n",
    "    tomo_name = f.split('/')[-1]\n",
    "    out = os.path.join(isonet_allTomos_folder, tomo_name)\n",
    "    \n",
    "    print(tomo_name, '\\n')\n",
    "    \n",
    "    tomo_data = read_array(f)\n",
    "    tomo_data = (tomo_data-np.mean(tomo_data))/np.std(tomo_data)\n",
    "    \n",
    "    with mrcfile.new(out, overwrite=True) as mrc:\n",
    "        mrc.set_data(tomo_data)\n",
    "        print(mrc.voxel_size)\n",
    "        \n",
    "    if tomo_name in isonet_training_tomos:\n",
    "        out2 = os.path.join(isonet_tomoset_folder, tomo_name)\n",
    "        \n",
    "        with mrcfile.new(out2, overwrite=True) as mrc:\n",
    "            mrc.set_data(tomo_data)"
   ]
  }
 ],
 "metadata": {
  "kernelspec": {
   "display_name": "Python 3 (ipykernel)",
   "language": "python",
   "name": "python3"
  },
  "language_info": {
   "codemirror_mode": {
    "name": "ipython",
    "version": 3
   },
   "file_extension": ".py",
   "mimetype": "text/x-python",
   "name": "python",
   "nbconvert_exporter": "python",
   "pygments_lexer": "ipython3",
   "version": "3.9.10"
  }
 },
 "nbformat": 4,
 "nbformat_minor": 5
}
