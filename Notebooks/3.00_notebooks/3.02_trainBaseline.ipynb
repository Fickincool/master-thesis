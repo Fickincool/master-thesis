{
 "cells": [
  {
   "cell_type": "code",
   "execution_count": null,
   "id": "2c083f75-21d1-4049-8f94-3ac5745e2871",
   "metadata": {},
   "outputs": [
    {
     "name": "stdout",
     "output_type": "stream",
     "text": [
      "Pairs of tomo IDs to indices:\n",
      "[('tomo02_patch000', 0), ('tomo02_patch001', 1), ('tomo02_patch002', 2), ('tomo02_patch003', 3), ('tomo02_patch004', 4), ('tomo02_patch005', 5), ('tomo02_patch006', 6), ('tomo02_patch020', 7), ('tomo02_patch021', 8), ('tomo02_patch030', 9), ('tomo03_patch000', 10), ('tomo03_patch002', 11), ('tomo03_patch004', 12), ('tomo03_patch006', 13), ('tomo03_patch008', 14), ('tomo03_patch010', 15), ('tomo03_patch020', 16), ('tomo03_patch021', 17), ('tomo03_patch022', 18), ('tomo03_patch030', 19), ('tomo03_patch031', 20), ('tomo03_patch032', 21), ('tomo04_patch000', 22), ('tomo04_patch002', 23), ('tomo04_patch004', 24), ('tomo04_patch006', 25), ('tomo04_patch008', 26), ('tomo04_patch009', 27), ('tomo04_patch020', 28), ('tomo04_patch021', 29), ('tomo04_patch030', 30), ('tomo10_patch001', 31), ('tomo10_patch002', 32), ('tomo10_patch003', 33), ('tomo10_patch009', 34), ('tomo10_patch010', 35), ('tomo10_patch011', 36), ('tomo10_patch020', 37), ('tomo10_patch030', 38), ('tomo17_patch000', 39), ('tomo17_patch001', 40), ('tomo17_patch002', 41), ('tomo17_patch006', 42), ('tomo17_patch008', 43), ('tomo17_patch009', 44), ('tomo17_patch010', 45), ('tomo17_patch014', 46), ('tomo17_patch015', 47), ('tomo17_patch030', 48), ('tomo32_patch000', 49), ('tomo32_patch002', 50), ('tomo32_patch004', 51), ('tomo32_patch006', 52), ('tomo32_patch008', 53), ('tomo32_patch010', 54), ('tomo32_patch012', 55), ('tomo32_patch014', 56), ('tomo32_patch020', 57), ('tomo32_patch030', 58), ('tomo32_patch031', 59), ('tomo38_patch000', 60), ('tomo38_patch002', 61), ('tomo38_patch004', 62), ('tomo38_patch006', 63), ('tomo38_patch008', 64), ('tomo38_patch010', 65), ('tomo38_patch020', 66), ('tomo38_patch021', 67), ('tomo38_patch030', 68)]\n"
     ]
    },
    {
     "name": "stderr",
     "output_type": "stream",
     "text": [
      "GPU available: True, used: True\n",
      "TPU available: False, using: 0 TPU cores\n",
      "LOCAL_RANK: 0 - CUDA_VISIBLE_DEVICES: [0,1,2]\n",
      "Set SLURM handle signals.\n",
      "\n",
      "  | Name    | Type         | Params\n",
      "-----------------------------------------\n",
      "0 | loss_fn | Tversky_loss | 0     \n",
      "1 | layer1  | Sequential   | 28.6 K\n",
      "2 | layer2  | Sequential   | 103 K \n",
      "3 | layer3  | Sequential   | 558 K \n",
      "4 | layer4  | Sequential   | 288 K \n",
      "5 | layer5  | Sequential   | 96.9 K\n",
      "-----------------------------------------\n",
      "1.1 M     Trainable params\n",
      "0         Non-trainable params\n",
      "1.1 M     Total params\n",
      "4.304     Total estimated model params size (MB)\n"
     ]
    },
    {
     "data": {
      "application/vnd.jupyter.widget-view+json": {
       "model_id": "8a9cb75253934ae6a33e43033b11d3e7",
       "version_major": 2,
       "version_minor": 0
      },
      "text/plain": [
       "Validation sanity check: 0it [00:00, ?it/s]"
      ]
     },
     "metadata": {},
     "output_type": "display_data"
    },
    {
     "data": {
      "application/vnd.jupyter.widget-view+json": {
       "model_id": "bc01ea3d233b406782010c2105dd099f",
       "version_major": 2,
       "version_minor": 0
      },
      "text/plain": [
       "Training: 0it [00:00, ?it/s]"
      ]
     },
     "metadata": {},
     "output_type": "display_data"
    },
    {
     "name": "stdout",
     "output_type": "stream",
     "text": [
      "\"Ncl\":           2\n",
      "\"loss_fn\":       Tversky_loss()\n",
      "\"lr\":            0.0001\n",
      "\"pretrain_type\": None\n",
      "\"weight_decay\":  0.0\n"
     ]
    },
    {
     "data": {
      "application/vnd.jupyter.widget-view+json": {
       "model_id": "",
       "version_major": 2,
       "version_minor": 0
      },
      "text/plain": [
       "Validating: 0it [00:00, ?it/s]"
      ]
     },
     "metadata": {},
     "output_type": "display_data"
    }
   ],
   "source": [
    "from tomoSegmentPipeline import dataloader as dl\n",
    "from tomoSegmentPipeline.utils import setup\n",
    "from tomoSegmentPipeline.dataloader import to_categorical, transpose_to_channels_first, tomoSegment_dummyDataset, tomoSegment_dataset\n",
    "from tomoSegmentPipeline.trainWrapper import make_trainer\n",
    "\n",
    "import os\n",
    "\n",
    "PARENT_PATH = setup.PARENT_PATH\n",
    "\n",
    "import torch\n",
    "\n",
    "tomo_ids, tomo_idx = setup.get_isenseeTomo_indices()\n",
    "\n",
    "val_tomos = ['tomo32', 'tomo10']\n",
    "concat_val_ids = sorted([s.replace('tomo', '') for s in val_tomos])\n",
    "concat_val_ids = '-'.join(concat_val_ids)\n",
    "\n",
    "test_tomos = ['tomo38', 'tomo04']\n",
    "concat_test_ids = sorted([s.replace('tomo', '') for s in test_tomos])\n",
    "concat_test_ids = '-'.join(concat_test_ids)\n",
    "\n",
    "\n",
    "paths_valData, paths_valTarget = setup.get_paths([t for t in tomo_ids if t[0:6] in val_tomos])\n",
    "\n",
    "training_schedule = [['tomo02', 'tomo03', 'tomo17'], ['tomo02'], ['tomo03'], ['tomo17']]\n",
    "\n",
    "for train_tomos in training_schedule:\n",
    "    concat_train_ids = sorted([s.replace('tomo', '') for s in train_tomos])\n",
    "    concat_train_ids = '-'.join(concat_train_ids)\n",
    "\n",
    "    if len(train_tomos)==1:\n",
    "        tb_logdir = os.path.join(PARENT_PATH, 'models/logs/LowBaselineModel/train%s' %concat_train_ids)\n",
    "        model_name = '3.02_lowBaseline'\n",
    "    elif len(train_tomos)==3:\n",
    "        tb_logdir = os.path.join(PARENT_PATH, 'models/logs/BaselineModel/train%s' %concat_train_ids)\n",
    "        model_name = '3.02_Baseline'\n",
    "        \n",
    "    paths_trainData, paths_trainTarget = setup.get_paths([t for t in tomo_ids if t[0:6] in train_tomos])\n",
    "\n",
    "    trainer = make_trainer(dim_in=56, batch_size=32, lr=1e-4, epochs=600, tb_logdir=tb_logdir, model_name=model_name,\n",
    "                       reconstruction_trainer=False, pretrained_model=None)\n",
    "\n",
    "    trainer.launch(paths_trainData, paths_trainTarget, paths_valData, paths_valTarget)"
   ]
  },
  {
   "cell_type": "code",
   "execution_count": null,
   "id": "775fca13-d154-4803-a68f-eab4be27a36a",
   "metadata": {},
   "outputs": [],
   "source": []
  }
 ],
 "metadata": {
  "kernelspec": {
   "display_name": "Python 3 (ipykernel)",
   "language": "python",
   "name": "python3"
  },
  "language_info": {
   "codemirror_mode": {
    "name": "ipython",
    "version": 3
   },
   "file_extension": ".py",
   "mimetype": "text/x-python",
   "name": "python",
   "nbconvert_exporter": "python",
   "pygments_lexer": "ipython3",
   "version": "3.9.10"
  }
 },
 "nbformat": 4,
 "nbformat_minor": 5
}
