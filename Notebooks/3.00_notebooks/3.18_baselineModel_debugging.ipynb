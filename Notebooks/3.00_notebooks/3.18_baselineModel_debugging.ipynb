{
 "cells": [
  {
   "cell_type": "markdown",
   "id": "603a7416-a858-4538-92be-097ccb1d50b0",
   "metadata": {},
   "source": [
    "**Problem**: validation metrics on patches are different between logs and directly predicting using the saved model. I want to know why?\n",
    "\n",
    "**Sanity check**: \n",
    "1. load model, check logged validation loss and corresponding epoch then get the prediction for the validation patches\n",
    "2. Compare the values\n",
    "\n",
    "\n",
    "**ToDo**\n",
    "\n",
    "- Disable data augmentation on the validation set\n",
    "- If we are using a grid, does it makes sense to still do random shifting?\n",
    "- Rerun Isonet with normalized and clipped patches"
   ]
  },
  {
   "cell_type": "code",
   "execution_count": 3,
   "id": "003a98b0-64e8-4432-af5e-5889ebcb949b",
   "metadata": {},
   "outputs": [
    {
     "name": "stdout",
     "output_type": "stream",
     "text": [
      "The autoreload extension is already loaded. To reload it, use:\n",
      "  %reload_ext autoreload\n"
     ]
    }
   ],
   "source": [
    "from tomoSegmentPipeline.showcaseResults import (predict_fullTomogram, load_model, load_tomoData, Tversky_index,\n",
    "                                        fullTomogram_modelComparison, make_comparison_plot, write_comparison_gif, save_classPred)\n",
    "\n",
    "from tomoSegmentPipeline.losses import Tversky_loss\n",
    "from tomoSegmentPipeline.utils.common import read_array\n",
    "import tomoSegmentPipeline.dataloader as dl\n",
    "from tomoSegmentPipeline.utils import setup\n",
    "from tomoSegmentPipeline.dataloader import to_categorical, transpose_to_channels_first\n",
    "from tomoSegmentPipeline.trainWrapper import make_trainer\n",
    "\n",
    "PARENT_PATH = setup.PARENT_PATH\n",
    "\n",
    "import pandas as pd\n",
    "from tensorboard.backend.event_processing.event_accumulator import EventAccumulator\n",
    "from glob import glob\n",
    "from pathlib import Path\n",
    "import numpy as np\n",
    "import matplotlib.pyplot as plt\n",
    "import seaborn as sns\n",
    "import random\n",
    "import os\n",
    "import torch\n",
    "\n",
    "%matplotlib inline\n",
    "%config Completer.use_jedi = False\n",
    "%load_ext autoreload\n",
    "%autoreload 2\n",
    "\n",
    "train_tomos = ['tomo02', 'tomo03', 'tomo17']\n",
    "concat_train_ids = sorted([s.replace('tomo', '') for s in train_tomos])\n",
    "concat_train_ids = '-'.join(concat_train_ids)\n",
    "\n",
    "val_tomos = ['tomo32', 'tomo10']\n",
    "concat_val_ids = sorted([s.replace('tomo', '') for s in val_tomos])\n",
    "concat_val_ids = '-'.join(concat_val_ids)\n",
    "\n",
    "test_tomos = ['tomo38', 'tomo04']\n",
    "concat_test_ids = sorted([s.replace('tomo', '') for s in test_tomos])\n",
    "concat_test_ids = '-'.join(concat_test_ids)"
   ]
  },
  {
   "cell_type": "markdown",
   "id": "b2b59083-9e43-45aa-bdb6-8e668084fc7e",
   "metadata": {},
   "source": [
    "# Sanity check: load best cryoCARE model, get best validation loss"
   ]
  },
  {
   "cell_type": "code",
   "execution_count": 16,
   "id": "1ba7ae61-9573-4c87-b30f-c678cf7bdea0",
   "metadata": {},
   "outputs": [
    {
     "name": "stdout",
     "output_type": "stream",
     "text": [
      "(1, 9)\n"
     ]
    },
    {
     "data": {
      "text/html": [
       "<div>\n",
       "<style scoped>\n",
       "    .dataframe tbody tr th:only-of-type {\n",
       "        vertical-align: middle;\n",
       "    }\n",
       "\n",
       "    .dataframe tbody tr th {\n",
       "        vertical-align: top;\n",
       "    }\n",
       "\n",
       "    .dataframe thead th {\n",
       "        text-align: right;\n",
       "    }\n",
       "</style>\n",
       "<table border=\"1\" class=\"dataframe\">\n",
       "  <thead>\n",
       "    <tr style=\"text-align: right;\">\n",
       "      <th></th>\n",
       "      <th>name</th>\n",
       "      <th>model_file</th>\n",
       "      <th>input_type</th>\n",
       "      <th>epochs</th>\n",
       "      <th>patch_size</th>\n",
       "      <th>lr</th>\n",
       "      <th>version</th>\n",
       "      <th>best_val_loss_epoch</th>\n",
       "      <th>associated_val_class1_dice</th>\n",
       "    </tr>\n",
       "  </thead>\n",
       "  <tbody>\n",
       "    <tr>\n",
       "      <th>0</th>\n",
       "      <td>Baseline</td>\n",
       "      <td>/home/haicu/jeronimo.carvajal/Thesis/data/mode...</td>\n",
       "      <td>cryoCARE+isoNET</td>\n",
       "      <td>438 out of 1000</td>\n",
       "      <td>in84</td>\n",
       "      <td>lr0.000100</td>\n",
       "      <td>v1</td>\n",
       "      <td>0.092645</td>\n",
       "      <td>0.916506</td>\n",
       "    </tr>\n",
       "  </tbody>\n",
       "</table>\n",
       "</div>"
      ],
      "text/plain": [
       "       name                                         model_file  \\\n",
       "0  Baseline  /home/haicu/jeronimo.carvajal/Thesis/data/mode...   \n",
       "\n",
       "        input_type           epochs patch_size          lr version  \\\n",
       "0  cryoCARE+isoNET  438 out of 1000       in84  lr0.000100      v1   \n",
       "\n",
       "   best_val_loss_epoch  associated_val_class1_dice  \n",
       "0             0.092645                    0.916506  "
      ]
     },
     "execution_count": 16,
     "metadata": {},
     "output_type": "execute_result"
    }
   ],
   "source": [
    "logs_path = PARENT_PATH + 'data/model_logs/models_1/logs/BaselineModel/'\n",
    "logs_path = Path(logs_path)\n",
    "\n",
    "model_info = []\n",
    "\n",
    "logdir_path = '/home/haicu/jeronimo.carvajal/Thesis/data/model_logs/models_1/logs/BaselineModel/cryoCARE+isoNET/train02-03-17/version_1/'\n",
    "\n",
    "model_file = glob(os.path.join(logdir_path, '*.model'))\n",
    "\n",
    "model_file = model_file[0]\n",
    "\n",
    "model_file_split = model_file.split('/')\n",
    "\n",
    "input_type = model_file_split[-4]\n",
    "\n",
    "name, epochs, patch_size, lr, version = model_file_split[-1].split('_')\n",
    "epochs = int(epochs.replace('ep', ''))\n",
    "version = 'v'+version.replace('.model', '')\n",
    "\n",
    "events_path = glob(os.path.join(logdir_path, 'events.*'))[0]\n",
    "event_acc = EventAccumulator(events_path)\n",
    "event_acc.Reload()\n",
    "\n",
    "_, step_nums, values_valLoss = zip(*event_acc.Scalars('hp/val_loss_epoch'))\n",
    "best_val_loss_epoch = np.min(values_valLoss)\n",
    "best_val_loss_epoch_idx = np.argmin(values_valLoss) #index starts count at 0\n",
    "\n",
    "effective_epochs = len(values_valLoss)\n",
    "\n",
    "_, _, values_dice = zip(*event_acc.Scalars('hp/val_dice_epoch'))\n",
    "_, _, values_trainLoss = zip(*event_acc.Scalars('hp/train_loss_epoch'))\n",
    "\n",
    "associated_val_class1_dice = float(values_dice[best_val_loss_epoch_idx])\n",
    "associated_train_loss_epoch = float(values_trainLoss[best_val_loss_epoch_idx])\n",
    "\n",
    "epochs_str = \"%i out of %i\" %(effective_epochs, 1000)\n",
    "\n",
    "model_info.append([name, model_file, input_type, epochs_str, patch_size, lr, version, best_val_loss_epoch, associated_val_class1_dice])\n",
    "\n",
    "df_model = pd.DataFrame(model_info, columns=['name', 'model_file', 'input_type', 'epochs', 'patch_size', 'lr', 'version', 'best_val_loss_epoch',\n",
    "                                         'associated_val_class1_dice'])\n",
    "print(df_model.shape)\n",
    "df_model.head()"
   ]
  },
  {
   "cell_type": "code",
   "execution_count": 19,
   "id": "47fa341c-a579-4c45-a43c-c9f386b60e76",
   "metadata": {},
   "outputs": [
    {
     "data": {
      "text/plain": [
       "[<matplotlib.lines.Line2D at 0x7fa90c797d60>]"
      ]
     },
     "execution_count": 19,
     "metadata": {},
     "output_type": "execute_result"
    },
    {
     "data": {
      "image/png": "[encoded data removed]",
      "text/plain": [
       "<Figure size 720x576 with 1 Axes>"
      ]
     },
     "metadata": {
      "needs_background": "light"
     },
     "output_type": "display_data"
    }
   ],
   "source": [
    "plt.figure(figsize=(10, 8))\n",
    "plt.plot(step_nums, values_valLoss)"
   ]
  },
  {
   "cell_type": "code",
   "execution_count": 20,
   "id": "a129033b-709b-4c0f-97ac-4f8bd0872d3a",
   "metadata": {},
   "outputs": [
    {
     "data": {
      "text/html": [
       "<div>\n",
       "<style scoped>\n",
       "    .dataframe tbody tr th:only-of-type {\n",
       "        vertical-align: middle;\n",
       "    }\n",
       "\n",
       "    .dataframe tbody tr th {\n",
       "        vertical-align: top;\n",
       "    }\n",
       "\n",
       "    .dataframe thead th {\n",
       "        text-align: right;\n",
       "    }\n",
       "</style>\n",
       "<table border=\"1\" class=\"dataframe\">\n",
       "  <thead>\n",
       "    <tr style=\"text-align: right;\">\n",
       "      <th></th>\n",
       "      <th>name</th>\n",
       "      <th>model_file</th>\n",
       "      <th>input_type</th>\n",
       "      <th>epochs</th>\n",
       "      <th>patch_size</th>\n",
       "      <th>lr</th>\n",
       "      <th>version</th>\n",
       "      <th>best_val_loss_epoch</th>\n",
       "      <th>associated_val_class1_dice</th>\n",
       "    </tr>\n",
       "  </thead>\n",
       "  <tbody>\n",
       "    <tr>\n",
       "      <th>0</th>\n",
       "      <td>Baseline</td>\n",
       "      <td>/home/haicu/jeronimo.carvajal/Thesis/data/mode...</td>\n",
       "      <td>cryoCARE+isoNET</td>\n",
       "      <td>438 out of 1000</td>\n",
       "      <td>in84</td>\n",
       "      <td>lr0.000100</td>\n",
       "      <td>v1</td>\n",
       "      <td>0.092645</td>\n",
       "      <td>0.916506</td>\n",
       "    </tr>\n",
       "  </tbody>\n",
       "</table>\n",
       "</div>"
      ],
      "text/plain": [
       "       name                                         model_file  \\\n",
       "0  Baseline  /home/haicu/jeronimo.carvajal/Thesis/data/mode...   \n",
       "\n",
       "        input_type           epochs patch_size          lr version  \\\n",
       "0  cryoCARE+isoNET  438 out of 1000       in84  lr0.000100      v1   \n",
       "\n",
       "   best_val_loss_epoch  associated_val_class1_dice  \n",
       "0             0.092645                    0.916506  "
      ]
     },
     "execution_count": 20,
     "metadata": {},
     "output_type": "execute_result"
    }
   ],
   "source": [
    "bestModel_byType = df_model.loc[df_model.groupby('input_type').best_val_loss_epoch.idxmin()].reset_index(drop=True)\n",
    "bestModel_byType"
   ]
  },
  {
   "cell_type": "markdown",
   "id": "a9ed1f5b-b528-4743-8dc9-c1e399c25028",
   "metadata": {
    "tags": []
   },
   "source": [
    "# Sanity check: best models mean prediction on validation patches"
   ]
  },
  {
   "cell_type": "code",
   "execution_count": 21,
   "id": "9ffd9335-4ff1-42b1-bacc-ce3022cd7eca",
   "metadata": {
    "tags": []
   },
   "outputs": [
    {
     "name": "stdout",
     "output_type": "stream",
     "text": [
      "Zero dice1 prediction for: \n",
      " /home/haicu/jeronimo.carvajal/Thesis/data/model_logs/models_1/logs/BaselineModel/cryoCARE+isoNET/train02-03-17/version_1/Baseline_ep1000_in84_lr0.000100_1.model /home/haicu/jeronimo.carvajal/Thesis/data/isoNet/cryoCARE_dataset/cryoCARE_corrected/patch_creation/result/Task511_cryoET/imagesTr/tomo10_patch030_0000.nii.gz\n",
      "{'train02-03-17/Baseline_ep1000_in84_lr0.000100_1': tensor([0.9819, 0.0000], device='cuda:0')}\n",
      "Zero dice1 prediction for: \n",
      " /home/haicu/jeronimo.carvajal/Thesis/data/model_logs/models_1/logs/BaselineModel/cryoCARE+isoNET/train02-03-17/version_1/Baseline_ep1000_in84_lr0.000100_1.model /home/haicu/jeronimo.carvajal/Thesis/data/isoNet/cryoCARE_dataset/cryoCARE_corrected/patch_creation/result/Task511_cryoET/imagesTr/tomo32_patch030_0000.nii.gz\n",
      "{'train02-03-17/Baseline_ep1000_in84_lr0.000100_1': tensor([1.0000, 0.0000], device='cuda:0')}\n",
      "Zero dice1 prediction for: \n",
      " /home/haicu/jeronimo.carvajal/Thesis/data/model_logs/models_1/logs/BaselineModel/cryoCARE+isoNET/train02-03-17/version_1/Baseline_ep1000_in84_lr0.000100_1.model /home/haicu/jeronimo.carvajal/Thesis/data/isoNet/cryoCARE_dataset/cryoCARE_corrected/patch_creation/result/Task511_cryoET/imagesTr/tomo32_patch031_0000.nii.gz\n",
      "{'train02-03-17/Baseline_ep1000_in84_lr0.000100_1': tensor([1.0000, 0.0000], device='cuda:0')}\n",
      "cryoCARE+isoNET\n",
      "Mean dice1 score on tomo10 patches is: 0.797849\n",
      "Mean dice1 score on tomo32 patches is: 0.745041 \n",
      "\n",
      "\n"
     ]
    }
   ],
   "source": [
    "nCenters_dict = {'in56':4, 'in84':2}\n",
    "\n",
    "aux_label_file = '/home/haicu/jeronimo.carvajal/Thesis/data/nnUnet/nifti_files/%s_merged_thr02.nii.gz'\n",
    "\n",
    "dice1_test_bestModels = []\n",
    "\n",
    "for i, row in bestModel_byType.iterrows():\n",
    "    model_fileList = [row['model_file']]\n",
    "    n_centers_list = [nCenters_dict[row['patch_size']]]\n",
    "    \n",
    "    input_type = row['input_type']\n",
    "    paths_valData, paths_valTarget = setup.get_paths(val_tomos, input_type)\n",
    "    \n",
    "    dice1_score = []\n",
    "    \n",
    "    scores_tomo10 = []\n",
    "    scores_tomo32 = []\n",
    "\n",
    "    for tomo_file, label_file in zip(paths_valData, paths_valTarget):\n",
    "        class1_predDict, dice1_dict, class1, tomogram_data = fullTomogram_modelComparison(model_fileList, n_centers_list, tomo_file,\n",
    "                                                                                          label_file, overwrite_prediction=False)\n",
    "        \n",
    "        val = float(list(dice1_dict.items())[0][1][1])\n",
    "        dice1_score.append(val)\n",
    "        \n",
    "        if val==0:\n",
    "            print('Zero dice1 prediction for: \\n', row['model_file'], tomo_file)\n",
    "            print(dice1_dict)\n",
    "        elif np.isnan(val):\n",
    "            print('Undefined dice1 prediction for: \\n', row['model_file'], tomo_file)\n",
    "            print(dice1_dict)\n",
    "            # make_comparison_plot(class1_predDict, class1, tomogram_data)\n",
    "        \n",
    "        if tomo_file.split('/')[-1][0:6] == 'tomo10':\n",
    "            scores_tomo10.append(val)\n",
    "        else:\n",
    "            scores_tomo32.append(val)\n",
    "    \n",
    "    print(input_type)\n",
    "    print('Mean dice1 score on tomo10 patches is: %.6f' %np.nanmean(scores_tomo10))\n",
    "    print('Mean dice1 score on tomo32 patches is: %.6f \\n\\n' %np.nanmean(scores_tomo32))\n",
    "    \n",
    "    # print('Model predictions on test set patches: \\n', dice1_score, '\\n\\n')\n",
    "    dice1_test_bestModels.append(np.nanmean(dice1_score))"
   ]
  },
  {
   "cell_type": "code",
   "execution_count": 23,
   "id": "7f1897da-ee16-48cc-a118-3b3d4df4a40c",
   "metadata": {},
   "outputs": [
    {
     "data": {
      "text/plain": [
       "[0.7672759106284693]"
      ]
     },
     "execution_count": 23,
     "metadata": {},
     "output_type": "execute_result"
    }
   ],
   "source": [
    "dice1_test_bestModels"
   ]
  },
  {
   "cell_type": "markdown",
   "id": "6c5d558b-a803-418f-896c-d9015312b8de",
   "metadata": {
    "tags": []
   },
   "source": [
    "# Get best models mean prediction on test patches"
   ]
  },
  {
   "cell_type": "code",
   "execution_count": 20,
   "id": "8dcafd1d-fe08-4aac-b83d-efe8b7f9f8ea",
   "metadata": {
    "tags": []
   },
   "outputs": [
    {
     "name": "stdout",
     "output_type": "stream",
     "text": [
      "Zero dice1 prediction for: \n",
      " /home/haicu/jeronimo.carvajal/Thesis/data/model_logs/models_1/logs/BaselineModel/cryoCARE/train02-03-17/version_2/Baseline_ep1000_in56_lr0.000100_2.model /home/haicu/jeronimo.carvajal/Thesis/data/nnUnet/Task143_cryoET7/imagesTr/tomo04_patch030_0000.nii.gz\n",
      "{'train02-03-17/Baseline_ep1000_in56_lr0.000100_2': tensor([0.9877, 0.0000], device='cuda:0')}\n",
      "Zero dice1 prediction for: \n",
      " /home/haicu/jeronimo.carvajal/Thesis/data/model_logs/models_1/logs/BaselineModel/cryoCARE/train02-03-17/version_2/Baseline_ep1000_in56_lr0.000100_2.model /home/haicu/jeronimo.carvajal/Thesis/data/nnUnet/Task143_cryoET7/imagesTr/tomo38_patch030_0000.nii.gz\n",
      "{'train02-03-17/Baseline_ep1000_in56_lr0.000100_2': tensor([0.9967, 0.0000], device='cuda:0')}\n",
      "cryoCARE\n",
      "Mean dice1 score on tomo04 patches is: 0.836848\n",
      "Mean dice1 score on tomo38 patches is: 0.839154 \n",
      "\n",
      "\n",
      "Zero dice1 prediction for: \n",
      " /home/haicu/jeronimo.carvajal/Thesis/data/model_logs/models_1/logs/BaselineModel/cryoCARE+isoNET/train02-03-17/version_1/Baseline_ep1000_in84_lr0.000100_1.model /home/haicu/jeronimo.carvajal/Thesis/data/isoNet/cryoCARE_dataset/cryoCARE_corrected/patch_creation/result/Task511_cryoET/imagesTr/tomo04_patch030_0000.nii.gz\n",
      "{'train02-03-17/Baseline_ep1000_in84_lr0.000100_1': tensor([0.9999, 0.0000], device='cuda:0')}\n",
      "Zero dice1 prediction for: \n",
      " /home/haicu/jeronimo.carvajal/Thesis/data/model_logs/models_1/logs/BaselineModel/cryoCARE+isoNET/train02-03-17/version_1/Baseline_ep1000_in84_lr0.000100_1.model /home/haicu/jeronimo.carvajal/Thesis/data/isoNet/cryoCARE_dataset/cryoCARE_corrected/patch_creation/result/Task511_cryoET/imagesTr/tomo38_patch030_0000.nii.gz\n",
      "{'train02-03-17/Baseline_ep1000_in84_lr0.000100_1': tensor([0.9988, 0.0000], device='cuda:0')}\n",
      "cryoCARE+isoNET\n",
      "Mean dice1 score on tomo04 patches is: 0.824471\n",
      "Mean dice1 score on tomo38 patches is: 0.812715 \n",
      "\n",
      "\n",
      "Zero dice1 prediction for: \n",
      " /home/haicu/jeronimo.carvajal/Thesis/data/model_logs/models_1/logs/BaselineModel/isoNET/train02-03-17/version_1/Baseline_ep1000_in84_lr0.000100_1.model /home/haicu/jeronimo.carvajal/Thesis/data/isoNet/RAW_dataset/RAW_corrected_i30/patch_creation/result/Task511_cryoET/imagesTr/tomo04_patch030_0000.nii.gz\n",
      "{'train02-03-17/Baseline_ep1000_in84_lr0.000100_1': tensor([0.9994, 0.0000], device='cuda:0')}\n",
      "Undefined dice1 prediction for: \n",
      " /home/haicu/jeronimo.carvajal/Thesis/data/model_logs/models_1/logs/BaselineModel/isoNET/train02-03-17/version_1/Baseline_ep1000_in84_lr0.000100_1.model /home/haicu/jeronimo.carvajal/Thesis/data/isoNet/RAW_dataset/RAW_corrected_i30/patch_creation/result/Task511_cryoET/imagesTr/tomo38_patch030_0000.nii.gz\n",
      "{'train02-03-17/Baseline_ep1000_in84_lr0.000100_1': tensor([1., nan], device='cuda:0')}\n",
      "isoNET\n",
      "Mean dice1 score on tomo04 patches is: 0.768071\n",
      "Mean dice1 score on tomo38 patches is: 0.900573 \n",
      "\n",
      "\n",
      "Zero dice1 prediction for: \n",
      " /home/haicu/jeronimo.carvajal/Thesis/data/model_logs/models_1/logs/BaselineModel/rawCET/train02-03-17/version_0/Baseline_ep1000_in84_lr0.000300_0.model /home/haicu/jeronimo.carvajal/Thesis/data/raw_cryo-ET/patch_creation/result/Task511_cryoET/imagesTr/tomo04_patch030_0000.nii.gz\n",
      "{'train02-03-17/Baseline_ep1000_in84_lr0.000300_0': tensor([1.0000, 0.0000], device='cuda:0')}\n",
      "Undefined dice1 prediction for: \n",
      " /home/haicu/jeronimo.carvajal/Thesis/data/model_logs/models_1/logs/BaselineModel/rawCET/train02-03-17/version_0/Baseline_ep1000_in84_lr0.000300_0.model /home/haicu/jeronimo.carvajal/Thesis/data/raw_cryo-ET/patch_creation/result/Task511_cryoET/imagesTr/tomo38_patch030_0000.nii.gz\n",
      "{'train02-03-17/Baseline_ep1000_in84_lr0.000300_0': tensor([1., nan], device='cuda:0')}\n",
      "rawCET\n",
      "Mean dice1 score on tomo04 patches is: 0.741649\n",
      "Mean dice1 score on tomo38 patches is: 0.890856 \n",
      "\n",
      "\n"
     ]
    }
   ],
   "source": [
    "nCenters_dict = {'in56':4, 'in84':2}\n",
    "\n",
    "aux_label_file = '/home/haicu/jeronimo.carvajal/Thesis/data/nnUnet/nifti_files/%s_merged_thr02.nii.gz'\n",
    "\n",
    "dice1_test_bestModels = []\n",
    "\n",
    "for i, row in bestModel_byType.iterrows():\n",
    "    model_fileList = [row['model_file']]\n",
    "    n_centers_list = [nCenters_dict[row['patch_size']]]\n",
    "    \n",
    "    input_type = row['input_type']\n",
    "    paths_testData, paths_testTarget = setup.get_paths(test_tomos, input_type)\n",
    "    \n",
    "    dice1_score = []\n",
    "    \n",
    "    scores_tomo04 = []\n",
    "    scores_tomo38 = []\n",
    "\n",
    "    for tomo_file, label_file in zip(paths_testData, paths_testTarget):\n",
    "        class1_predDict, dice1_dict, class1, tomogram_data = fullTomogram_modelComparison(model_fileList, n_centers_list, tomo_file,\n",
    "                                                                                          label_file, overwrite_prediction=False)\n",
    "        \n",
    "        val = float(list(dice1_dict.items())[0][1][1])\n",
    "        dice1_score.append(val)\n",
    "        \n",
    "        if val==0:\n",
    "            print('Zero dice1 prediction for: \\n', row['model_file'], tomo_file)\n",
    "            print(dice1_dict)\n",
    "        elif np.isnan(val):\n",
    "            print('Undefined dice1 prediction for: \\n', row['model_file'], tomo_file)\n",
    "            print(dice1_dict)\n",
    "            # make_comparison_plot(class1_predDict, class1, tomogram_data)\n",
    "        \n",
    "        if tomo_file.split('/')[-1][0:6] == 'tomo04':\n",
    "            scores_tomo04.append(val)\n",
    "        else:\n",
    "            scores_tomo38.append(val)\n",
    "    \n",
    "    print(input_type)\n",
    "    print('Mean dice1 score on tomo04 patches is: %.6f' %np.nanmean(scores_tomo04))\n",
    "    print('Mean dice1 score on tomo38 patches is: %.6f \\n\\n' %np.nanmean(scores_tomo38))\n",
    "    \n",
    "    # print('Model predictions on test set patches: \\n', dice1_score, '\\n\\n')\n",
    "    dice1_test_bestModels.append(np.nanmean(dice1_score))"
   ]
  },
  {
   "cell_type": "code",
   "execution_count": 5,
   "id": "4282ef38-1678-400c-ac33-4a8e7b52203f",
   "metadata": {},
   "outputs": [
    {
     "data": {
      "text/html": [
       "<div>\n",
       "<style scoped>\n",
       "    .dataframe tbody tr th:only-of-type {\n",
       "        vertical-align: middle;\n",
       "    }\n",
       "\n",
       "    .dataframe tbody tr th {\n",
       "        vertical-align: top;\n",
       "    }\n",
       "\n",
       "    .dataframe thead th {\n",
       "        text-align: right;\n",
       "    }\n",
       "</style>\n",
       "<table border=\"1\" class=\"dataframe\">\n",
       "  <thead>\n",
       "    <tr style=\"text-align: right;\">\n",
       "      <th></th>\n",
       "      <th>name</th>\n",
       "      <th>model_file</th>\n",
       "      <th>input_type</th>\n",
       "      <th>epochs</th>\n",
       "      <th>patch_size</th>\n",
       "      <th>lr</th>\n",
       "      <th>version</th>\n",
       "      <th>best_val_loss_epoch</th>\n",
       "      <th>associated_val_class1_dice</th>\n",
       "      <th>dice1_test_patches</th>\n",
       "    </tr>\n",
       "  </thead>\n",
       "  <tbody>\n",
       "    <tr>\n",
       "      <th>0</th>\n",
       "      <td>Baseline</td>\n",
       "      <td>/home/haicu/jeronimo.carvajal/Thesis/data/mode...</td>\n",
       "      <td>cryoCARE</td>\n",
       "      <td>268 out of 1000</td>\n",
       "      <td>in56</td>\n",
       "      <td>lr0.000100</td>\n",
       "      <td>v2</td>\n",
       "      <td>0.126032</td>\n",
       "      <td>0.883435</td>\n",
       "      <td>0.838001</td>\n",
       "    </tr>\n",
       "    <tr>\n",
       "      <th>1</th>\n",
       "      <td>Baseline</td>\n",
       "      <td>/home/haicu/jeronimo.carvajal/Thesis/data/mode...</td>\n",
       "      <td>cryoCARE+isoNET</td>\n",
       "      <td>438 out of 1000</td>\n",
       "      <td>in84</td>\n",
       "      <td>lr0.000100</td>\n",
       "      <td>v1</td>\n",
       "      <td>0.092645</td>\n",
       "      <td>0.916506</td>\n",
       "      <td>0.818593</td>\n",
       "    </tr>\n",
       "    <tr>\n",
       "      <th>2</th>\n",
       "      <td>Baseline</td>\n",
       "      <td>/home/haicu/jeronimo.carvajal/Thesis/data/mode...</td>\n",
       "      <td>isoNET</td>\n",
       "      <td>472 out of 1000</td>\n",
       "      <td>in84</td>\n",
       "      <td>lr0.000100</td>\n",
       "      <td>v1</td>\n",
       "      <td>0.177506</td>\n",
       "      <td>0.840685</td>\n",
       "      <td>0.830425</td>\n",
       "    </tr>\n",
       "    <tr>\n",
       "      <th>3</th>\n",
       "      <td>Baseline</td>\n",
       "      <td>/home/haicu/jeronimo.carvajal/Thesis/data/mode...</td>\n",
       "      <td>rawCET</td>\n",
       "      <td>215 out of 1000</td>\n",
       "      <td>in84</td>\n",
       "      <td>lr0.000300</td>\n",
       "      <td>v0</td>\n",
       "      <td>0.205240</td>\n",
       "      <td>0.820816</td>\n",
       "      <td>0.811864</td>\n",
       "    </tr>\n",
       "  </tbody>\n",
       "</table>\n",
       "</div>"
      ],
      "text/plain": [
       "       name                                         model_file  \\\n",
       "0  Baseline  /home/haicu/jeronimo.carvajal/Thesis/data/mode...   \n",
       "1  Baseline  /home/haicu/jeronimo.carvajal/Thesis/data/mode...   \n",
       "2  Baseline  /home/haicu/jeronimo.carvajal/Thesis/data/mode...   \n",
       "3  Baseline  /home/haicu/jeronimo.carvajal/Thesis/data/mode...   \n",
       "\n",
       "        input_type           epochs patch_size          lr version  \\\n",
       "0         cryoCARE  268 out of 1000       in56  lr0.000100      v2   \n",
       "1  cryoCARE+isoNET  438 out of 1000       in84  lr0.000100      v1   \n",
       "2           isoNET  472 out of 1000       in84  lr0.000100      v1   \n",
       "3           rawCET  215 out of 1000       in84  lr0.000300      v0   \n",
       "\n",
       "   best_val_loss_epoch  associated_val_class1_dice  dice1_test_patches  \n",
       "0             0.126032                    0.883435            0.838001  \n",
       "1             0.092645                    0.916506            0.818593  \n",
       "2             0.177506                    0.840685            0.830425  \n",
       "3             0.205240                    0.820816            0.811864  "
      ]
     },
     "execution_count": 5,
     "metadata": {},
     "output_type": "execute_result"
    }
   ],
   "source": [
    "bestModel_byType['dice1_test_patches'] = dice1_test_bestModels\n",
    "bestModel_byType"
   ]
  },
  {
   "cell_type": "markdown",
   "id": "105bb884-78cc-48b2-8fe3-fd5f487b5b26",
   "metadata": {
    "tags": []
   },
   "source": [
    "# Analysis of when dice1 score equals zero or nan"
   ]
  },
  {
   "cell_type": "code",
   "execution_count": 5,
   "id": "d538b689-ada2-49c3-81dd-0650361a81c5",
   "metadata": {},
   "outputs": [],
   "source": [
    "def forward(y_pred, y_true):\n",
    "    # alpha = torch.Tensor([0.5], device=('cuda' if torch.cuda.is_available() else 'cpu)')\n",
    "    # the case of α = β = 0.5 the Tversky index simplifies to be the same as the Dice coefficient\n",
    "    alpha = torch.empty((1), device=('cuda' if torch.cuda.is_available() else 'cpu'))\n",
    "    alpha[0] = 0.5\n",
    "    beta = torch.empty((1), device=('cuda' if torch.cuda.is_available() else 'cpu'))\n",
    "    beta[0] = 0.5\n",
    "\n",
    "    # only classes 0 and 1 are taken into account for the loss      \n",
    "    batch_size, _, z_shp = y_true.shape \n",
    "\n",
    "    mask = y_true[:, 2, :]!=1\n",
    "    mask = mask.reshape(batch_size, 1, z_shp)\n",
    "    mask = torch.stack(2*[mask], dim=1).squeeze(2)*1\n",
    "\n",
    "    # we set all the coordinates labelled as 2 to zero for the loss\n",
    "    y_true = y_true[:, 0:2, :]*mask\n",
    "    y_pred = y_pred[:, 0:2, :]*mask\n",
    "\n",
    "    ones = torch.ones_like(y_true)\n",
    "    p0 = y_pred\n",
    "    p1 = (ones - y_pred)\n",
    "    g0 = y_true\n",
    "    g1 = (ones - y_true)\n",
    "\n",
    "    num = torch.sum(p0 * g0, dim=(0, 2)) # shape of inputs are (batch_size, N_class, Z, Y, X)\n",
    "    den = num.cuda() + alpha.cuda() * torch.sum(p0.cuda() * g1.cuda(), dim=(0, 2)) + beta.cuda() * torch.sum(p1.cuda() * g0.cuda(), dim=(0, 2))\n",
    "\n",
    "    T = num / den\n",
    "\n",
    "    return T"
   ]
  },
  {
   "cell_type": "code",
   "execution_count": 8,
   "id": "835be2b1-7c27-4bce-9314-3551e17b645c",
   "metadata": {},
   "outputs": [
    {
     "data": {
      "text/plain": [
       "tensor([0.5000, 0.0000], device='cuda:0')"
      ]
     },
     "execution_count": 8,
     "metadata": {},
     "output_type": "execute_result"
    }
   ],
   "source": [
    "y_true = torch.zeros((1, 3, 3))\n",
    "y_true[0, 0, 0] = 1\n",
    "y_true[0, 1, 0] = 0\n",
    "y_true[0, 2, 0] = 0\n",
    "\n",
    "y_true[0, 0, 1] = 0\n",
    "y_true[0, 1, 1] = 1\n",
    "y_true[0, 2, 1] = 0\n",
    "\n",
    "y_true[0, 0, 2] = 1\n",
    "y_true[0, 1, 2] = 0\n",
    "y_true[0, 2, 2] = 0\n",
    "\n",
    "y_pred = torch.zeros((1, 2, 3))\n",
    "y_pred[0, 0, 0] = 0\n",
    "y_pred[0, 1, 0] = 1\n",
    "\n",
    "y_pred[0, 0, 1] = 1\n",
    "y_pred[0, 1, 1] = 0\n",
    "\n",
    "y_pred[0, 0, 2] = 1\n",
    "y_pred[0, 1, 2] = 0\n",
    "\n",
    "forward(y_pred.cuda(), y_true.cuda())"
   ]
  },
  {
   "cell_type": "markdown",
   "id": "d3c9762f-3178-49aa-8d3d-515e9680bb39",
   "metadata": {},
   "source": [
    "Dice score for class 1 is undefined when all pixels corresponding to class 1 predictions are masked out, i.e. true label were noise (2). Or when there are both no class 1 true values nor class 1 predictions.\n",
    "\n",
    "It is zero when no class 1 pixel was correctly predicted."
   ]
  },
  {
   "cell_type": "code",
   "execution_count": null,
   "id": "a2adbddd-ff12-41fd-914a-7ecdf31e5b92",
   "metadata": {},
   "outputs": [],
   "source": []
  },
  {
   "cell_type": "markdown",
   "id": "23fe7b5d-b375-44ce-adef-9aff211e52f2",
   "metadata": {},
   "source": [
    "# Create gif with predictions with all zero class 1 labels"
   ]
  },
  {
   "cell_type": "code",
   "execution_count": 17,
   "id": "0f897945-226e-4f8a-895e-8c7de99bfdf7",
   "metadata": {},
   "outputs": [],
   "source": [
    "nCenters_dict = {'in56':4, 'in84':2}\n",
    "\n",
    "class1_predAll = {}\n",
    "dice1_scoreAll = {}\n",
    "\n",
    "# make gif with model predictions tomo04_patch030\n",
    "\n",
    "for i, row in bestModel_byType.iterrows():\n",
    "    model_fileList = [row['model_file']]\n",
    "    n_centers_list = [nCenters_dict[row['patch_size']]]\n",
    "    \n",
    "    input_type = row['input_type']\n",
    "    paths_testData, paths_testTarget = setup.get_paths(test_tomos, input_type)\n",
    "    \n",
    "    \n",
    "    \n",
    "    scores_tomo04 = []\n",
    "    scores_tomo38 = []\n",
    "    \n",
    "    tomo_file = [x for x in paths_testData if 'tomo04_patch030' in x][0]\n",
    "    label_file = [x for x in paths_testTarget if 'tomo04_patch030' in x][0]\n",
    "\n",
    "    class1_predDict, dice1_dict, class1, tomogram_data = fullTomogram_modelComparison(model_fileList, n_centers_list, tomo_file,\n",
    "                                                                                      label_file, overwrite_prediction=False)\n",
    "\n",
    "    val = float(list(dice1_dict.items())[0][1][1])\n",
    "    old_key = [*class1_predDict][0]\n",
    "    new_key = old_key.replace('train02-03-17/', input_type+'/')\n",
    "    class1_predAll[new_key] = class1_predDict[old_key]\n",
    "    dice1_scoreAll[new_key] = dice1_dict[old_key]\n",
    "    "
   ]
  },
  {
   "cell_type": "code",
   "execution_count": 18,
   "id": "9800d9c2-0e89-4d76-8217-829576eb311b",
   "metadata": {},
   "outputs": [
    {
     "data": {
      "text/plain": [
       "{'cryoCARE/Baseline_ep1000_in56_lr0.000100_2': tensor([0.9877, 0.0000], device='cuda:0'),\n",
       " 'cryoCARE+isoNET/Baseline_ep1000_in84_lr0.000100_1': tensor([0.9999, 0.0000], device='cuda:0'),\n",
       " 'isoNET/Baseline_ep1000_in84_lr0.000100_1': tensor([0.9994, 0.0000], device='cuda:0'),\n",
       " 'rawCET/Baseline_ep1000_in84_lr0.000300_0': tensor([1.0000, 0.0000], device='cuda:0')}"
      ]
     },
     "execution_count": 18,
     "metadata": {},
     "output_type": "execute_result"
    }
   ],
   "source": [
    "dice1_scoreAll"
   ]
  },
  {
   "cell_type": "code",
   "execution_count": 24,
   "id": "ea322cf9-043d-4d7b-8458-c4cd835195ba",
   "metadata": {
    "collapsed": true,
    "jupyter": {
     "outputs_hidden": true
    },
    "tags": []
   },
   "outputs": [
    {
     "name": "stderr",
     "output_type": "stream",
     "text": [
      "100%|██████████| 160/160 [01:53<00:00,  1.41it/s]\n"
     ]
    },
    {
     "name": "stdout",
     "output_type": "stream",
     "text": [
      "Removing Images\n",
      "\n",
      "DONE\n"
     ]
    },
    {
     "data": {
      "text/plain": [
       "<Figure size 432x288 with 0 Axes>"
      ]
     },
     "metadata": {},
     "output_type": "display_data"
    },
    {
     "data": {
      "text/plain": [
       "<Figure size 432x288 with 0 Axes>"
      ]
     },
     "metadata": {},
     "output_type": "display_data"
    },
    {
     "data": {
      "text/plain": [
       "<Figure size 432x288 with 0 Axes>"
      ]
     },
     "metadata": {},
     "output_type": "display_data"
    },
    {
     "data": {
      "text/plain": [
       "<Figure size 432x288 with 0 Axes>"
      ]
     },
     "metadata": {},
     "output_type": "display_data"
    },
    {
     "data": {
      "text/plain": [
       "<Figure size 432x288 with 0 Axes>"
      ]
     },
     "metadata": {},
     "output_type": "display_data"
    },
    {
     "data": {
      "text/plain": [
       "<Figure size 432x288 with 0 Axes>"
      ]
     },
     "metadata": {},
     "output_type": "display_data"
    },
    {
     "data": {
      "text/plain": [
       "<Figure size 432x288 with 0 Axes>"
      ]
     },
     "metadata": {},
     "output_type": "display_data"
    },
    {
     "data": {
      "text/plain": [
       "<Figure size 432x288 with 0 Axes>"
      ]
     },
     "metadata": {},
     "output_type": "display_data"
    },
    {
     "data": {
      "text/plain": [
       "<Figure size 432x288 with 0 Axes>"
      ]
     },
     "metadata": {},
     "output_type": "display_data"
    },
    {
     "data": {
      "text/plain": [
       "<Figure size 432x288 with 0 Axes>"
      ]
     },
     "metadata": {},
     "output_type": "display_data"
    },
    {
     "data": {
      "text/plain": [
       "<Figure size 432x288 with 0 Axes>"
      ]
     },
     "metadata": {},
     "output_type": "display_data"
    },
    {
     "data": {
      "text/plain": [
       "<Figure size 432x288 with 0 Axes>"
      ]
     },
     "metadata": {},
     "output_type": "display_data"
    },
    {
     "data": {
      "text/plain": [
       "<Figure size 432x288 with 0 Axes>"
      ]
     },
     "metadata": {},
     "output_type": "display_data"
    },
    {
     "data": {
      "text/plain": [
       "<Figure size 432x288 with 0 Axes>"
      ]
     },
     "metadata": {},
     "output_type": "display_data"
    },
    {
     "data": {
      "text/plain": [
       "<Figure size 432x288 with 0 Axes>"
      ]
     },
     "metadata": {},
     "output_type": "display_data"
    },
    {
     "data": {
      "text/plain": [
       "<Figure size 432x288 with 0 Axes>"
      ]
     },
     "metadata": {},
     "output_type": "display_data"
    },
    {
     "data": {
      "text/plain": [
       "<Figure size 432x288 with 0 Axes>"
      ]
     },
     "metadata": {},
     "output_type": "display_data"
    },
    {
     "data": {
      "text/plain": [
       "<Figure size 432x288 with 0 Axes>"
      ]
     },
     "metadata": {},
     "output_type": "display_data"
    },
    {
     "data": {
      "text/plain": [
       "<Figure size 432x288 with 0 Axes>"
      ]
     },
     "metadata": {},
     "output_type": "display_data"
    },
    {
     "data": {
      "text/plain": [
       "<Figure size 432x288 with 0 Axes>"
      ]
     },
     "metadata": {},
     "output_type": "display_data"
    },
    {
     "data": {
      "text/plain": [
       "<Figure size 432x288 with 0 Axes>"
      ]
     },
     "metadata": {},
     "output_type": "display_data"
    },
    {
     "data": {
      "text/plain": [
       "<Figure size 432x288 with 0 Axes>"
      ]
     },
     "metadata": {},
     "output_type": "display_data"
    },
    {
     "data": {
      "text/plain": [
       "<Figure size 432x288 with 0 Axes>"
      ]
     },
     "metadata": {},
     "output_type": "display_data"
    },
    {
     "data": {
      "text/plain": [
       "<Figure size 432x288 with 0 Axes>"
      ]
     },
     "metadata": {},
     "output_type": "display_data"
    },
    {
     "data": {
      "text/plain": [
       "<Figure size 432x288 with 0 Axes>"
      ]
     },
     "metadata": {},
     "output_type": "display_data"
    },
    {
     "data": {
      "text/plain": [
       "<Figure size 432x288 with 0 Axes>"
      ]
     },
     "metadata": {},
     "output_type": "display_data"
    },
    {
     "data": {
      "text/plain": [
       "<Figure size 432x288 with 0 Axes>"
      ]
     },
     "metadata": {},
     "output_type": "display_data"
    },
    {
     "data": {
      "text/plain": [
       "<Figure size 432x288 with 0 Axes>"
      ]
     },
     "metadata": {},
     "output_type": "display_data"
    },
    {
     "data": {
      "text/plain": [
       "<Figure size 432x288 with 0 Axes>"
      ]
     },
     "metadata": {},
     "output_type": "display_data"
    },
    {
     "data": {
      "text/plain": [
       "<Figure size 432x288 with 0 Axes>"
      ]
     },
     "metadata": {},
     "output_type": "display_data"
    },
    {
     "data": {
      "text/plain": [
       "<Figure size 432x288 with 0 Axes>"
      ]
     },
     "metadata": {},
     "output_type": "display_data"
    },
    {
     "data": {
      "text/plain": [
       "<Figure size 432x288 with 0 Axes>"
      ]
     },
     "metadata": {},
     "output_type": "display_data"
    },
    {
     "data": {
      "text/plain": [
       "<Figure size 432x288 with 0 Axes>"
      ]
     },
     "metadata": {},
     "output_type": "display_data"
    },
    {
     "data": {
      "text/plain": [
       "<Figure size 432x288 with 0 Axes>"
      ]
     },
     "metadata": {},
     "output_type": "display_data"
    },
    {
     "data": {
      "text/plain": [
       "<Figure size 432x288 with 0 Axes>"
      ]
     },
     "metadata": {},
     "output_type": "display_data"
    },
    {
     "data": {
      "text/plain": [
       "<Figure size 432x288 with 0 Axes>"
      ]
     },
     "metadata": {},
     "output_type": "display_data"
    },
    {
     "data": {
      "text/plain": [
       "<Figure size 432x288 with 0 Axes>"
      ]
     },
     "metadata": {},
     "output_type": "display_data"
    },
    {
     "data": {
      "text/plain": [
       "<Figure size 432x288 with 0 Axes>"
      ]
     },
     "metadata": {},
     "output_type": "display_data"
    },
    {
     "data": {
      "text/plain": [
       "<Figure size 432x288 with 0 Axes>"
      ]
     },
     "metadata": {},
     "output_type": "display_data"
    },
    {
     "data": {
      "text/plain": [
       "<Figure size 432x288 with 0 Axes>"
      ]
     },
     "metadata": {},
     "output_type": "display_data"
    },
    {
     "data": {
      "text/plain": [
       "<Figure size 432x288 with 0 Axes>"
      ]
     },
     "metadata": {},
     "output_type": "display_data"
    },
    {
     "data": {
      "text/plain": [
       "<Figure size 432x288 with 0 Axes>"
      ]
     },
     "metadata": {},
     "output_type": "display_data"
    },
    {
     "data": {
      "text/plain": [
       "<Figure size 432x288 with 0 Axes>"
      ]
     },
     "metadata": {},
     "output_type": "display_data"
    },
    {
     "data": {
      "text/plain": [
       "<Figure size 432x288 with 0 Axes>"
      ]
     },
     "metadata": {},
     "output_type": "display_data"
    },
    {
     "data": {
      "text/plain": [
       "<Figure size 432x288 with 0 Axes>"
      ]
     },
     "metadata": {},
     "output_type": "display_data"
    },
    {
     "data": {
      "text/plain": [
       "<Figure size 432x288 with 0 Axes>"
      ]
     },
     "metadata": {},
     "output_type": "display_data"
    },
    {
     "data": {
      "text/plain": [
       "<Figure size 432x288 with 0 Axes>"
      ]
     },
     "metadata": {},
     "output_type": "display_data"
    },
    {
     "data": {
      "text/plain": [
       "<Figure size 432x288 with 0 Axes>"
      ]
     },
     "metadata": {},
     "output_type": "display_data"
    },
    {
     "data": {
      "text/plain": [
       "<Figure size 432x288 with 0 Axes>"
      ]
     },
     "metadata": {},
     "output_type": "display_data"
    },
    {
     "data": {
      "text/plain": [
       "<Figure size 432x288 with 0 Axes>"
      ]
     },
     "metadata": {},
     "output_type": "display_data"
    },
    {
     "data": {
      "text/plain": [
       "<Figure size 432x288 with 0 Axes>"
      ]
     },
     "metadata": {},
     "output_type": "display_data"
    },
    {
     "data": {
      "text/plain": [
       "<Figure size 432x288 with 0 Axes>"
      ]
     },
     "metadata": {},
     "output_type": "display_data"
    },
    {
     "data": {
      "text/plain": [
       "<Figure size 432x288 with 0 Axes>"
      ]
     },
     "metadata": {},
     "output_type": "display_data"
    },
    {
     "data": {
      "text/plain": [
       "<Figure size 432x288 with 0 Axes>"
      ]
     },
     "metadata": {},
     "output_type": "display_data"
    },
    {
     "data": {
      "text/plain": [
       "<Figure size 432x288 with 0 Axes>"
      ]
     },
     "metadata": {},
     "output_type": "display_data"
    },
    {
     "data": {
      "text/plain": [
       "<Figure size 432x288 with 0 Axes>"
      ]
     },
     "metadata": {},
     "output_type": "display_data"
    },
    {
     "data": {
      "text/plain": [
       "<Figure size 432x288 with 0 Axes>"
      ]
     },
     "metadata": {},
     "output_type": "display_data"
    },
    {
     "data": {
      "text/plain": [
       "<Figure size 432x288 with 0 Axes>"
      ]
     },
     "metadata": {},
     "output_type": "display_data"
    },
    {
     "data": {
      "text/plain": [
       "<Figure size 432x288 with 0 Axes>"
      ]
     },
     "metadata": {},
     "output_type": "display_data"
    },
    {
     "data": {
      "text/plain": [
       "<Figure size 432x288 with 0 Axes>"
      ]
     },
     "metadata": {},
     "output_type": "display_data"
    },
    {
     "data": {
      "text/plain": [
       "<Figure size 432x288 with 0 Axes>"
      ]
     },
     "metadata": {},
     "output_type": "display_data"
    },
    {
     "data": {
      "text/plain": [
       "<Figure size 432x288 with 0 Axes>"
      ]
     },
     "metadata": {},
     "output_type": "display_data"
    },
    {
     "data": {
      "text/plain": [
       "<Figure size 432x288 with 0 Axes>"
      ]
     },
     "metadata": {},
     "output_type": "display_data"
    },
    {
     "data": {
      "text/plain": [
       "<Figure size 432x288 with 0 Axes>"
      ]
     },
     "metadata": {},
     "output_type": "display_data"
    },
    {
     "data": {
      "text/plain": [
       "<Figure size 432x288 with 0 Axes>"
      ]
     },
     "metadata": {},
     "output_type": "display_data"
    },
    {
     "data": {
      "text/plain": [
       "<Figure size 432x288 with 0 Axes>"
      ]
     },
     "metadata": {},
     "output_type": "display_data"
    },
    {
     "data": {
      "text/plain": [
       "<Figure size 432x288 with 0 Axes>"
      ]
     },
     "metadata": {},
     "output_type": "display_data"
    },
    {
     "data": {
      "text/plain": [
       "<Figure size 432x288 with 0 Axes>"
      ]
     },
     "metadata": {},
     "output_type": "display_data"
    },
    {
     "data": {
      "text/plain": [
       "<Figure size 432x288 with 0 Axes>"
      ]
     },
     "metadata": {},
     "output_type": "display_data"
    },
    {
     "data": {
      "text/plain": [
       "<Figure size 432x288 with 0 Axes>"
      ]
     },
     "metadata": {},
     "output_type": "display_data"
    },
    {
     "data": {
      "text/plain": [
       "<Figure size 432x288 with 0 Axes>"
      ]
     },
     "metadata": {},
     "output_type": "display_data"
    },
    {
     "data": {
      "text/plain": [
       "<Figure size 432x288 with 0 Axes>"
      ]
     },
     "metadata": {},
     "output_type": "display_data"
    },
    {
     "data": {
      "text/plain": [
       "<Figure size 432x288 with 0 Axes>"
      ]
     },
     "metadata": {},
     "output_type": "display_data"
    },
    {
     "data": {
      "text/plain": [
       "<Figure size 432x288 with 0 Axes>"
      ]
     },
     "metadata": {},
     "output_type": "display_data"
    },
    {
     "data": {
      "text/plain": [
       "<Figure size 432x288 with 0 Axes>"
      ]
     },
     "metadata": {},
     "output_type": "display_data"
    },
    {
     "data": {
      "text/plain": [
       "<Figure size 432x288 with 0 Axes>"
      ]
     },
     "metadata": {},
     "output_type": "display_data"
    },
    {
     "data": {
      "text/plain": [
       "<Figure size 432x288 with 0 Axes>"
      ]
     },
     "metadata": {},
     "output_type": "display_data"
    },
    {
     "data": {
      "text/plain": [
       "<Figure size 432x288 with 0 Axes>"
      ]
     },
     "metadata": {},
     "output_type": "display_data"
    },
    {
     "data": {
      "text/plain": [
       "<Figure size 432x288 with 0 Axes>"
      ]
     },
     "metadata": {},
     "output_type": "display_data"
    },
    {
     "data": {
      "text/plain": [
       "<Figure size 432x288 with 0 Axes>"
      ]
     },
     "metadata": {},
     "output_type": "display_data"
    },
    {
     "data": {
      "text/plain": [
       "<Figure size 432x288 with 0 Axes>"
      ]
     },
     "metadata": {},
     "output_type": "display_data"
    },
    {
     "data": {
      "text/plain": [
       "<Figure size 432x288 with 0 Axes>"
      ]
     },
     "metadata": {},
     "output_type": "display_data"
    },
    {
     "data": {
      "text/plain": [
       "<Figure size 432x288 with 0 Axes>"
      ]
     },
     "metadata": {},
     "output_type": "display_data"
    },
    {
     "data": {
      "text/plain": [
       "<Figure size 432x288 with 0 Axes>"
      ]
     },
     "metadata": {},
     "output_type": "display_data"
    },
    {
     "data": {
      "text/plain": [
       "<Figure size 432x288 with 0 Axes>"
      ]
     },
     "metadata": {},
     "output_type": "display_data"
    },
    {
     "data": {
      "text/plain": [
       "<Figure size 432x288 with 0 Axes>"
      ]
     },
     "metadata": {},
     "output_type": "display_data"
    },
    {
     "data": {
      "text/plain": [
       "<Figure size 432x288 with 0 Axes>"
      ]
     },
     "metadata": {},
     "output_type": "display_data"
    },
    {
     "data": {
      "text/plain": [
       "<Figure size 432x288 with 0 Axes>"
      ]
     },
     "metadata": {},
     "output_type": "display_data"
    },
    {
     "data": {
      "text/plain": [
       "<Figure size 432x288 with 0 Axes>"
      ]
     },
     "metadata": {},
     "output_type": "display_data"
    },
    {
     "data": {
      "text/plain": [
       "<Figure size 432x288 with 0 Axes>"
      ]
     },
     "metadata": {},
     "output_type": "display_data"
    },
    {
     "data": {
      "text/plain": [
       "<Figure size 432x288 with 0 Axes>"
      ]
     },
     "metadata": {},
     "output_type": "display_data"
    },
    {
     "data": {
      "text/plain": [
       "<Figure size 432x288 with 0 Axes>"
      ]
     },
     "metadata": {},
     "output_type": "display_data"
    },
    {
     "data": {
      "text/plain": [
       "<Figure size 432x288 with 0 Axes>"
      ]
     },
     "metadata": {},
     "output_type": "display_data"
    },
    {
     "data": {
      "text/plain": [
       "<Figure size 432x288 with 0 Axes>"
      ]
     },
     "metadata": {},
     "output_type": "display_data"
    },
    {
     "data": {
      "text/plain": [
       "<Figure size 432x288 with 0 Axes>"
      ]
     },
     "metadata": {},
     "output_type": "display_data"
    },
    {
     "data": {
      "text/plain": [
       "<Figure size 432x288 with 0 Axes>"
      ]
     },
     "metadata": {},
     "output_type": "display_data"
    },
    {
     "data": {
      "text/plain": [
       "<Figure size 432x288 with 0 Axes>"
      ]
     },
     "metadata": {},
     "output_type": "display_data"
    },
    {
     "data": {
      "text/plain": [
       "<Figure size 432x288 with 0 Axes>"
      ]
     },
     "metadata": {},
     "output_type": "display_data"
    },
    {
     "data": {
      "text/plain": [
       "<Figure size 432x288 with 0 Axes>"
      ]
     },
     "metadata": {},
     "output_type": "display_data"
    },
    {
     "data": {
      "text/plain": [
       "<Figure size 432x288 with 0 Axes>"
      ]
     },
     "metadata": {},
     "output_type": "display_data"
    },
    {
     "data": {
      "text/plain": [
       "<Figure size 432x288 with 0 Axes>"
      ]
     },
     "metadata": {},
     "output_type": "display_data"
    },
    {
     "data": {
      "text/plain": [
       "<Figure size 432x288 with 0 Axes>"
      ]
     },
     "metadata": {},
     "output_type": "display_data"
    },
    {
     "data": {
      "text/plain": [
       "<Figure size 432x288 with 0 Axes>"
      ]
     },
     "metadata": {},
     "output_type": "display_data"
    },
    {
     "data": {
      "text/plain": [
       "<Figure size 432x288 with 0 Axes>"
      ]
     },
     "metadata": {},
     "output_type": "display_data"
    },
    {
     "data": {
      "text/plain": [
       "<Figure size 432x288 with 0 Axes>"
      ]
     },
     "metadata": {},
     "output_type": "display_data"
    },
    {
     "data": {
      "text/plain": [
       "<Figure size 432x288 with 0 Axes>"
      ]
     },
     "metadata": {},
     "output_type": "display_data"
    },
    {
     "data": {
      "text/plain": [
       "<Figure size 432x288 with 0 Axes>"
      ]
     },
     "metadata": {},
     "output_type": "display_data"
    },
    {
     "data": {
      "text/plain": [
       "<Figure size 432x288 with 0 Axes>"
      ]
     },
     "metadata": {},
     "output_type": "display_data"
    },
    {
     "data": {
      "text/plain": [
       "<Figure size 432x288 with 0 Axes>"
      ]
     },
     "metadata": {},
     "output_type": "display_data"
    },
    {
     "data": {
      "text/plain": [
       "<Figure size 432x288 with 0 Axes>"
      ]
     },
     "metadata": {},
     "output_type": "display_data"
    },
    {
     "data": {
      "text/plain": [
       "<Figure size 432x288 with 0 Axes>"
      ]
     },
     "metadata": {},
     "output_type": "display_data"
    },
    {
     "data": {
      "text/plain": [
       "<Figure size 432x288 with 0 Axes>"
      ]
     },
     "metadata": {},
     "output_type": "display_data"
    },
    {
     "data": {
      "text/plain": [
       "<Figure size 432x288 with 0 Axes>"
      ]
     },
     "metadata": {},
     "output_type": "display_data"
    },
    {
     "data": {
      "text/plain": [
       "<Figure size 432x288 with 0 Axes>"
      ]
     },
     "metadata": {},
     "output_type": "display_data"
    },
    {
     "data": {
      "text/plain": [
       "<Figure size 432x288 with 0 Axes>"
      ]
     },
     "metadata": {},
     "output_type": "display_data"
    },
    {
     "data": {
      "text/plain": [
       "<Figure size 432x288 with 0 Axes>"
      ]
     },
     "metadata": {},
     "output_type": "display_data"
    },
    {
     "data": {
      "text/plain": [
       "<Figure size 432x288 with 0 Axes>"
      ]
     },
     "metadata": {},
     "output_type": "display_data"
    },
    {
     "data": {
      "text/plain": [
       "<Figure size 432x288 with 0 Axes>"
      ]
     },
     "metadata": {},
     "output_type": "display_data"
    },
    {
     "data": {
      "text/plain": [
       "<Figure size 432x288 with 0 Axes>"
      ]
     },
     "metadata": {},
     "output_type": "display_data"
    },
    {
     "data": {
      "text/plain": [
       "<Figure size 432x288 with 0 Axes>"
      ]
     },
     "metadata": {},
     "output_type": "display_data"
    },
    {
     "data": {
      "text/plain": [
       "<Figure size 432x288 with 0 Axes>"
      ]
     },
     "metadata": {},
     "output_type": "display_data"
    },
    {
     "data": {
      "text/plain": [
       "<Figure size 432x288 with 0 Axes>"
      ]
     },
     "metadata": {},
     "output_type": "display_data"
    },
    {
     "data": {
      "text/plain": [
       "<Figure size 432x288 with 0 Axes>"
      ]
     },
     "metadata": {},
     "output_type": "display_data"
    },
    {
     "data": {
      "text/plain": [
       "<Figure size 432x288 with 0 Axes>"
      ]
     },
     "metadata": {},
     "output_type": "display_data"
    },
    {
     "data": {
      "text/plain": [
       "<Figure size 432x288 with 0 Axes>"
      ]
     },
     "metadata": {},
     "output_type": "display_data"
    },
    {
     "data": {
      "text/plain": [
       "<Figure size 432x288 with 0 Axes>"
      ]
     },
     "metadata": {},
     "output_type": "display_data"
    },
    {
     "data": {
      "text/plain": [
       "<Figure size 432x288 with 0 Axes>"
      ]
     },
     "metadata": {},
     "output_type": "display_data"
    },
    {
     "data": {
      "text/plain": [
       "<Figure size 432x288 with 0 Axes>"
      ]
     },
     "metadata": {},
     "output_type": "display_data"
    },
    {
     "data": {
      "text/plain": [
       "<Figure size 432x288 with 0 Axes>"
      ]
     },
     "metadata": {},
     "output_type": "display_data"
    },
    {
     "data": {
      "text/plain": [
       "<Figure size 432x288 with 0 Axes>"
      ]
     },
     "metadata": {},
     "output_type": "display_data"
    },
    {
     "data": {
      "text/plain": [
       "<Figure size 432x288 with 0 Axes>"
      ]
     },
     "metadata": {},
     "output_type": "display_data"
    },
    {
     "data": {
      "text/plain": [
       "<Figure size 432x288 with 0 Axes>"
      ]
     },
     "metadata": {},
     "output_type": "display_data"
    },
    {
     "data": {
      "text/plain": [
       "<Figure size 432x288 with 0 Axes>"
      ]
     },
     "metadata": {},
     "output_type": "display_data"
    },
    {
     "data": {
      "text/plain": [
       "<Figure size 432x288 with 0 Axes>"
      ]
     },
     "metadata": {},
     "output_type": "display_data"
    },
    {
     "data": {
      "text/plain": [
       "<Figure size 432x288 with 0 Axes>"
      ]
     },
     "metadata": {},
     "output_type": "display_data"
    },
    {
     "data": {
      "text/plain": [
       "<Figure size 432x288 with 0 Axes>"
      ]
     },
     "metadata": {},
     "output_type": "display_data"
    },
    {
     "data": {
      "text/plain": [
       "<Figure size 432x288 with 0 Axes>"
      ]
     },
     "metadata": {},
     "output_type": "display_data"
    },
    {
     "data": {
      "text/plain": [
       "<Figure size 432x288 with 0 Axes>"
      ]
     },
     "metadata": {},
     "output_type": "display_data"
    },
    {
     "data": {
      "text/plain": [
       "<Figure size 432x288 with 0 Axes>"
      ]
     },
     "metadata": {},
     "output_type": "display_data"
    },
    {
     "data": {
      "text/plain": [
       "<Figure size 432x288 with 0 Axes>"
      ]
     },
     "metadata": {},
     "output_type": "display_data"
    },
    {
     "data": {
      "text/plain": [
       "<Figure size 432x288 with 0 Axes>"
      ]
     },
     "metadata": {},
     "output_type": "display_data"
    },
    {
     "data": {
      "text/plain": [
       "<Figure size 432x288 with 0 Axes>"
      ]
     },
     "metadata": {},
     "output_type": "display_data"
    },
    {
     "data": {
      "text/plain": [
       "<Figure size 432x288 with 0 Axes>"
      ]
     },
     "metadata": {},
     "output_type": "display_data"
    },
    {
     "data": {
      "text/plain": [
       "<Figure size 432x288 with 0 Axes>"
      ]
     },
     "metadata": {},
     "output_type": "display_data"
    },
    {
     "data": {
      "text/plain": [
       "<Figure size 432x288 with 0 Axes>"
      ]
     },
     "metadata": {},
     "output_type": "display_data"
    },
    {
     "data": {
      "text/plain": [
       "<Figure size 432x288 with 0 Axes>"
      ]
     },
     "metadata": {},
     "output_type": "display_data"
    },
    {
     "data": {
      "text/plain": [
       "<Figure size 432x288 with 0 Axes>"
      ]
     },
     "metadata": {},
     "output_type": "display_data"
    },
    {
     "data": {
      "text/plain": [
       "<Figure size 432x288 with 0 Axes>"
      ]
     },
     "metadata": {},
     "output_type": "display_data"
    },
    {
     "data": {
      "text/plain": [
       "<Figure size 432x288 with 0 Axes>"
      ]
     },
     "metadata": {},
     "output_type": "display_data"
    },
    {
     "data": {
      "text/plain": [
       "<Figure size 432x288 with 0 Axes>"
      ]
     },
     "metadata": {},
     "output_type": "display_data"
    },
    {
     "data": {
      "text/plain": [
       "<Figure size 432x288 with 0 Axes>"
      ]
     },
     "metadata": {},
     "output_type": "display_data"
    },
    {
     "data": {
      "text/plain": [
       "<Figure size 432x288 with 0 Axes>"
      ]
     },
     "metadata": {},
     "output_type": "display_data"
    },
    {
     "data": {
      "text/plain": [
       "<Figure size 432x288 with 0 Axes>"
      ]
     },
     "metadata": {},
     "output_type": "display_data"
    },
    {
     "data": {
      "text/plain": [
       "<Figure size 432x288 with 0 Axes>"
      ]
     },
     "metadata": {},
     "output_type": "display_data"
    },
    {
     "data": {
      "text/plain": [
       "<Figure size 432x288 with 0 Axes>"
      ]
     },
     "metadata": {},
     "output_type": "display_data"
    },
    {
     "data": {
      "text/plain": [
       "<Figure size 432x288 with 0 Axes>"
      ]
     },
     "metadata": {},
     "output_type": "display_data"
    },
    {
     "data": {
      "text/plain": [
       "<Figure size 432x288 with 0 Axes>"
      ]
     },
     "metadata": {},
     "output_type": "display_data"
    },
    {
     "data": {
      "text/plain": [
       "<Figure size 432x288 with 0 Axes>"
      ]
     },
     "metadata": {},
     "output_type": "display_data"
    },
    {
     "data": {
      "text/plain": [
       "<Figure size 432x288 with 0 Axes>"
      ]
     },
     "metadata": {},
     "output_type": "display_data"
    }
   ],
   "source": [
    "write_comparison_gif(class1_predAll, class1[1, : , : , :].squeeze(), tomogram_data, 'tomo04_patch030_0000')"
   ]
  },
  {
   "cell_type": "code",
   "execution_count": null,
   "id": "c4de9b8b-9dca-4cc7-b551-b9f6d6b59087",
   "metadata": {},
   "outputs": [],
   "source": []
  },
  {
   "cell_type": "code",
   "execution_count": null,
   "id": "7ac2b8b4-0c8d-4973-9219-561f9a9f5c02",
   "metadata": {},
   "outputs": [],
   "source": []
  },
  {
   "cell_type": "markdown",
   "id": "84d70791-fcb7-41f9-863f-654887d4bb7b",
   "metadata": {},
   "source": [
    "# Predict full test tomograms for best models"
   ]
  },
  {
   "cell_type": "code",
   "execution_count": 6,
   "id": "b2a18f25-3368-492f-a568-a16ec07b50ee",
   "metadata": {},
   "outputs": [],
   "source": [
    "logs_path = PARENT_PATH + 'models_1/logs/BaselineModel/'\n",
    "logs_path = Path(logs_path)\n",
    "\n",
    "\n",
    "tomo_file_cryoCARE = '/home/haicu/jeronimo.carvajal/Thesis/data/nnUnet/nifti_files/%s_bin4_denoised_0000.nii.gz'\n",
    "tomo_file_rawCET = '/home/haicu/jeronimo.carvajal/Thesis/data/raw_cryo-ET/%s.mrc'\n",
    "tomo_file_isoNET = '/home/haicu/jeronimo.carvajal/Thesis/data/isoNet/RAW_dataset/RAW_corrected_i30/%s_corrected.mrc'\n",
    "tomo_file_cryoCARE_isoNET = '/home/haicu/jeronimo.carvajal/Thesis/data/isoNet/cryoCARE_dataset/cryoCARE_corrected/%s_bin4_denoised_0000_corrected.mrc'\n",
    "\n",
    "tomo_input_type_fileDict = {'rawCET':tomo_file_rawCET,\n",
    "                            'cryoCARE': tomo_file_cryoCARE,\n",
    "                            'isoNET': tomo_file_isoNET,\n",
    "                            'cryoCARE+isoNET': tomo_file_cryoCARE_isoNET}\n",
    "\n",
    "nCenters_dict = {'in56':28, 'in84':14, 'in96':11}\n",
    "\n",
    "aux_label_file = '/home/haicu/jeronimo.carvajal/Thesis/data/nnUnet/nifti_files/%s_merged_thr02.nii.gz'"
   ]
  },
  {
   "cell_type": "code",
   "execution_count": 13,
   "id": "26566485-8952-49bf-93d9-fdad93fb59f7",
   "metadata": {},
   "outputs": [
    {
     "name": "stdout",
     "output_type": "stream",
     "text": [
      "cryoCARE\n",
      "Model predictions on test set: \n",
      " [0.787007212638855, 0.8094673752784729] \n",
      "\n",
      "\n",
      "cryoCARE+isoNET\n",
      "Model predictions on test set: \n",
      " [0.7611339092254639, 0.5529128313064575] \n",
      "\n",
      "\n",
      "isoNET\n",
      "Model predictions on test set: \n",
      " [0.6190276741981506, 0.38708019256591797] \n",
      "\n",
      "\n",
      "rawCET\n",
      "Model predictions on test set: \n",
      " [0.32196739315986633, 0.35235798358917236] \n",
      "\n",
      "\n"
     ]
    }
   ],
   "source": [
    "dice1_test_bestModels = []\n",
    "\n",
    "for i, row in bestModel_byType.iterrows():\n",
    "    model_fileList = [row['model_file']]\n",
    "    n_centers_list = [nCenters_dict[row['patch_size']]]\n",
    "    \n",
    "    input_type = row['input_type']\n",
    "    \n",
    "    dice1_score = []\n",
    "\n",
    "    for tomo in test_tomos:\n",
    "        tomo_file = tomo_input_type_fileDict[input_type] %tomo\n",
    "        label_file = aux_label_file %tomo\n",
    "        class1_predDict, dice1_dict, class1, tomogram_data = fullTomogram_modelComparison(model_fileList, n_centers_list, tomo_file, \n",
    "                                                                                          label_file, overwrite_prediction=False, is_model_data=False)\n",
    "        \n",
    "        val = float(list(dice1_dict.items())[0][1][1])\n",
    "        dice1_score.append(val)\n",
    "        \n",
    "    print(input_type)\n",
    "    print('Model predictions on test set: \\n', dice1_score, '\\n\\n')\n",
    "    dice1_test_bestModels.append(np.nanmean(dice1_score))"
   ]
  },
  {
   "cell_type": "code",
   "execution_count": 10,
   "id": "29cc2458-5a94-4697-a26c-07b4889dfe31",
   "metadata": {},
   "outputs": [
    {
     "data": {
      "text/html": [
       "<div>\n",
       "<style scoped>\n",
       "    .dataframe tbody tr th:only-of-type {\n",
       "        vertical-align: middle;\n",
       "    }\n",
       "\n",
       "    .dataframe tbody tr th {\n",
       "        vertical-align: top;\n",
       "    }\n",
       "\n",
       "    .dataframe thead th {\n",
       "        text-align: right;\n",
       "    }\n",
       "</style>\n",
       "<table border=\"1\" class=\"dataframe\">\n",
       "  <thead>\n",
       "    <tr style=\"text-align: right;\">\n",
       "      <th></th>\n",
       "      <th>patch_size</th>\n",
       "      <th>lr</th>\n",
       "      <th>associated_val_class1_dice</th>\n",
       "      <th>dice1_test_patches</th>\n",
       "      <th>dice1_test_full</th>\n",
       "    </tr>\n",
       "    <tr>\n",
       "      <th>input_type</th>\n",
       "      <th></th>\n",
       "      <th></th>\n",
       "      <th></th>\n",
       "      <th></th>\n",
       "      <th></th>\n",
       "    </tr>\n",
       "  </thead>\n",
       "  <tbody>\n",
       "    <tr>\n",
       "      <th>cryoCARE</th>\n",
       "      <td>in56</td>\n",
       "      <td>lr0.000100</td>\n",
       "      <td>0.883435</td>\n",
       "      <td>0.838001</td>\n",
       "      <td>0.798237</td>\n",
       "    </tr>\n",
       "    <tr>\n",
       "      <th>cryoCARE+isoNET</th>\n",
       "      <td>in84</td>\n",
       "      <td>lr0.000100</td>\n",
       "      <td>0.916506</td>\n",
       "      <td>0.818593</td>\n",
       "      <td>0.657023</td>\n",
       "    </tr>\n",
       "    <tr>\n",
       "      <th>isoNET</th>\n",
       "      <td>in84</td>\n",
       "      <td>lr0.000100</td>\n",
       "      <td>0.840685</td>\n",
       "      <td>0.830425</td>\n",
       "      <td>0.503054</td>\n",
       "    </tr>\n",
       "    <tr>\n",
       "      <th>rawCET</th>\n",
       "      <td>in84</td>\n",
       "      <td>lr0.000300</td>\n",
       "      <td>0.820816</td>\n",
       "      <td>0.811864</td>\n",
       "      <td>0.337163</td>\n",
       "    </tr>\n",
       "  </tbody>\n",
       "</table>\n",
       "</div>"
      ],
      "text/plain": [
       "                patch_size          lr  associated_val_class1_dice  \\\n",
       "input_type                                                           \n",
       "cryoCARE              in56  lr0.000100                    0.883435   \n",
       "cryoCARE+isoNET       in84  lr0.000100                    0.916506   \n",
       "isoNET                in84  lr0.000100                    0.840685   \n",
       "rawCET                in84  lr0.000300                    0.820816   \n",
       "\n",
       "                 dice1_test_patches  dice1_test_full  \n",
       "input_type                                            \n",
       "cryoCARE                   0.838001         0.798237  \n",
       "cryoCARE+isoNET            0.818593         0.657023  \n",
       "isoNET                     0.830425         0.503054  \n",
       "rawCET                     0.811864         0.337163  "
      ]
     },
     "execution_count": 10,
     "metadata": {},
     "output_type": "execute_result"
    }
   ],
   "source": [
    "bestModel_byType['dice1_test_full'] = dice1_test_bestModels\n",
    "bestModel_byType[['input_type', 'patch_size', 'lr', 'associated_val_class1_dice', 'dice1_test_patches', 'dice1_test_full']].set_index('input_type')"
   ]
  },
  {
   "cell_type": "markdown",
   "id": "b11d744d-7263-4498-9baa-81d7b293666c",
   "metadata": {},
   "source": [
    "# Predict full validation tomograms for best models"
   ]
  },
  {
   "cell_type": "code",
   "execution_count": 14,
   "id": "e78a44b3-4549-426e-8493-36a2366ab45e",
   "metadata": {},
   "outputs": [
    {
     "name": "stdout",
     "output_type": "stream",
     "text": [
      "Predicting full tomogram using 28 centers...\n"
     ]
    },
    {
     "name": "stderr",
     "output_type": "stream",
     "text": [
      "100%|██████████| 10976/10976 [02:36<00:00, 70.23it/s]\n"
     ]
    },
    {
     "name": "stdout",
     "output_type": "stream",
     "text": [
      "Predicting full tomogram using 28 centers...\n"
     ]
    },
    {
     "name": "stderr",
     "output_type": "stream",
     "text": [
      "100%|██████████| 10976/10976 [02:36<00:00, 70.19it/s]\n"
     ]
    },
    {
     "name": "stdout",
     "output_type": "stream",
     "text": [
      "cryoCARE\n",
      "Model predictions on test set: \n",
      " [0.7227136492729187, 0.7298005819320679] \n",
      "\n",
      "\n",
      "Predicting full tomogram using 14 centers...\n"
     ]
    },
    {
     "name": "stderr",
     "output_type": "stream",
     "text": [
      "100%|██████████| 1372/1372 [00:51<00:00, 26.77it/s]\n"
     ]
    },
    {
     "name": "stdout",
     "output_type": "stream",
     "text": [
      "Predicting full tomogram using 14 centers...\n"
     ]
    },
    {
     "name": "stderr",
     "output_type": "stream",
     "text": [
      "100%|██████████| 1372/1372 [00:50<00:00, 26.92it/s]\n"
     ]
    },
    {
     "name": "stdout",
     "output_type": "stream",
     "text": [
      "cryoCARE+isoNET\n",
      "Model predictions on test set: \n",
      " [0.703208863735199, 0.00033809474552981555] \n",
      "\n",
      "\n",
      "Predicting full tomogram using 14 centers...\n"
     ]
    },
    {
     "name": "stderr",
     "output_type": "stream",
     "text": [
      "100%|██████████| 1372/1372 [00:50<00:00, 26.93it/s]\n"
     ]
    },
    {
     "name": "stdout",
     "output_type": "stream",
     "text": [
      "Predicting full tomogram using 14 centers...\n"
     ]
    },
    {
     "name": "stderr",
     "output_type": "stream",
     "text": [
      "100%|██████████| 1372/1372 [00:51<00:00, 26.78it/s]\n"
     ]
    },
    {
     "name": "stdout",
     "output_type": "stream",
     "text": [
      "isoNET\n",
      "Model predictions on test set: \n",
      " [0.46878692507743835, 0.41208940744400024] \n",
      "\n",
      "\n",
      "Predicting full tomogram using 14 centers...\n"
     ]
    },
    {
     "name": "stderr",
     "output_type": "stream",
     "text": [
      "100%|██████████| 1372/1372 [00:51<00:00, 26.88it/s]\n"
     ]
    },
    {
     "name": "stdout",
     "output_type": "stream",
     "text": [
      "Predicting full tomogram using 14 centers...\n"
     ]
    },
    {
     "name": "stderr",
     "output_type": "stream",
     "text": [
      "100%|██████████| 1372/1372 [00:51<00:00, 26.66it/s]\n"
     ]
    },
    {
     "name": "stdout",
     "output_type": "stream",
     "text": [
      "rawCET\n",
      "Model predictions on test set: \n",
      " [0.24834896624088287, 0.6082371473312378] \n",
      "\n",
      "\n"
     ]
    }
   ],
   "source": [
    "dice1_test_bestModels = []\n",
    "\n",
    "for i, row in bestModel_byType.iterrows():\n",
    "    model_fileList = [row['model_file']]\n",
    "    n_centers_list = [nCenters_dict[row['patch_size']]]\n",
    "    \n",
    "    input_type = row['input_type']\n",
    "    \n",
    "    dice1_score = []\n",
    "\n",
    "    for tomo in val_tomos:\n",
    "        tomo_file = tomo_input_type_fileDict[input_type] %tomo\n",
    "        label_file = aux_label_file %tomo\n",
    "        class1_predDict, dice1_dict, class1, tomogram_data = fullTomogram_modelComparison(model_fileList, n_centers_list, tomo_file, \n",
    "                                                                                          label_file, overwrite_prediction=False, is_model_data=False)\n",
    "        \n",
    "        val = float(list(dice1_dict.items())[0][1][1])\n",
    "        dice1_score.append(val)\n",
    "        \n",
    "    print(input_type)\n",
    "    print('Model predictions on validation set: \\n', dice1_score, '\\n\\n')\n",
    "    dice1_test_bestModels.append(np.nanmean(dice1_score))"
   ]
  },
  {
   "cell_type": "code",
   "execution_count": 15,
   "id": "828c109f-972f-43f9-8fca-1864c9d1593d",
   "metadata": {},
   "outputs": [
    {
     "data": {
      "text/html": [
       "<div>\n",
       "<style scoped>\n",
       "    .dataframe tbody tr th:only-of-type {\n",
       "        vertical-align: middle;\n",
       "    }\n",
       "\n",
       "    .dataframe tbody tr th {\n",
       "        vertical-align: top;\n",
       "    }\n",
       "\n",
       "    .dataframe thead th {\n",
       "        text-align: right;\n",
       "    }\n",
       "</style>\n",
       "<table border=\"1\" class=\"dataframe\">\n",
       "  <thead>\n",
       "    <tr style=\"text-align: right;\">\n",
       "      <th></th>\n",
       "      <th>patch_size</th>\n",
       "      <th>lr</th>\n",
       "      <th>associated_val_class1_dice</th>\n",
       "      <th>dice1_val_full</th>\n",
       "      <th>dice1_test_patches</th>\n",
       "      <th>dice1_test_full</th>\n",
       "    </tr>\n",
       "    <tr>\n",
       "      <th>input_type</th>\n",
       "      <th></th>\n",
       "      <th></th>\n",
       "      <th></th>\n",
       "      <th></th>\n",
       "      <th></th>\n",
       "      <th></th>\n",
       "    </tr>\n",
       "  </thead>\n",
       "  <tbody>\n",
       "    <tr>\n",
       "      <th>cryoCARE</th>\n",
       "      <td>in56</td>\n",
       "      <td>lr0.000100</td>\n",
       "      <td>0.883435</td>\n",
       "      <td>0.726257</td>\n",
       "      <td>0.838001</td>\n",
       "      <td>0.798237</td>\n",
       "    </tr>\n",
       "    <tr>\n",
       "      <th>cryoCARE+isoNET</th>\n",
       "      <td>in84</td>\n",
       "      <td>lr0.000100</td>\n",
       "      <td>0.916506</td>\n",
       "      <td>0.351773</td>\n",
       "      <td>0.818593</td>\n",
       "      <td>0.657023</td>\n",
       "    </tr>\n",
       "    <tr>\n",
       "      <th>isoNET</th>\n",
       "      <td>in84</td>\n",
       "      <td>lr0.000100</td>\n",
       "      <td>0.840685</td>\n",
       "      <td>0.440438</td>\n",
       "      <td>0.830425</td>\n",
       "      <td>0.503054</td>\n",
       "    </tr>\n",
       "    <tr>\n",
       "      <th>rawCET</th>\n",
       "      <td>in84</td>\n",
       "      <td>lr0.000300</td>\n",
       "      <td>0.820816</td>\n",
       "      <td>0.428293</td>\n",
       "      <td>0.811864</td>\n",
       "      <td>0.337163</td>\n",
       "    </tr>\n",
       "  </tbody>\n",
       "</table>\n",
       "</div>"
      ],
      "text/plain": [
       "                patch_size          lr  associated_val_class1_dice  \\\n",
       "input_type                                                           \n",
       "cryoCARE              in56  lr0.000100                    0.883435   \n",
       "cryoCARE+isoNET       in84  lr0.000100                    0.916506   \n",
       "isoNET                in84  lr0.000100                    0.840685   \n",
       "rawCET                in84  lr0.000300                    0.820816   \n",
       "\n",
       "                 dice1_val_full  dice1_test_patches  dice1_test_full  \n",
       "input_type                                                            \n",
       "cryoCARE               0.726257            0.838001         0.798237  \n",
       "cryoCARE+isoNET        0.351773            0.818593         0.657023  \n",
       "isoNET                 0.440438            0.830425         0.503054  \n",
       "rawCET                 0.428293            0.811864         0.337163  "
      ]
     },
     "execution_count": 15,
     "metadata": {},
     "output_type": "execute_result"
    }
   ],
   "source": [
    "bestModel_byType['dice1_val_full'] = dice1_test_bestModels\n",
    "bestModel_byType[['input_type', 'patch_size', 'lr', 'associated_val_class1_dice', 'dice1_val_full', 'dice1_test_patches', 'dice1_test_full']].set_index('input_type')"
   ]
  },
  {
   "cell_type": "code",
   "execution_count": 16,
   "id": "cc8ccf82-07ce-4ef6-994a-100d82df5231",
   "metadata": {},
   "outputs": [],
   "source": [
    "bestModel_byType.to_csv('../data/model_logs/models_1/bestModels_byType_summary.csv', index=False)"
   ]
  },
  {
   "cell_type": "code",
   "execution_count": null,
   "id": "a416c0f9-a7bf-47aa-9510-969d3947a3d8",
   "metadata": {},
   "outputs": [],
   "source": []
  },
  {
   "cell_type": "code",
   "execution_count": null,
   "id": "50361cd8-dc2f-49ed-8b68-4afb0018897b",
   "metadata": {},
   "outputs": [],
   "source": []
  },
  {
   "cell_type": "code",
   "execution_count": null,
   "id": "f26012e2-956a-44e0-b4ae-36fd09b199ed",
   "metadata": {},
   "outputs": [],
   "source": []
  },
  {
   "cell_type": "code",
   "execution_count": null,
   "id": "2eb4049f-b70e-4ede-91ec-6999b63030f0",
   "metadata": {},
   "outputs": [],
   "source": []
  },
  {
   "cell_type": "code",
   "execution_count": null,
   "id": "511c7d8c-07d6-4aef-b545-c4435d2cf376",
   "metadata": {},
   "outputs": [],
   "source": []
  },
  {
   "cell_type": "code",
   "execution_count": null,
   "id": "09fcbb94-1fba-4472-bf19-353f5240b6b8",
   "metadata": {},
   "outputs": [],
   "source": []
  },
  {
   "cell_type": "code",
   "execution_count": null,
   "id": "c8e15433-15dc-4846-91f0-f6f39349c63f",
   "metadata": {},
   "outputs": [],
   "source": []
  },
  {
   "cell_type": "code",
   "execution_count": null,
   "id": "c2279504-6bfc-4472-ba8d-2d68b1aa0bdf",
   "metadata": {},
   "outputs": [],
   "source": []
  },
  {
   "cell_type": "code",
   "execution_count": null,
   "id": "cf5273da-ff7f-44cb-8abc-ae3aff902966",
   "metadata": {},
   "outputs": [],
   "source": []
  },
  {
   "cell_type": "code",
   "execution_count": null,
   "id": "e0a48de6-9467-47c4-bc99-e378fb8c1a81",
   "metadata": {},
   "outputs": [],
   "source": []
  },
  {
   "cell_type": "code",
   "execution_count": null,
   "id": "c83dce76-5dfc-41aa-a942-da2b290232e1",
   "metadata": {},
   "outputs": [],
   "source": []
  },
  {
   "cell_type": "code",
   "execution_count": null,
   "id": "cd901d2c-a762-4283-8370-c50bbab7fce0",
   "metadata": {},
   "outputs": [],
   "source": []
  },
  {
   "cell_type": "code",
   "execution_count": null,
   "id": "c7eb84eb-0c2a-4d3a-ba6a-6bd4d90b2ba9",
   "metadata": {},
   "outputs": [],
   "source": []
  },
  {
   "cell_type": "code",
   "execution_count": null,
   "id": "c16eb33a-7145-4977-91f1-f8df11e24899",
   "metadata": {},
   "outputs": [],
   "source": []
  },
  {
   "cell_type": "code",
   "execution_count": null,
   "id": "d8afb6cd-6ed5-41f4-a7f9-4a15c00beec2",
   "metadata": {},
   "outputs": [],
   "source": []
  },
  {
   "cell_type": "code",
   "execution_count": null,
   "id": "9504b2ca-8506-42b9-a5de-18a8fe03d9e8",
   "metadata": {},
   "outputs": [],
   "source": []
  },
  {
   "cell_type": "code",
   "execution_count": null,
   "id": "206706f4-5e42-4c33-91f1-7bde1de94815",
   "metadata": {},
   "outputs": [],
   "source": []
  },
  {
   "cell_type": "code",
   "execution_count": null,
   "id": "f6c7f968-405e-48bf-aa83-0321fbe3a301",
   "metadata": {},
   "outputs": [],
   "source": []
  },
  {
   "cell_type": "code",
   "execution_count": null,
   "id": "bb8ec50a-2afa-4516-9fcb-63feb73cacd4",
   "metadata": {},
   "outputs": [],
   "source": []
  }
 ],
 "metadata": {
  "kernelspec": {
   "display_name": "Python 3 (ipykernel)",
   "language": "python",
   "name": "python3"
  },
  "language_info": {
   "codemirror_mode": {
    "name": "ipython",
    "version": 3
   },
   "file_extension": ".py",
   "mimetype": "text/x-python",
   "name": "python",
   "nbconvert_exporter": "python",
   "pygments_lexer": "ipython3",
   "version": "3.9.10"
  }
 },
 "nbformat": 4,
 "nbformat_minor": 5
}
