{
 "cells": [
  {
   "cell_type": "code",
   "execution_count": 1,
   "id": "418b0a6b-e430-43e8-a7a2-e8e35c040fe4",
   "metadata": {},
   "outputs": [],
   "source": [
    "from tomoSegmentPipeline.showcaseResults import (predict_fullTomogram, load_model, load_tomoData, Tversky_index,\n",
    "                                        fullTomogram_modelComparison, make_comparison_plot, write_comparison_gif, save_classPred)\n",
    "\n",
    "from tomoSegmentPipeline.losses import Tversky_loss\n",
    "from tomoSegmentPipeline.utils.common import read_array\n",
    "import tomoSegmentPipeline.dataloader as dl\n",
    "from tomoSegmentPipeline.utils import setup\n",
    "from tomoSegmentPipeline.dataloader import to_categorical, transpose_to_channels_first\n",
    "from tomoSegmentPipeline.trainWrapper import make_trainer\n",
    "\n",
    "PARENT_PATH = setup.PARENT_PATH\n",
    "\n",
    "import numpy as np\n",
    "import matplotlib.pyplot as plt\n",
    "import random\n",
    "import mrcfile\n",
    "import pandas as pd\n",
    "import torch\n",
    "import os\n",
    "from glob import glob\n",
    "import random\n",
    "\n",
    "%matplotlib inline\n",
    "%config Completer.use_jedi = False\n",
    "%load_ext autoreload\n",
    "%autoreload 2\n",
    "\n",
    "train_tomos = ['tomo02', 'tomo03', 'tomo17']\n",
    "concat_train_ids = sorted([s.replace('tomo', '') for s in train_tomos])\n",
    "concat_train_ids = '-'.join(concat_train_ids)\n",
    "\n",
    "val_tomos = ['tomo32', 'tomo10']\n",
    "concat_val_ids = sorted([s.replace('tomo', '') for s in val_tomos])\n",
    "concat_val_ids = '-'.join(concat_val_ids)\n",
    "\n",
    "test_tomos = ['tomo38', 'tomo04']\n",
    "concat_test_ids = sorted([s.replace('tomo', '') for s in test_tomos])\n",
    "concat_test_ids = '-'.join(concat_test_ids)\n",
    "\n",
    "\n",
    "paths_trainData, paths_trainTarget = setup.get_paths(train_tomos, 'cryoCARE')\n",
    "paths_valData, paths_valTarget = setup.get_paths(val_tomos, 'cryoCARE')\n",
    "paths_testData, paths_testTarget = setup.get_paths(test_tomos, 'cryoCARE')"
   ]
  },
  {
   "cell_type": "code",
   "execution_count": null,
   "id": "33acad9a-5063-4065-a185-44abd4aeb7ba",
   "metadata": {},
   "outputs": [],
   "source": []
  },
  {
   "cell_type": "code",
   "execution_count": null,
   "id": "ac2f2b55-554b-4ddf-8b41-02bab477dea4",
   "metadata": {},
   "outputs": [
    {
     "name": "stderr",
     "output_type": "stream",
     "text": [
      "GPU available: True, used: True\n",
      "TPU available: False, using: 0 TPU cores\n",
      "IPU available: False, using: 0 IPUs\n",
      "LOCAL_RANK: 0 - CUDA_VISIBLE_DEVICES: [0,1,2]\n",
      "Set SLURM handle signals.\n",
      "\n",
      "  | Name    | Type         | Params\n",
      "-----------------------------------------\n",
      "0 | loss_fn | Tversky_loss | 0     \n",
      "1 | layer1  | Sequential   | 28.6 K\n",
      "2 | layer2  | Sequential   | 103 K \n",
      "3 | layer3  | Sequential   | 558 K \n",
      "4 | layer4  | Sequential   | 288 K \n",
      "5 | layer5  | Sequential   | 96.9 K\n",
      "-----------------------------------------\n",
      "1.1 M     Trainable params\n",
      "0         Non-trainable params\n",
      "1.1 M     Total params\n",
      "4.304     Total estimated model params size (MB)\n"
     ]
    },
    {
     "name": "stdout",
     "output_type": "stream",
     "text": [
      "\"Ncl\":           2\n",
      "\"loss_fn\":       Tversky_loss()\n",
      "\"lr\":            0.01\n",
      "\"pretrain_type\": None\n",
      "\"weight_decay\":  0\n"
     ]
    },
    {
     "name": "stderr",
     "output_type": "stream",
     "text": [
      "Metric hp/val_loss_epoch improved. New best score: 1.064\n"
     ]
    }
   ],
   "source": [
    "from tomoSegmentPipeline import dataloader as dl\n",
    "from tomoSegmentPipeline.utils import setup\n",
    "from tomoSegmentPipeline.dataloader import to_categorical, transpose_to_channels_first, tomoSegment_dummyDataset, tomoSegment_dataset\n",
    "from tomoSegmentPipeline.training import Train\n",
    "import os\n",
    "\n",
    "PARENT_PATH = setup.PARENT_PATH\n",
    "\n",
    "import torch\n",
    "from pytorch_lightning.callbacks.early_stopping import EarlyStopping\n",
    "\n",
    "\n",
    "val_tomos = ['tomo32', 'tomo10']\n",
    "concat_val_ids = sorted([s.replace('tomo', '') for s in val_tomos])\n",
    "concat_val_ids = '-'.join(concat_val_ids)\n",
    "\n",
    "test_tomos = ['tomo38', 'tomo04']\n",
    "concat_test_ids = sorted([s.replace('tomo', '') for s in test_tomos])\n",
    "concat_test_ids = '-'.join(concat_test_ids)\n",
    "\n",
    "train_tomos = ['tomo02']\n",
    "\n",
    "concat_train_ids = sorted([s.replace('tomo', '') for s in train_tomos])\n",
    "concat_train_ids = '-'.join(concat_train_ids)\n",
    "\n",
    "chkpnt = None\n",
    "\n",
    "tb_logdir = os.path.join(PARENT_PATH, 'models_scratchpad2/earlyStop_tryout/logs/LowBaselineModel/train%s' %concat_train_ids)\n",
    "model_name = '3.09_lowBaseline'\n",
    "epochs = 100\n",
    "\n",
    "\n",
    "Ncl = 2\n",
    "dim_in = 56\n",
    "lr = 1e-2\n",
    "weight_decay = 0\n",
    "Lrnd = 0\n",
    "augment_data = False\n",
    "batch_size = 64\n",
    "nPatches_training = 1\n",
    "pretrained_model = None\n",
    "\n",
    "trainer = Train(Ncl=Ncl, dim_in=dim_in, lr=lr, weight_decay=weight_decay, Lrnd=Lrnd, tensorboard_logdir=tb_logdir,\n",
    "                model_name=model_name, augment_data=augment_data, batch_size=batch_size, epochs=epochs,\n",
    "                pretrained_model=pretrained_model)\n",
    "\n",
    "early_stop_callback = EarlyStopping(\n",
    "            monitor='hp/val_loss_epoch',\n",
    "            min_delta=0.5,\n",
    "            patience=8,\n",
    "            verbose=True,\n",
    "            mode='min',\n",
    "            # check_on_train_epoch_end=False\n",
    "            )\n",
    "\n",
    "trainer.launch(train_tomos, val_tomos, input_type='rawCET', num_gpus=1, accelerator=None,\n",
    "               num_workers=1, resume_from_checkpoint=chkpnt,  nPatches_training=nPatches_training,\n",
    "               train_callbacks=[early_stop_callback])"
   ]
  },
  {
   "cell_type": "code",
   "execution_count": 16,
   "id": "91a0e783-4c56-4741-87aa-18ffa527a68d",
   "metadata": {},
   "outputs": [
    {
     "data": {
      "text/plain": [
       "<torch.optim.lr_scheduler.ReduceLROnPlateau at 0x7f47817bfa00>"
      ]
     },
     "execution_count": 16,
     "metadata": {},
     "output_type": "execute_result"
    }
   ],
   "source": [
    "trainer.model.lr_schedulers()"
   ]
  },
  {
   "cell_type": "code",
   "execution_count": 13,
   "id": "7cd514ce-c209-4ead-9949-0de98f91534c",
   "metadata": {},
   "outputs": [],
   "source": [
    "from tomoSegmentPipeline.showcaseResults import (predict_fullTomogram, load_model, load_tomoData, Tversky_index,\n",
    "                                        fullTomogram_modelComparison, make_comparison_plot, write_comparison_gif, save_classPred)\n",
    "\n",
    "model_file = '/home/haicu/jeronimo.carvajal/Thesis/models_scratchpad2/earlyStop_tryout/logs/LowBaselineModel/train02/version_29/3.09_lowBaseline_ep100_in56_lr0.010000_29.model'\n",
    "model = load_model(model_file, 2)"
   ]
  }
 ],
 "metadata": {
  "kernelspec": {
   "display_name": "Python 3 (ipykernel)",
   "language": "python",
   "name": "python3"
  },
  "language_info": {
   "codemirror_mode": {
    "name": "ipython",
    "version": 3
   },
   "file_extension": ".py",
   "mimetype": "text/x-python",
   "name": "python",
   "nbconvert_exporter": "python",
   "pygments_lexer": "ipython3",
   "version": "3.9.10"
  }
 },
 "nbformat": 4,
 "nbformat_minor": 5
}
