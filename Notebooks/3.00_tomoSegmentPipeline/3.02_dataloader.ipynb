{
 "cells": [
  {
   "cell_type": "code",
   "execution_count": 1,
   "id": "2c083f75-21d1-4049-8f94-3ac5745e2871",
   "metadata": {},
   "outputs": [],
   "source": [
    "from tomoSegmentPipeline import dataloader as dl\n",
    "from tomoSegmentPipeline.utils import setup\n",
    "from tomoSegmentPipeline.dataloader import to_categorical, transpose_to_channels_first, tomoSegment_dummyDataset, tomoSegment_dataset\n",
    "from tomoSegmentPipeline.trainWrapper import make_trainer\n",
    "\n",
    "import os\n",
    "\n",
    "PARENT_PATH = setup.PARENT_PATH\n",
    "\n",
    "import torch\n",
    "\n",
    "%matplotlib inline\n",
    "%config Completer.use_jedi = False\n",
    "%load_ext autoreload\n",
    "%autoreload 2\n",
    "\n",
    "train_tomos = ['tomo02', 'tomo03', 'tomo17']\n",
    "concat_train_ids = sorted([s.replace('tomo', '') for s in train_tomos])\n",
    "concat_train_ids = '-'.join(concat_train_ids)\n",
    "\n",
    "val_tomos = ['tomo32', 'tomo10']\n",
    "concat_val_ids = sorted([s.replace('tomo', '') for s in val_tomos])\n",
    "concat_val_ids = '-'.join(concat_val_ids)\n",
    "\n",
    "test_tomos = ['tomo38', 'tomo04']\n",
    "concat_test_ids = sorted([s.replace('tomo', '') for s in test_tomos])\n",
    "concat_test_ids = '-'.join(concat_test_ids)\n",
    "\n",
    "paths_trainData, paths_trainTarget = setup.get_paths(train_tomos, 'cryoCARE')\n",
    "paths_valData, paths_valTarget = setup.get_paths(val_tomos, 'cryoCARE')"
   ]
  },
  {
   "cell_type": "markdown",
   "id": "25250ec3-78ac-431f-a63f-b2bc3f5e6192",
   "metadata": {
    "jp-MarkdownHeadingCollapsed": true,
    "tags": []
   },
   "source": [
    "# Profiling"
   ]
  },
  {
   "cell_type": "code",
   "execution_count": 10,
   "id": "9bafad0e-262c-485c-9cc8-9a01c2612cab",
   "metadata": {},
   "outputs": [],
   "source": [
    "tb_logdir = os.path.join(PARENT_PATH, 'models_scratchpad/logs/BenchmarkBaselineModel/train%s' %concat_train_ids)\n",
    "\n",
    "trainer = make_trainer(dim_in=56, batch_size=32, lr=1e-4, epochs=10, tb_logdir=tb_logdir, model_name='3.02_BaselineBenchmark',\n",
    "                       reconstruction_trainer=False, pretrained_model=None, test_run=False)"
   ]
  },
  {
   "cell_type": "code",
   "execution_count": 11,
   "id": "9e10ac05-c5b0-4ce1-84c5-4219a0f7e68d",
   "metadata": {},
   "outputs": [
    {
     "name": "stderr",
     "output_type": "stream",
     "text": [
      "GPU available: True, used: True\n",
      "TPU available: False, using: 0 TPU cores\n",
      "LOCAL_RANK: 0 - CUDA_VISIBLE_DEVICES: [0,1,2]\n",
      "Set SLURM handle signals.\n",
      "\n",
      "  | Name    | Type         | Params\n",
      "-----------------------------------------\n",
      "0 | loss_fn | Tversky_loss | 0     \n",
      "1 | layer1  | Sequential   | 28.6 K\n",
      "2 | layer2  | Sequential   | 103 K \n",
      "3 | layer3  | Sequential   | 558 K \n",
      "4 | layer4  | Sequential   | 288 K \n",
      "5 | layer5  | Sequential   | 96.9 K\n",
      "-----------------------------------------\n",
      "1.1 M     Trainable params\n",
      "0         Non-trainable params\n",
      "1.1 M     Total params\n",
      "4.304     Total estimated model params size (MB)\n"
     ]
    },
    {
     "data": {
      "application/vnd.jupyter.widget-view+json": {
       "model_id": "e01ba5ef97e54d04ae852fa74026aad4",
       "version_major": 2,
       "version_minor": 0
      },
      "text/plain": [
       "Validation sanity check: 0it [00:00, ?it/s]"
      ]
     },
     "metadata": {},
     "output_type": "display_data"
    },
    {
     "data": {
      "application/vnd.jupyter.widget-view+json": {
       "model_id": "9af131b7fbeb41cc86d13e6ee3f9098c",
       "version_major": 2,
       "version_minor": 0
      },
      "text/plain": [
       "Training: 0it [00:00, ?it/s]"
      ]
     },
     "metadata": {},
     "output_type": "display_data"
    },
    {
     "name": "stdout",
     "output_type": "stream",
     "text": [
      "\"Ncl\":           2\n",
      "\"loss_fn\":       Tversky_loss()\n",
      "\"lr\":            0.0001\n",
      "\"pretrain_type\": None\n",
      "\"weight_decay\":  0.0\n"
     ]
    },
    {
     "data": {
      "application/vnd.jupyter.widget-view+json": {
       "model_id": "",
       "version_major": 2,
       "version_minor": 0
      },
      "text/plain": [
       "Validating: 0it [00:00, ?it/s]"
      ]
     },
     "metadata": {},
     "output_type": "display_data"
    },
    {
     "data": {
      "application/vnd.jupyter.widget-view+json": {
       "model_id": "",
       "version_major": 2,
       "version_minor": 0
      },
      "text/plain": [
       "Validating: 0it [00:00, ?it/s]"
      ]
     },
     "metadata": {},
     "output_type": "display_data"
    },
    {
     "data": {
      "application/vnd.jupyter.widget-view+json": {
       "model_id": "",
       "version_major": 2,
       "version_minor": 0
      },
      "text/plain": [
       "Validating: 0it [00:00, ?it/s]"
      ]
     },
     "metadata": {},
     "output_type": "display_data"
    },
    {
     "data": {
      "application/vnd.jupyter.widget-view+json": {
       "model_id": "",
       "version_major": 2,
       "version_minor": 0
      },
      "text/plain": [
       "Validating: 0it [00:00, ?it/s]"
      ]
     },
     "metadata": {},
     "output_type": "display_data"
    },
    {
     "data": {
      "application/vnd.jupyter.widget-view+json": {
       "model_id": "",
       "version_major": 2,
       "version_minor": 0
      },
      "text/plain": [
       "Validating: 0it [00:00, ?it/s]"
      ]
     },
     "metadata": {},
     "output_type": "display_data"
    },
    {
     "data": {
      "application/vnd.jupyter.widget-view+json": {
       "model_id": "",
       "version_major": 2,
       "version_minor": 0
      },
      "text/plain": [
       "Validating: 0it [00:00, ?it/s]"
      ]
     },
     "metadata": {},
     "output_type": "display_data"
    },
    {
     "data": {
      "application/vnd.jupyter.widget-view+json": {
       "model_id": "",
       "version_major": 2,
       "version_minor": 0
      },
      "text/plain": [
       "Validating: 0it [00:00, ?it/s]"
      ]
     },
     "metadata": {},
     "output_type": "display_data"
    },
    {
     "data": {
      "application/vnd.jupyter.widget-view+json": {
       "model_id": "",
       "version_major": 2,
       "version_minor": 0
      },
      "text/plain": [
       "Validating: 0it [00:00, ?it/s]"
      ]
     },
     "metadata": {},
     "output_type": "display_data"
    },
    {
     "data": {
      "application/vnd.jupyter.widget-view+json": {
       "model_id": "",
       "version_major": 2,
       "version_minor": 0
      },
      "text/plain": [
       "Validating: 0it [00:00, ?it/s]"
      ]
     },
     "metadata": {},
     "output_type": "display_data"
    },
    {
     "data": {
      "application/vnd.jupyter.widget-view+json": {
       "model_id": "",
       "version_major": 2,
       "version_minor": 0
      },
      "text/plain": [
       "Validating: 0it [00:00, ?it/s]"
      ]
     },
     "metadata": {},
     "output_type": "display_data"
    },
    {
     "name": "stderr",
     "output_type": "stream",
     "text": [
      "FIT Profiler Report\n",
      "\n",
      "Action                             \t|  Mean duration (s)\t|Num calls      \t|  Total time (s) \t|  Percentage %   \t|\n",
      "--------------------------------------------------------------------------------------------------------------------------------------\n",
      "Total                              \t|  -              \t|_              \t|  1568.1         \t|  100 %          \t|\n",
      "--------------------------------------------------------------------------------------------------------------------------------------\n",
      "run_training_epoch                 \t|  155.3          \t|10             \t|  1553.0         \t|  99.039         \t|\n",
      "run_training_batch                 \t|  1.262          \t|640            \t|  807.67         \t|  51.508         \t|\n",
      "get_train_batch                    \t|  0.73914        \t|640            \t|  473.05         \t|  30.168         \t|\n",
      "optimizer_step_and_closure_0       \t|  0.066802       \t|640            \t|  42.753         \t|  2.7265         \t|\n",
      "training_step_and_backward         \t|  0.059419       \t|640            \t|  38.028         \t|  2.4252         \t|\n",
      "model_forward                      \t|  0.037246       \t|640            \t|  23.837         \t|  1.5202         \t|\n",
      "training_step                      \t|  0.03644        \t|640            \t|  23.321         \t|  1.4873         \t|\n",
      "evaluation_step_and_end            \t|  0.04922        \t|382            \t|  18.802         \t|  1.1991         \t|\n",
      "validation_step                    \t|  0.048525       \t|382            \t|  18.536         \t|  1.1821         \t|\n",
      "backward                           \t|  0.021327       \t|640            \t|  13.649         \t|  0.87046        \t|\n",
      "on_validation_end                  \t|  0.14333        \t|11             \t|  1.5767         \t|  0.10055        \t|\n",
      "cache_result                       \t|  9.6901e-05     \t|3828           \t|  0.37094        \t|  0.023656       \t|\n",
      "on_validation_start                \t|  0.02548        \t|11             \t|  0.28028        \t|  0.017874       \t|\n",
      "on_validation_batch_end            \t|  0.00058787     \t|382            \t|  0.22456        \t|  0.014321       \t|\n",
      "on_train_batch_end                 \t|  0.00029494     \t|640            \t|  0.18876        \t|  0.012038       \t|\n",
      "on_epoch_end                       \t|  0.0071919      \t|21             \t|  0.15103        \t|  0.0096316      \t|\n",
      "on_train_start                     \t|  0.096044       \t|1              \t|  0.096044       \t|  0.006125       \t|\n",
      "training_step_end                  \t|  0.0001162      \t|640            \t|  0.074368       \t|  0.0047427      \t|\n",
      "validation_step_end                \t|  0.00010527     \t|382            \t|  0.040215       \t|  0.0025646      \t|\n",
      "on_batch_start                     \t|  5.8428e-05     \t|640            \t|  0.037394       \t|  0.0023847      \t|\n",
      "on_after_backward                  \t|  4.6336e-05     \t|640            \t|  0.029655       \t|  0.0018912      \t|\n",
      "on_train_batch_start               \t|  4.1643e-05     \t|640            \t|  0.026652       \t|  0.0016997      \t|\n",
      "on_train_epoch_start               \t|  0.0025633      \t|10             \t|  0.025633       \t|  0.0016347      \t|\n",
      "on_before_zero_grad                \t|  3.9702e-05     \t|640            \t|  0.02541        \t|  0.0016204      \t|\n",
      "on_validation_batch_start          \t|  5.3515e-05     \t|382            \t|  0.020443       \t|  0.0013037      \t|\n",
      "on_batch_end                       \t|  1.8953e-05     \t|640            \t|  0.01213        \t|  0.00077357     \t|\n",
      "on_train_epoch_end                 \t|  0.00020713     \t|10             \t|  0.0020713      \t|  0.00013209     \t|\n",
      "on_train_end                       \t|  0.0018533      \t|1              \t|  0.0018533      \t|  0.00011819     \t|\n",
      "on_epoch_start                     \t|  2.5645e-05     \t|21             \t|  0.00053855     \t|  3.4345e-05     \t|\n",
      "on_validation_epoch_start          \t|  2.4033e-05     \t|11             \t|  0.00026436     \t|  1.6859e-05     \t|\n",
      "on_validation_epoch_end            \t|  2.048e-05      \t|11             \t|  0.00022528     \t|  1.4367e-05     \t|\n",
      "on_fit_start                       \t|  3.2935e-05     \t|1              \t|  3.2935e-05     \t|  2.1004e-06     \t|\n",
      "on_before_accelerator_backend_setup\t|  1.986e-05      \t|1              \t|  1.986e-05      \t|  1.2665e-06     \t|\n",
      "on_train_dataloader                \t|  1.9178e-05     \t|1              \t|  1.9178e-05     \t|  1.223e-06      \t|\n",
      "on_val_dataloader                  \t|  1.8187e-05     \t|1              \t|  1.8187e-05     \t|  1.1598e-06     \t|\n",
      "\n"
     ]
    },
    {
     "name": "stdout",
     "output_type": "stream",
     "text": [
      "Saving model at:  /home/haicu/jeronimo.carvajal/Thesis/models_scratchpad/logs/BenchmarkBaselineModel/train02-03-17/version_0/3.02_BaselineBenchmark_ep10_in56_lr0.000100_0.model\n",
      "\n",
      "Writing to modelSummary...\n",
      "Opening ModelSummary file...\n",
      "ModelSummary file exists, appending current model data...\n"
     ]
    }
   ],
   "source": [
    "trainer.launch(paths_trainData, paths_trainTarget, paths_valData, paths_valTarget)"
   ]
  },
  {
   "cell_type": "code",
   "execution_count": 12,
   "id": "f11c38c3-e3d1-4383-b5d9-017e52602613",
   "metadata": {},
   "outputs": [
    {
     "name": "stderr",
     "output_type": "stream",
     "text": [
      "GPU available: True, used: True\n",
      "TPU available: False, using: 0 TPU cores\n",
      "LOCAL_RANK: 0 - CUDA_VISIBLE_DEVICES: [0,1,2]\n",
      "Set SLURM handle signals.\n",
      "\n",
      "  | Name    | Type         | Params\n",
      "-----------------------------------------\n",
      "0 | loss_fn | Tversky_loss | 0     \n",
      "1 | layer1  | Sequential   | 28.6 K\n",
      "2 | layer2  | Sequential   | 103 K \n",
      "3 | layer3  | Sequential   | 558 K \n",
      "4 | layer4  | Sequential   | 288 K \n",
      "5 | layer5  | Sequential   | 96.9 K\n",
      "-----------------------------------------\n",
      "1.1 M     Trainable params\n",
      "0         Non-trainable params\n",
      "1.1 M     Total params\n",
      "4.304     Total estimated model params size (MB)\n"
     ]
    },
    {
     "data": {
      "application/vnd.jupyter.widget-view+json": {
       "model_id": "7ede862dbcb4424fb8e6c5b15bb398d2",
       "version_major": 2,
       "version_minor": 0
      },
      "text/plain": [
       "Validation sanity check: 0it [00:00, ?it/s]"
      ]
     },
     "metadata": {},
     "output_type": "display_data"
    },
    {
     "data": {
      "application/vnd.jupyter.widget-view+json": {
       "model_id": "8e3c9e47d4754e5689ffa2c66d1f40e6",
       "version_major": 2,
       "version_minor": 0
      },
      "text/plain": [
       "Training: 0it [00:00, ?it/s]"
      ]
     },
     "metadata": {},
     "output_type": "display_data"
    },
    {
     "name": "stdout",
     "output_type": "stream",
     "text": [
      "\"Ncl\":           2\n",
      "\"loss_fn\":       Tversky_loss()\n",
      "\"lr\":            0.0001\n",
      "\"pretrain_type\": None\n",
      "\"weight_decay\":  0.0\n",
      "Saving model at:  /home/haicu/jeronimo.carvajal/Thesis/models_scratchpad/logs/BenchmarkBaselineModel/train02-03-17/version_1/3.02_BaselineBenchmark_ep10_in56_lr0.000100_1.model\n",
      "\n",
      "Writing to modelSummary...\n"
     ]
    },
    {
     "ename": "IndexError",
     "evalue": "list index out of range",
     "output_type": "error",
     "traceback": [
      "\u001b[0;31m---------------------------------------------------------------------------\u001b[0m",
      "\u001b[0;31mIndexError\u001b[0m                                Traceback (most recent call last)",
      "\u001b[0;32m<ipython-input-12-9e019e624a1f>\u001b[0m in \u001b[0;36m<module>\u001b[0;34m\u001b[0m\n\u001b[1;32m      4\u001b[0m                        reconstruction_trainer=False, pretrained_model=None, test_run=False)\n\u001b[1;32m      5\u001b[0m \u001b[0;34m\u001b[0m\u001b[0m\n\u001b[0;32m----> 6\u001b[0;31m \u001b[0mtrainer\u001b[0m\u001b[0;34m.\u001b[0m\u001b[0mlaunch\u001b[0m\u001b[0;34m(\u001b[0m\u001b[0mpaths_trainData\u001b[0m\u001b[0;34m,\u001b[0m \u001b[0mpaths_trainTarget\u001b[0m\u001b[0;34m,\u001b[0m \u001b[0mpaths_valData\u001b[0m\u001b[0;34m,\u001b[0m \u001b[0mpaths_valTarget\u001b[0m\u001b[0;34m)\u001b[0m\u001b[0;34m\u001b[0m\u001b[0;34m\u001b[0m\u001b[0m\n\u001b[0m",
      "\u001b[0;32m/mnt/home/icb/jeronimo.carvajal/Thesis/DeepFinder_pytorch/tomoSegmentPipeline/tomoSegmentPipeline/training.py\u001b[0m in \u001b[0;36mlaunch\u001b[0;34m(self, paths_trainData, paths_trainTarget, paths_valData, paths_valTarget, dataset)\u001b[0m\n\u001b[1;32m    170\u001b[0m \u001b[0;34m\u001b[0m\u001b[0m\n\u001b[1;32m    171\u001b[0m         \u001b[0mmodelSummary_folder\u001b[0m \u001b[0;34m=\u001b[0m \u001b[0mself\u001b[0m\u001b[0;34m.\u001b[0m\u001b[0mtensorboard_logdir\u001b[0m\u001b[0;34m.\u001b[0m\u001b[0msplit\u001b[0m\u001b[0;34m(\u001b[0m\u001b[0;34m'/logs'\u001b[0m\u001b[0;34m)\u001b[0m\u001b[0;34m[\u001b[0m\u001b[0;36m0\u001b[0m\u001b[0;34m]\u001b[0m\u001b[0;34m\u001b[0m\u001b[0;34m\u001b[0m\u001b[0m\n\u001b[0;32m--> 172\u001b[0;31m         \u001b[0mself\u001b[0m\u001b[0;34m.\u001b[0m\u001b[0mwrite_modelSummary\u001b[0m\u001b[0;34m(\u001b[0m\u001b[0mmodelSummary_folder\u001b[0m\u001b[0;34m,\u001b[0m \u001b[0mpaths_trainData\u001b[0m\u001b[0;34m,\u001b[0m \u001b[0mpaths_valData\u001b[0m\u001b[0;34m)\u001b[0m\u001b[0;34m\u001b[0m\u001b[0;34m\u001b[0m\u001b[0m\n\u001b[0m\u001b[1;32m    173\u001b[0m \u001b[0;34m\u001b[0m\u001b[0m\n\u001b[1;32m    174\u001b[0m         \u001b[0;32mreturn\u001b[0m\u001b[0;34m\u001b[0m\u001b[0;34m\u001b[0m\u001b[0m\n",
      "\u001b[0;32m/mnt/home/icb/jeronimo.carvajal/Thesis/DeepFinder_pytorch/tomoSegmentPipeline/tomoSegmentPipeline/training.py\u001b[0m in \u001b[0;36mwrite_modelSummary\u001b[0;34m(self, modelSummary_folder, path_trainData, path_valData)\u001b[0m\n\u001b[1;32m    233\u001b[0m             \u001b[0massociated_val_class1_dice\u001b[0m \u001b[0;34m=\u001b[0m \u001b[0;32mNone\u001b[0m\u001b[0;34m\u001b[0m\u001b[0;34m\u001b[0m\u001b[0m\n\u001b[1;32m    234\u001b[0m         \u001b[0;31m# pytorch lightning includes epoch zero (no training) to start counting\u001b[0m\u001b[0;34m\u001b[0m\u001b[0;34m\u001b[0m\u001b[0;34m\u001b[0m\u001b[0m\n\u001b[0;32m--> 235\u001b[0;31m         \u001b[0massociated_train_loss_epoch\u001b[0m \u001b[0;34m=\u001b[0m \u001b[0mfloat\u001b[0m\u001b[0;34m(\u001b[0m\u001b[0mself\u001b[0m\u001b[0;34m.\u001b[0m\u001b[0mmodel\u001b[0m\u001b[0;34m.\u001b[0m\u001b[0mtrain_loss_per_epoch\u001b[0m\u001b[0;34m[\u001b[0m\u001b[0mbest_val_loss_epoch_idx\u001b[0m\u001b[0;34m-\u001b[0m\u001b[0;36m1\u001b[0m\u001b[0;34m]\u001b[0m\u001b[0;34m)\u001b[0m\u001b[0;34m\u001b[0m\u001b[0;34m\u001b[0m\u001b[0m\n\u001b[0m\u001b[1;32m    236\u001b[0m \u001b[0;34m\u001b[0m\u001b[0m\n\u001b[1;32m    237\u001b[0m \u001b[0;34m\u001b[0m\u001b[0m\n",
      "\u001b[0;31mIndexError\u001b[0m: list index out of range"
     ]
    }
   ],
   "source": [
    "tb_logdir = os.path.join(PARENT_PATH, 'models_scratchpad/logs/BenchmarkBaselineModel/train%s' %concat_train_ids)\n",
    "\n",
    "trainer = make_trainer(dim_in=56, batch_size=1, lr=1e-4, epochs=10, tb_logdir=tb_logdir, model_name='3.02_BaselineBenchmark',\n",
    "                       reconstruction_trainer=False, pretrained_model=None, test_run=False)\n",
    "\n",
    "trainer.launch(paths_trainData, paths_trainTarget, paths_valData, paths_valTarget)"
   ]
  },
  {
   "cell_type": "code",
   "execution_count": null,
   "id": "d50a637d-2349-4168-b8e8-2b04cb19f9d0",
   "metadata": {},
   "outputs": [],
   "source": []
  },
  {
   "cell_type": "code",
   "execution_count": 13,
   "id": "285a04ca-e99d-4c90-8b14-aa275dc1d0ad",
   "metadata": {},
   "outputs": [
    {
     "name": "stderr",
     "output_type": "stream",
     "text": [
      "GPU available: True, used: True\n",
      "TPU available: False, using: 0 TPU cores\n",
      "LOCAL_RANK: 0 - CUDA_VISIBLE_DEVICES: [0,1,2]\n",
      "Set SLURM handle signals.\n",
      "\n",
      "  | Name    | Type         | Params\n",
      "-----------------------------------------\n",
      "0 | loss_fn | Tversky_loss | 0     \n",
      "1 | layer1  | Sequential   | 28.6 K\n",
      "2 | layer2  | Sequential   | 103 K \n",
      "3 | layer3  | Sequential   | 558 K \n",
      "4 | layer4  | Sequential   | 288 K \n",
      "5 | layer5  | Sequential   | 96.9 K\n",
      "-----------------------------------------\n",
      "1.1 M     Trainable params\n",
      "0         Non-trainable params\n",
      "1.1 M     Total params\n",
      "4.304     Total estimated model params size (MB)\n"
     ]
    },
    {
     "data": {
      "application/vnd.jupyter.widget-view+json": {
       "model_id": "6f103f1bf5ce4f558deac484bc4d4d14",
       "version_major": 2,
       "version_minor": 0
      },
      "text/plain": [
       "Validation sanity check: 0it [00:00, ?it/s]"
      ]
     },
     "metadata": {},
     "output_type": "display_data"
    },
    {
     "data": {
      "application/vnd.jupyter.widget-view+json": {
       "model_id": "afe4541ddb5949f485376a3c3ce789ad",
       "version_major": 2,
       "version_minor": 0
      },
      "text/plain": [
       "Training: 0it [00:00, ?it/s]"
      ]
     },
     "metadata": {},
     "output_type": "display_data"
    },
    {
     "name": "stdout",
     "output_type": "stream",
     "text": [
      "\"Ncl\":           2\n",
      "\"loss_fn\":       Tversky_loss()\n",
      "\"lr\":            0.0001\n",
      "\"pretrain_type\": None\n",
      "\"weight_decay\":  0.0\n"
     ]
    },
    {
     "data": {
      "application/vnd.jupyter.widget-view+json": {
       "model_id": "",
       "version_major": 2,
       "version_minor": 0
      },
      "text/plain": [
       "Validating: 0it [00:00, ?it/s]"
      ]
     },
     "metadata": {},
     "output_type": "display_data"
    },
    {
     "data": {
      "application/vnd.jupyter.widget-view+json": {
       "model_id": "",
       "version_major": 2,
       "version_minor": 0
      },
      "text/plain": [
       "Validating: 0it [00:00, ?it/s]"
      ]
     },
     "metadata": {},
     "output_type": "display_data"
    },
    {
     "data": {
      "application/vnd.jupyter.widget-view+json": {
       "model_id": "",
       "version_major": 2,
       "version_minor": 0
      },
      "text/plain": [
       "Validating: 0it [00:00, ?it/s]"
      ]
     },
     "metadata": {},
     "output_type": "display_data"
    },
    {
     "data": {
      "application/vnd.jupyter.widget-view+json": {
       "model_id": "",
       "version_major": 2,
       "version_minor": 0
      },
      "text/plain": [
       "Validating: 0it [00:00, ?it/s]"
      ]
     },
     "metadata": {},
     "output_type": "display_data"
    },
    {
     "data": {
      "application/vnd.jupyter.widget-view+json": {
       "model_id": "",
       "version_major": 2,
       "version_minor": 0
      },
      "text/plain": [
       "Validating: 0it [00:00, ?it/s]"
      ]
     },
     "metadata": {},
     "output_type": "display_data"
    },
    {
     "data": {
      "application/vnd.jupyter.widget-view+json": {
       "model_id": "",
       "version_major": 2,
       "version_minor": 0
      },
      "text/plain": [
       "Validating: 0it [00:00, ?it/s]"
      ]
     },
     "metadata": {},
     "output_type": "display_data"
    },
    {
     "data": {
      "application/vnd.jupyter.widget-view+json": {
       "model_id": "",
       "version_major": 2,
       "version_minor": 0
      },
      "text/plain": [
       "Validating: 0it [00:00, ?it/s]"
      ]
     },
     "metadata": {},
     "output_type": "display_data"
    },
    {
     "data": {
      "application/vnd.jupyter.widget-view+json": {
       "model_id": "",
       "version_major": 2,
       "version_minor": 0
      },
      "text/plain": [
       "Validating: 0it [00:00, ?it/s]"
      ]
     },
     "metadata": {},
     "output_type": "display_data"
    },
    {
     "data": {
      "application/vnd.jupyter.widget-view+json": {
       "model_id": "",
       "version_major": 2,
       "version_minor": 0
      },
      "text/plain": [
       "Validating: 0it [00:00, ?it/s]"
      ]
     },
     "metadata": {},
     "output_type": "display_data"
    },
    {
     "data": {
      "application/vnd.jupyter.widget-view+json": {
       "model_id": "",
       "version_major": 2,
       "version_minor": 0
      },
      "text/plain": [
       "Validating: 0it [00:00, ?it/s]"
      ]
     },
     "metadata": {},
     "output_type": "display_data"
    },
    {
     "name": "stderr",
     "output_type": "stream",
     "text": [
      "FIT Profiler Report\n",
      "\n",
      "Action                             \t|  Mean duration (s)\t|Num calls      \t|  Total time (s) \t|  Percentage %   \t|\n",
      "--------------------------------------------------------------------------------------------------------------------------------------\n",
      "Total                              \t|  -              \t|_              \t|  1106.3         \t|  100 %          \t|\n",
      "--------------------------------------------------------------------------------------------------------------------------------------\n",
      "run_training_epoch                 \t|  110.07         \t|10             \t|  1100.7         \t|  99.488         \t|\n",
      "run_training_batch                 \t|  1.2703         \t|640            \t|  812.96         \t|  73.484         \t|\n",
      "optimizer_step_and_closure_0       \t|  0.057802       \t|640            \t|  36.994         \t|  3.3438         \t|\n",
      "training_step_and_backward         \t|  0.052695       \t|640            \t|  33.725         \t|  3.0484         \t|\n",
      "get_train_batch                    \t|  0.047941       \t|640            \t|  30.682         \t|  2.7734         \t|\n",
      "model_forward                      \t|  0.03254        \t|640            \t|  20.825         \t|  1.8824         \t|\n",
      "training_step                      \t|  0.031998       \t|640            \t|  20.479         \t|  1.8511         \t|\n",
      "evaluation_step_and_end            \t|  0.042176       \t|382            \t|  16.111         \t|  1.4563         \t|\n",
      "validation_step                    \t|  0.041538       \t|382            \t|  15.868         \t|  1.4343         \t|\n",
      "backward                           \t|  0.019533       \t|640            \t|  12.501         \t|  1.1299         \t|\n",
      "on_validation_end                  \t|  0.14064        \t|11             \t|  1.5471         \t|  0.13984        \t|\n",
      "cache_result                       \t|  7.6314e-05     \t|3828           \t|  0.29213        \t|  0.026406       \t|\n",
      "on_validation_start                \t|  0.025392       \t|11             \t|  0.27931        \t|  0.025247       \t|\n",
      "on_train_batch_end                 \t|  0.0003295      \t|640            \t|  0.21088        \t|  0.019061       \t|\n",
      "on_validation_batch_end            \t|  0.0005268      \t|382            \t|  0.20124        \t|  0.01819        \t|\n",
      "on_epoch_end                       \t|  0.0074008      \t|21             \t|  0.15542        \t|  0.014048       \t|\n",
      "training_step_end                  \t|  8.5777e-05     \t|640            \t|  0.054897       \t|  0.0049622      \t|\n",
      "validation_step_end                \t|  9.4859e-05     \t|382            \t|  0.036236       \t|  0.0032754      \t|\n",
      "on_train_epoch_start               \t|  0.0027104      \t|10             \t|  0.027104       \t|  0.0024499      \t|\n",
      "on_train_start                     \t|  0.026937       \t|1              \t|  0.026937       \t|  0.0024348      \t|\n",
      "on_after_backward                  \t|  3.7279e-05     \t|640            \t|  0.023859       \t|  0.0021566      \t|\n",
      "on_batch_start                     \t|  2.5689e-05     \t|640            \t|  0.016441       \t|  0.0014861      \t|\n",
      "on_before_zero_grad                \t|  2.4878e-05     \t|640            \t|  0.015922       \t|  0.0014392      \t|\n",
      "on_validation_batch_start          \t|  3.7067e-05     \t|382            \t|  0.01416        \t|  0.0012799      \t|\n",
      "on_train_batch_start               \t|  2.1793e-05     \t|640            \t|  0.013948       \t|  0.0012607      \t|\n",
      "on_batch_end                       \t|  2.1736e-05     \t|640            \t|  0.013911       \t|  0.0012574      \t|\n",
      "on_train_epoch_end                 \t|  0.00024945     \t|10             \t|  0.0024945      \t|  0.00022548     \t|\n",
      "on_train_end                       \t|  0.0018324      \t|1              \t|  0.0018324      \t|  0.00016563     \t|\n",
      "on_epoch_start                     \t|  2.5886e-05     \t|21             \t|  0.00054361     \t|  4.9136e-05     \t|\n",
      "on_validation_epoch_end            \t|  2.4919e-05     \t|11             \t|  0.00027411     \t|  2.4776e-05     \t|\n",
      "on_validation_epoch_start          \t|  1.9341e-05     \t|11             \t|  0.00021276     \t|  1.9231e-05     \t|\n",
      "on_fit_start                       \t|  2.1752e-05     \t|1              \t|  2.1752e-05     \t|  1.9662e-06     \t|\n",
      "on_before_accelerator_backend_setup\t|  1.3452e-05     \t|1              \t|  1.3452e-05     \t|  1.2159e-06     \t|\n",
      "on_train_dataloader                \t|  1.3243e-05     \t|1              \t|  1.3243e-05     \t|  1.1971e-06     \t|\n",
      "on_val_dataloader                  \t|  1.2655e-05     \t|1              \t|  1.2655e-05     \t|  1.1439e-06     \t|\n",
      "\n"
     ]
    },
    {
     "name": "stdout",
     "output_type": "stream",
     "text": [
      "Saving model at:  /home/haicu/jeronimo.carvajal/Thesis/models_scratchpad/logs/BenchmarkBaselineModel/train02-03-17/version_2/3.02_BaselineBenchmark_ep10_in56_lr0.000100_2.model\n",
      "\n",
      "Writing to modelSummary...\n",
      "Opening ModelSummary file...\n",
      "ModelSummary file exists, appending current model data...\n"
     ]
    }
   ],
   "source": [
    "tb_logdir = os.path.join(PARENT_PATH, 'models_scratchpad/logs/BenchmarkBaselineModel/train%s' %concat_train_ids)\n",
    "\n",
    "trainer = make_trainer(dim_in=56, batch_size=32, lr=1e-4, epochs=10, tb_logdir=tb_logdir, model_name='3.02_BaselineBenchmark',\n",
    "                       reconstruction_trainer=False, pretrained_model=None, test_run=False)\n",
    "\n",
    "trainer.launch(paths_trainData, paths_trainTarget, paths_valData, paths_valTarget)"
   ]
  },
  {
   "cell_type": "code",
   "execution_count": null,
   "id": "64b64ff3-1e08-4d1c-8021-216ef68d0726",
   "metadata": {},
   "outputs": [
    {
     "name": "stderr",
     "output_type": "stream",
     "text": [
      "GPU available: True, used: True\n",
      "TPU available: False, using: 0 TPU cores\n",
      "LOCAL_RANK: 0 - CUDA_VISIBLE_DEVICES: [0,1,2]\n",
      "Set SLURM handle signals.\n",
      "\n",
      "  | Name    | Type         | Params\n",
      "-----------------------------------------\n",
      "0 | loss_fn | Tversky_loss | 0     \n",
      "1 | layer1  | Sequential   | 28.6 K\n",
      "2 | layer2  | Sequential   | 103 K \n",
      "3 | layer3  | Sequential   | 558 K \n",
      "4 | layer4  | Sequential   | 288 K \n",
      "5 | layer5  | Sequential   | 96.9 K\n",
      "-----------------------------------------\n",
      "1.1 M     Trainable params\n",
      "0         Non-trainable params\n",
      "1.1 M     Total params\n",
      "4.304     Total estimated model params size (MB)\n"
     ]
    },
    {
     "data": {
      "application/vnd.jupyter.widget-view+json": {
       "model_id": "cc33d280e9d543b9a1e2220eea306177",
       "version_major": 2,
       "version_minor": 0
      },
      "text/plain": [
       "Validation sanity check: 0it [00:00, ?it/s]"
      ]
     },
     "metadata": {},
     "output_type": "display_data"
    },
    {
     "data": {
      "application/vnd.jupyter.widget-view+json": {
       "model_id": "bbdfab75ed104e34ba928cd5f78ecbec",
       "version_major": 2,
       "version_minor": 0
      },
      "text/plain": [
       "Training: 0it [00:00, ?it/s]"
      ]
     },
     "metadata": {},
     "output_type": "display_data"
    },
    {
     "name": "stdout",
     "output_type": "stream",
     "text": [
      "\"Ncl\":           2\n",
      "\"loss_fn\":       Tversky_loss()\n",
      "\"lr\":            0.0001\n",
      "\"pretrain_type\": None\n",
      "\"weight_decay\":  0.0\n"
     ]
    },
    {
     "data": {
      "application/vnd.jupyter.widget-view+json": {
       "model_id": "",
       "version_major": 2,
       "version_minor": 0
      },
      "text/plain": [
       "Validating: 0it [00:00, ?it/s]"
      ]
     },
     "metadata": {},
     "output_type": "display_data"
    },
    {
     "data": {
      "application/vnd.jupyter.widget-view+json": {
       "model_id": "",
       "version_major": 2,
       "version_minor": 0
      },
      "text/plain": [
       "Validating: 0it [00:00, ?it/s]"
      ]
     },
     "metadata": {},
     "output_type": "display_data"
    },
    {
     "data": {
      "application/vnd.jupyter.widget-view+json": {
       "model_id": "",
       "version_major": 2,
       "version_minor": 0
      },
      "text/plain": [
       "Validating: 0it [00:00, ?it/s]"
      ]
     },
     "metadata": {},
     "output_type": "display_data"
    },
    {
     "data": {
      "application/vnd.jupyter.widget-view+json": {
       "model_id": "",
       "version_major": 2,
       "version_minor": 0
      },
      "text/plain": [
       "Validating: 0it [00:00, ?it/s]"
      ]
     },
     "metadata": {},
     "output_type": "display_data"
    },
    {
     "data": {
      "application/vnd.jupyter.widget-view+json": {
       "model_id": "",
       "version_major": 2,
       "version_minor": 0
      },
      "text/plain": [
       "Validating: 0it [00:00, ?it/s]"
      ]
     },
     "metadata": {},
     "output_type": "display_data"
    }
   ],
   "source": [
    "tb_logdir = os.path.join(PARENT_PATH, 'models_scratchpad/logs/BenchmarkBaselineModel/train%s' %concat_train_ids)\n",
    "\n",
    "trainer = make_trainer(dim_in=84, batch_size=4, lr=1e-4, epochs=10, tb_logdir=tb_logdir, model_name='3.02_BaselineBenchmark',\n",
    "                       reconstruction_trainer=False, pretrained_model=None, test_run=False)\n",
    "\n",
    "trainer.launch(paths_trainData, paths_trainTarget, paths_valData, paths_valTarget)"
   ]
  },
  {
   "cell_type": "markdown",
   "id": "eddc6aeb-2218-4b56-9e35-455536b97ee7",
   "metadata": {},
   "source": [
    "# Dataloader"
   ]
  },
  {
   "cell_type": "code",
   "execution_count": 5,
   "id": "775fca13-d154-4803-a68f-eab4be27a36a",
   "metadata": {},
   "outputs": [],
   "source": [
    "class tomoSegment_dataset(dl.Dataset):\n",
    "    def __init__(self, path_data, path_target, dim_in,\n",
    "                 Ncl, Lrnd, augment_data):\n",
    "        \n",
    "        self.path_data = path_data\n",
    "        self.path_target = path_target\n",
    "        self.dim_in = dim_in\n",
    "        self.Ncl = Ncl\n",
    "        self.p_in = np.int(np.floor(self.dim_in / 2))\n",
    "        self.Lrnd = Lrnd\n",
    "        self.augment_data = augment_data\n",
    "\n",
    "        self.data_list, self.target_list = core.load_dataset(self.path_data, self.path_target, '')\n",
    "\n",
    "        self.Ncl_labels = int(max([max(np.unique(l)) for l in self.target_list]))+1\n",
    "        \n",
    "        self.tomo_shape = self.data_list[0].shape\n",
    "        \n",
    "        self.grid = self.create_grid()\n",
    "\n",
    "    def __len__(self):\n",
    "        return len(self.grid)*len(self.data_list)\n",
    "\n",
    "    def __getitem__(self, idx):\n",
    "        return self.create_batch(idx)\n",
    "\n",
    "    def data_augmentation(self, batch_data, batch_target):\n",
    "\n",
    "        # 180degree rotation around Y axis\n",
    "        if np.random.uniform() < 0.5:\n",
    "            # print('Shifting Y...')\n",
    "            batch_data = torch.rot90(batch_data, k=2, dims=(0, 2))\n",
    "            batch_target = torch.rot90(batch_target, k=2, dims=(0, 2))\n",
    "        # 180degree rotation around X axis\n",
    "        if np.random.uniform() < 0.5:\n",
    "            # print('Shifting X...')\n",
    "            batch_data = torch.rot90(batch_data, k=2, dims=(0, 1))\n",
    "            batch_target = torch.rot90(batch_target, k=2, dims=(0, 1))\n",
    "        # rotation between 90 and 270 around Z axis   \n",
    "        if np.random.uniform() < 0.5:\n",
    "            k = int(np.random.choice([1, 2, 3]))\n",
    "            # print('Shifting Z...', k)\n",
    "            batch_data = torch.rot90(batch_data, k=k, dims=(1, 2))\n",
    "            batch_target = torch.rot90(batch_target, k=k, dims=(1, 2))\n",
    "            \n",
    "        return batch_data, batch_target\n",
    "\n",
    "\n",
    "    def shift_coords(self, z, y, x, tomodim):\n",
    "        # Add random shift to coordinates:\n",
    "        x = x + np.random.choice(range(-self.Lrnd, self.Lrnd+1))\n",
    "        y = y + np.random.choice(range(-self.Lrnd, self.Lrnd+1))\n",
    "        z = z + np.random.choice(range(-self.Lrnd, self.Lrnd+1))\n",
    "        \n",
    "        # Shift position if too close to border:\n",
    "        if (x<self.p_in) : x = self.p_in\n",
    "        if (y<self.p_in) : y = self.p_in\n",
    "        if (z<self.p_in) : z = self.p_in\n",
    "        if (x>tomodim[2]-self.p_in): x = tomodim[2]-self.p_in\n",
    "        if (y>tomodim[1]-self.p_in): y = tomodim[1]-self.p_in\n",
    "        if (z>tomodim[0]-self.p_in): z = tomodim[0]-self.p_in\n",
    "        \n",
    "        return x, y, z\n",
    "    \n",
    "    \n",
    "    def create_grid(self):\n",
    "        \n",
    "        # I got this number from inspecting a couple of the label files\n",
    "        noise_margin = 15\n",
    "        \n",
    "        centers = []\n",
    "        for c in self.tomo_shape:\n",
    "            centers.append(np.arange(max(noise_margin+self.p_in//2, self.p_in),\n",
    "                                min(c-noise_margin-self.p_in//2 + 1, c-self.p_in+1),\n",
    "                                self.p_in))\n",
    "        \n",
    "        zs, ys, xs = np.meshgrid(*centers, indexing='ij')\n",
    "        grid = list(zip(zs.flatten(), ys.flatten(), xs.flatten()))\n",
    "        \n",
    "        return grid\n",
    "\n",
    "    def create_batch(self, index):\n",
    "        \"\"\"\n",
    "        Generates batches for training and validation. In this version, the whole dataset has already been loaded into\n",
    "        memory, and batch is sampled from there.\n",
    "        INPUTS:\n",
    "          index: \n",
    "        OUTPUT:\n",
    "          batch_data: numpy array [batch_idx, channel, z, y, x] in our case only 1 channel\n",
    "          batch_target: numpy array [batch_idx, class_idx, z, y, x] is one-hot encoded\n",
    "        \"\"\"\n",
    "        \n",
    "        batch_data = np.zeros((self.dim_in, self.dim_in, self.dim_in, 1))\n",
    "        \n",
    "        inputID = index//len(self.grid)\n",
    "\n",
    "        sample_data = self.data_list[inputID]\n",
    "        sample_target = self.target_list[inputID]\n",
    "\n",
    "        # Get patch position:\n",
    "        z, y, x = self.grid[index%len(self.grid)]\n",
    "        z, y, x = self.shift_coords(z, y, x, sample_data.shape)\n",
    "\n",
    "        # Get patch:\n",
    "        patch_data = sample_data[z - self.p_in:z + self.p_in, y - self.p_in:y + self.p_in, x - self.p_in:x + self.p_in]\n",
    "        patch_target = sample_target[z - self.p_in:z + self.p_in, y - self.p_in:y + self.p_in, x - self.p_in:x + self.p_in]\n",
    "\n",
    "        # Process the patches in order to be used by network:\n",
    "        # print(patch_data)\n",
    "        patch_data = (patch_data - torch.mean(patch_data)) / torch.std(patch_data)  # normalize\n",
    "        patch_target_onehot = to_categorical(patch_target, self.Ncl_labels)\n",
    "\n",
    "        # Store into batch array:\n",
    "        batch_data[:, :, :, 0] = patch_data\n",
    "        batch_target = patch_target_onehot # shape is Z, Y, X, Ncl\n",
    "\n",
    "        batch_data = torch.tensor(batch_data)\n",
    "        batch_target = torch.tensor(batch_target)\n",
    "        \n",
    "        ############## Data augmentation #############################\n",
    "        if self.augment_data:\n",
    "            batch_data, batch_target = self.data_augmentation(batch_data, batch_target)\n",
    "\n",
    "        batch_data = transpose_to_channels_first(batch_data).to(torch.float)\n",
    "        batch_target = transpose_to_channels_first(batch_target).to(torch.float)\n",
    "\n",
    "        return batch_data, batch_target"
   ]
  },
  {
   "cell_type": "code",
   "execution_count": null,
   "id": "b03fbdeb-79b9-4572-a133-9fe85007a730",
   "metadata": {},
   "outputs": [],
   "source": [
    "path"
   ]
  },
  {
   "cell_type": "code",
   "execution_count": 2,
   "id": "5e458435-a891-4607-8b64-79e00071cfa8",
   "metadata": {},
   "outputs": [
    {
     "data": {
      "text/plain": [
       "256"
      ]
     },
     "execution_count": 2,
     "metadata": {},
     "output_type": "execute_result"
    }
   ],
   "source": [
    "dim_in = 84\n",
    "Lrnd = 5\n",
    "\n",
    "my_dataset = dl.tomoSegment_dataset(paths_trainData, paths_trainTarget, dim_in, Ncl=2, Lrnd=Lrnd, augment_data=False)\n",
    "# my_dataset = dl.tomoSegment_dummyDataset(path_data, path_target, dim_in, Ncl=2)\n",
    "len(my_dataset)"
   ]
  },
  {
   "cell_type": "code",
   "execution_count": 6,
   "id": "fe829f05-19a6-4f5b-9ce0-b054d0a835a5",
   "metadata": {},
   "outputs": [
    {
     "data": {
      "text/plain": [
       "2048"
      ]
     },
     "execution_count": 6,
     "metadata": {},
     "output_type": "execute_result"
    }
   ],
   "source": [
    "dim_in = 56\n",
    "Lrnd = 5\n",
    "\n",
    "my_dataset = dl.tomoSegment_dataset(paths_trainData, paths_trainTarget, dim_in, Ncl=2, Lrnd=Lrnd, augment_data=False)\n",
    "# my_dataset = dl.tomoSegment_dummyDataset(path_data, path_target, dim_in, Ncl=2)\n",
    "len(my_dataset)"
   ]
  },
  {
   "cell_type": "code",
   "execution_count": 3,
   "id": "a186bf70-ef9c-4af7-a0c7-7bf589125466",
   "metadata": {},
   "outputs": [
    {
     "data": {
      "text/plain": [
       "1216"
      ]
     },
     "execution_count": 3,
     "metadata": {},
     "output_type": "execute_result"
    }
   ],
   "source": [
    "dim_in = 64\n",
    "Lrnd = 5\n",
    "\n",
    "my_dataset = dl.tomoSegment_dataset(paths_valData, paths_valTarget, dim_in, Ncl=2, Lrnd=Lrnd, augment_data=False)\n",
    "# my_dataset = dl.tomoSegment_dummyDataset(path_data, path_target, dim_in, Ncl=2)\n",
    "len(my_dataset)"
   ]
  },
  {
   "cell_type": "code",
   "execution_count": 7,
   "id": "48b9ae37-30c5-4ce0-9f36-4093fe4b2102",
   "metadata": {},
   "outputs": [
    {
     "data": {
      "text/plain": [
       "864"
      ]
     },
     "execution_count": 7,
     "metadata": {},
     "output_type": "execute_result"
    }
   ],
   "source": [
    "dim_in = 72\n",
    "Lrnd = 5\n",
    "\n",
    "my_dataset = dl.tomoSegment_dataset(paths_trainData, paths_trainTarget, dim_in, Ncl=2, Lrnd=Lrnd, augment_data=False)\n",
    "# my_dataset = dl.tomoSegment_dummyDataset(path_data, path_target, dim_in, Ncl=2)\n",
    "len(my_dataset)"
   ]
  },
  {
   "cell_type": "code",
   "execution_count": 77,
   "id": "ea9b0341-7c1d-4bbc-a1a7-a52c34261ba0",
   "metadata": {},
   "outputs": [
    {
     "data": {
      "text/plain": [
       "<tomoSegmentPipeline.dataloader.tomoSegment_dummyDataset at 0x7f69af3823c8>"
      ]
     },
     "execution_count": 77,
     "metadata": {},
     "output_type": "execute_result"
    }
   ],
   "source": [
    "dataset = dl.tomoSegment_dummyDataset\n",
    "dataset(path_data, path_target, dim_in, Ncl=2)"
   ]
  },
  {
   "cell_type": "code",
   "execution_count": 8,
   "id": "7bd3069c-cb02-4813-8dba-25ec1ba2c6ab",
   "metadata": {
    "tags": []
   },
   "outputs": [
    {
     "data": {
      "text/plain": [
       "<matplotlib.image.AxesImage at 0x7fcf163a6dd8>"
      ]
     },
     "execution_count": 8,
     "metadata": {},
     "output_type": "execute_result"
    },
    {
     "data": {
      "image/png": "[encoded data removed]",
      "text/plain": [
       "<Figure size 432x288 with 1 Axes>"
      ]
     },
     "metadata": {
      "needs_background": "light"
     },
     "output_type": "display_data"
    }
   ],
   "source": [
    "batch_data, batch_target = my_dataset[0]\n",
    "plt.imshow(batch_data.squeeze()[dim_in//2])"
   ]
  }
 ],
 "metadata": {
  "kernelspec": {
   "display_name": "Python 3 (ipykernel)",
   "language": "python",
   "name": "python3"
  },
  "language_info": {
   "codemirror_mode": {
    "name": "ipython",
    "version": 3
   },
   "file_extension": ".py",
   "mimetype": "text/x-python",
   "name": "python",
   "nbconvert_exporter": "python",
   "pygments_lexer": "ipython3",
   "version": "3.9.10"
  }
 },
 "nbformat": 4,
 "nbformat_minor": 5
}
