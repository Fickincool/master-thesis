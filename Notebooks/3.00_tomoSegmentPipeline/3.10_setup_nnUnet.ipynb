{
 "cells": [
  {
   "cell_type": "code",
   "execution_count": 4,
   "id": "51844b7f-b42f-4ce2-8325-1600265b20c9",
   "metadata": {},
   "outputs": [],
   "source": [
    "import os\n",
    "from glob import glob"
   ]
  },
  {
   "cell_type": "markdown",
   "id": "a241d8a3-30d5-4108-8c7b-97ba445e8751",
   "metadata": {},
   "source": [
    "# Setup training patches for raw tomograms"
   ]
  },
  {
   "cell_type": "markdown",
   "id": "aa1c9520-217a-4f85-b68a-6a6378ddbc3e",
   "metadata": {},
   "source": [
    "The script we got fo generating patches creates more patches than the ones we have labels for, running this deletes the extra patches."
   ]
  },
  {
   "cell_type": "code",
   "execution_count": 9,
   "id": "94e65e1d-e0d0-450e-8081-1c22f9d273d0",
   "metadata": {
    "tags": []
   },
   "outputs": [
    {
     "data": {
      "text/plain": [
       "['/home/haicu/jeronimo.carvajal/Thesis/data/nnUnet/Task143_cryoET7/labelsTr/tomo02_patch000.nii.gz',\n",
       " '/home/haicu/jeronimo.carvajal/Thesis/data/nnUnet/Task143_cryoET7/labelsTr/tomo02_patch001.nii.gz',\n",
       " '/home/haicu/jeronimo.carvajal/Thesis/data/nnUnet/Task143_cryoET7/labelsTr/tomo02_patch002.nii.gz',\n",
       " '/home/haicu/jeronimo.carvajal/Thesis/data/nnUnet/Task143_cryoET7/labelsTr/tomo02_patch003.nii.gz']"
      ]
     },
     "execution_count": 9,
     "metadata": {},
     "output_type": "execute_result"
    }
   ],
   "source": [
    "og_label_path = '/home/haicu/jeronimo.carvajal/Thesis/data/nnUnet/Task143_cryoET7/labelsTr/'\n",
    "og_labels = sorted(glob(og_label_path + '*'))\n",
    "og_labels[0:4]"
   ]
  },
  {
   "cell_type": "code",
   "execution_count": 10,
   "id": "970a7b35-b3ef-4b2e-b6f6-8259b5d32636",
   "metadata": {
    "tags": []
   },
   "outputs": [
    {
     "data": {
      "text/plain": [
       "['/home/haicu/jeronimo.carvajal/Thesis/data/nnUnet/raw_data_base/raw_data/Task511_cryoET/imagesTr/tomo02_patch000_0000.nii.gz',\n",
       " '/home/haicu/jeronimo.carvajal/Thesis/data/nnUnet/raw_data_base/raw_data/Task511_cryoET/imagesTr/tomo02_patch001_0000.nii.gz',\n",
       " '/home/haicu/jeronimo.carvajal/Thesis/data/nnUnet/raw_data_base/raw_data/Task511_cryoET/imagesTr/tomo02_patch002_0000.nii.gz',\n",
       " '/home/haicu/jeronimo.carvajal/Thesis/data/nnUnet/raw_data_base/raw_data/Task511_cryoET/imagesTr/tomo02_patch003_0000.nii.gz']"
      ]
     },
     "execution_count": 10,
     "metadata": {},
     "output_type": "execute_result"
    }
   ],
   "source": [
    "raw_trainingPatch_folder = '/home/haicu/jeronimo.carvajal/Thesis/data/nnUnet/raw_data_base/raw_data/Task511_cryoET/imagesTr/'\n",
    "raw_trainingPatches = sorted(glob(raw_trainingPatch_folder+'*'))\n",
    "raw_trainingPatches[0:4]"
   ]
  },
  {
   "cell_type": "code",
   "execution_count": 14,
   "id": "6b22e0e1-c57d-4ed3-93dc-ab2d56017c5b",
   "metadata": {
    "tags": []
   },
   "outputs": [],
   "source": [
    "raw_trainingPatches_names = [x.split('/')[-1][0:15] for x in raw_trainingPatches]\n",
    "raw_trainingPatches_names = set(raw_trainingPatches_names)"
   ]
  },
  {
   "cell_type": "code",
   "execution_count": 15,
   "id": "a74ae89a-505b-4baf-8a9f-806596c20f6c",
   "metadata": {},
   "outputs": [],
   "source": [
    "og_labels_names = [x.split('/')[-1][0:15] for x in og_labels]\n",
    "og_labels_names = set(og_labels_names)"
   ]
  },
  {
   "cell_type": "code",
   "execution_count": 21,
   "id": "679dd3f4-249b-4a85-aacc-e5e2946a58cc",
   "metadata": {},
   "outputs": [],
   "source": [
    "available_patches = raw_trainingPatches_names.intersection(og_labels_names)\n",
    "delete_patches = raw_trainingPatches_names.difference(available_patches)\n",
    "\n",
    "for p in delete_patches:\n",
    "    path = '/home/haicu/jeronimo.carvajal/Thesis/data/nnUnet/raw_data_base/raw_data/Task511_cryoET/imagesTr'\n",
    "    s = 'rm %s/%s_0000.nii.gz' %(path, p)\n",
    "    os.system(s)"
   ]
  },
  {
   "cell_type": "markdown",
   "id": "fa31a462-bf52-4c65-a976-764c4f614a22",
   "metadata": {},
   "source": [
    "# Generate dataset.json"
   ]
  },
  {
   "cell_type": "code",
   "execution_count": 7,
   "id": "7e496436-a7c1-448b-9aa3-deeed96b8ad9",
   "metadata": {},
   "outputs": [],
   "source": [
    "from nnunet.dataset_conversion.utils import generate_dataset_json\n",
    "from nnunet.paths import nnUNet_raw_data\n",
    "from os.path import join\n",
    "\n",
    "\n",
    "task_folder = join(nnUNet_raw_data, 'Task511_cryoET')\n",
    "generate_dataset_json(join(task_folder, 'dataset.json'),\n",
    "               join(task_folder,'imagesTr'), None, ('noNorm',),\n",
    "                          {0: 'background', 1: 'membrane', 2: 'ignore'}, 'rawCET')"
   ]
  }
 ],
 "metadata": {
  "kernelspec": {
   "display_name": "Python 3 (ipykernel)",
   "language": "python",
   "name": "python3"
  },
  "language_info": {
   "codemirror_mode": {
    "name": "ipython",
    "version": 3
   },
   "file_extension": ".py",
   "mimetype": "text/x-python",
   "name": "python",
   "nbconvert_exporter": "python",
   "pygments_lexer": "ipython3",
   "version": "3.9.10"
  }
 },
 "nbformat": 4,
 "nbformat_minor": 5
}
