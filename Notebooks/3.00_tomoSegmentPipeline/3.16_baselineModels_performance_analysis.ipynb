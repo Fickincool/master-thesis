{
 "cells": [
  {
   "cell_type": "code",
   "execution_count": 1,
   "id": "003a98b0-64e8-4432-af5e-5889ebcb949b",
   "metadata": {},
   "outputs": [],
   "source": [
    "from tomoSegmentPipeline.showcaseResults import (predict_fullTomogram, load_model, load_tomoData, Tversky_index,\n",
    "                                        fullTomogram_modelComparison, make_comparison_plot, write_comparison_gif, save_classPred)\n",
    "\n",
    "from tomoSegmentPipeline.losses import Tversky_loss\n",
    "from tomoSegmentPipeline.utils.common import read_array\n",
    "import tomoSegmentPipeline.dataloader as dl\n",
    "from tomoSegmentPipeline.utils import setup\n",
    "from tomoSegmentPipeline.dataloader import to_categorical, transpose_to_channels_first\n",
    "from tomoSegmentPipeline.trainWrapper import make_trainer\n",
    "\n",
    "PARENT_PATH = setup.PARENT_PATH\n",
    "\n",
    "import pandas as pd\n",
    "from tensorboard.backend.event_processing.event_accumulator import EventAccumulator\n",
    "from glob import glob\n",
    "from pathlib import Path\n",
    "import numpy as np\n",
    "import matplotlib.pyplot as plt\n",
    "import seaborn as sns\n",
    "import random\n",
    "import os\n",
    "import torch\n",
    "from torch.utils.data import DataLoader\n",
    "\n",
    "\n",
    "%matplotlib inline\n",
    "%config Completer.use_jedi = False\n",
    "%load_ext autoreload\n",
    "%autoreload 2\n",
    "\n",
    "train_tomos = ['tomo02', 'tomo03', 'tomo17']\n",
    "concat_train_ids = sorted([s.replace('tomo', '') for s in train_tomos])\n",
    "concat_train_ids = '-'.join(concat_train_ids)\n",
    "\n",
    "val_tomos = ['tomo10', 'tomo32']\n",
    "concat_val_ids = sorted([s.replace('tomo', '') for s in val_tomos])\n",
    "concat_val_ids = '-'.join(concat_val_ids)\n",
    "\n",
    "test_tomos = ['tomo38', 'tomo04']\n",
    "concat_test_ids = sorted([s.replace('tomo', '') for s in test_tomos])\n",
    "concat_test_ids = '-'.join(concat_test_ids)"
   ]
  },
  {
   "cell_type": "markdown",
   "id": "b2b59083-9e43-45aa-bdb6-8e668084fc7e",
   "metadata": {},
   "source": [
    "# Get best validation loss models"
   ]
  },
  {
   "cell_type": "code",
   "execution_count": 2,
   "id": "d4cecc65-89e7-43a2-875f-9a2466f7f333",
   "metadata": {},
   "outputs": [
    {
     "name": "stdout",
     "output_type": "stream",
     "text": [
      "(18, 9)\n"
     ]
    },
    {
     "data": {
      "text/html": [
       "<div>\n",
       "<style scoped>\n",
       "    .dataframe tbody tr th:only-of-type {\n",
       "        vertical-align: middle;\n",
       "    }\n",
       "\n",
       "    .dataframe tbody tr th {\n",
       "        vertical-align: top;\n",
       "    }\n",
       "\n",
       "    .dataframe thead th {\n",
       "        text-align: right;\n",
       "    }\n",
       "</style>\n",
       "<table border=\"1\" class=\"dataframe\">\n",
       "  <thead>\n",
       "    <tr style=\"text-align: right;\">\n",
       "      <th></th>\n",
       "      <th>name</th>\n",
       "      <th>model_file</th>\n",
       "      <th>input_type</th>\n",
       "      <th>epochs</th>\n",
       "      <th>patch_size</th>\n",
       "      <th>lr</th>\n",
       "      <th>version</th>\n",
       "      <th>best_val_loss_epoch</th>\n",
       "      <th>associated_val_class1_dice</th>\n",
       "    </tr>\n",
       "  </thead>\n",
       "  <tbody>\n",
       "    <tr>\n",
       "      <th>0</th>\n",
       "      <td>Baseline</td>\n",
       "      <td>/home/haicu/jeronimo.carvajal/Thesis/data/mode...</td>\n",
       "      <td>cryoCARE+isoNET</td>\n",
       "      <td>386 out of 1000</td>\n",
       "      <td>in84</td>\n",
       "      <td>lr0.000100</td>\n",
       "      <td>v2</td>\n",
       "      <td>0.100280</td>\n",
       "      <td>0.909837</td>\n",
       "    </tr>\n",
       "    <tr>\n",
       "      <th>1</th>\n",
       "      <td>Baseline</td>\n",
       "      <td>/home/haicu/jeronimo.carvajal/Thesis/data/mode...</td>\n",
       "      <td>cryoCARE+isoNET</td>\n",
       "      <td>438 out of 1000</td>\n",
       "      <td>in84</td>\n",
       "      <td>lr0.000100</td>\n",
       "      <td>v1</td>\n",
       "      <td>0.092645</td>\n",
       "      <td>0.916506</td>\n",
       "    </tr>\n",
       "    <tr>\n",
       "      <th>2</th>\n",
       "      <td>Baseline</td>\n",
       "      <td>/home/haicu/jeronimo.carvajal/Thesis/data/mode...</td>\n",
       "      <td>cryoCARE+isoNET</td>\n",
       "      <td>238 out of 1000</td>\n",
       "      <td>in84</td>\n",
       "      <td>lr0.000100</td>\n",
       "      <td>v0</td>\n",
       "      <td>0.147336</td>\n",
       "      <td>0.866083</td>\n",
       "    </tr>\n",
       "    <tr>\n",
       "      <th>3</th>\n",
       "      <td>Baseline</td>\n",
       "      <td>/home/haicu/jeronimo.carvajal/Thesis/data/mode...</td>\n",
       "      <td>cryoCARE+isoNET</td>\n",
       "      <td>355 out of 1000</td>\n",
       "      <td>in84</td>\n",
       "      <td>lr0.000100</td>\n",
       "      <td>v3</td>\n",
       "      <td>0.095781</td>\n",
       "      <td>0.913784</td>\n",
       "    </tr>\n",
       "    <tr>\n",
       "      <th>4</th>\n",
       "      <td>Baseline</td>\n",
       "      <td>/home/haicu/jeronimo.carvajal/Thesis/data/mode...</td>\n",
       "      <td>cryoCARE</td>\n",
       "      <td>268 out of 1000</td>\n",
       "      <td>in56</td>\n",
       "      <td>lr0.000100</td>\n",
       "      <td>v2</td>\n",
       "      <td>0.126032</td>\n",
       "      <td>0.883435</td>\n",
       "    </tr>\n",
       "  </tbody>\n",
       "</table>\n",
       "</div>"
      ],
      "text/plain": [
       "       name                                         model_file  \\\n",
       "0  Baseline  /home/haicu/jeronimo.carvajal/Thesis/data/mode...   \n",
       "1  Baseline  /home/haicu/jeronimo.carvajal/Thesis/data/mode...   \n",
       "2  Baseline  /home/haicu/jeronimo.carvajal/Thesis/data/mode...   \n",
       "3  Baseline  /home/haicu/jeronimo.carvajal/Thesis/data/mode...   \n",
       "4  Baseline  /home/haicu/jeronimo.carvajal/Thesis/data/mode...   \n",
       "\n",
       "        input_type           epochs patch_size          lr version  \\\n",
       "0  cryoCARE+isoNET  386 out of 1000       in84  lr0.000100      v2   \n",
       "1  cryoCARE+isoNET  438 out of 1000       in84  lr0.000100      v1   \n",
       "2  cryoCARE+isoNET  238 out of 1000       in84  lr0.000100      v0   \n",
       "3  cryoCARE+isoNET  355 out of 1000       in84  lr0.000100      v3   \n",
       "4         cryoCARE  268 out of 1000       in56  lr0.000100      v2   \n",
       "\n",
       "   best_val_loss_epoch  associated_val_class1_dice  \n",
       "0             0.100280                    0.909837  \n",
       "1             0.092645                    0.916506  \n",
       "2             0.147336                    0.866083  \n",
       "3             0.095781                    0.913784  \n",
       "4             0.126032                    0.883435  "
      ]
     },
     "execution_count": 2,
     "metadata": {},
     "output_type": "execute_result"
    }
   ],
   "source": [
    "logs_path = PARENT_PATH + 'data/model_logs/models_1/logs/BaselineModel/'\n",
    "logs_path = Path(logs_path)\n",
    "\n",
    "model_info = []\n",
    "\n",
    "\n",
    "for f in logs_path.rglob('*/version_*/'):\n",
    "    logdir_path = f.as_posix()\n",
    "    \n",
    "    model_file = glob(os.path.join(logdir_path, '*.model'))\n",
    "    if len(model_file)==1:\n",
    "        model_file = model_file[0]\n",
    "        \n",
    "        model_file_split = model_file.split('/')\n",
    "        \n",
    "        input_type = model_file_split[-4]\n",
    "        \n",
    "        name, epochs, patch_size, lr, version = model_file_split[-1].split('_')\n",
    "        epochs = int(epochs.replace('ep', ''))\n",
    "        version = 'v'+version.replace('.model', '')\n",
    "\n",
    "        events_path = glob(os.path.join(logdir_path, 'events.*'))[0]\n",
    "        event_acc = EventAccumulator(events_path)\n",
    "        event_acc.Reload()\n",
    "\n",
    "        _, _, values_valLoss = zip(*event_acc.Scalars('hp/val_loss_epoch'))\n",
    "        best_val_loss_epoch = np.min(values_valLoss)\n",
    "        best_val_loss_epoch_idx = np.argmin(values_valLoss) #index starts count at 0\n",
    "\n",
    "        effective_epochs = len(values_valLoss)\n",
    "\n",
    "        _, _, values_dice = zip(*event_acc.Scalars('hp/val_dice_epoch'))\n",
    "        _, _, values_trainLoss = zip(*event_acc.Scalars('hp/train_loss_epoch'))\n",
    "\n",
    "        associated_val_class1_dice = float(values_dice[best_val_loss_epoch_idx])\n",
    "        associated_train_loss_epoch = float(values_trainLoss[best_val_loss_epoch_idx])\n",
    "\n",
    "        epochs_str = \"%i out of %i\" %(effective_epochs, 1000)\n",
    "\n",
    "        model_info.append([name, model_file, input_type, epochs_str, patch_size, lr, version, best_val_loss_epoch, associated_val_class1_dice])\n",
    "    \n",
    "    else:\n",
    "        pass\n",
    "    \n",
    "df_model = pd.DataFrame(model_info, columns=['name', 'model_file', 'input_type', 'epochs', 'patch_size', 'lr', 'version', 'best_val_loss_epoch',\n",
    "                                             'associated_val_class1_dice'])\n",
    "\n",
    "print(df_model.shape)\n",
    "df_model.head()"
   ]
  },
  {
   "cell_type": "code",
   "execution_count": 3,
   "id": "a129033b-709b-4c0f-97ac-4f8bd0872d3a",
   "metadata": {},
   "outputs": [
    {
     "data": {
      "text/html": [
       "<div>\n",
       "<style scoped>\n",
       "    .dataframe tbody tr th:only-of-type {\n",
       "        vertical-align: middle;\n",
       "    }\n",
       "\n",
       "    .dataframe tbody tr th {\n",
       "        vertical-align: top;\n",
       "    }\n",
       "\n",
       "    .dataframe thead th {\n",
       "        text-align: right;\n",
       "    }\n",
       "</style>\n",
       "<table border=\"1\" class=\"dataframe\">\n",
       "  <thead>\n",
       "    <tr style=\"text-align: right;\">\n",
       "      <th></th>\n",
       "      <th>name</th>\n",
       "      <th>model_file</th>\n",
       "      <th>input_type</th>\n",
       "      <th>epochs</th>\n",
       "      <th>patch_size</th>\n",
       "      <th>lr</th>\n",
       "      <th>version</th>\n",
       "      <th>best_val_loss_epoch</th>\n",
       "      <th>associated_val_class1_dice</th>\n",
       "      <th>batch_size</th>\n",
       "    </tr>\n",
       "  </thead>\n",
       "  <tbody>\n",
       "    <tr>\n",
       "      <th>0</th>\n",
       "      <td>Baseline</td>\n",
       "      <td>/home/haicu/jeronimo.carvajal/Thesis/data/mode...</td>\n",
       "      <td>cryoCARE</td>\n",
       "      <td>268 out of 1000</td>\n",
       "      <td>in56</td>\n",
       "      <td>lr0.000100</td>\n",
       "      <td>v2</td>\n",
       "      <td>0.126032</td>\n",
       "      <td>0.883435</td>\n",
       "      <td>34</td>\n",
       "    </tr>\n",
       "    <tr>\n",
       "      <th>1</th>\n",
       "      <td>Baseline</td>\n",
       "      <td>/home/haicu/jeronimo.carvajal/Thesis/data/mode...</td>\n",
       "      <td>cryoCARE+isoNET</td>\n",
       "      <td>438 out of 1000</td>\n",
       "      <td>in84</td>\n",
       "      <td>lr0.000100</td>\n",
       "      <td>v1</td>\n",
       "      <td>0.092645</td>\n",
       "      <td>0.916506</td>\n",
       "      <td>22</td>\n",
       "    </tr>\n",
       "    <tr>\n",
       "      <th>2</th>\n",
       "      <td>Baseline</td>\n",
       "      <td>/home/haicu/jeronimo.carvajal/Thesis/data/mode...</td>\n",
       "      <td>isoNET</td>\n",
       "      <td>472 out of 1000</td>\n",
       "      <td>in84</td>\n",
       "      <td>lr0.000100</td>\n",
       "      <td>v1</td>\n",
       "      <td>0.177506</td>\n",
       "      <td>0.840685</td>\n",
       "      <td>22</td>\n",
       "    </tr>\n",
       "    <tr>\n",
       "      <th>3</th>\n",
       "      <td>Baseline</td>\n",
       "      <td>/home/haicu/jeronimo.carvajal/Thesis/data/mode...</td>\n",
       "      <td>rawCET</td>\n",
       "      <td>215 out of 1000</td>\n",
       "      <td>in84</td>\n",
       "      <td>lr0.000300</td>\n",
       "      <td>v0</td>\n",
       "      <td>0.205240</td>\n",
       "      <td>0.820816</td>\n",
       "      <td>28</td>\n",
       "    </tr>\n",
       "  </tbody>\n",
       "</table>\n",
       "</div>"
      ],
      "text/plain": [
       "       name                                         model_file  \\\n",
       "0  Baseline  /home/haicu/jeronimo.carvajal/Thesis/data/mode...   \n",
       "1  Baseline  /home/haicu/jeronimo.carvajal/Thesis/data/mode...   \n",
       "2  Baseline  /home/haicu/jeronimo.carvajal/Thesis/data/mode...   \n",
       "3  Baseline  /home/haicu/jeronimo.carvajal/Thesis/data/mode...   \n",
       "\n",
       "        input_type           epochs patch_size          lr version  \\\n",
       "0         cryoCARE  268 out of 1000       in56  lr0.000100      v2   \n",
       "1  cryoCARE+isoNET  438 out of 1000       in84  lr0.000100      v1   \n",
       "2           isoNET  472 out of 1000       in84  lr0.000100      v1   \n",
       "3           rawCET  215 out of 1000       in84  lr0.000300      v0   \n",
       "\n",
       "   best_val_loss_epoch  associated_val_class1_dice  batch_size  \n",
       "0             0.126032                    0.883435          34  \n",
       "1             0.092645                    0.916506          22  \n",
       "2             0.177506                    0.840685          22  \n",
       "3             0.205240                    0.820816          28  "
      ]
     },
     "execution_count": 3,
     "metadata": {},
     "output_type": "execute_result"
    }
   ],
   "source": [
    "bestModel_byType = df_model.loc[df_model.groupby('input_type').best_val_loss_epoch.idxmin()].reset_index(drop=True)\n",
    "bestModel_byType['batch_size'] = [34, 22, 22, 28]\n",
    "bestModel_byType"
   ]
  },
  {
   "cell_type": "markdown",
   "id": "a9ed1f5b-b528-4743-8dc9-c1e399c25028",
   "metadata": {
    "tags": []
   },
   "source": [
    "# Sanity check: best models mean prediction on validation patches"
   ]
  },
  {
   "cell_type": "markdown",
   "id": "984721b1-9332-4f71-a60c-1669184d3dc0",
   "metadata": {},
   "source": [
    "## Using `fullTomogram_modelComparison` method with batch size of 1"
   ]
  },
  {
   "cell_type": "code",
   "execution_count": 5,
   "id": "9ffd9335-4ff1-42b1-bacc-ce3022cd7eca",
   "metadata": {
    "tags": []
   },
   "outputs": [
    {
     "name": "stdout",
     "output_type": "stream",
     "text": [
      "Zero dice1 prediction for: \n",
      " /home/haicu/jeronimo.carvajal/Thesis/data/model_logs/models_1/logs/BaselineModel/cryoCARE/train02-03-17/version_2/Baseline_ep1000_in56_lr0.000100_2.model /home/haicu/jeronimo.carvajal/Thesis/data/nnUnet/Task143_cryoET7/imagesTr/tomo10_patch030_0000.nii.gz\n",
      "{'train02-03-17/Baseline_ep1000_in56_lr0.000100_2': tensor([0.9927, 0.0000], device='cuda:0')}\n",
      "Undefined dice1 prediction for: \n",
      " /home/haicu/jeronimo.carvajal/Thesis/data/model_logs/models_1/logs/BaselineModel/cryoCARE/train02-03-17/version_2/Baseline_ep1000_in56_lr0.000100_2.model /home/haicu/jeronimo.carvajal/Thesis/data/nnUnet/Task143_cryoET7/imagesTr/tomo32_patch030_0000.nii.gz\n",
      "{'train02-03-17/Baseline_ep1000_in56_lr0.000100_2': tensor([1., nan], device='cuda:0')}\n",
      "Undefined dice1 prediction for: \n",
      " /home/haicu/jeronimo.carvajal/Thesis/data/model_logs/models_1/logs/BaselineModel/cryoCARE/train02-03-17/version_2/Baseline_ep1000_in56_lr0.000100_2.model /home/haicu/jeronimo.carvajal/Thesis/data/nnUnet/Task143_cryoET7/imagesTr/tomo32_patch031_0000.nii.gz\n",
      "{'train02-03-17/Baseline_ep1000_in56_lr0.000100_2': tensor([1., nan], device='cuda:0')}\n",
      "cryoCARE\n",
      "Mean dice1 score on tomo10 patches is: 0.805607\n",
      "Mean dice1 score on tomo32 patches is: 0.949152 \n",
      "\n",
      "\n",
      "Zero dice1 prediction for: \n",
      " /home/haicu/jeronimo.carvajal/Thesis/data/model_logs/models_1/logs/BaselineModel/cryoCARE+isoNET/train02-03-17/version_1/Baseline_ep1000_in84_lr0.000100_1.model /home/haicu/jeronimo.carvajal/Thesis/data/isoNet/cryoCARE_dataset/cryoCARE_corrected/patch_creation/result/Task511_cryoET/imagesTr/tomo10_patch030_0000.nii.gz\n",
      "{'train02-03-17/Baseline_ep1000_in84_lr0.000100_1': tensor([0.9875, 0.0000], device='cuda:0')}\n",
      "Zero dice1 prediction for: \n",
      " /home/haicu/jeronimo.carvajal/Thesis/data/model_logs/models_1/logs/BaselineModel/cryoCARE+isoNET/train02-03-17/version_1/Baseline_ep1000_in84_lr0.000100_1.model /home/haicu/jeronimo.carvajal/Thesis/data/isoNet/cryoCARE_dataset/cryoCARE_corrected/patch_creation/result/Task511_cryoET/imagesTr/tomo32_patch030_0000.nii.gz\n",
      "{'train02-03-17/Baseline_ep1000_in84_lr0.000100_1': tensor([1.0000, 0.0000], device='cuda:0')}\n",
      "Zero dice1 prediction for: \n",
      " /home/haicu/jeronimo.carvajal/Thesis/data/model_logs/models_1/logs/BaselineModel/cryoCARE+isoNET/train02-03-17/version_1/Baseline_ep1000_in84_lr0.000100_1.model /home/haicu/jeronimo.carvajal/Thesis/data/isoNet/cryoCARE_dataset/cryoCARE_corrected/patch_creation/result/Task511_cryoET/imagesTr/tomo32_patch031_0000.nii.gz\n",
      "{'train02-03-17/Baseline_ep1000_in84_lr0.000100_1': tensor([0.9999, 0.0000], device='cuda:0')}\n",
      "cryoCARE+isoNET\n",
      "Mean dice1 score on tomo10 patches is: 0.799226\n",
      "Mean dice1 score on tomo32 patches is: 0.750901 \n",
      "\n",
      "\n",
      "Zero dice1 prediction for: \n",
      " /home/haicu/jeronimo.carvajal/Thesis/data/model_logs/models_1/logs/BaselineModel/isoNET/train02-03-17/version_1/Baseline_ep1000_in84_lr0.000100_1.model /home/haicu/jeronimo.carvajal/Thesis/data/isoNet/RAW_dataset/RAW_corrected_i30/patch_creation/result/Task511_cryoET/imagesTr/tomo10_patch030_0000.nii.gz\n",
      "{'train02-03-17/Baseline_ep1000_in84_lr0.000100_1': tensor([1.0000, 0.0000], device='cuda:0')}\n",
      "Zero dice1 prediction for: \n",
      " /home/haicu/jeronimo.carvajal/Thesis/data/model_logs/models_1/logs/BaselineModel/isoNET/train02-03-17/version_1/Baseline_ep1000_in84_lr0.000100_1.model /home/haicu/jeronimo.carvajal/Thesis/data/isoNet/RAW_dataset/RAW_corrected_i30/patch_creation/result/Task511_cryoET/imagesTr/tomo32_patch030_0000.nii.gz\n",
      "{'train02-03-17/Baseline_ep1000_in84_lr0.000100_1': tensor([0.9995, 0.0000], device='cuda:0')}\n",
      "Undefined dice1 prediction for: \n",
      " /home/haicu/jeronimo.carvajal/Thesis/data/model_logs/models_1/logs/BaselineModel/isoNET/train02-03-17/version_1/Baseline_ep1000_in84_lr0.000100_1.model /home/haicu/jeronimo.carvajal/Thesis/data/isoNet/RAW_dataset/RAW_corrected_i30/patch_creation/result/Task511_cryoET/imagesTr/tomo32_patch031_0000.nii.gz\n",
      "{'train02-03-17/Baseline_ep1000_in84_lr0.000100_1': tensor([1., nan], device='cuda:0')}\n",
      "isoNET\n",
      "Mean dice1 score on tomo10 patches is: 0.727034\n",
      "Mean dice1 score on tomo32 patches is: 0.748214 \n",
      "\n",
      "\n",
      "Undefined dice1 prediction for: \n",
      " /home/haicu/jeronimo.carvajal/Thesis/data/model_logs/models_1/logs/BaselineModel/rawCET/train02-03-17/version_0/Baseline_ep1000_in84_lr0.000300_0.model /home/haicu/jeronimo.carvajal/Thesis/data/raw_cryo-ET/patch_creation/result/Task511_cryoET/imagesTr/tomo10_patch030_0000.nii.gz\n",
      "{'train02-03-17/Baseline_ep1000_in84_lr0.000300_0': tensor([1., nan], device='cuda:0')}\n",
      "Zero dice1 prediction for: \n",
      " /home/haicu/jeronimo.carvajal/Thesis/data/model_logs/models_1/logs/BaselineModel/rawCET/train02-03-17/version_0/Baseline_ep1000_in84_lr0.000300_0.model /home/haicu/jeronimo.carvajal/Thesis/data/raw_cryo-ET/patch_creation/result/Task511_cryoET/imagesTr/tomo32_patch030_0000.nii.gz\n",
      "{'train02-03-17/Baseline_ep1000_in84_lr0.000300_0': tensor([0.9999, 0.0000], device='cuda:0')}\n",
      "Undefined dice1 prediction for: \n",
      " /home/haicu/jeronimo.carvajal/Thesis/data/model_logs/models_1/logs/BaselineModel/rawCET/train02-03-17/version_0/Baseline_ep1000_in84_lr0.000300_0.model /home/haicu/jeronimo.carvajal/Thesis/data/raw_cryo-ET/patch_creation/result/Task511_cryoET/imagesTr/tomo32_patch031_0000.nii.gz\n",
      "{'train02-03-17/Baseline_ep1000_in84_lr0.000300_0': tensor([1., nan], device='cuda:0')}\n",
      "rawCET\n",
      "Mean dice1 score on tomo10 patches is: 0.770309\n",
      "Mean dice1 score on tomo32 patches is: 0.742424 \n",
      "\n",
      "\n"
     ]
    }
   ],
   "source": [
    "nCenters_dict = {'in56':4, 'in84':2}\n",
    "\n",
    "aux_label_file = '/home/haicu/jeronimo.carvajal/Thesis/data/nnUnet/nifti_files/%s_merged_thr02.nii.gz'\n",
    "\n",
    "dice1_test_bestModels = []\n",
    "\n",
    "for i, row in bestModel_byType.iterrows():\n",
    "    model_fileList = [row['model_file']]\n",
    "    n_centers_list = [nCenters_dict[row['patch_size']]]\n",
    "    \n",
    "    input_type = row['input_type']\n",
    "    paths_valData, paths_valTarget = setup.get_paths(val_tomos, input_type)\n",
    "    \n",
    "    dice1_score = []\n",
    "    \n",
    "    scores_tomo10 = []\n",
    "    scores_tomo32 = []\n",
    "\n",
    "    for tomo_file, label_file in zip(paths_valData, paths_valTarget):\n",
    "        class1_predDict, dice1_dict, class1, tomogram_data = fullTomogram_modelComparison(model_fileList, n_centers_list, tomo_file,\n",
    "                                                                                          label_file, overwrite_prediction=False)\n",
    "        \n",
    "        val = float(list(dice1_dict.items())[0][1][1])\n",
    "        dice1_score.append(val)\n",
    "        \n",
    "        if val==0:\n",
    "            print('Zero dice1 prediction for: \\n', row['model_file'], tomo_file)\n",
    "            print(dice1_dict)\n",
    "        elif np.isnan(val):\n",
    "            print('Undefined dice1 prediction for: \\n', row['model_file'], tomo_file)\n",
    "            print(dice1_dict)\n",
    "            # make_comparison_plot(class1_predDict, class1, tomogram_data)\n",
    "        \n",
    "        if tomo_file.split('/')[-1][0:6] == 'tomo10':\n",
    "            scores_tomo10.append(val)\n",
    "        else:\n",
    "            scores_tomo32.append(val)\n",
    "    \n",
    "    print(input_type)\n",
    "    print('Mean dice1 score on tomo10 patches is: %.6f' %np.nanmean(scores_tomo10))\n",
    "    print('Mean dice1 score on tomo32 patches is: %.6f \\n\\n' %np.nanmean(scores_tomo32))\n",
    "    \n",
    "    # print('Model predictions on test set patches: \\n', dice1_score, '\\n\\n')\n",
    "    dice1_test_bestModels.append(np.nanmean(dice1_score))"
   ]
  },
  {
   "cell_type": "code",
   "execution_count": 6,
   "id": "77efcab7-9eac-4b17-a305-bb4416916938",
   "metadata": {},
   "outputs": [
    {
     "data": {
      "text/html": [
       "<div>\n",
       "<style scoped>\n",
       "    .dataframe tbody tr th:only-of-type {\n",
       "        vertical-align: middle;\n",
       "    }\n",
       "\n",
       "    .dataframe tbody tr th {\n",
       "        vertical-align: top;\n",
       "    }\n",
       "\n",
       "    .dataframe thead th {\n",
       "        text-align: right;\n",
       "    }\n",
       "</style>\n",
       "<table border=\"1\" class=\"dataframe\">\n",
       "  <thead>\n",
       "    <tr style=\"text-align: right;\">\n",
       "      <th></th>\n",
       "      <th>name</th>\n",
       "      <th>model_file</th>\n",
       "      <th>input_type</th>\n",
       "      <th>epochs</th>\n",
       "      <th>patch_size</th>\n",
       "      <th>lr</th>\n",
       "      <th>version</th>\n",
       "      <th>best_val_loss_epoch</th>\n",
       "      <th>associated_val_class1_dice</th>\n",
       "      <th>batch_size</th>\n",
       "      <th>dice1_val_patches</th>\n",
       "    </tr>\n",
       "  </thead>\n",
       "  <tbody>\n",
       "    <tr>\n",
       "      <th>0</th>\n",
       "      <td>Baseline</td>\n",
       "      <td>/home/haicu/jeronimo.carvajal/Thesis/data/mode...</td>\n",
       "      <td>cryoCARE</td>\n",
       "      <td>268 out of 1000</td>\n",
       "      <td>in56</td>\n",
       "      <td>lr0.000100</td>\n",
       "      <td>v2</td>\n",
       "      <td>0.126032</td>\n",
       "      <td>0.883435</td>\n",
       "      <td>34</td>\n",
       "      <td>0.881602</td>\n",
       "    </tr>\n",
       "    <tr>\n",
       "      <th>1</th>\n",
       "      <td>Baseline</td>\n",
       "      <td>/home/haicu/jeronimo.carvajal/Thesis/data/mode...</td>\n",
       "      <td>cryoCARE+isoNET</td>\n",
       "      <td>438 out of 1000</td>\n",
       "      <td>in84</td>\n",
       "      <td>lr0.000100</td>\n",
       "      <td>v1</td>\n",
       "      <td>0.092645</td>\n",
       "      <td>0.916506</td>\n",
       "      <td>22</td>\n",
       "      <td>0.771248</td>\n",
       "    </tr>\n",
       "    <tr>\n",
       "      <th>2</th>\n",
       "      <td>Baseline</td>\n",
       "      <td>/home/haicu/jeronimo.carvajal/Thesis/data/mode...</td>\n",
       "      <td>isoNET</td>\n",
       "      <td>472 out of 1000</td>\n",
       "      <td>in84</td>\n",
       "      <td>lr0.000100</td>\n",
       "      <td>v1</td>\n",
       "      <td>0.177506</td>\n",
       "      <td>0.840685</td>\n",
       "      <td>22</td>\n",
       "      <td>0.738801</td>\n",
       "    </tr>\n",
       "    <tr>\n",
       "      <th>3</th>\n",
       "      <td>Baseline</td>\n",
       "      <td>/home/haicu/jeronimo.carvajal/Thesis/data/mode...</td>\n",
       "      <td>rawCET</td>\n",
       "      <td>215 out of 1000</td>\n",
       "      <td>in84</td>\n",
       "      <td>lr0.000300</td>\n",
       "      <td>v0</td>\n",
       "      <td>0.205240</td>\n",
       "      <td>0.820816</td>\n",
       "      <td>28</td>\n",
       "      <td>0.753906</td>\n",
       "    </tr>\n",
       "  </tbody>\n",
       "</table>\n",
       "</div>"
      ],
      "text/plain": [
       "       name                                         model_file  \\\n",
       "0  Baseline  /home/haicu/jeronimo.carvajal/Thesis/data/mode...   \n",
       "1  Baseline  /home/haicu/jeronimo.carvajal/Thesis/data/mode...   \n",
       "2  Baseline  /home/haicu/jeronimo.carvajal/Thesis/data/mode...   \n",
       "3  Baseline  /home/haicu/jeronimo.carvajal/Thesis/data/mode...   \n",
       "\n",
       "        input_type           epochs patch_size          lr version  \\\n",
       "0         cryoCARE  268 out of 1000       in56  lr0.000100      v2   \n",
       "1  cryoCARE+isoNET  438 out of 1000       in84  lr0.000100      v1   \n",
       "2           isoNET  472 out of 1000       in84  lr0.000100      v1   \n",
       "3           rawCET  215 out of 1000       in84  lr0.000300      v0   \n",
       "\n",
       "   best_val_loss_epoch  associated_val_class1_dice  batch_size  \\\n",
       "0             0.126032                    0.883435          34   \n",
       "1             0.092645                    0.916506          22   \n",
       "2             0.177506                    0.840685          22   \n",
       "3             0.205240                    0.820816          28   \n",
       "\n",
       "   dice1_val_patches  \n",
       "0           0.881602  \n",
       "1           0.771248  \n",
       "2           0.738801  \n",
       "3           0.753906  "
      ]
     },
     "execution_count": 6,
     "metadata": {},
     "output_type": "execute_result"
    }
   ],
   "source": [
    "bestModel_byType['dice1_val_patches'] = dice1_test_bestModels\n",
    "bestModel_byType"
   ]
  },
  {
   "cell_type": "markdown",
   "id": "c5f11614-abf1-40e3-a2e4-d5c5dbe246eb",
   "metadata": {},
   "source": [
    "## Using `validate` method with same batch size as during training"
   ]
  },
  {
   "cell_type": "code",
   "execution_count": 7,
   "id": "e4528ffa-f882-4743-b8b4-30c01b7f236d",
   "metadata": {
    "tags": []
   },
   "outputs": [
    {
     "name": "stdout",
     "output_type": "stream",
     "text": [
      "Predicting for cryoCARE using Validation DataLoader...\n",
      "\n",
      "Predicting for cryoCARE+isoNET using Validation DataLoader...\n",
      "\n",
      "Predicting for isoNET using Validation DataLoader...\n",
      "\n",
      "Predicting for rawCET using Validation DataLoader...\n",
      "\n"
     ]
    }
   ],
   "source": [
    "loss_fn = Tversky_loss()\n",
    "\n",
    "nCenters_dict = {'in56':4, 'in84':2}\n",
    "\n",
    "aux_label_file = '/home/haicu/jeronimo.carvajal/Thesis/data/nnUnet/nifti_files/%s_merged_thr02.nii.gz'\n",
    "\n",
    "dice1_test_bestModels = []\n",
    "\n",
    "for i, row in bestModel_byType.iterrows():\n",
    "    model_fileList = [row['model_file']]\n",
    "    n_centers_list = [nCenters_dict[row['patch_size']]]\n",
    "    \n",
    "    input_type = row['input_type']\n",
    "    batch_size = row['batch_size']\n",
    "    dim_in = row['patch_size'].replace('in', '')\n",
    "    dim_in = int(dim_in)\n",
    "    \n",
    "    model = load_model(row['model_file'], Nclass=2)\n",
    "    \n",
    "    paths_valData, paths_valTarget = setup.get_paths(val_tomos, input_type)\n",
    "    \n",
    "    my_dataset = dl.tomoSegment_dataset(paths_valData, paths_valTarget, dim_in=dim_in, Ncl=3, Lrnd=0, augment_data=False)\n",
    "    val_loader = DataLoader(my_dataset, batch_size=batch_size, shuffle=True, pin_memory=True, num_workers=1)\n",
    "\n",
    "    dice1_avg = []\n",
    "    val_loss_avg = []\n",
    "\n",
    "    \n",
    "    print('Predicting for %s using Validation DataLoader...\\n' %input_type)\n",
    "    for patch, target in val_loader:\n",
    "\n",
    "        model.eval()\n",
    "        with torch.no_grad():\n",
    "            y_pred = model(patch)\n",
    "\n",
    "        y_true = target.to('cuda')\n",
    "\n",
    "        dice_by_class = Tversky_index(y_pred, y_true).to('cpu')\n",
    "        dice1_avg.append(float(dice_by_class[1]))\n",
    "\n",
    "        val_loss = loss_fn(y_pred, y_true).to('cpu')\n",
    "        val_loss_avg.append(float(val_loss))\n",
    "\n",
    "    dice1_avg = np.mean(dice1_avg)\n",
    "    avg_loss = np.mean(val_loss_avg)\n",
    "    dice1_test_bestModels.append(np.mean(dice1_avg))"
   ]
  },
  {
   "cell_type": "code",
   "execution_count": 8,
   "id": "3bbbd960-9dc5-47f6-aaba-a885eacb1546",
   "metadata": {},
   "outputs": [
    {
     "data": {
      "text/html": [
       "<div>\n",
       "<style scoped>\n",
       "    .dataframe tbody tr th:only-of-type {\n",
       "        vertical-align: middle;\n",
       "    }\n",
       "\n",
       "    .dataframe tbody tr th {\n",
       "        vertical-align: top;\n",
       "    }\n",
       "\n",
       "    .dataframe thead th {\n",
       "        text-align: right;\n",
       "    }\n",
       "</style>\n",
       "<table border=\"1\" class=\"dataframe\">\n",
       "  <thead>\n",
       "    <tr style=\"text-align: right;\">\n",
       "      <th></th>\n",
       "      <th>name</th>\n",
       "      <th>model_file</th>\n",
       "      <th>input_type</th>\n",
       "      <th>epochs</th>\n",
       "      <th>patch_size</th>\n",
       "      <th>lr</th>\n",
       "      <th>version</th>\n",
       "      <th>best_val_loss_epoch</th>\n",
       "      <th>associated_val_class1_dice</th>\n",
       "      <th>batch_size</th>\n",
       "      <th>dice1_val_patches</th>\n",
       "      <th>dice1_val_patches_dataLoader</th>\n",
       "    </tr>\n",
       "  </thead>\n",
       "  <tbody>\n",
       "    <tr>\n",
       "      <th>0</th>\n",
       "      <td>Baseline</td>\n",
       "      <td>/home/haicu/jeronimo.carvajal/Thesis/data/mode...</td>\n",
       "      <td>cryoCARE</td>\n",
       "      <td>268 out of 1000</td>\n",
       "      <td>in56</td>\n",
       "      <td>lr0.000100</td>\n",
       "      <td>v2</td>\n",
       "      <td>0.126032</td>\n",
       "      <td>0.883435</td>\n",
       "      <td>34</td>\n",
       "      <td>0.881602</td>\n",
       "      <td>0.935094</td>\n",
       "    </tr>\n",
       "    <tr>\n",
       "      <th>1</th>\n",
       "      <td>Baseline</td>\n",
       "      <td>/home/haicu/jeronimo.carvajal/Thesis/data/mode...</td>\n",
       "      <td>cryoCARE+isoNET</td>\n",
       "      <td>438 out of 1000</td>\n",
       "      <td>in84</td>\n",
       "      <td>lr0.000100</td>\n",
       "      <td>v1</td>\n",
       "      <td>0.092645</td>\n",
       "      <td>0.916506</td>\n",
       "      <td>22</td>\n",
       "      <td>0.771248</td>\n",
       "      <td>0.922708</td>\n",
       "    </tr>\n",
       "    <tr>\n",
       "      <th>2</th>\n",
       "      <td>Baseline</td>\n",
       "      <td>/home/haicu/jeronimo.carvajal/Thesis/data/mode...</td>\n",
       "      <td>isoNET</td>\n",
       "      <td>472 out of 1000</td>\n",
       "      <td>in84</td>\n",
       "      <td>lr0.000100</td>\n",
       "      <td>v1</td>\n",
       "      <td>0.177506</td>\n",
       "      <td>0.840685</td>\n",
       "      <td>22</td>\n",
       "      <td>0.738801</td>\n",
       "      <td>0.850226</td>\n",
       "    </tr>\n",
       "    <tr>\n",
       "      <th>3</th>\n",
       "      <td>Baseline</td>\n",
       "      <td>/home/haicu/jeronimo.carvajal/Thesis/data/mode...</td>\n",
       "      <td>rawCET</td>\n",
       "      <td>215 out of 1000</td>\n",
       "      <td>in84</td>\n",
       "      <td>lr0.000300</td>\n",
       "      <td>v0</td>\n",
       "      <td>0.205240</td>\n",
       "      <td>0.820816</td>\n",
       "      <td>28</td>\n",
       "      <td>0.753906</td>\n",
       "      <td>0.818374</td>\n",
       "    </tr>\n",
       "  </tbody>\n",
       "</table>\n",
       "</div>"
      ],
      "text/plain": [
       "       name                                         model_file  \\\n",
       "0  Baseline  /home/haicu/jeronimo.carvajal/Thesis/data/mode...   \n",
       "1  Baseline  /home/haicu/jeronimo.carvajal/Thesis/data/mode...   \n",
       "2  Baseline  /home/haicu/jeronimo.carvajal/Thesis/data/mode...   \n",
       "3  Baseline  /home/haicu/jeronimo.carvajal/Thesis/data/mode...   \n",
       "\n",
       "        input_type           epochs patch_size          lr version  \\\n",
       "0         cryoCARE  268 out of 1000       in56  lr0.000100      v2   \n",
       "1  cryoCARE+isoNET  438 out of 1000       in84  lr0.000100      v1   \n",
       "2           isoNET  472 out of 1000       in84  lr0.000100      v1   \n",
       "3           rawCET  215 out of 1000       in84  lr0.000300      v0   \n",
       "\n",
       "   best_val_loss_epoch  associated_val_class1_dice  batch_size  \\\n",
       "0             0.126032                    0.883435          34   \n",
       "1             0.092645                    0.916506          22   \n",
       "2             0.177506                    0.840685          22   \n",
       "3             0.205240                    0.820816          28   \n",
       "\n",
       "   dice1_val_patches  dice1_val_patches_dataLoader  \n",
       "0           0.881602                      0.935094  \n",
       "1           0.771248                      0.922708  \n",
       "2           0.738801                      0.850226  \n",
       "3           0.753906                      0.818374  "
      ]
     },
     "execution_count": 8,
     "metadata": {},
     "output_type": "execute_result"
    }
   ],
   "source": [
    "bestModel_byType['dice1_val_patches_dataLoader'] = dice1_test_bestModels\n",
    "bestModel_byType"
   ]
  },
  {
   "cell_type": "code",
   "execution_count": null,
   "id": "04abe078-cd52-4449-b2ad-e985d6d05b4f",
   "metadata": {},
   "outputs": [],
   "source": []
  },
  {
   "cell_type": "code",
   "execution_count": null,
   "id": "d2729204-aced-4c41-8527-17a3b56d5b38",
   "metadata": {},
   "outputs": [],
   "source": []
  },
  {
   "cell_type": "markdown",
   "id": "6c5d558b-a803-418f-896c-d9015312b8de",
   "metadata": {
    "jp-MarkdownHeadingCollapsed": true,
    "tags": []
   },
   "source": [
    "# Get best models mean prediction on test patches"
   ]
  },
  {
   "cell_type": "code",
   "execution_count": 9,
   "id": "8dcafd1d-fe08-4aac-b83d-efe8b7f9f8ea",
   "metadata": {
    "tags": []
   },
   "outputs": [
    {
     "name": "stdout",
     "output_type": "stream",
     "text": [
      "Zero dice1 prediction for: \n",
      " /home/haicu/jeronimo.carvajal/Thesis/data/model_logs/models_1/logs/BaselineModel/cryoCARE/train02-03-17/version_2/Baseline_ep1000_in56_lr0.000100_2.model /home/haicu/jeronimo.carvajal/Thesis/data/nnUnet/Task143_cryoET7/imagesTr/tomo04_patch030_0000.nii.gz\n",
      "{'train02-03-17/Baseline_ep1000_in56_lr0.000100_2': tensor([0.9993, 0.0000], device='cuda:0')}\n",
      "Zero dice1 prediction for: \n",
      " /home/haicu/jeronimo.carvajal/Thesis/data/model_logs/models_1/logs/BaselineModel/cryoCARE/train02-03-17/version_2/Baseline_ep1000_in56_lr0.000100_2.model /home/haicu/jeronimo.carvajal/Thesis/data/nnUnet/Task143_cryoET7/imagesTr/tomo38_patch030_0000.nii.gz\n",
      "{'train02-03-17/Baseline_ep1000_in56_lr0.000100_2': tensor([0.9975, 0.0000], device='cuda:0')}\n",
      "cryoCARE\n",
      "Mean dice1 score on tomo04 patches is: 0.837951\n",
      "Mean dice1 score on tomo38 patches is: 0.842232 \n",
      "\n",
      "\n",
      "Zero dice1 prediction for: \n",
      " /home/haicu/jeronimo.carvajal/Thesis/data/model_logs/models_1/logs/BaselineModel/cryoCARE+isoNET/train02-03-17/version_1/Baseline_ep1000_in84_lr0.000100_1.model /home/haicu/jeronimo.carvajal/Thesis/data/isoNet/cryoCARE_dataset/cryoCARE_corrected/patch_creation/result/Task511_cryoET/imagesTr/tomo04_patch030_0000.nii.gz\n",
      "{'train02-03-17/Baseline_ep1000_in84_lr0.000100_1': tensor([0.9996, 0.0000], device='cuda:0')}\n",
      "Zero dice1 prediction for: \n",
      " /home/haicu/jeronimo.carvajal/Thesis/data/model_logs/models_1/logs/BaselineModel/cryoCARE+isoNET/train02-03-17/version_1/Baseline_ep1000_in84_lr0.000100_1.model /home/haicu/jeronimo.carvajal/Thesis/data/isoNet/cryoCARE_dataset/cryoCARE_corrected/patch_creation/result/Task511_cryoET/imagesTr/tomo38_patch030_0000.nii.gz\n",
      "{'train02-03-17/Baseline_ep1000_in84_lr0.000100_1': tensor([0.9993, 0.0000], device='cuda:0')}\n",
      "cryoCARE+isoNET\n",
      "Mean dice1 score on tomo04 patches is: 0.826395\n",
      "Mean dice1 score on tomo38 patches is: 0.822454 \n",
      "\n",
      "\n",
      "Zero dice1 prediction for: \n",
      " /home/haicu/jeronimo.carvajal/Thesis/data/model_logs/models_1/logs/BaselineModel/isoNET/train02-03-17/version_1/Baseline_ep1000_in84_lr0.000100_1.model /home/haicu/jeronimo.carvajal/Thesis/data/isoNet/RAW_dataset/RAW_corrected_i30/patch_creation/result/Task511_cryoET/imagesTr/tomo04_patch030_0000.nii.gz\n",
      "{'train02-03-17/Baseline_ep1000_in84_lr0.000100_1': tensor([0.9995, 0.0000], device='cuda:0')}\n",
      "Undefined dice1 prediction for: \n",
      " /home/haicu/jeronimo.carvajal/Thesis/data/model_logs/models_1/logs/BaselineModel/isoNET/train02-03-17/version_1/Baseline_ep1000_in84_lr0.000100_1.model /home/haicu/jeronimo.carvajal/Thesis/data/isoNet/RAW_dataset/RAW_corrected_i30/patch_creation/result/Task511_cryoET/imagesTr/tomo38_patch030_0000.nii.gz\n",
      "{'train02-03-17/Baseline_ep1000_in84_lr0.000100_1': tensor([1., nan], device='cuda:0')}\n",
      "isoNET\n",
      "Mean dice1 score on tomo04 patches is: 0.763803\n",
      "Mean dice1 score on tomo38 patches is: 0.904730 \n",
      "\n",
      "\n",
      "Zero dice1 prediction for: \n",
      " /home/haicu/jeronimo.carvajal/Thesis/data/model_logs/models_1/logs/BaselineModel/rawCET/train02-03-17/version_0/Baseline_ep1000_in84_lr0.000300_0.model /home/haicu/jeronimo.carvajal/Thesis/data/raw_cryo-ET/patch_creation/result/Task511_cryoET/imagesTr/tomo04_patch030_0000.nii.gz\n",
      "{'train02-03-17/Baseline_ep1000_in84_lr0.000300_0': tensor([0.9999, 0.0000], device='cuda:0')}\n",
      "Undefined dice1 prediction for: \n",
      " /home/haicu/jeronimo.carvajal/Thesis/data/model_logs/models_1/logs/BaselineModel/rawCET/train02-03-17/version_0/Baseline_ep1000_in84_lr0.000300_0.model /home/haicu/jeronimo.carvajal/Thesis/data/raw_cryo-ET/patch_creation/result/Task511_cryoET/imagesTr/tomo38_patch030_0000.nii.gz\n",
      "{'train02-03-17/Baseline_ep1000_in84_lr0.000300_0': tensor([1., nan], device='cuda:0')}\n",
      "rawCET\n",
      "Mean dice1 score on tomo04 patches is: 0.742608\n",
      "Mean dice1 score on tomo38 patches is: 0.891479 \n",
      "\n",
      "\n"
     ]
    }
   ],
   "source": [
    "nCenters_dict = {'in56':4, 'in84':2}\n",
    "\n",
    "aux_label_file = '/home/haicu/jeronimo.carvajal/Thesis/data/nnUnet/nifti_files/%s_merged_thr02.nii.gz'\n",
    "\n",
    "dice1_test_bestModels = []\n",
    "\n",
    "for i, row in bestModel_byType.iterrows():\n",
    "    model_fileList = [row['model_file']]\n",
    "    n_centers_list = [nCenters_dict[row['patch_size']]]\n",
    "    \n",
    "    input_type = row['input_type']\n",
    "    paths_testData, paths_testTarget = setup.get_paths(test_tomos, input_type)\n",
    "    \n",
    "    dice1_score = []\n",
    "    \n",
    "    scores_tomo04 = []\n",
    "    scores_tomo38 = []\n",
    "\n",
    "    for tomo_file, label_file in zip(paths_testData, paths_testTarget):\n",
    "        class1_predDict, dice1_dict, class1, tomogram_data = fullTomogram_modelComparison(model_fileList, n_centers_list, tomo_file,\n",
    "                                                                                          label_file, overwrite_prediction=False)\n",
    "        \n",
    "        val = float(list(dice1_dict.items())[0][1][1])\n",
    "        dice1_score.append(val)\n",
    "        \n",
    "        if val==0:\n",
    "            print('Zero dice1 prediction for: \\n', row['model_file'], tomo_file)\n",
    "            print(dice1_dict)\n",
    "        elif np.isnan(val):\n",
    "            print('Undefined dice1 prediction for: \\n', row['model_file'], tomo_file)\n",
    "            print(dice1_dict)\n",
    "            # make_comparison_plot(class1_predDict, class1, tomogram_data)\n",
    "        \n",
    "        if tomo_file.split('/')[-1][0:6] == 'tomo04':\n",
    "            scores_tomo04.append(val)\n",
    "        else:\n",
    "            scores_tomo38.append(val)\n",
    "    \n",
    "    print(input_type)\n",
    "    print('Mean dice1 score on tomo04 patches is: %.6f' %np.nanmean(scores_tomo04))\n",
    "    print('Mean dice1 score on tomo38 patches is: %.6f \\n\\n' %np.nanmean(scores_tomo38))\n",
    "    \n",
    "    # print('Model predictions on test set patches: \\n', dice1_score, '\\n\\n')\n",
    "    dice1_test_bestModels.append(np.nanmean(dice1_score))"
   ]
  },
  {
   "cell_type": "code",
   "execution_count": 10,
   "id": "4282ef38-1678-400c-ac33-4a8e7b52203f",
   "metadata": {},
   "outputs": [
    {
     "data": {
      "text/html": [
       "<div>\n",
       "<style scoped>\n",
       "    .dataframe tbody tr th:only-of-type {\n",
       "        vertical-align: middle;\n",
       "    }\n",
       "\n",
       "    .dataframe tbody tr th {\n",
       "        vertical-align: top;\n",
       "    }\n",
       "\n",
       "    .dataframe thead th {\n",
       "        text-align: right;\n",
       "    }\n",
       "</style>\n",
       "<table border=\"1\" class=\"dataframe\">\n",
       "  <thead>\n",
       "    <tr style=\"text-align: right;\">\n",
       "      <th></th>\n",
       "      <th>name</th>\n",
       "      <th>model_file</th>\n",
       "      <th>input_type</th>\n",
       "      <th>epochs</th>\n",
       "      <th>patch_size</th>\n",
       "      <th>lr</th>\n",
       "      <th>version</th>\n",
       "      <th>best_val_loss_epoch</th>\n",
       "      <th>associated_val_class1_dice</th>\n",
       "      <th>batch_size</th>\n",
       "      <th>dice1_val_patches</th>\n",
       "      <th>dice1_val_patches_dataLoader</th>\n",
       "      <th>dice1_test_patches</th>\n",
       "    </tr>\n",
       "  </thead>\n",
       "  <tbody>\n",
       "    <tr>\n",
       "      <th>0</th>\n",
       "      <td>Baseline</td>\n",
       "      <td>/home/haicu/jeronimo.carvajal/Thesis/data/mode...</td>\n",
       "      <td>cryoCARE</td>\n",
       "      <td>268 out of 1000</td>\n",
       "      <td>in56</td>\n",
       "      <td>lr0.000100</td>\n",
       "      <td>v2</td>\n",
       "      <td>0.126032</td>\n",
       "      <td>0.883435</td>\n",
       "      <td>34</td>\n",
       "      <td>0.881602</td>\n",
       "      <td>0.935094</td>\n",
       "      <td>0.840092</td>\n",
       "    </tr>\n",
       "    <tr>\n",
       "      <th>1</th>\n",
       "      <td>Baseline</td>\n",
       "      <td>/home/haicu/jeronimo.carvajal/Thesis/data/mode...</td>\n",
       "      <td>cryoCARE+isoNET</td>\n",
       "      <td>438 out of 1000</td>\n",
       "      <td>in84</td>\n",
       "      <td>lr0.000100</td>\n",
       "      <td>v1</td>\n",
       "      <td>0.092645</td>\n",
       "      <td>0.916506</td>\n",
       "      <td>22</td>\n",
       "      <td>0.771248</td>\n",
       "      <td>0.922708</td>\n",
       "      <td>0.824425</td>\n",
       "    </tr>\n",
       "    <tr>\n",
       "      <th>2</th>\n",
       "      <td>Baseline</td>\n",
       "      <td>/home/haicu/jeronimo.carvajal/Thesis/data/mode...</td>\n",
       "      <td>isoNET</td>\n",
       "      <td>472 out of 1000</td>\n",
       "      <td>in84</td>\n",
       "      <td>lr0.000100</td>\n",
       "      <td>v1</td>\n",
       "      <td>0.177506</td>\n",
       "      <td>0.840685</td>\n",
       "      <td>22</td>\n",
       "      <td>0.738801</td>\n",
       "      <td>0.850226</td>\n",
       "      <td>0.830121</td>\n",
       "    </tr>\n",
       "    <tr>\n",
       "      <th>3</th>\n",
       "      <td>Baseline</td>\n",
       "      <td>/home/haicu/jeronimo.carvajal/Thesis/data/mode...</td>\n",
       "      <td>rawCET</td>\n",
       "      <td>215 out of 1000</td>\n",
       "      <td>in84</td>\n",
       "      <td>lr0.000300</td>\n",
       "      <td>v0</td>\n",
       "      <td>0.205240</td>\n",
       "      <td>0.820816</td>\n",
       "      <td>28</td>\n",
       "      <td>0.753906</td>\n",
       "      <td>0.818374</td>\n",
       "      <td>0.812665</td>\n",
       "    </tr>\n",
       "  </tbody>\n",
       "</table>\n",
       "</div>"
      ],
      "text/plain": [
       "       name                                         model_file  \\\n",
       "0  Baseline  /home/haicu/jeronimo.carvajal/Thesis/data/mode...   \n",
       "1  Baseline  /home/haicu/jeronimo.carvajal/Thesis/data/mode...   \n",
       "2  Baseline  /home/haicu/jeronimo.carvajal/Thesis/data/mode...   \n",
       "3  Baseline  /home/haicu/jeronimo.carvajal/Thesis/data/mode...   \n",
       "\n",
       "        input_type           epochs patch_size          lr version  \\\n",
       "0         cryoCARE  268 out of 1000       in56  lr0.000100      v2   \n",
       "1  cryoCARE+isoNET  438 out of 1000       in84  lr0.000100      v1   \n",
       "2           isoNET  472 out of 1000       in84  lr0.000100      v1   \n",
       "3           rawCET  215 out of 1000       in84  lr0.000300      v0   \n",
       "\n",
       "   best_val_loss_epoch  associated_val_class1_dice  batch_size  \\\n",
       "0             0.126032                    0.883435          34   \n",
       "1             0.092645                    0.916506          22   \n",
       "2             0.177506                    0.840685          22   \n",
       "3             0.205240                    0.820816          28   \n",
       "\n",
       "   dice1_val_patches  dice1_val_patches_dataLoader  dice1_test_patches  \n",
       "0           0.881602                      0.935094            0.840092  \n",
       "1           0.771248                      0.922708            0.824425  \n",
       "2           0.738801                      0.850226            0.830121  \n",
       "3           0.753906                      0.818374            0.812665  "
      ]
     },
     "execution_count": 10,
     "metadata": {},
     "output_type": "execute_result"
    }
   ],
   "source": [
    "bestModel_byType['dice1_test_patches'] = dice1_test_bestModels\n",
    "bestModel_byType"
   ]
  },
  {
   "cell_type": "markdown",
   "id": "105bb884-78cc-48b2-8fe3-fd5f487b5b26",
   "metadata": {
    "jp-MarkdownHeadingCollapsed": true,
    "tags": []
   },
   "source": [
    "# Analysis of when dice1 score equals zero or nan"
   ]
  },
  {
   "cell_type": "code",
   "execution_count": 5,
   "id": "d538b689-ada2-49c3-81dd-0650361a81c5",
   "metadata": {},
   "outputs": [],
   "source": [
    "def forward(y_pred, y_true):\n",
    "    # alpha = torch.Tensor([0.5], device=('cuda' if torch.cuda.is_available() else 'cpu)')\n",
    "    # the case of α = β = 0.5 the Tversky index simplifies to be the same as the Dice coefficient\n",
    "    alpha = torch.empty((1), device=('cuda' if torch.cuda.is_available() else 'cpu'))\n",
    "    alpha[0] = 0.5\n",
    "    beta = torch.empty((1), device=('cuda' if torch.cuda.is_available() else 'cpu'))\n",
    "    beta[0] = 0.5\n",
    "\n",
    "    # only classes 0 and 1 are taken into account for the loss      \n",
    "    batch_size, _, z_shp = y_true.shape \n",
    "\n",
    "    mask = y_true[:, 2, :]!=1\n",
    "    mask = mask.reshape(batch_size, 1, z_shp)\n",
    "    mask = torch.stack(2*[mask], dim=1).squeeze(2)*1\n",
    "\n",
    "    # we set all the coordinates labelled as 2 to zero for the loss\n",
    "    y_true = y_true[:, 0:2, :]*mask\n",
    "    y_pred = y_pred[:, 0:2, :]*mask\n",
    "\n",
    "    ones = torch.ones_like(y_true)\n",
    "    p0 = y_pred\n",
    "    p1 = (ones - y_pred)\n",
    "    g0 = y_true\n",
    "    g1 = (ones - y_true)\n",
    "\n",
    "    num = torch.sum(p0 * g0, dim=(0, 2)) # shape of inputs are (batch_size, N_class, Z, Y, X)\n",
    "    den = num.cuda() + alpha.cuda() * torch.sum(p0.cuda() * g1.cuda(), dim=(0, 2)) + beta.cuda() * torch.sum(p1.cuda() * g0.cuda(), dim=(0, 2))\n",
    "\n",
    "    T = num / den\n",
    "\n",
    "    return T"
   ]
  },
  {
   "cell_type": "code",
   "execution_count": 8,
   "id": "835be2b1-7c27-4bce-9314-3551e17b645c",
   "metadata": {},
   "outputs": [
    {
     "data": {
      "text/plain": [
       "tensor([0.5000, 0.0000], device='cuda:0')"
      ]
     },
     "execution_count": 8,
     "metadata": {},
     "output_type": "execute_result"
    }
   ],
   "source": [
    "y_true = torch.zeros((1, 3, 3))\n",
    "y_true[0, 0, 0] = 1\n",
    "y_true[0, 1, 0] = 0\n",
    "y_true[0, 2, 0] = 0\n",
    "\n",
    "y_true[0, 0, 1] = 0\n",
    "y_true[0, 1, 1] = 1\n",
    "y_true[0, 2, 1] = 0\n",
    "\n",
    "y_true[0, 0, 2] = 1\n",
    "y_true[0, 1, 2] = 0\n",
    "y_true[0, 2, 2] = 0\n",
    "\n",
    "y_pred = torch.zeros((1, 2, 3))\n",
    "y_pred[0, 0, 0] = 0\n",
    "y_pred[0, 1, 0] = 1\n",
    "\n",
    "y_pred[0, 0, 1] = 1\n",
    "y_pred[0, 1, 1] = 0\n",
    "\n",
    "y_pred[0, 0, 2] = 1\n",
    "y_pred[0, 1, 2] = 0\n",
    "\n",
    "forward(y_pred.cuda(), y_true.cuda())"
   ]
  },
  {
   "cell_type": "markdown",
   "id": "d3c9762f-3178-49aa-8d3d-515e9680bb39",
   "metadata": {},
   "source": [
    "Dice score for class 1 is undefined when all pixels corresponding to class 1 predictions are masked out, i.e. true label were noise (2). Or when there are both no class 1 true values nor class 1 predictions.\n",
    "\n",
    "It is zero when no class 1 pixel was correctly predicted."
   ]
  },
  {
   "cell_type": "markdown",
   "id": "23fe7b5d-b375-44ce-adef-9aff211e52f2",
   "metadata": {
    "jp-MarkdownHeadingCollapsed": true,
    "tags": []
   },
   "source": [
    "# Create gif with predictions with all zero class 1 labels"
   ]
  },
  {
   "cell_type": "code",
   "execution_count": 17,
   "id": "0f897945-226e-4f8a-895e-8c7de99bfdf7",
   "metadata": {},
   "outputs": [],
   "source": [
    "nCenters_dict = {'in56':4, 'in84':2}\n",
    "\n",
    "class1_predAll = {}\n",
    "dice1_scoreAll = {}\n",
    "\n",
    "# make gif with model predictions tomo04_patch030\n",
    "\n",
    "for i, row in bestModel_byType.iterrows():\n",
    "    model_fileList = [row['model_file']]\n",
    "    n_centers_list = [nCenters_dict[row['patch_size']]]\n",
    "    \n",
    "    input_type = row['input_type']\n",
    "    paths_testData, paths_testTarget = setup.get_paths(test_tomos, input_type)\n",
    "    \n",
    "    \n",
    "    \n",
    "    scores_tomo04 = []\n",
    "    scores_tomo38 = []\n",
    "    \n",
    "    tomo_file = [x for x in paths_testData if 'tomo04_patch030' in x][0]\n",
    "    label_file = [x for x in paths_testTarget if 'tomo04_patch030' in x][0]\n",
    "\n",
    "    class1_predDict, dice1_dict, class1, tomogram_data = fullTomogram_modelComparison(model_fileList, n_centers_list, tomo_file,\n",
    "                                                                                      label_file, overwrite_prediction=False)\n",
    "\n",
    "    val = float(list(dice1_dict.items())[0][1][1])\n",
    "    old_key = [*class1_predDict][0]\n",
    "    new_key = old_key.replace('train02-03-17/', input_type+'/')\n",
    "    class1_predAll[new_key] = class1_predDict[old_key]\n",
    "    dice1_scoreAll[new_key] = dice1_dict[old_key]\n",
    "    "
   ]
  },
  {
   "cell_type": "code",
   "execution_count": 18,
   "id": "9800d9c2-0e89-4d76-8217-829576eb311b",
   "metadata": {},
   "outputs": [
    {
     "data": {
      "text/plain": [
       "{'cryoCARE/Baseline_ep1000_in56_lr0.000100_2': tensor([0.9877, 0.0000], device='cuda:0'),\n",
       " 'cryoCARE+isoNET/Baseline_ep1000_in84_lr0.000100_1': tensor([0.9999, 0.0000], device='cuda:0'),\n",
       " 'isoNET/Baseline_ep1000_in84_lr0.000100_1': tensor([0.9994, 0.0000], device='cuda:0'),\n",
       " 'rawCET/Baseline_ep1000_in84_lr0.000300_0': tensor([1.0000, 0.0000], device='cuda:0')}"
      ]
     },
     "execution_count": 18,
     "metadata": {},
     "output_type": "execute_result"
    }
   ],
   "source": [
    "dice1_scoreAll"
   ]
  },
  {
   "cell_type": "code",
   "execution_count": 24,
   "id": "ea322cf9-043d-4d7b-8458-c4cd835195ba",
   "metadata": {
    "collapsed": true,
    "jupyter": {
     "outputs_hidden": true
    },
    "tags": []
   },
   "outputs": [
    {
     "name": "stderr",
     "output_type": "stream",
     "text": [
      "100%|██████████| 160/160 [01:53<00:00,  1.41it/s]\n"
     ]
    },
    {
     "name": "stdout",
     "output_type": "stream",
     "text": [
      "Removing Images\n",
      "\n",
      "DONE\n"
     ]
    },
    {
     "data": {
      "text/plain": [
       "<Figure size 432x288 with 0 Axes>"
      ]
     },
     "metadata": {},
     "output_type": "display_data"
    },
    {
     "data": {
      "text/plain": [
       "<Figure size 432x288 with 0 Axes>"
      ]
     },
     "metadata": {},
     "output_type": "display_data"
    },
    {
     "data": {
      "text/plain": [
       "<Figure size 432x288 with 0 Axes>"
      ]
     },
     "metadata": {},
     "output_type": "display_data"
    },
    {
     "data": {
      "text/plain": [
       "<Figure size 432x288 with 0 Axes>"
      ]
     },
     "metadata": {},
     "output_type": "display_data"
    },
    {
     "data": {
      "text/plain": [
       "<Figure size 432x288 with 0 Axes>"
      ]
     },
     "metadata": {},
     "output_type": "display_data"
    },
    {
     "data": {
      "text/plain": [
       "<Figure size 432x288 with 0 Axes>"
      ]
     },
     "metadata": {},
     "output_type": "display_data"
    },
    {
     "data": {
      "text/plain": [
       "<Figure size 432x288 with 0 Axes>"
      ]
     },
     "metadata": {},
     "output_type": "display_data"
    },
    {
     "data": {
      "text/plain": [
       "<Figure size 432x288 with 0 Axes>"
      ]
     },
     "metadata": {},
     "output_type": "display_data"
    },
    {
     "data": {
      "text/plain": [
       "<Figure size 432x288 with 0 Axes>"
      ]
     },
     "metadata": {},
     "output_type": "display_data"
    },
    {
     "data": {
      "text/plain": [
       "<Figure size 432x288 with 0 Axes>"
      ]
     },
     "metadata": {},
     "output_type": "display_data"
    },
    {
     "data": {
      "text/plain": [
       "<Figure size 432x288 with 0 Axes>"
      ]
     },
     "metadata": {},
     "output_type": "display_data"
    },
    {
     "data": {
      "text/plain": [
       "<Figure size 432x288 with 0 Axes>"
      ]
     },
     "metadata": {},
     "output_type": "display_data"
    },
    {
     "data": {
      "text/plain": [
       "<Figure size 432x288 with 0 Axes>"
      ]
     },
     "metadata": {},
     "output_type": "display_data"
    },
    {
     "data": {
      "text/plain": [
       "<Figure size 432x288 with 0 Axes>"
      ]
     },
     "metadata": {},
     "output_type": "display_data"
    },
    {
     "data": {
      "text/plain": [
       "<Figure size 432x288 with 0 Axes>"
      ]
     },
     "metadata": {},
     "output_type": "display_data"
    },
    {
     "data": {
      "text/plain": [
       "<Figure size 432x288 with 0 Axes>"
      ]
     },
     "metadata": {},
     "output_type": "display_data"
    },
    {
     "data": {
      "text/plain": [
       "<Figure size 432x288 with 0 Axes>"
      ]
     },
     "metadata": {},
     "output_type": "display_data"
    },
    {
     "data": {
      "text/plain": [
       "<Figure size 432x288 with 0 Axes>"
      ]
     },
     "metadata": {},
     "output_type": "display_data"
    },
    {
     "data": {
      "text/plain": [
       "<Figure size 432x288 with 0 Axes>"
      ]
     },
     "metadata": {},
     "output_type": "display_data"
    },
    {
     "data": {
      "text/plain": [
       "<Figure size 432x288 with 0 Axes>"
      ]
     },
     "metadata": {},
     "output_type": "display_data"
    },
    {
     "data": {
      "text/plain": [
       "<Figure size 432x288 with 0 Axes>"
      ]
     },
     "metadata": {},
     "output_type": "display_data"
    },
    {
     "data": {
      "text/plain": [
       "<Figure size 432x288 with 0 Axes>"
      ]
     },
     "metadata": {},
     "output_type": "display_data"
    },
    {
     "data": {
      "text/plain": [
       "<Figure size 432x288 with 0 Axes>"
      ]
     },
     "metadata": {},
     "output_type": "display_data"
    },
    {
     "data": {
      "text/plain": [
       "<Figure size 432x288 with 0 Axes>"
      ]
     },
     "metadata": {},
     "output_type": "display_data"
    },
    {
     "data": {
      "text/plain": [
       "<Figure size 432x288 with 0 Axes>"
      ]
     },
     "metadata": {},
     "output_type": "display_data"
    },
    {
     "data": {
      "text/plain": [
       "<Figure size 432x288 with 0 Axes>"
      ]
     },
     "metadata": {},
     "output_type": "display_data"
    },
    {
     "data": {
      "text/plain": [
       "<Figure size 432x288 with 0 Axes>"
      ]
     },
     "metadata": {},
     "output_type": "display_data"
    },
    {
     "data": {
      "text/plain": [
       "<Figure size 432x288 with 0 Axes>"
      ]
     },
     "metadata": {},
     "output_type": "display_data"
    },
    {
     "data": {
      "text/plain": [
       "<Figure size 432x288 with 0 Axes>"
      ]
     },
     "metadata": {},
     "output_type": "display_data"
    },
    {
     "data": {
      "text/plain": [
       "<Figure size 432x288 with 0 Axes>"
      ]
     },
     "metadata": {},
     "output_type": "display_data"
    },
    {
     "data": {
      "text/plain": [
       "<Figure size 432x288 with 0 Axes>"
      ]
     },
     "metadata": {},
     "output_type": "display_data"
    },
    {
     "data": {
      "text/plain": [
       "<Figure size 432x288 with 0 Axes>"
      ]
     },
     "metadata": {},
     "output_type": "display_data"
    },
    {
     "data": {
      "text/plain": [
       "<Figure size 432x288 with 0 Axes>"
      ]
     },
     "metadata": {},
     "output_type": "display_data"
    },
    {
     "data": {
      "text/plain": [
       "<Figure size 432x288 with 0 Axes>"
      ]
     },
     "metadata": {},
     "output_type": "display_data"
    },
    {
     "data": {
      "text/plain": [
       "<Figure size 432x288 with 0 Axes>"
      ]
     },
     "metadata": {},
     "output_type": "display_data"
    },
    {
     "data": {
      "text/plain": [
       "<Figure size 432x288 with 0 Axes>"
      ]
     },
     "metadata": {},
     "output_type": "display_data"
    },
    {
     "data": {
      "text/plain": [
       "<Figure size 432x288 with 0 Axes>"
      ]
     },
     "metadata": {},
     "output_type": "display_data"
    },
    {
     "data": {
      "text/plain": [
       "<Figure size 432x288 with 0 Axes>"
      ]
     },
     "metadata": {},
     "output_type": "display_data"
    },
    {
     "data": {
      "text/plain": [
       "<Figure size 432x288 with 0 Axes>"
      ]
     },
     "metadata": {},
     "output_type": "display_data"
    },
    {
     "data": {
      "text/plain": [
       "<Figure size 432x288 with 0 Axes>"
      ]
     },
     "metadata": {},
     "output_type": "display_data"
    },
    {
     "data": {
      "text/plain": [
       "<Figure size 432x288 with 0 Axes>"
      ]
     },
     "metadata": {},
     "output_type": "display_data"
    },
    {
     "data": {
      "text/plain": [
       "<Figure size 432x288 with 0 Axes>"
      ]
     },
     "metadata": {},
     "output_type": "display_data"
    },
    {
     "data": {
      "text/plain": [
       "<Figure size 432x288 with 0 Axes>"
      ]
     },
     "metadata": {},
     "output_type": "display_data"
    },
    {
     "data": {
      "text/plain": [
       "<Figure size 432x288 with 0 Axes>"
      ]
     },
     "metadata": {},
     "output_type": "display_data"
    },
    {
     "data": {
      "text/plain": [
       "<Figure size 432x288 with 0 Axes>"
      ]
     },
     "metadata": {},
     "output_type": "display_data"
    },
    {
     "data": {
      "text/plain": [
       "<Figure size 432x288 with 0 Axes>"
      ]
     },
     "metadata": {},
     "output_type": "display_data"
    },
    {
     "data": {
      "text/plain": [
       "<Figure size 432x288 with 0 Axes>"
      ]
     },
     "metadata": {},
     "output_type": "display_data"
    },
    {
     "data": {
      "text/plain": [
       "<Figure size 432x288 with 0 Axes>"
      ]
     },
     "metadata": {},
     "output_type": "display_data"
    },
    {
     "data": {
      "text/plain": [
       "<Figure size 432x288 with 0 Axes>"
      ]
     },
     "metadata": {},
     "output_type": "display_data"
    },
    {
     "data": {
      "text/plain": [
       "<Figure size 432x288 with 0 Axes>"
      ]
     },
     "metadata": {},
     "output_type": "display_data"
    },
    {
     "data": {
      "text/plain": [
       "<Figure size 432x288 with 0 Axes>"
      ]
     },
     "metadata": {},
     "output_type": "display_data"
    },
    {
     "data": {
      "text/plain": [
       "<Figure size 432x288 with 0 Axes>"
      ]
     },
     "metadata": {},
     "output_type": "display_data"
    },
    {
     "data": {
      "text/plain": [
       "<Figure size 432x288 with 0 Axes>"
      ]
     },
     "metadata": {},
     "output_type": "display_data"
    },
    {
     "data": {
      "text/plain": [
       "<Figure size 432x288 with 0 Axes>"
      ]
     },
     "metadata": {},
     "output_type": "display_data"
    },
    {
     "data": {
      "text/plain": [
       "<Figure size 432x288 with 0 Axes>"
      ]
     },
     "metadata": {},
     "output_type": "display_data"
    },
    {
     "data": {
      "text/plain": [
       "<Figure size 432x288 with 0 Axes>"
      ]
     },
     "metadata": {},
     "output_type": "display_data"
    },
    {
     "data": {
      "text/plain": [
       "<Figure size 432x288 with 0 Axes>"
      ]
     },
     "metadata": {},
     "output_type": "display_data"
    },
    {
     "data": {
      "text/plain": [
       "<Figure size 432x288 with 0 Axes>"
      ]
     },
     "metadata": {},
     "output_type": "display_data"
    },
    {
     "data": {
      "text/plain": [
       "<Figure size 432x288 with 0 Axes>"
      ]
     },
     "metadata": {},
     "output_type": "display_data"
    },
    {
     "data": {
      "text/plain": [
       "<Figure size 432x288 with 0 Axes>"
      ]
     },
     "metadata": {},
     "output_type": "display_data"
    },
    {
     "data": {
      "text/plain": [
       "<Figure size 432x288 with 0 Axes>"
      ]
     },
     "metadata": {},
     "output_type": "display_data"
    },
    {
     "data": {
      "text/plain": [
       "<Figure size 432x288 with 0 Axes>"
      ]
     },
     "metadata": {},
     "output_type": "display_data"
    },
    {
     "data": {
      "text/plain": [
       "<Figure size 432x288 with 0 Axes>"
      ]
     },
     "metadata": {},
     "output_type": "display_data"
    },
    {
     "data": {
      "text/plain": [
       "<Figure size 432x288 with 0 Axes>"
      ]
     },
     "metadata": {},
     "output_type": "display_data"
    },
    {
     "data": {
      "text/plain": [
       "<Figure size 432x288 with 0 Axes>"
      ]
     },
     "metadata": {},
     "output_type": "display_data"
    },
    {
     "data": {
      "text/plain": [
       "<Figure size 432x288 with 0 Axes>"
      ]
     },
     "metadata": {},
     "output_type": "display_data"
    },
    {
     "data": {
      "text/plain": [
       "<Figure size 432x288 with 0 Axes>"
      ]
     },
     "metadata": {},
     "output_type": "display_data"
    },
    {
     "data": {
      "text/plain": [
       "<Figure size 432x288 with 0 Axes>"
      ]
     },
     "metadata": {},
     "output_type": "display_data"
    },
    {
     "data": {
      "text/plain": [
       "<Figure size 432x288 with 0 Axes>"
      ]
     },
     "metadata": {},
     "output_type": "display_data"
    },
    {
     "data": {
      "text/plain": [
       "<Figure size 432x288 with 0 Axes>"
      ]
     },
     "metadata": {},
     "output_type": "display_data"
    },
    {
     "data": {
      "text/plain": [
       "<Figure size 432x288 with 0 Axes>"
      ]
     },
     "metadata": {},
     "output_type": "display_data"
    },
    {
     "data": {
      "text/plain": [
       "<Figure size 432x288 with 0 Axes>"
      ]
     },
     "metadata": {},
     "output_type": "display_data"
    },
    {
     "data": {
      "text/plain": [
       "<Figure size 432x288 with 0 Axes>"
      ]
     },
     "metadata": {},
     "output_type": "display_data"
    },
    {
     "data": {
      "text/plain": [
       "<Figure size 432x288 with 0 Axes>"
      ]
     },
     "metadata": {},
     "output_type": "display_data"
    },
    {
     "data": {
      "text/plain": [
       "<Figure size 432x288 with 0 Axes>"
      ]
     },
     "metadata": {},
     "output_type": "display_data"
    },
    {
     "data": {
      "text/plain": [
       "<Figure size 432x288 with 0 Axes>"
      ]
     },
     "metadata": {},
     "output_type": "display_data"
    },
    {
     "data": {
      "text/plain": [
       "<Figure size 432x288 with 0 Axes>"
      ]
     },
     "metadata": {},
     "output_type": "display_data"
    },
    {
     "data": {
      "text/plain": [
       "<Figure size 432x288 with 0 Axes>"
      ]
     },
     "metadata": {},
     "output_type": "display_data"
    },
    {
     "data": {
      "text/plain": [
       "<Figure size 432x288 with 0 Axes>"
      ]
     },
     "metadata": {},
     "output_type": "display_data"
    },
    {
     "data": {
      "text/plain": [
       "<Figure size 432x288 with 0 Axes>"
      ]
     },
     "metadata": {},
     "output_type": "display_data"
    },
    {
     "data": {
      "text/plain": [
       "<Figure size 432x288 with 0 Axes>"
      ]
     },
     "metadata": {},
     "output_type": "display_data"
    },
    {
     "data": {
      "text/plain": [
       "<Figure size 432x288 with 0 Axes>"
      ]
     },
     "metadata": {},
     "output_type": "display_data"
    },
    {
     "data": {
      "text/plain": [
       "<Figure size 432x288 with 0 Axes>"
      ]
     },
     "metadata": {},
     "output_type": "display_data"
    },
    {
     "data": {
      "text/plain": [
       "<Figure size 432x288 with 0 Axes>"
      ]
     },
     "metadata": {},
     "output_type": "display_data"
    },
    {
     "data": {
      "text/plain": [
       "<Figure size 432x288 with 0 Axes>"
      ]
     },
     "metadata": {},
     "output_type": "display_data"
    },
    {
     "data": {
      "text/plain": [
       "<Figure size 432x288 with 0 Axes>"
      ]
     },
     "metadata": {},
     "output_type": "display_data"
    },
    {
     "data": {
      "text/plain": [
       "<Figure size 432x288 with 0 Axes>"
      ]
     },
     "metadata": {},
     "output_type": "display_data"
    },
    {
     "data": {
      "text/plain": [
       "<Figure size 432x288 with 0 Axes>"
      ]
     },
     "metadata": {},
     "output_type": "display_data"
    },
    {
     "data": {
      "text/plain": [
       "<Figure size 432x288 with 0 Axes>"
      ]
     },
     "metadata": {},
     "output_type": "display_data"
    },
    {
     "data": {
      "text/plain": [
       "<Figure size 432x288 with 0 Axes>"
      ]
     },
     "metadata": {},
     "output_type": "display_data"
    },
    {
     "data": {
      "text/plain": [
       "<Figure size 432x288 with 0 Axes>"
      ]
     },
     "metadata": {},
     "output_type": "display_data"
    },
    {
     "data": {
      "text/plain": [
       "<Figure size 432x288 with 0 Axes>"
      ]
     },
     "metadata": {},
     "output_type": "display_data"
    },
    {
     "data": {
      "text/plain": [
       "<Figure size 432x288 with 0 Axes>"
      ]
     },
     "metadata": {},
     "output_type": "display_data"
    },
    {
     "data": {
      "text/plain": [
       "<Figure size 432x288 with 0 Axes>"
      ]
     },
     "metadata": {},
     "output_type": "display_data"
    },
    {
     "data": {
      "text/plain": [
       "<Figure size 432x288 with 0 Axes>"
      ]
     },
     "metadata": {},
     "output_type": "display_data"
    },
    {
     "data": {
      "text/plain": [
       "<Figure size 432x288 with 0 Axes>"
      ]
     },
     "metadata": {},
     "output_type": "display_data"
    },
    {
     "data": {
      "text/plain": [
       "<Figure size 432x288 with 0 Axes>"
      ]
     },
     "metadata": {},
     "output_type": "display_data"
    },
    {
     "data": {
      "text/plain": [
       "<Figure size 432x288 with 0 Axes>"
      ]
     },
     "metadata": {},
     "output_type": "display_data"
    },
    {
     "data": {
      "text/plain": [
       "<Figure size 432x288 with 0 Axes>"
      ]
     },
     "metadata": {},
     "output_type": "display_data"
    },
    {
     "data": {
      "text/plain": [
       "<Figure size 432x288 with 0 Axes>"
      ]
     },
     "metadata": {},
     "output_type": "display_data"
    },
    {
     "data": {
      "text/plain": [
       "<Figure size 432x288 with 0 Axes>"
      ]
     },
     "metadata": {},
     "output_type": "display_data"
    },
    {
     "data": {
      "text/plain": [
       "<Figure size 432x288 with 0 Axes>"
      ]
     },
     "metadata": {},
     "output_type": "display_data"
    },
    {
     "data": {
      "text/plain": [
       "<Figure size 432x288 with 0 Axes>"
      ]
     },
     "metadata": {},
     "output_type": "display_data"
    },
    {
     "data": {
      "text/plain": [
       "<Figure size 432x288 with 0 Axes>"
      ]
     },
     "metadata": {},
     "output_type": "display_data"
    },
    {
     "data": {
      "text/plain": [
       "<Figure size 432x288 with 0 Axes>"
      ]
     },
     "metadata": {},
     "output_type": "display_data"
    },
    {
     "data": {
      "text/plain": [
       "<Figure size 432x288 with 0 Axes>"
      ]
     },
     "metadata": {},
     "output_type": "display_data"
    },
    {
     "data": {
      "text/plain": [
       "<Figure size 432x288 with 0 Axes>"
      ]
     },
     "metadata": {},
     "output_type": "display_data"
    },
    {
     "data": {
      "text/plain": [
       "<Figure size 432x288 with 0 Axes>"
      ]
     },
     "metadata": {},
     "output_type": "display_data"
    },
    {
     "data": {
      "text/plain": [
       "<Figure size 432x288 with 0 Axes>"
      ]
     },
     "metadata": {},
     "output_type": "display_data"
    },
    {
     "data": {
      "text/plain": [
       "<Figure size 432x288 with 0 Axes>"
      ]
     },
     "metadata": {},
     "output_type": "display_data"
    },
    {
     "data": {
      "text/plain": [
       "<Figure size 432x288 with 0 Axes>"
      ]
     },
     "metadata": {},
     "output_type": "display_data"
    },
    {
     "data": {
      "text/plain": [
       "<Figure size 432x288 with 0 Axes>"
      ]
     },
     "metadata": {},
     "output_type": "display_data"
    },
    {
     "data": {
      "text/plain": [
       "<Figure size 432x288 with 0 Axes>"
      ]
     },
     "metadata": {},
     "output_type": "display_data"
    },
    {
     "data": {
      "text/plain": [
       "<Figure size 432x288 with 0 Axes>"
      ]
     },
     "metadata": {},
     "output_type": "display_data"
    },
    {
     "data": {
      "text/plain": [
       "<Figure size 432x288 with 0 Axes>"
      ]
     },
     "metadata": {},
     "output_type": "display_data"
    },
    {
     "data": {
      "text/plain": [
       "<Figure size 432x288 with 0 Axes>"
      ]
     },
     "metadata": {},
     "output_type": "display_data"
    },
    {
     "data": {
      "text/plain": [
       "<Figure size 432x288 with 0 Axes>"
      ]
     },
     "metadata": {},
     "output_type": "display_data"
    },
    {
     "data": {
      "text/plain": [
       "<Figure size 432x288 with 0 Axes>"
      ]
     },
     "metadata": {},
     "output_type": "display_data"
    },
    {
     "data": {
      "text/plain": [
       "<Figure size 432x288 with 0 Axes>"
      ]
     },
     "metadata": {},
     "output_type": "display_data"
    },
    {
     "data": {
      "text/plain": [
       "<Figure size 432x288 with 0 Axes>"
      ]
     },
     "metadata": {},
     "output_type": "display_data"
    },
    {
     "data": {
      "text/plain": [
       "<Figure size 432x288 with 0 Axes>"
      ]
     },
     "metadata": {},
     "output_type": "display_data"
    },
    {
     "data": {
      "text/plain": [
       "<Figure size 432x288 with 0 Axes>"
      ]
     },
     "metadata": {},
     "output_type": "display_data"
    },
    {
     "data": {
      "text/plain": [
       "<Figure size 432x288 with 0 Axes>"
      ]
     },
     "metadata": {},
     "output_type": "display_data"
    },
    {
     "data": {
      "text/plain": [
       "<Figure size 432x288 with 0 Axes>"
      ]
     },
     "metadata": {},
     "output_type": "display_data"
    },
    {
     "data": {
      "text/plain": [
       "<Figure size 432x288 with 0 Axes>"
      ]
     },
     "metadata": {},
     "output_type": "display_data"
    },
    {
     "data": {
      "text/plain": [
       "<Figure size 432x288 with 0 Axes>"
      ]
     },
     "metadata": {},
     "output_type": "display_data"
    },
    {
     "data": {
      "text/plain": [
       "<Figure size 432x288 with 0 Axes>"
      ]
     },
     "metadata": {},
     "output_type": "display_data"
    },
    {
     "data": {
      "text/plain": [
       "<Figure size 432x288 with 0 Axes>"
      ]
     },
     "metadata": {},
     "output_type": "display_data"
    },
    {
     "data": {
      "text/plain": [
       "<Figure size 432x288 with 0 Axes>"
      ]
     },
     "metadata": {},
     "output_type": "display_data"
    },
    {
     "data": {
      "text/plain": [
       "<Figure size 432x288 with 0 Axes>"
      ]
     },
     "metadata": {},
     "output_type": "display_data"
    },
    {
     "data": {
      "text/plain": [
       "<Figure size 432x288 with 0 Axes>"
      ]
     },
     "metadata": {},
     "output_type": "display_data"
    },
    {
     "data": {
      "text/plain": [
       "<Figure size 432x288 with 0 Axes>"
      ]
     },
     "metadata": {},
     "output_type": "display_data"
    },
    {
     "data": {
      "text/plain": [
       "<Figure size 432x288 with 0 Axes>"
      ]
     },
     "metadata": {},
     "output_type": "display_data"
    },
    {
     "data": {
      "text/plain": [
       "<Figure size 432x288 with 0 Axes>"
      ]
     },
     "metadata": {},
     "output_type": "display_data"
    },
    {
     "data": {
      "text/plain": [
       "<Figure size 432x288 with 0 Axes>"
      ]
     },
     "metadata": {},
     "output_type": "display_data"
    },
    {
     "data": {
      "text/plain": [
       "<Figure size 432x288 with 0 Axes>"
      ]
     },
     "metadata": {},
     "output_type": "display_data"
    },
    {
     "data": {
      "text/plain": [
       "<Figure size 432x288 with 0 Axes>"
      ]
     },
     "metadata": {},
     "output_type": "display_data"
    },
    {
     "data": {
      "text/plain": [
       "<Figure size 432x288 with 0 Axes>"
      ]
     },
     "metadata": {},
     "output_type": "display_data"
    },
    {
     "data": {
      "text/plain": [
       "<Figure size 432x288 with 0 Axes>"
      ]
     },
     "metadata": {},
     "output_type": "display_data"
    },
    {
     "data": {
      "text/plain": [
       "<Figure size 432x288 with 0 Axes>"
      ]
     },
     "metadata": {},
     "output_type": "display_data"
    },
    {
     "data": {
      "text/plain": [
       "<Figure size 432x288 with 0 Axes>"
      ]
     },
     "metadata": {},
     "output_type": "display_data"
    },
    {
     "data": {
      "text/plain": [
       "<Figure size 432x288 with 0 Axes>"
      ]
     },
     "metadata": {},
     "output_type": "display_data"
    },
    {
     "data": {
      "text/plain": [
       "<Figure size 432x288 with 0 Axes>"
      ]
     },
     "metadata": {},
     "output_type": "display_data"
    },
    {
     "data": {
      "text/plain": [
       "<Figure size 432x288 with 0 Axes>"
      ]
     },
     "metadata": {},
     "output_type": "display_data"
    },
    {
     "data": {
      "text/plain": [
       "<Figure size 432x288 with 0 Axes>"
      ]
     },
     "metadata": {},
     "output_type": "display_data"
    },
    {
     "data": {
      "text/plain": [
       "<Figure size 432x288 with 0 Axes>"
      ]
     },
     "metadata": {},
     "output_type": "display_data"
    },
    {
     "data": {
      "text/plain": [
       "<Figure size 432x288 with 0 Axes>"
      ]
     },
     "metadata": {},
     "output_type": "display_data"
    },
    {
     "data": {
      "text/plain": [
       "<Figure size 432x288 with 0 Axes>"
      ]
     },
     "metadata": {},
     "output_type": "display_data"
    },
    {
     "data": {
      "text/plain": [
       "<Figure size 432x288 with 0 Axes>"
      ]
     },
     "metadata": {},
     "output_type": "display_data"
    },
    {
     "data": {
      "text/plain": [
       "<Figure size 432x288 with 0 Axes>"
      ]
     },
     "metadata": {},
     "output_type": "display_data"
    },
    {
     "data": {
      "text/plain": [
       "<Figure size 432x288 with 0 Axes>"
      ]
     },
     "metadata": {},
     "output_type": "display_data"
    },
    {
     "data": {
      "text/plain": [
       "<Figure size 432x288 with 0 Axes>"
      ]
     },
     "metadata": {},
     "output_type": "display_data"
    },
    {
     "data": {
      "text/plain": [
       "<Figure size 432x288 with 0 Axes>"
      ]
     },
     "metadata": {},
     "output_type": "display_data"
    },
    {
     "data": {
      "text/plain": [
       "<Figure size 432x288 with 0 Axes>"
      ]
     },
     "metadata": {},
     "output_type": "display_data"
    },
    {
     "data": {
      "text/plain": [
       "<Figure size 432x288 with 0 Axes>"
      ]
     },
     "metadata": {},
     "output_type": "display_data"
    },
    {
     "data": {
      "text/plain": [
       "<Figure size 432x288 with 0 Axes>"
      ]
     },
     "metadata": {},
     "output_type": "display_data"
    },
    {
     "data": {
      "text/plain": [
       "<Figure size 432x288 with 0 Axes>"
      ]
     },
     "metadata": {},
     "output_type": "display_data"
    },
    {
     "data": {
      "text/plain": [
       "<Figure size 432x288 with 0 Axes>"
      ]
     },
     "metadata": {},
     "output_type": "display_data"
    },
    {
     "data": {
      "text/plain": [
       "<Figure size 432x288 with 0 Axes>"
      ]
     },
     "metadata": {},
     "output_type": "display_data"
    }
   ],
   "source": [
    "write_comparison_gif(class1_predAll, class1[1, : , : , :].squeeze(), tomogram_data, 'tomo04_patch030_0000')"
   ]
  },
  {
   "cell_type": "code",
   "execution_count": null,
   "id": "c4de9b8b-9dca-4cc7-b551-b9f6d6b59087",
   "metadata": {},
   "outputs": [],
   "source": []
  },
  {
   "cell_type": "code",
   "execution_count": null,
   "id": "7ac2b8b4-0c8d-4973-9219-561f9a9f5c02",
   "metadata": {},
   "outputs": [],
   "source": []
  },
  {
   "cell_type": "markdown",
   "id": "84d70791-fcb7-41f9-863f-654887d4bb7b",
   "metadata": {
    "tags": []
   },
   "source": [
    "# Predict full test tomograms for best models"
   ]
  },
  {
   "cell_type": "code",
   "execution_count": 11,
   "id": "b2a18f25-3368-492f-a568-a16ec07b50ee",
   "metadata": {},
   "outputs": [],
   "source": [
    "logs_path = PARENT_PATH + 'models_1/logs/BaselineModel/'\n",
    "logs_path = Path(logs_path)\n",
    "\n",
    "\n",
    "tomo_file_cryoCARE = '/home/haicu/jeronimo.carvajal/Thesis/data/nnUnet/nifti_files/%s_bin4_denoised_0000.nii.gz'\n",
    "tomo_file_rawCET = '/home/haicu/jeronimo.carvajal/Thesis/data/raw_cryo-ET/%s.mrc'\n",
    "tomo_file_isoNET = '/home/haicu/jeronimo.carvajal/Thesis/data/isoNet/RAW_dataset/RAW_corrected_i30/%s_corrected.mrc'\n",
    "tomo_file_cryoCARE_isoNET = '/home/haicu/jeronimo.carvajal/Thesis/data/isoNet/cryoCARE_dataset/cryoCARE_corrected/%s_bin4_denoised_0000_corrected.mrc'\n",
    "\n",
    "tomo_input_type_fileDict = {'rawCET':tomo_file_rawCET,\n",
    "                            'cryoCARE': tomo_file_cryoCARE,\n",
    "                            'isoNET': tomo_file_isoNET,\n",
    "                            'cryoCARE+isoNET': tomo_file_cryoCARE_isoNET}\n",
    "\n",
    "nCenters_dict = {'in56':28, 'in84':14, 'in96':11}\n",
    "\n",
    "aux_label_file = '/home/haicu/jeronimo.carvajal/Thesis/data/nnUnet/nifti_files/%s_merged_thr02.nii.gz'"
   ]
  },
  {
   "cell_type": "code",
   "execution_count": 12,
   "id": "26566485-8952-49bf-93d9-fdad93fb59f7",
   "metadata": {},
   "outputs": [
    {
     "name": "stdout",
     "output_type": "stream",
     "text": [
      "cryoCARE\n",
      "Model predictions on test set: \n",
      " [0.7998092770576477, 0.8102564215660095] \n",
      "\n",
      "\n",
      "cryoCARE+isoNET\n",
      "Model predictions on test set: \n",
      " [0.800686776638031, 0.7813336849212646] \n",
      "\n",
      "\n",
      "isoNET\n",
      "Model predictions on test set: \n",
      " [0.7892643809318542, 0.7259225845336914] \n",
      "\n",
      "\n",
      "rawCET\n",
      "Model predictions on test set: \n",
      " [0.755731999874115, 0.7150076627731323] \n",
      "\n",
      "\n"
     ]
    }
   ],
   "source": [
    "dice1_test_bestModels = []\n",
    "\n",
    "for i, row in bestModel_byType.iterrows():\n",
    "    model_fileList = [row['model_file']]\n",
    "    n_centers_list = [nCenters_dict[row['patch_size']]]\n",
    "    \n",
    "    input_type = row['input_type']\n",
    "    \n",
    "    dice1_score = []\n",
    "\n",
    "    for tomo in test_tomos:\n",
    "        tomo_file = tomo_input_type_fileDict[input_type] %tomo\n",
    "        label_file = aux_label_file %tomo\n",
    "        class1_predDict, dice1_dict, class1, tomogram_data = fullTomogram_modelComparison(model_fileList, n_centers_list, tomo_file, \n",
    "                                                                                          label_file, overwrite_prediction=False, is_model_data=False)\n",
    "        \n",
    "        val = float(list(dice1_dict.items())[0][1][1])\n",
    "        dice1_score.append(val)\n",
    "        \n",
    "    print(input_type)\n",
    "    print('Model predictions on test set: \\n', dice1_score, '\\n\\n')\n",
    "    dice1_test_bestModels.append(np.nanmean(dice1_score))"
   ]
  },
  {
   "cell_type": "code",
   "execution_count": 13,
   "id": "29cc2458-5a94-4697-a26c-07b4889dfe31",
   "metadata": {},
   "outputs": [
    {
     "data": {
      "text/html": [
       "<div>\n",
       "<style scoped>\n",
       "    .dataframe tbody tr th:only-of-type {\n",
       "        vertical-align: middle;\n",
       "    }\n",
       "\n",
       "    .dataframe tbody tr th {\n",
       "        vertical-align: top;\n",
       "    }\n",
       "\n",
       "    .dataframe thead th {\n",
       "        text-align: right;\n",
       "    }\n",
       "</style>\n",
       "<table border=\"1\" class=\"dataframe\">\n",
       "  <thead>\n",
       "    <tr style=\"text-align: right;\">\n",
       "      <th></th>\n",
       "      <th>patch_size</th>\n",
       "      <th>lr</th>\n",
       "      <th>associated_val_class1_dice</th>\n",
       "      <th>dice1_val_patches</th>\n",
       "      <th>dice1_test_patches</th>\n",
       "      <th>dice1_test_full</th>\n",
       "    </tr>\n",
       "    <tr>\n",
       "      <th>input_type</th>\n",
       "      <th></th>\n",
       "      <th></th>\n",
       "      <th></th>\n",
       "      <th></th>\n",
       "      <th></th>\n",
       "      <th></th>\n",
       "    </tr>\n",
       "  </thead>\n",
       "  <tbody>\n",
       "    <tr>\n",
       "      <th>cryoCARE</th>\n",
       "      <td>in56</td>\n",
       "      <td>lr0.000100</td>\n",
       "      <td>0.883435</td>\n",
       "      <td>0.881602</td>\n",
       "      <td>0.840092</td>\n",
       "      <td>0.805033</td>\n",
       "    </tr>\n",
       "    <tr>\n",
       "      <th>cryoCARE+isoNET</th>\n",
       "      <td>in84</td>\n",
       "      <td>lr0.000100</td>\n",
       "      <td>0.916506</td>\n",
       "      <td>0.771248</td>\n",
       "      <td>0.824425</td>\n",
       "      <td>0.791010</td>\n",
       "    </tr>\n",
       "    <tr>\n",
       "      <th>isoNET</th>\n",
       "      <td>in84</td>\n",
       "      <td>lr0.000100</td>\n",
       "      <td>0.840685</td>\n",
       "      <td>0.738801</td>\n",
       "      <td>0.830121</td>\n",
       "      <td>0.757593</td>\n",
       "    </tr>\n",
       "    <tr>\n",
       "      <th>rawCET</th>\n",
       "      <td>in84</td>\n",
       "      <td>lr0.000300</td>\n",
       "      <td>0.820816</td>\n",
       "      <td>0.753906</td>\n",
       "      <td>0.812665</td>\n",
       "      <td>0.735370</td>\n",
       "    </tr>\n",
       "  </tbody>\n",
       "</table>\n",
       "</div>"
      ],
      "text/plain": [
       "                patch_size          lr  associated_val_class1_dice  \\\n",
       "input_type                                                           \n",
       "cryoCARE              in56  lr0.000100                    0.883435   \n",
       "cryoCARE+isoNET       in84  lr0.000100                    0.916506   \n",
       "isoNET                in84  lr0.000100                    0.840685   \n",
       "rawCET                in84  lr0.000300                    0.820816   \n",
       "\n",
       "                 dice1_val_patches  dice1_test_patches  dice1_test_full  \n",
       "input_type                                                               \n",
       "cryoCARE                  0.881602            0.840092         0.805033  \n",
       "cryoCARE+isoNET           0.771248            0.824425         0.791010  \n",
       "isoNET                    0.738801            0.830121         0.757593  \n",
       "rawCET                    0.753906            0.812665         0.735370  "
      ]
     },
     "execution_count": 13,
     "metadata": {},
     "output_type": "execute_result"
    }
   ],
   "source": [
    "bestModel_byType['dice1_test_full'] = dice1_test_bestModels\n",
    "bestModel_byType[['input_type', 'patch_size', 'lr', 'associated_val_class1_dice', 'dice1_val_patches',\n",
    "                  'dice1_test_patches', 'dice1_test_full']].set_index('input_type')"
   ]
  },
  {
   "cell_type": "markdown",
   "id": "b11d744d-7263-4498-9baa-81d7b293666c",
   "metadata": {},
   "source": [
    "# Predict full validation tomograms for best models"
   ]
  },
  {
   "cell_type": "code",
   "execution_count": 5,
   "id": "0a2de36b-0443-4eca-aa1f-ec80a72275c5",
   "metadata": {},
   "outputs": [],
   "source": [
    "tomo_file_cryoCARE = '/home/haicu/jeronimo.carvajal/Thesis/data/nnUnet/nifti_files/%s_bin4_denoised_0000.nii.gz'\n",
    "tomo_file_rawCET = '/home/haicu/jeronimo.carvajal/Thesis/data/raw_cryo-ET/%s.mrc'\n",
    "tomo_file_isoNET = '/home/haicu/jeronimo.carvajal/Thesis/data/isoNet/RAW_dataset/RAW_corrected_i30/%s_corrected.mrc'\n",
    "tomo_file_cryoCARE_isoNET = '/home/haicu/jeronimo.carvajal/Thesis/data/isoNet/cryoCARE_dataset/cryoCARE_corrected/%s_bin4_denoised_0000_corrected.mrc'\n",
    "\n",
    "tomo_input_type_fileDict = {'rawCET':tomo_file_rawCET,\n",
    "                            'cryoCARE': tomo_file_cryoCARE,\n",
    "                            'isoNET': tomo_file_isoNET,\n",
    "                            'cryoCARE+isoNET': tomo_file_cryoCARE_isoNET}"
   ]
  },
  {
   "cell_type": "code",
   "execution_count": null,
   "id": "e78a44b3-4549-426e-8493-36a2366ab45e",
   "metadata": {},
   "outputs": [],
   "source": [
    "nCenters_dict = {'in56':28, 'in84':14}\n",
    "\n",
    "aux_label_file = '/home/haicu/jeronimo.carvajal/Thesis/data/nnUnet/nifti_files/%s_merged_thr02.nii.gz'\n",
    "\n",
    "dice1_test_bestModels = []\n",
    "\n",
    "for i, row in bestModel_byType.iterrows():\n",
    "    model_fileList = [row['model_file']]\n",
    "    n_centers_list = [nCenters_dict[row['patch_size']]]\n",
    "    \n",
    "    input_type = row['input_type']\n",
    "    \n",
    "    dice1_score = []\n",
    "\n",
    "    for tomo in val_tomos:\n",
    "        tomo_file = tomo_input_type_fileDict[input_type] %tomo\n",
    "        label_file = aux_label_file %tomo\n",
    "        class1_predDict, dice1_dict, class1, tomogram_data = fullTomogram_modelComparison(model_fileList, n_centers_list, tomo_file, \n",
    "                                                                                          label_file, overwrite_prediction=False,\n",
    "                                                                                          is_model_data=False)\n",
    "        \n",
    "        val = float(list(dice1_dict.items())[0][1][1])\n",
    "        dice1_score.append(val)\n",
    "        break\n",
    "        \n",
    "    print(input_type)\n",
    "    print('Model predictions on validation set: \\n', dice1_score, '\\n\\n')\n",
    "    dice1_test_bestModels.append(np.nanmean(dice1_score))\n",
    "    break"
   ]
  },
  {
   "cell_type": "code",
   "execution_count": 16,
   "id": "828c109f-972f-43f9-8fca-1864c9d1593d",
   "metadata": {},
   "outputs": [
    {
     "data": {
      "text/html": [
       "<div>\n",
       "<style scoped>\n",
       "    .dataframe tbody tr th:only-of-type {\n",
       "        vertical-align: middle;\n",
       "    }\n",
       "\n",
       "    .dataframe tbody tr th {\n",
       "        vertical-align: top;\n",
       "    }\n",
       "\n",
       "    .dataframe thead th {\n",
       "        text-align: right;\n",
       "    }\n",
       "</style>\n",
       "<table border=\"1\" class=\"dataframe\">\n",
       "  <thead>\n",
       "    <tr style=\"text-align: right;\">\n",
       "      <th></th>\n",
       "      <th>patch_size</th>\n",
       "      <th>lr</th>\n",
       "      <th>associated_val_class1_dice</th>\n",
       "      <th>dice1_val_patches</th>\n",
       "      <th>dice1_val_patches_dataLoader</th>\n",
       "      <th>dice1_val_full</th>\n",
       "      <th>dice1_test_patches</th>\n",
       "      <th>dice1_test_full</th>\n",
       "    </tr>\n",
       "    <tr>\n",
       "      <th>input_type</th>\n",
       "      <th></th>\n",
       "      <th></th>\n",
       "      <th></th>\n",
       "      <th></th>\n",
       "      <th></th>\n",
       "      <th></th>\n",
       "      <th></th>\n",
       "      <th></th>\n",
       "    </tr>\n",
       "  </thead>\n",
       "  <tbody>\n",
       "    <tr>\n",
       "      <th>cryoCARE</th>\n",
       "      <td>in56</td>\n",
       "      <td>lr0.000100</td>\n",
       "      <td>0.883435</td>\n",
       "      <td>0.881602</td>\n",
       "      <td>0.935094</td>\n",
       "      <td>0.721625</td>\n",
       "      <td>0.840092</td>\n",
       "      <td>0.805033</td>\n",
       "    </tr>\n",
       "    <tr>\n",
       "      <th>cryoCARE+isoNET</th>\n",
       "      <td>in84</td>\n",
       "      <td>lr0.000100</td>\n",
       "      <td>0.916506</td>\n",
       "      <td>0.771248</td>\n",
       "      <td>0.922708</td>\n",
       "      <td>0.690159</td>\n",
       "      <td>0.824425</td>\n",
       "      <td>0.791010</td>\n",
       "    </tr>\n",
       "    <tr>\n",
       "      <th>isoNET</th>\n",
       "      <td>in84</td>\n",
       "      <td>lr0.000100</td>\n",
       "      <td>0.840685</td>\n",
       "      <td>0.738801</td>\n",
       "      <td>0.850226</td>\n",
       "      <td>0.745929</td>\n",
       "      <td>0.830121</td>\n",
       "      <td>0.757593</td>\n",
       "    </tr>\n",
       "    <tr>\n",
       "      <th>rawCET</th>\n",
       "      <td>in84</td>\n",
       "      <td>lr0.000300</td>\n",
       "      <td>0.820816</td>\n",
       "      <td>0.753906</td>\n",
       "      <td>0.818374</td>\n",
       "      <td>0.734268</td>\n",
       "      <td>0.812665</td>\n",
       "      <td>0.735370</td>\n",
       "    </tr>\n",
       "  </tbody>\n",
       "</table>\n",
       "</div>"
      ],
      "text/plain": [
       "                patch_size          lr  associated_val_class1_dice  \\\n",
       "input_type                                                           \n",
       "cryoCARE              in56  lr0.000100                    0.883435   \n",
       "cryoCARE+isoNET       in84  lr0.000100                    0.916506   \n",
       "isoNET                in84  lr0.000100                    0.840685   \n",
       "rawCET                in84  lr0.000300                    0.820816   \n",
       "\n",
       "                 dice1_val_patches  dice1_val_patches_dataLoader  \\\n",
       "input_type                                                         \n",
       "cryoCARE                  0.881602                      0.935094   \n",
       "cryoCARE+isoNET           0.771248                      0.922708   \n",
       "isoNET                    0.738801                      0.850226   \n",
       "rawCET                    0.753906                      0.818374   \n",
       "\n",
       "                 dice1_val_full  dice1_test_patches  dice1_test_full  \n",
       "input_type                                                            \n",
       "cryoCARE               0.721625            0.840092         0.805033  \n",
       "cryoCARE+isoNET        0.690159            0.824425         0.791010  \n",
       "isoNET                 0.745929            0.830121         0.757593  \n",
       "rawCET                 0.734268            0.812665         0.735370  "
      ]
     },
     "execution_count": 16,
     "metadata": {},
     "output_type": "execute_result"
    }
   ],
   "source": [
    "bestModel_byType['dice1_val_full'] = dice1_test_bestModels\n",
    "bestModel_byType[['input_type', 'patch_size', 'lr', 'associated_val_class1_dice', 'dice1_val_patches', 'dice1_val_patches_dataLoader',\n",
    "                  'dice1_val_full', 'dice1_test_patches', 'dice1_test_full']].set_index('input_type')"
   ]
  },
  {
   "cell_type": "code",
   "execution_count": 15,
   "id": "18983a66-ff6d-4fb7-9d97-b3a8a42a011f",
   "metadata": {},
   "outputs": [
    {
     "data": {
      "text/html": [
       "<div>\n",
       "<style scoped>\n",
       "    .dataframe tbody tr th:only-of-type {\n",
       "        vertical-align: middle;\n",
       "    }\n",
       "\n",
       "    .dataframe tbody tr th {\n",
       "        vertical-align: top;\n",
       "    }\n",
       "\n",
       "    .dataframe thead th {\n",
       "        text-align: right;\n",
       "    }\n",
       "</style>\n",
       "<table border=\"1\" class=\"dataframe\">\n",
       "  <thead>\n",
       "    <tr style=\"text-align: right;\">\n",
       "      <th></th>\n",
       "      <th>patch_size</th>\n",
       "      <th>lr</th>\n",
       "      <th>associated_val_class1_dice</th>\n",
       "      <th>dice1_val_full</th>\n",
       "      <th>dice1_test_patches</th>\n",
       "      <th>dice1_test_full</th>\n",
       "    </tr>\n",
       "    <tr>\n",
       "      <th>input_type</th>\n",
       "      <th></th>\n",
       "      <th></th>\n",
       "      <th></th>\n",
       "      <th></th>\n",
       "      <th></th>\n",
       "      <th></th>\n",
       "    </tr>\n",
       "  </thead>\n",
       "  <tbody>\n",
       "    <tr>\n",
       "      <th>cryoCARE</th>\n",
       "      <td>in56</td>\n",
       "      <td>lr0.000100</td>\n",
       "      <td>0.883435</td>\n",
       "      <td>0.726257</td>\n",
       "      <td>0.838001</td>\n",
       "      <td>0.798237</td>\n",
       "    </tr>\n",
       "    <tr>\n",
       "      <th>cryoCARE+isoNET</th>\n",
       "      <td>in84</td>\n",
       "      <td>lr0.000100</td>\n",
       "      <td>0.916506</td>\n",
       "      <td>0.351773</td>\n",
       "      <td>0.818593</td>\n",
       "      <td>0.657023</td>\n",
       "    </tr>\n",
       "    <tr>\n",
       "      <th>isoNET</th>\n",
       "      <td>in84</td>\n",
       "      <td>lr0.000100</td>\n",
       "      <td>0.840685</td>\n",
       "      <td>0.440438</td>\n",
       "      <td>0.830425</td>\n",
       "      <td>0.503054</td>\n",
       "    </tr>\n",
       "    <tr>\n",
       "      <th>rawCET</th>\n",
       "      <td>in84</td>\n",
       "      <td>lr0.000300</td>\n",
       "      <td>0.820816</td>\n",
       "      <td>0.428293</td>\n",
       "      <td>0.811864</td>\n",
       "      <td>0.337163</td>\n",
       "    </tr>\n",
       "  </tbody>\n",
       "</table>\n",
       "</div>"
      ],
      "text/plain": [
       "                patch_size          lr  associated_val_class1_dice  \\\n",
       "input_type                                                           \n",
       "cryoCARE              in56  lr0.000100                    0.883435   \n",
       "cryoCARE+isoNET       in84  lr0.000100                    0.916506   \n",
       "isoNET                in84  lr0.000100                    0.840685   \n",
       "rawCET                in84  lr0.000300                    0.820816   \n",
       "\n",
       "                 dice1_val_full  dice1_test_patches  dice1_test_full  \n",
       "input_type                                                            \n",
       "cryoCARE               0.726257            0.838001         0.798237  \n",
       "cryoCARE+isoNET        0.351773            0.818593         0.657023  \n",
       "isoNET                 0.440438            0.830425         0.503054  \n",
       "rawCET                 0.428293            0.811864         0.337163  "
      ]
     },
     "execution_count": 15,
     "metadata": {},
     "output_type": "execute_result"
    }
   ],
   "source": [
    "bestModel_byType['dice1_val_full'] = dice1_test_bestModels\n",
    "bestModel_byType[['input_type', 'patch_size', 'lr', 'associated_val_class1_dice', 'dice1_val_patches',\n",
    "                  'dice1_val_full', 'dice1_test_patches', 'dice1_test_full']].set_index('input_type')"
   ]
  },
  {
   "cell_type": "code",
   "execution_count": 18,
   "id": "cc8ccf82-07ce-4ef6-994a-100d82df5231",
   "metadata": {},
   "outputs": [],
   "source": [
    "# _1 is the one with minipatch normalization implemented\n",
    "bestModel_byType.to_csv('../data/model_logs/models_1/bestModels_byType_summary_1.csv', index=False)"
   ]
  },
  {
   "cell_type": "code",
   "execution_count": null,
   "id": "a416c0f9-a7bf-47aa-9510-969d3947a3d8",
   "metadata": {},
   "outputs": [],
   "source": []
  },
  {
   "cell_type": "code",
   "execution_count": null,
   "id": "09fcbb94-1fba-4472-bf19-353f5240b6b8",
   "metadata": {},
   "outputs": [],
   "source": []
  },
  {
   "cell_type": "code",
   "execution_count": null,
   "id": "c8e15433-15dc-4846-91f0-f6f39349c63f",
   "metadata": {},
   "outputs": [],
   "source": []
  },
  {
   "cell_type": "code",
   "execution_count": null,
   "id": "c2279504-6bfc-4472-ba8d-2d68b1aa0bdf",
   "metadata": {},
   "outputs": [],
   "source": []
  },
  {
   "cell_type": "code",
   "execution_count": null,
   "id": "cf5273da-ff7f-44cb-8abc-ae3aff902966",
   "metadata": {},
   "outputs": [],
   "source": []
  },
  {
   "cell_type": "code",
   "execution_count": null,
   "id": "e0a48de6-9467-47c4-bc99-e378fb8c1a81",
   "metadata": {},
   "outputs": [],
   "source": []
  },
  {
   "cell_type": "code",
   "execution_count": null,
   "id": "c83dce76-5dfc-41aa-a942-da2b290232e1",
   "metadata": {},
   "outputs": [],
   "source": []
  },
  {
   "cell_type": "code",
   "execution_count": null,
   "id": "cd901d2c-a762-4283-8370-c50bbab7fce0",
   "metadata": {},
   "outputs": [],
   "source": []
  },
  {
   "cell_type": "code",
   "execution_count": null,
   "id": "c7eb84eb-0c2a-4d3a-ba6a-6bd4d90b2ba9",
   "metadata": {},
   "outputs": [],
   "source": []
  },
  {
   "cell_type": "code",
   "execution_count": null,
   "id": "c16eb33a-7145-4977-91f1-f8df11e24899",
   "metadata": {},
   "outputs": [],
   "source": []
  },
  {
   "cell_type": "code",
   "execution_count": null,
   "id": "d8afb6cd-6ed5-41f4-a7f9-4a15c00beec2",
   "metadata": {},
   "outputs": [],
   "source": []
  },
  {
   "cell_type": "code",
   "execution_count": null,
   "id": "9504b2ca-8506-42b9-a5de-18a8fe03d9e8",
   "metadata": {},
   "outputs": [],
   "source": []
  },
  {
   "cell_type": "code",
   "execution_count": null,
   "id": "206706f4-5e42-4c33-91f1-7bde1de94815",
   "metadata": {},
   "outputs": [],
   "source": []
  },
  {
   "cell_type": "code",
   "execution_count": null,
   "id": "f6c7f968-405e-48bf-aa83-0321fbe3a301",
   "metadata": {},
   "outputs": [],
   "source": []
  },
  {
   "cell_type": "code",
   "execution_count": null,
   "id": "bb8ec50a-2afa-4516-9fcb-63feb73cacd4",
   "metadata": {},
   "outputs": [],
   "source": []
  }
 ],
 "metadata": {
  "kernelspec": {
   "display_name": "Python 3 (ipykernel)",
   "language": "python",
   "name": "python3"
  },
  "language_info": {
   "codemirror_mode": {
    "name": "ipython",
    "version": 3
   },
   "file_extension": ".py",
   "mimetype": "text/x-python",
   "name": "python",
   "nbconvert_exporter": "python",
   "pygments_lexer": "ipython3",
   "version": "3.9.12"
  }
 },
 "nbformat": 4,
 "nbformat_minor": 5
}
