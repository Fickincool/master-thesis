{
 "cells": [
  {
   "cell_type": "code",
   "execution_count": 1,
   "id": "3492bc50-2247-404f-affc-8f8daa9b733d",
   "metadata": {},
   "outputs": [],
   "source": [
    "from tomoSegmentPipeline import dataloader as dl\n",
    "from tomoSegmentPipeline.utils import setup\n",
    "from tomoSegmentPipeline.dataloader import to_categorical, transpose_to_channels_first, tomoSegment_dummyDataset, tomoSegment_dataset\n",
    "from tomoSegmentPipeline.trainWrapper import make_trainer\n",
    "\n",
    "import os\n",
    "from glob import glob\n",
    "\n",
    "PARENT_PATH = setup.PARENT_PATH\n",
    "\n",
    "%matplotlib inline\n",
    "%config Completer.use_jedi = False\n",
    "%load_ext autoreload\n",
    "%autoreload 2"
   ]
  },
  {
   "cell_type": "code",
   "execution_count": 2,
   "id": "d7058f13-b5cd-4679-9749-bc84d708d2d0",
   "metadata": {},
   "outputs": [],
   "source": [
    "CRYOCARE_TOMO_PATH = setup.CRYOCARE_TOMO_PATH\n",
    "RAW_TOMO_PATH = setup.RAW_TOMO_PATH\n",
    "# ISONET_TOMO_PATH = PARENT_PATH+'data/isoNet/imagesTr'\n",
    "\n",
    "LABEL_PATH = PARENT_PATH+'data/nnUnet/Task143_cryoET7/labelsTr'"
   ]
  },
  {
   "cell_type": "code",
   "execution_count": 3,
   "id": "061d3a4a-4fba-4bd8-b5c5-35d66257a608",
   "metadata": {},
   "outputs": [
    {
     "data": {
      "text/plain": [
       "(['/home/haicu/jeronimo.carvajal/Thesis/data/raw_cryo-ET/patch_creation/result/Task511_cryoET/imagesTr/tomo02_patch000_0000.nii.gz',\n",
       "  '/home/haicu/jeronimo.carvajal/Thesis/data/raw_cryo-ET/patch_creation/result/Task511_cryoET/imagesTr/tomo02_patch001_0000.nii.gz',\n",
       "  '/home/haicu/jeronimo.carvajal/Thesis/data/raw_cryo-ET/patch_creation/result/Task511_cryoET/imagesTr/tomo02_patch002_0000.nii.gz',\n",
       "  '/home/haicu/jeronimo.carvajal/Thesis/data/raw_cryo-ET/patch_creation/result/Task511_cryoET/imagesTr/tomo02_patch003_0000.nii.gz',\n",
       "  '/home/haicu/jeronimo.carvajal/Thesis/data/raw_cryo-ET/patch_creation/result/Task511_cryoET/imagesTr/tomo02_patch004_0000.nii.gz',\n",
       "  '/home/haicu/jeronimo.carvajal/Thesis/data/raw_cryo-ET/patch_creation/result/Task511_cryoET/imagesTr/tomo02_patch005_0000.nii.gz',\n",
       "  '/home/haicu/jeronimo.carvajal/Thesis/data/raw_cryo-ET/patch_creation/result/Task511_cryoET/imagesTr/tomo02_patch006_0000.nii.gz',\n",
       "  '/home/haicu/jeronimo.carvajal/Thesis/data/raw_cryo-ET/patch_creation/result/Task511_cryoET/imagesTr/tomo02_patch020_0000.nii.gz',\n",
       "  '/home/haicu/jeronimo.carvajal/Thesis/data/raw_cryo-ET/patch_creation/result/Task511_cryoET/imagesTr/tomo02_patch021_0000.nii.gz',\n",
       "  '/home/haicu/jeronimo.carvajal/Thesis/data/raw_cryo-ET/patch_creation/result/Task511_cryoET/imagesTr/tomo02_patch030_0000.nii.gz',\n",
       "  '/home/haicu/jeronimo.carvajal/Thesis/data/raw_cryo-ET/patch_creation/result/Task511_cryoET/imagesTr/tomo10_patch001_0000.nii.gz',\n",
       "  '/home/haicu/jeronimo.carvajal/Thesis/data/raw_cryo-ET/patch_creation/result/Task511_cryoET/imagesTr/tomo10_patch002_0000.nii.gz',\n",
       "  '/home/haicu/jeronimo.carvajal/Thesis/data/raw_cryo-ET/patch_creation/result/Task511_cryoET/imagesTr/tomo10_patch003_0000.nii.gz',\n",
       "  '/home/haicu/jeronimo.carvajal/Thesis/data/raw_cryo-ET/patch_creation/result/Task511_cryoET/imagesTr/tomo10_patch009_0000.nii.gz',\n",
       "  '/home/haicu/jeronimo.carvajal/Thesis/data/raw_cryo-ET/patch_creation/result/Task511_cryoET/imagesTr/tomo10_patch010_0000.nii.gz',\n",
       "  '/home/haicu/jeronimo.carvajal/Thesis/data/raw_cryo-ET/patch_creation/result/Task511_cryoET/imagesTr/tomo10_patch011_0000.nii.gz',\n",
       "  '/home/haicu/jeronimo.carvajal/Thesis/data/raw_cryo-ET/patch_creation/result/Task511_cryoET/imagesTr/tomo10_patch020_0000.nii.gz',\n",
       "  '/home/haicu/jeronimo.carvajal/Thesis/data/raw_cryo-ET/patch_creation/result/Task511_cryoET/imagesTr/tomo10_patch030_0000.nii.gz'],\n",
       " ['/home/haicu/jeronimo.carvajal/Thesis/data/nnUnet/Task143_cryoET7/labelsTr/tomo02_patch000.nii.gz',\n",
       "  '/home/haicu/jeronimo.carvajal/Thesis/data/nnUnet/Task143_cryoET7/labelsTr/tomo02_patch001.nii.gz',\n",
       "  '/home/haicu/jeronimo.carvajal/Thesis/data/nnUnet/Task143_cryoET7/labelsTr/tomo02_patch002.nii.gz',\n",
       "  '/home/haicu/jeronimo.carvajal/Thesis/data/nnUnet/Task143_cryoET7/labelsTr/tomo02_patch003.nii.gz',\n",
       "  '/home/haicu/jeronimo.carvajal/Thesis/data/nnUnet/Task143_cryoET7/labelsTr/tomo02_patch004.nii.gz',\n",
       "  '/home/haicu/jeronimo.carvajal/Thesis/data/nnUnet/Task143_cryoET7/labelsTr/tomo02_patch005.nii.gz',\n",
       "  '/home/haicu/jeronimo.carvajal/Thesis/data/nnUnet/Task143_cryoET7/labelsTr/tomo02_patch006.nii.gz',\n",
       "  '/home/haicu/jeronimo.carvajal/Thesis/data/nnUnet/Task143_cryoET7/labelsTr/tomo02_patch020.nii.gz',\n",
       "  '/home/haicu/jeronimo.carvajal/Thesis/data/nnUnet/Task143_cryoET7/labelsTr/tomo02_patch021.nii.gz',\n",
       "  '/home/haicu/jeronimo.carvajal/Thesis/data/nnUnet/Task143_cryoET7/labelsTr/tomo02_patch030.nii.gz',\n",
       "  '/home/haicu/jeronimo.carvajal/Thesis/data/nnUnet/Task143_cryoET7/labelsTr/tomo10_patch001.nii.gz',\n",
       "  '/home/haicu/jeronimo.carvajal/Thesis/data/nnUnet/Task143_cryoET7/labelsTr/tomo10_patch002.nii.gz',\n",
       "  '/home/haicu/jeronimo.carvajal/Thesis/data/nnUnet/Task143_cryoET7/labelsTr/tomo10_patch003.nii.gz',\n",
       "  '/home/haicu/jeronimo.carvajal/Thesis/data/nnUnet/Task143_cryoET7/labelsTr/tomo10_patch009.nii.gz',\n",
       "  '/home/haicu/jeronimo.carvajal/Thesis/data/nnUnet/Task143_cryoET7/labelsTr/tomo10_patch010.nii.gz',\n",
       "  '/home/haicu/jeronimo.carvajal/Thesis/data/nnUnet/Task143_cryoET7/labelsTr/tomo10_patch011.nii.gz',\n",
       "  '/home/haicu/jeronimo.carvajal/Thesis/data/nnUnet/Task143_cryoET7/labelsTr/tomo10_patch020.nii.gz',\n",
       "  '/home/haicu/jeronimo.carvajal/Thesis/data/nnUnet/Task143_cryoET7/labelsTr/tomo10_patch030.nii.gz'])"
      ]
     },
     "execution_count": 3,
     "metadata": {},
     "output_type": "execute_result"
    }
   ],
   "source": [
    "setup.get_paths(['tomo02', 'tomo10'], 'rawCET')"
   ]
  },
  {
   "cell_type": "code",
   "execution_count": 3,
   "id": "0723e5fe-9c41-413f-8ef5-86a376f4585b",
   "metadata": {},
   "outputs": [
    {
     "data": {
      "text/plain": [
       "['/home/haicu/jeronimo.carvajal/Thesis/data/nnUnet/Task143_cryoET7/imagesTr/tomo17_patch000_0000.nii.gz',\n",
       " '/home/haicu/jeronimo.carvajal/Thesis/data/nnUnet/Task143_cryoET7/imagesTr/tomo17_patch010_0000.nii.gz',\n",
       " '/home/haicu/jeronimo.carvajal/Thesis/data/nnUnet/Task143_cryoET7/imagesTr/tomo17_patch030_0000.nii.gz',\n",
       " '/home/haicu/jeronimo.carvajal/Thesis/data/nnUnet/Task143_cryoET7/imagesTr/tomo17_patch002_0000.nii.gz',\n",
       " '/home/haicu/jeronimo.carvajal/Thesis/data/nnUnet/Task143_cryoET7/imagesTr/tomo17_patch014_0000.nii.gz',\n",
       " '/home/haicu/jeronimo.carvajal/Thesis/data/nnUnet/Task143_cryoET7/imagesTr/tomo17_patch006_0000.nii.gz',\n",
       " '/home/haicu/jeronimo.carvajal/Thesis/data/nnUnet/Task143_cryoET7/imagesTr/tomo17_patch009_0000.nii.gz',\n",
       " '/home/haicu/jeronimo.carvajal/Thesis/data/nnUnet/Task143_cryoET7/imagesTr/tomo17_patch015_0000.nii.gz',\n",
       " '/home/haicu/jeronimo.carvajal/Thesis/data/nnUnet/Task143_cryoET7/imagesTr/tomo17_patch008_0000.nii.gz',\n",
       " '/home/haicu/jeronimo.carvajal/Thesis/data/nnUnet/Task143_cryoET7/imagesTr/tomo17_patch001_0000.nii.gz']"
      ]
     },
     "execution_count": 3,
     "metadata": {},
     "output_type": "execute_result"
    }
   ],
   "source": [
    "glob(os.path.join(CRYOET_TOMO_PATH, 'tomo17*'))"
   ]
  },
  {
   "cell_type": "code",
   "execution_count": 4,
   "id": "76b227fa-1f97-4785-a1ed-f82a33cc5901",
   "metadata": {},
   "outputs": [
    {
     "data": {
      "text/plain": [
       "(['/home/haicu/jeronimo.carvajal/Thesis/data/nnUnet/Task143_cryoET7/imagesTr/tomo02_patch005_0000.nii.gz',\n",
       "  '/home/haicu/jeronimo.carvajal/Thesis/data/nnUnet/Task143_cryoET7/imagesTr/tomo02_patch003_0000.nii.gz',\n",
       "  '/home/haicu/jeronimo.carvajal/Thesis/data/nnUnet/Task143_cryoET7/imagesTr/tomo02_patch021_0000.nii.gz',\n",
       "  '/home/haicu/jeronimo.carvajal/Thesis/data/nnUnet/Task143_cryoET7/imagesTr/tomo02_patch001_0000.nii.gz',\n",
       "  '/home/haicu/jeronimo.carvajal/Thesis/data/nnUnet/Task143_cryoET7/imagesTr/tomo02_patch002_0000.nii.gz',\n",
       "  '/home/haicu/jeronimo.carvajal/Thesis/data/nnUnet/Task143_cryoET7/imagesTr/tomo02_patch000_0000.nii.gz',\n",
       "  '/home/haicu/jeronimo.carvajal/Thesis/data/nnUnet/Task143_cryoET7/imagesTr/tomo02_patch020_0000.nii.gz',\n",
       "  '/home/haicu/jeronimo.carvajal/Thesis/data/nnUnet/Task143_cryoET7/imagesTr/tomo02_patch030_0000.nii.gz',\n",
       "  '/home/haicu/jeronimo.carvajal/Thesis/data/nnUnet/Task143_cryoET7/imagesTr/tomo02_patch006_0000.nii.gz',\n",
       "  '/home/haicu/jeronimo.carvajal/Thesis/data/nnUnet/Task143_cryoET7/imagesTr/tomo02_patch004_0000.nii.gz',\n",
       "  '/home/haicu/jeronimo.carvajal/Thesis/data/nnUnet/Task143_cryoET7/imagesTr/tomo03_patch021_0000.nii.gz',\n",
       "  '/home/haicu/jeronimo.carvajal/Thesis/data/nnUnet/Task143_cryoET7/imagesTr/tomo03_patch031_0000.nii.gz',\n",
       "  '/home/haicu/jeronimo.carvajal/Thesis/data/nnUnet/Task143_cryoET7/imagesTr/tomo03_patch008_0000.nii.gz',\n",
       "  '/home/haicu/jeronimo.carvajal/Thesis/data/nnUnet/Task143_cryoET7/imagesTr/tomo03_patch006_0000.nii.gz',\n",
       "  '/home/haicu/jeronimo.carvajal/Thesis/data/nnUnet/Task143_cryoET7/imagesTr/tomo03_patch004_0000.nii.gz',\n",
       "  '/home/haicu/jeronimo.carvajal/Thesis/data/nnUnet/Task143_cryoET7/imagesTr/tomo03_patch002_0000.nii.gz',\n",
       "  '/home/haicu/jeronimo.carvajal/Thesis/data/nnUnet/Task143_cryoET7/imagesTr/tomo03_patch022_0000.nii.gz',\n",
       "  '/home/haicu/jeronimo.carvajal/Thesis/data/nnUnet/Task143_cryoET7/imagesTr/tomo03_patch032_0000.nii.gz',\n",
       "  '/home/haicu/jeronimo.carvajal/Thesis/data/nnUnet/Task143_cryoET7/imagesTr/tomo03_patch000_0000.nii.gz',\n",
       "  '/home/haicu/jeronimo.carvajal/Thesis/data/nnUnet/Task143_cryoET7/imagesTr/tomo03_patch010_0000.nii.gz',\n",
       "  '/home/haicu/jeronimo.carvajal/Thesis/data/nnUnet/Task143_cryoET7/imagesTr/tomo03_patch030_0000.nii.gz',\n",
       "  '/home/haicu/jeronimo.carvajal/Thesis/data/nnUnet/Task143_cryoET7/imagesTr/tomo03_patch020_0000.nii.gz',\n",
       "  '/home/haicu/jeronimo.carvajal/Thesis/data/nnUnet/Task143_cryoET7/imagesTr/tomo17_patch000_0000.nii.gz',\n",
       "  '/home/haicu/jeronimo.carvajal/Thesis/data/nnUnet/Task143_cryoET7/imagesTr/tomo17_patch010_0000.nii.gz',\n",
       "  '/home/haicu/jeronimo.carvajal/Thesis/data/nnUnet/Task143_cryoET7/imagesTr/tomo17_patch030_0000.nii.gz',\n",
       "  '/home/haicu/jeronimo.carvajal/Thesis/data/nnUnet/Task143_cryoET7/imagesTr/tomo17_patch002_0000.nii.gz',\n",
       "  '/home/haicu/jeronimo.carvajal/Thesis/data/nnUnet/Task143_cryoET7/imagesTr/tomo17_patch014_0000.nii.gz',\n",
       "  '/home/haicu/jeronimo.carvajal/Thesis/data/nnUnet/Task143_cryoET7/imagesTr/tomo17_patch006_0000.nii.gz',\n",
       "  '/home/haicu/jeronimo.carvajal/Thesis/data/nnUnet/Task143_cryoET7/imagesTr/tomo17_patch009_0000.nii.gz',\n",
       "  '/home/haicu/jeronimo.carvajal/Thesis/data/nnUnet/Task143_cryoET7/imagesTr/tomo17_patch015_0000.nii.gz',\n",
       "  '/home/haicu/jeronimo.carvajal/Thesis/data/nnUnet/Task143_cryoET7/imagesTr/tomo17_patch008_0000.nii.gz',\n",
       "  '/home/haicu/jeronimo.carvajal/Thesis/data/nnUnet/Task143_cryoET7/imagesTr/tomo17_patch001_0000.nii.gz'],\n",
       " ['/home/haicu/jeronimo.carvajal/Thesis/data/nnUnet/Task143_cryoET7/labelsTr/tomo02_patch002.nii.gz',\n",
       "  '/home/haicu/jeronimo.carvajal/Thesis/data/nnUnet/Task143_cryoET7/labelsTr/tomo02_patch021.nii.gz',\n",
       "  '/home/haicu/jeronimo.carvajal/Thesis/data/nnUnet/Task143_cryoET7/labelsTr/tomo02_patch000.nii.gz',\n",
       "  '/home/haicu/jeronimo.carvajal/Thesis/data/nnUnet/Task143_cryoET7/labelsTr/tomo02_patch006.nii.gz',\n",
       "  '/home/haicu/jeronimo.carvajal/Thesis/data/nnUnet/Task143_cryoET7/labelsTr/tomo02_patch004.nii.gz',\n",
       "  '/home/haicu/jeronimo.carvajal/Thesis/data/nnUnet/Task143_cryoET7/labelsTr/tomo02_patch030.nii.gz',\n",
       "  '/home/haicu/jeronimo.carvajal/Thesis/data/nnUnet/Task143_cryoET7/labelsTr/tomo02_patch005.nii.gz',\n",
       "  '/home/haicu/jeronimo.carvajal/Thesis/data/nnUnet/Task143_cryoET7/labelsTr/tomo02_patch003.nii.gz',\n",
       "  '/home/haicu/jeronimo.carvajal/Thesis/data/nnUnet/Task143_cryoET7/labelsTr/tomo02_patch001.nii.gz',\n",
       "  '/home/haicu/jeronimo.carvajal/Thesis/data/nnUnet/Task143_cryoET7/labelsTr/tomo02_patch020.nii.gz',\n",
       "  '/home/haicu/jeronimo.carvajal/Thesis/data/nnUnet/Task143_cryoET7/labelsTr/tomo03_patch021.nii.gz',\n",
       "  '/home/haicu/jeronimo.carvajal/Thesis/data/nnUnet/Task143_cryoET7/labelsTr/tomo03_patch000.nii.gz',\n",
       "  '/home/haicu/jeronimo.carvajal/Thesis/data/nnUnet/Task143_cryoET7/labelsTr/tomo03_patch002.nii.gz',\n",
       "  '/home/haicu/jeronimo.carvajal/Thesis/data/nnUnet/Task143_cryoET7/labelsTr/tomo03_patch004.nii.gz',\n",
       "  '/home/haicu/jeronimo.carvajal/Thesis/data/nnUnet/Task143_cryoET7/labelsTr/tomo03_patch031.nii.gz',\n",
       "  '/home/haicu/jeronimo.carvajal/Thesis/data/nnUnet/Task143_cryoET7/labelsTr/tomo03_patch010.nii.gz',\n",
       "  '/home/haicu/jeronimo.carvajal/Thesis/data/nnUnet/Task143_cryoET7/labelsTr/tomo03_patch006.nii.gz',\n",
       "  '/home/haicu/jeronimo.carvajal/Thesis/data/nnUnet/Task143_cryoET7/labelsTr/tomo03_patch008.nii.gz',\n",
       "  '/home/haicu/jeronimo.carvajal/Thesis/data/nnUnet/Task143_cryoET7/labelsTr/tomo03_patch032.nii.gz',\n",
       "  '/home/haicu/jeronimo.carvajal/Thesis/data/nnUnet/Task143_cryoET7/labelsTr/tomo03_patch030.nii.gz',\n",
       "  '/home/haicu/jeronimo.carvajal/Thesis/data/nnUnet/Task143_cryoET7/labelsTr/tomo03_patch020.nii.gz',\n",
       "  '/home/haicu/jeronimo.carvajal/Thesis/data/nnUnet/Task143_cryoET7/labelsTr/tomo03_patch022.nii.gz',\n",
       "  '/home/haicu/jeronimo.carvajal/Thesis/data/nnUnet/Task143_cryoET7/labelsTr/tomo17_patch030.nii.gz',\n",
       "  '/home/haicu/jeronimo.carvajal/Thesis/data/nnUnet/Task143_cryoET7/labelsTr/tomo17_patch008.nii.gz',\n",
       "  '/home/haicu/jeronimo.carvajal/Thesis/data/nnUnet/Task143_cryoET7/labelsTr/tomo17_patch015.nii.gz',\n",
       "  '/home/haicu/jeronimo.carvajal/Thesis/data/nnUnet/Task143_cryoET7/labelsTr/tomo17_patch001.nii.gz',\n",
       "  '/home/haicu/jeronimo.carvajal/Thesis/data/nnUnet/Task143_cryoET7/labelsTr/tomo17_patch002.nii.gz',\n",
       "  '/home/haicu/jeronimo.carvajal/Thesis/data/nnUnet/Task143_cryoET7/labelsTr/tomo17_patch014.nii.gz',\n",
       "  '/home/haicu/jeronimo.carvajal/Thesis/data/nnUnet/Task143_cryoET7/labelsTr/tomo17_patch000.nii.gz',\n",
       "  '/home/haicu/jeronimo.carvajal/Thesis/data/nnUnet/Task143_cryoET7/labelsTr/tomo17_patch010.nii.gz',\n",
       "  '/home/haicu/jeronimo.carvajal/Thesis/data/nnUnet/Task143_cryoET7/labelsTr/tomo17_patch006.nii.gz',\n",
       "  '/home/haicu/jeronimo.carvajal/Thesis/data/nnUnet/Task143_cryoET7/labelsTr/tomo17_patch009.nii.gz'])"
      ]
     },
     "execution_count": 4,
     "metadata": {},
     "output_type": "execute_result"
    }
   ],
   "source": [
    "train_tomos = ['tomo02', 'tomo03', 'tomo17']\n",
    "setup.get_paths_cryoET(train_tomos)"
   ]
  },
  {
   "cell_type": "code",
   "execution_count": null,
   "id": "25434143-45a6-40ba-91b7-a63f760f12d8",
   "metadata": {},
   "outputs": [
    {
     "name": "stderr",
     "output_type": "stream",
     "text": [
      "/home/haicu/jeronimo.carvajal/miniconda3/envs/jero_supergpu/lib/python3.9/site-packages/pytorch_lightning/trainer/connectors/accelerator_connector.py:286: LightningDeprecationWarning: Passing `Trainer(accelerator='ddp')` has been deprecated in v1.5 and will be removed in v1.7. Use `Trainer(strategy='ddp')` instead.\n",
      "  rank_zero_deprecation(\n",
      "/home/haicu/jeronimo.carvajal/miniconda3/envs/jero_supergpu/lib/python3.9/site-packages/pytorch_lightning/trainer/connectors/accelerator_connector.py:286: LightningDeprecationWarning: Passing `Trainer(accelerator='dp')` has been deprecated in v1.5 and will be removed in v1.7. Use `Trainer(strategy='dp')` instead.\n",
      "  rank_zero_deprecation(\n",
      "/home/haicu/jeronimo.carvajal/miniconda3/envs/jero_supergpu/lib/python3.9/site-packages/pytorch_lightning/trainer/connectors/callback_connector.py:90: LightningDeprecationWarning: Setting `Trainer(progress_bar_refresh_rate=0)` is deprecated in v1.5 and will be removed in v1.7. Please pass `pytorch_lightning.callbacks.progress.TQDMProgressBar` with `refresh_rate` directly to the Trainer's `callbacks` argument instead. Or, to disable the progress bar pass `enable_progress_bar = False` to the Trainer.\n",
      "  rank_zero_deprecation(\n",
      "GPU available: True, used: True\n",
      "TPU available: False, using: 0 TPU cores\n",
      "IPU available: False, using: 0 IPUs\n",
      "LOCAL_RANK: 0 - CUDA_VISIBLE_DEVICES: [0,1,2]\n",
      "Set SLURM handle signals.\n",
      "\n",
      "  | Name    | Type         | Params\n",
      "-----------------------------------------\n",
      "0 | loss_fn | Tversky_loss | 0     \n",
      "1 | layer1  | Sequential   | 28.6 K\n",
      "2 | layer2  | Sequential   | 103 K \n",
      "3 | layer3  | Sequential   | 558 K \n",
      "4 | layer4  | Sequential   | 288 K \n",
      "5 | layer5  | Sequential   | 96.9 K\n",
      "-----------------------------------------\n",
      "1.1 M     Trainable params\n",
      "0         Non-trainable params\n",
      "1.1 M     Total params\n",
      "4.304     Total estimated model params size (MB)\n"
     ]
    },
    {
     "name": "stdout",
     "output_type": "stream",
     "text": [
      "\"Ncl\":           2\n",
      "\"loss_fn\":       Tversky_loss()\n",
      "\"lr\":            0.0001\n",
      "\"pretrain_type\": None\n",
      "\"weight_decay\":  0.0\n"
     ]
    }
   ],
   "source": [
    "val_tomos = ['tomo32', 'tomo10']\n",
    "concat_val_ids = sorted([s.replace('tomo', '') for s in val_tomos])\n",
    "concat_val_ids = '-'.join(concat_val_ids)\n",
    "\n",
    "test_tomos = ['tomo38', 'tomo04']\n",
    "concat_test_ids = sorted([s.replace('tomo', '') for s in test_tomos])\n",
    "concat_test_ids = '-'.join(concat_test_ids)\n",
    "\n",
    "train_tomos = ['tomo02', 'tomo03', 'tomo17']\n",
    "\n",
    "\n",
    "concat_train_ids = sorted([s.replace('tomo', '') for s in train_tomos])\n",
    "concat_train_ids = '-'.join(concat_train_ids)\n",
    "\n",
    "tb_logdir = os.path.join(PARENT_PATH, 'models/logs/BaselineModelTest/train%s' %concat_train_ids)\n",
    "model_name = '3.02_BaselineTest'\n",
    "\n",
    "\n",
    "trainer = make_trainer(dim_in=56, batch_size=32, lr=1e-4, epochs=5, tb_logdir=tb_logdir, model_name=model_name,\n",
    "                   reconstruction_trainer=False, pretrained_model=None)\n",
    "\n",
    "trainer.launch(train_tomos, val_tomos, input_type='cryoCARE')"
   ]
  },
  {
   "cell_type": "code",
   "execution_count": null,
   "id": "f71c6522-a822-4a54-b5c5-34cb5ceaebfb",
   "metadata": {},
   "outputs": [],
   "source": []
  }
 ],
 "metadata": {
  "kernelspec": {
   "display_name": "Python 3 (ipykernel)",
   "language": "python",
   "name": "python3"
  },
  "language_info": {
   "codemirror_mode": {
    "name": "ipython",
    "version": 3
   },
   "file_extension": ".py",
   "mimetype": "text/x-python",
   "name": "python",
   "nbconvert_exporter": "python",
   "pygments_lexer": "ipython3",
   "version": "3.9.10"
  }
 },
 "nbformat": 4,
 "nbformat_minor": 5
}
