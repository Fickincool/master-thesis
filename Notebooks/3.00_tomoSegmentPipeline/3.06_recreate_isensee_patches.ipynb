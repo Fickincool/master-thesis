{
 "cells": [
  {
   "cell_type": "code",
   "execution_count": 2,
   "id": "29761341-4ccf-42da-a5df-d88200d786e7",
   "metadata": {},
   "outputs": [
    {
     "name": "stdout",
     "output_type": "stream",
     "text": [
      "The autoreload extension is already loaded. To reload it, use:\n",
      "  %reload_ext autoreload\n"
     ]
    }
   ],
   "source": [
    "from tomoSegmentPipeline import dataloader as dl\n",
    "from tomoSegmentPipeline.utils import setup\n",
    "from tomoSegmentPipeline.dataloader import to_categorical, transpose_to_channels_first, tomoSegment_dummyDataset, tomoSegment_dataset\n",
    "from tomoSegmentPipeline.trainWrapper import make_trainer\n",
    "from tomoSegmentPipeline.utils.common import read_array\n",
    "\n",
    "import os\n",
    "from glob import glob\n",
    "import numpy as np\n",
    "import matplotlib.pyplot as plt\n",
    "import torch\n",
    "\n",
    "PARENT_PATH = setup.PARENT_PATH\n",
    "CRYOCARE_TOMO_PATH = setup.CRYOCARE_TOMO_PATH\n",
    "RAW_TOMO_PATH = setup.RAW_TOMO_PATH\n",
    "\n",
    "\n",
    "%matplotlib inline\n",
    "%config Completer.use_jedi = False\n",
    "%load_ext autoreload\n",
    "%autoreload 2"
   ]
  },
  {
   "cell_type": "code",
   "execution_count": 11,
   "id": "23402607-ed21-43b4-ae47-e6e2557fc0e8",
   "metadata": {},
   "outputs": [
    {
     "data": {
      "text/plain": [
       "114142610.0"
      ]
     },
     "execution_count": 11,
     "metadata": {},
     "output_type": "execute_result"
    }
   ],
   "source": [
    "raw_tomo_path = os.path.join(PARENT_PATH, 'data/raw_cryo-ET/tomo02.mrc')\n",
    "\n",
    "raw_tomo_data = read_array(raw_tomo_path)\n",
    "\n",
    "raw_tomo_data.mean()"
   ]
  },
  {
   "cell_type": "code",
   "execution_count": 22,
   "id": "91913b29-c3af-439a-93de-5d826684862f",
   "metadata": {},
   "outputs": [
    {
     "data": {
      "text/plain": [
       "(1.1636992e-07, 0.99999744)"
      ]
     },
     "execution_count": 22,
     "metadata": {},
     "output_type": "execute_result"
    }
   ],
   "source": [
    "cryoCARE_tomo_path = os.path.join(PARENT_PATH, 'data/nnUnet/nifti_files/tomo02_bin4_denoised_0000.nii.gz')\n",
    "\n",
    "cryoCARE_tomo_data = read_array(cryoCARE_tomo_path)\n",
    "\n",
    "cryoCARE_tomo_data.mean(), cryoCARE_tomo_data.std()"
   ]
  },
  {
   "cell_type": "code",
   "execution_count": 21,
   "id": "c9efef80-9f21-4b4c-a75d-bcdcc8b5e3a4",
   "metadata": {},
   "outputs": [
    {
     "data": {
      "text/plain": [
       "(-0.020913702, 1.0956043)"
      ]
     },
     "execution_count": 21,
     "metadata": {},
     "output_type": "execute_result"
    }
   ],
   "source": [
    "cryoCARE_tomo_path = os.path.join(CRYOCARE_TOMO_PATH, 'tomo02_patch000_0000.nii.gz')\n",
    "\n",
    "cryoCARE_tomo_data = read_array(cryoCARE_tomo_path)\n",
    "\n",
    "cryoCARE_tomo_data.mean(), cryoCARE_tomo_data.std()"
   ]
  },
  {
   "cell_type": "code",
   "execution_count": 3,
   "id": "73c4751e-8e13-44a4-899b-23beb0f49b18",
   "metadata": {},
   "outputs": [
    {
     "data": {
      "text/plain": [
       "(-0.0060380115, 1.0008825)"
      ]
     },
     "execution_count": 3,
     "metadata": {},
     "output_type": "execute_result"
    }
   ],
   "source": [
    "raw_tomo_path = os.path.join(RAW_TOMO_PATH, 'tomo02_patch000_0000.nii.gz')\n",
    "\n",
    "raw_tomo_data = read_array(raw_tomo_path)\n",
    "\n",
    "raw_tomo_data.mean(), raw_tomo_data.std()"
   ]
  },
  {
   "cell_type": "code",
   "execution_count": 5,
   "id": "cc2da6ab-8676-40a7-833f-883f8bc82b66",
   "metadata": {},
   "outputs": [
    {
     "data": {
      "text/plain": [
       "(464, 928, 928)"
      ]
     },
     "execution_count": 5,
     "metadata": {},
     "output_type": "execute_result"
    }
   ],
   "source": [
    "p = os.path.join(PARENT_PATH, 'data/nnUnet/dataset_generation/patch_centers/patchlocs_tomo02.nii.gz')\n",
    "\n",
    "patch_centers = read_array(p)\n",
    "patch_centers.shape"
   ]
  },
  {
   "cell_type": "code",
   "execution_count": 7,
   "id": "bae58b3d-1e12-4e0c-8f68-4da86eee6e4b",
   "metadata": {},
   "outputs": [
    {
     "data": {
      "text/plain": [
       "(array([0., 1.], dtype=float32), array([399563588,     25788]))"
      ]
     },
     "execution_count": 7,
     "metadata": {},
     "output_type": "execute_result"
    }
   ],
   "source": [
    "np.unique(patch_centers, return_counts=True)"
   ]
  }
 ],
 "metadata": {
  "kernelspec": {
   "display_name": "Python 3 (ipykernel)",
   "language": "python",
   "name": "python3"
  },
  "language_info": {
   "codemirror_mode": {
    "name": "ipython",
    "version": 3
   },
   "file_extension": ".py",
   "mimetype": "text/x-python",
   "name": "python",
   "nbconvert_exporter": "python",
   "pygments_lexer": "ipython3",
   "version": "3.9.10"
  }
 },
 "nbformat": 4,
 "nbformat_minor": 5
}
